{
  "nbformat": 4,
  "nbformat_minor": 0,
  "metadata": {
    "colab": {
      "name": "Data Exploration Round 2.ipynb",
      "provenance": []
    },
    "kernelspec": {
      "name": "python3",
      "display_name": "Python 3"
    },
    "language_info": {
      "name": "python"
    }
  },
  "cells": [
    {
      "cell_type": "markdown",
      "source": [
        "#Background information about this tutorial"
      ],
      "metadata": {
        "id": "bzkwmrm3G1cz"
      }
    },
    {
      "cell_type": "markdown",
      "source": [
        "This is the second part of my data selection and cleaning process. We have 5 different environmental variables from 2 different monitoring sites ([USDA SNOTEL MONITORING STATIONS BUTTE AND SLUMGULLION](https://www.nrcs.usda.gov/wps/portal/wcc/home/quicklinks/imap#version=158&elements=R&networks=!&states=AZ,CO,UT,WY&counties=!&hucs=&minElevation=&maxElevation=&elementSelectType=all&activeOnly=true&activeForecastPointsOnly=false&hucLabels=false&hucIdLabels=false&hucParameterLabels=false&stationLabels=name,id&overlays=&hucOverlays=az_8,co_8,ut_8,wy_8&basinOpacity=100&basinNoDataOpacity=100&basemapOpacity=100&maskOpacity=0&mode=data&openSections=dataElement,parameter,date,basin,options,elements,location,networks,baseMaps,overlays,labels&controlsOpen=true&popup=&popupMulti=&popupBasin=&base=esriNgwm&displayType=station&basinType=6&dataElement=WTEQ&depth=-8&parameter=PCTMED&frequency=DAILY&duration=I&customDuration=1&dayPart=E&monthPart=E&forecastPubDay=1&forecastExceedance=50&seqColor=1&divColor=3&scaleType=D&scaleMin=&scaleMax=&referencePeriodType=POR&referenceBegin=1981&referenceEnd=2020&minimumYears=20&hucAssociations=true&relativeDate=-1&lat=38.085&lon=-110.948&zoom=6.5)). We are trying to model Colorado River Discharge at a gauge by Diamond Creek, AZ ([USGS GAUGE No. 09404200](https://waterdata.usgs.gov/nwis/inventory?site_no=09404200)). We will select which station's data to use for our final model using the pearson's r correlation coefficient to see how these attributes correlate to one another and which station's data has the highest correlation to the Diamond Creek discharge rate. This dataset spans 15 years from 2006-2020. You can find the file of the dataset used below in the same github folder this notebook is in, named as \"Model_Station_Selection_2.csv\".\n",
        "\n",
        "This notebook was developed in Google Collab by Mya Yazbek on 3/16/2022. "
      ],
      "metadata": {
        "id": "6YcDAYdXG7eI"
      }
    },
    {
      "cell_type": "markdown",
      "source": [
        "#First steps"
      ],
      "metadata": {
        "id": "o1OFTLmymHKM"
      }
    },
    {
      "cell_type": "markdown",
      "source": [
        "Import packages, mount google drive, add file path to variable, load and view data.\n"
      ],
      "metadata": {
        "id": "6JkAXFO88DTE"
      }
    },
    {
      "cell_type": "code",
      "execution_count": null,
      "metadata": {
        "id": "uYz9VztJyA7G"
      },
      "outputs": [],
      "source": [
        "import matplotlib.pyplot as plt\n",
        "import numpy as np\n",
        "import pandas as pd\n",
        "import seaborn as sns"
      ]
    },
    {
      "cell_type": "code",
      "source": [
        "from google.colab import drive\n",
        "drive.mount('/content/drive')\n"
      ],
      "metadata": {
        "colab": {
          "base_uri": "https://localhost:8080/"
        },
        "id": "v9cH03No81H5",
        "outputId": "2ac3f6a6-d3b0-41e6-8a21-35588ad5694e"
      },
      "execution_count": null,
      "outputs": [
        {
          "output_type": "stream",
          "name": "stdout",
          "text": [
            "Drive already mounted at /content/drive; to attempt to forcibly remount, call drive.mount(\"/content/drive\", force_remount=True).\n"
          ]
        }
      ]
    },
    {
      "cell_type": "code",
      "source": [
        "file = \"/content/drive/MyDrive/CURRENT Work files/GBI/Research Project/New Report/data/Model_Station_Selection_2.csv\""
      ],
      "metadata": {
        "id": "QwfA1-L-9AF-"
      },
      "execution_count": null,
      "outputs": []
    },
    {
      "cell_type": "code",
      "source": [
        "data = pd.read_csv(file)"
      ],
      "metadata": {
        "id": "IvN3k83A9Yw1"
      },
      "execution_count": null,
      "outputs": []
    },
    {
      "cell_type": "code",
      "source": [
        "data.head()"
      ],
      "metadata": {
        "colab": {
          "base_uri": "https://localhost:8080/",
          "height": 409
        },
        "id": "mc-_30_o9icd",
        "outputId": "a1bb0a26-042c-4bcd-fe14-a4337f07da75"
      },
      "execution_count": null,
      "outputs": [
        {
          "output_type": "execute_result",
          "data": {
            "text/plain": [
              "       Date  \\\n",
              "0  Jan 2006   \n",
              "1  Feb 2006   \n",
              "2  Mar 2006   \n",
              "3  Apr 2006   \n",
              "4  May 2006   \n",
              "\n",
              "   Butte (380)\\nSnow\\nWater\\nEquivalent\\n(in)\\nStart of Month Values  \\\n",
              "0                                                8.0                   \n",
              "1                                               11.4                   \n",
              "2                                               13.0                   \n",
              "3                                               15.2                   \n",
              "4                                                7.0                   \n",
              "\n",
              "   Butte (380)\\nPrecipitation\\nAccumulation\\n(in)\\nStart of Month Values  \\\n",
              "0                                               10.1                       \n",
              "1                                               13.1                       \n",
              "2                                               14.4                       \n",
              "3                                               16.4                       \n",
              "4                                               17.9                       \n",
              "\n",
              "   Butte (380)\\nAir\\nTemperature\\nObserved\\n(degF)\\nStart of Month Values  \\\n",
              "0                                                 29                        \n",
              "1                                                 19                        \n",
              "2                                                 34                        \n",
              "3                                                 33                        \n",
              "4                                                 33                        \n",
              "\n",
              "   Butte (380)\\nSoil\\nTemperature\\nObserved -2in\\n(degF)\\nStart of Month Values  \\\n",
              "0                                               33.0                              \n",
              "1                                               33.0                              \n",
              "2                                               33.0                              \n",
              "3                                               33.0                              \n",
              "4                                               42.0                              \n",
              "\n",
              "   Butte (380)\\nSoil\\nMoisture\\nPercent -2in\\n(pct)\\nStart of Month Values  \\\n",
              "0                                               19.8                         \n",
              "1                                               18.5                         \n",
              "2                                               18.5                         \n",
              "3                                               27.8                         \n",
              "4                                               21.1                         \n",
              "\n",
              "   Slumgullion (762)\\nSnow\\nWater\\nEquivalent\\n(in)\\nStart of Month Values  \\\n",
              "0                                                5.7                         \n",
              "1                                                7.9                         \n",
              "2                                                9.5                         \n",
              "3                                               13.4                         \n",
              "4                                               12.1                         \n",
              "\n",
              "   Slumgullion (762)\\nPrecipitation\\nAccumulation\\n(in)\\nStart of Month Values  \\\n",
              "0                                                6.2                             \n",
              "1                                                8.4                             \n",
              "2                                               10.0                             \n",
              "3                                               13.4                             \n",
              "4                                               15.5                             \n",
              "\n",
              "   Slumgullion (762)\\nAir\\nTemperature\\nObserved\\n(degF)\\nStart of Month Values  \\\n",
              "0                                               21.0                              \n",
              "1                                               10.0                              \n",
              "2                                               24.0                              \n",
              "3                                               23.0                              \n",
              "4                                               27.0                              \n",
              "\n",
              "   Slumgullion (762)\\nSoil\\nTemperature\\nObserved -2in\\n(degF)\\nStart of Month Values  \\\n",
              "0                                               52.0                                    \n",
              "1                                               52.0                                    \n",
              "2                                               48.0                                    \n",
              "3                                               41.0                                    \n",
              "4                                               35.0                                    \n",
              "\n",
              "   Slumgullion (762)\\nSoil\\nMoisture\\nPercent -2in\\n(pct)\\nStart of Month Values  \\\n",
              "0                                                0.0                               \n",
              "1                                                0.0                               \n",
              "2                                                0.0                               \n",
              "3                                                0.0                               \n",
              "4                                                0.0                               \n",
              "\n",
              "  DC_Inflow  \n",
              "0    13,970  \n",
              "1    15,450  \n",
              "2    11,020  \n",
              "3    11,100  \n",
              "4    10,630  "
            ],
            "text/html": [
              "\n",
              "  <div id=\"df-014219bf-53ce-4954-84b8-2d010b7fa7fd\">\n",
              "    <div class=\"colab-df-container\">\n",
              "      <div>\n",
              "<style scoped>\n",
              "    .dataframe tbody tr th:only-of-type {\n",
              "        vertical-align: middle;\n",
              "    }\n",
              "\n",
              "    .dataframe tbody tr th {\n",
              "        vertical-align: top;\n",
              "    }\n",
              "\n",
              "    .dataframe thead th {\n",
              "        text-align: right;\n",
              "    }\n",
              "</style>\n",
              "<table border=\"1\" class=\"dataframe\">\n",
              "  <thead>\n",
              "    <tr style=\"text-align: right;\">\n",
              "      <th></th>\n",
              "      <th>Date</th>\n",
              "      <th>Butte (380)\\nSnow\\nWater\\nEquivalent\\n(in)\\nStart of Month Values</th>\n",
              "      <th>Butte (380)\\nPrecipitation\\nAccumulation\\n(in)\\nStart of Month Values</th>\n",
              "      <th>Butte (380)\\nAir\\nTemperature\\nObserved\\n(degF)\\nStart of Month Values</th>\n",
              "      <th>Butte (380)\\nSoil\\nTemperature\\nObserved -2in\\n(degF)\\nStart of Month Values</th>\n",
              "      <th>Butte (380)\\nSoil\\nMoisture\\nPercent -2in\\n(pct)\\nStart of Month Values</th>\n",
              "      <th>Slumgullion (762)\\nSnow\\nWater\\nEquivalent\\n(in)\\nStart of Month Values</th>\n",
              "      <th>Slumgullion (762)\\nPrecipitation\\nAccumulation\\n(in)\\nStart of Month Values</th>\n",
              "      <th>Slumgullion (762)\\nAir\\nTemperature\\nObserved\\n(degF)\\nStart of Month Values</th>\n",
              "      <th>Slumgullion (762)\\nSoil\\nTemperature\\nObserved -2in\\n(degF)\\nStart of Month Values</th>\n",
              "      <th>Slumgullion (762)\\nSoil\\nMoisture\\nPercent -2in\\n(pct)\\nStart of Month Values</th>\n",
              "      <th>DC_Inflow</th>\n",
              "    </tr>\n",
              "  </thead>\n",
              "  <tbody>\n",
              "    <tr>\n",
              "      <th>0</th>\n",
              "      <td>Jan 2006</td>\n",
              "      <td>8.0</td>\n",
              "      <td>10.1</td>\n",
              "      <td>29</td>\n",
              "      <td>33.0</td>\n",
              "      <td>19.8</td>\n",
              "      <td>5.7</td>\n",
              "      <td>6.2</td>\n",
              "      <td>21.0</td>\n",
              "      <td>52.0</td>\n",
              "      <td>0.0</td>\n",
              "      <td>13,970</td>\n",
              "    </tr>\n",
              "    <tr>\n",
              "      <th>1</th>\n",
              "      <td>Feb 2006</td>\n",
              "      <td>11.4</td>\n",
              "      <td>13.1</td>\n",
              "      <td>19</td>\n",
              "      <td>33.0</td>\n",
              "      <td>18.5</td>\n",
              "      <td>7.9</td>\n",
              "      <td>8.4</td>\n",
              "      <td>10.0</td>\n",
              "      <td>52.0</td>\n",
              "      <td>0.0</td>\n",
              "      <td>15,450</td>\n",
              "    </tr>\n",
              "    <tr>\n",
              "      <th>2</th>\n",
              "      <td>Mar 2006</td>\n",
              "      <td>13.0</td>\n",
              "      <td>14.4</td>\n",
              "      <td>34</td>\n",
              "      <td>33.0</td>\n",
              "      <td>18.5</td>\n",
              "      <td>9.5</td>\n",
              "      <td>10.0</td>\n",
              "      <td>24.0</td>\n",
              "      <td>48.0</td>\n",
              "      <td>0.0</td>\n",
              "      <td>11,020</td>\n",
              "    </tr>\n",
              "    <tr>\n",
              "      <th>3</th>\n",
              "      <td>Apr 2006</td>\n",
              "      <td>15.2</td>\n",
              "      <td>16.4</td>\n",
              "      <td>33</td>\n",
              "      <td>33.0</td>\n",
              "      <td>27.8</td>\n",
              "      <td>13.4</td>\n",
              "      <td>13.4</td>\n",
              "      <td>23.0</td>\n",
              "      <td>41.0</td>\n",
              "      <td>0.0</td>\n",
              "      <td>11,100</td>\n",
              "    </tr>\n",
              "    <tr>\n",
              "      <th>4</th>\n",
              "      <td>May 2006</td>\n",
              "      <td>7.0</td>\n",
              "      <td>17.9</td>\n",
              "      <td>33</td>\n",
              "      <td>42.0</td>\n",
              "      <td>21.1</td>\n",
              "      <td>12.1</td>\n",
              "      <td>15.5</td>\n",
              "      <td>27.0</td>\n",
              "      <td>35.0</td>\n",
              "      <td>0.0</td>\n",
              "      <td>10,630</td>\n",
              "    </tr>\n",
              "  </tbody>\n",
              "</table>\n",
              "</div>\n",
              "      <button class=\"colab-df-convert\" onclick=\"convertToInteractive('df-014219bf-53ce-4954-84b8-2d010b7fa7fd')\"\n",
              "              title=\"Convert this dataframe to an interactive table.\"\n",
              "              style=\"display:none;\">\n",
              "        \n",
              "  <svg xmlns=\"http://www.w3.org/2000/svg\" height=\"24px\"viewBox=\"0 0 24 24\"\n",
              "       width=\"24px\">\n",
              "    <path d=\"M0 0h24v24H0V0z\" fill=\"none\"/>\n",
              "    <path d=\"M18.56 5.44l.94 2.06.94-2.06 2.06-.94-2.06-.94-.94-2.06-.94 2.06-2.06.94zm-11 1L8.5 8.5l.94-2.06 2.06-.94-2.06-.94L8.5 2.5l-.94 2.06-2.06.94zm10 10l.94 2.06.94-2.06 2.06-.94-2.06-.94-.94-2.06-.94 2.06-2.06.94z\"/><path d=\"M17.41 7.96l-1.37-1.37c-.4-.4-.92-.59-1.43-.59-.52 0-1.04.2-1.43.59L10.3 9.45l-7.72 7.72c-.78.78-.78 2.05 0 2.83L4 21.41c.39.39.9.59 1.41.59.51 0 1.02-.2 1.41-.59l7.78-7.78 2.81-2.81c.8-.78.8-2.07 0-2.86zM5.41 20L4 18.59l7.72-7.72 1.47 1.35L5.41 20z\"/>\n",
              "  </svg>\n",
              "      </button>\n",
              "      \n",
              "  <style>\n",
              "    .colab-df-container {\n",
              "      display:flex;\n",
              "      flex-wrap:wrap;\n",
              "      gap: 12px;\n",
              "    }\n",
              "\n",
              "    .colab-df-convert {\n",
              "      background-color: #E8F0FE;\n",
              "      border: none;\n",
              "      border-radius: 50%;\n",
              "      cursor: pointer;\n",
              "      display: none;\n",
              "      fill: #1967D2;\n",
              "      height: 32px;\n",
              "      padding: 0 0 0 0;\n",
              "      width: 32px;\n",
              "    }\n",
              "\n",
              "    .colab-df-convert:hover {\n",
              "      background-color: #E2EBFA;\n",
              "      box-shadow: 0px 1px 2px rgba(60, 64, 67, 0.3), 0px 1px 3px 1px rgba(60, 64, 67, 0.15);\n",
              "      fill: #174EA6;\n",
              "    }\n",
              "\n",
              "    [theme=dark] .colab-df-convert {\n",
              "      background-color: #3B4455;\n",
              "      fill: #D2E3FC;\n",
              "    }\n",
              "\n",
              "    [theme=dark] .colab-df-convert:hover {\n",
              "      background-color: #434B5C;\n",
              "      box-shadow: 0px 1px 3px 1px rgba(0, 0, 0, 0.15);\n",
              "      filter: drop-shadow(0px 1px 2px rgba(0, 0, 0, 0.3));\n",
              "      fill: #FFFFFF;\n",
              "    }\n",
              "  </style>\n",
              "\n",
              "      <script>\n",
              "        const buttonEl =\n",
              "          document.querySelector('#df-014219bf-53ce-4954-84b8-2d010b7fa7fd button.colab-df-convert');\n",
              "        buttonEl.style.display =\n",
              "          google.colab.kernel.accessAllowed ? 'block' : 'none';\n",
              "\n",
              "        async function convertToInteractive(key) {\n",
              "          const element = document.querySelector('#df-014219bf-53ce-4954-84b8-2d010b7fa7fd');\n",
              "          const dataTable =\n",
              "            await google.colab.kernel.invokeFunction('convertToInteractive',\n",
              "                                                     [key], {});\n",
              "          if (!dataTable) return;\n",
              "\n",
              "          const docLinkHtml = 'Like what you see? Visit the ' +\n",
              "            '<a target=\"_blank\" href=https://colab.research.google.com/notebooks/data_table.ipynb>data table notebook</a>'\n",
              "            + ' to learn more about interactive tables.';\n",
              "          element.innerHTML = '';\n",
              "          dataTable['output_type'] = 'display_data';\n",
              "          await google.colab.output.renderOutput(dataTable, element);\n",
              "          const docLink = document.createElement('div');\n",
              "          docLink.innerHTML = docLinkHtml;\n",
              "          element.appendChild(docLink);\n",
              "        }\n",
              "      </script>\n",
              "    </div>\n",
              "  </div>\n",
              "  "
            ]
          },
          "metadata": {},
          "execution_count": 294
        }
      ]
    },
    {
      "cell_type": "markdown",
      "source": [
        "#Cleaning up your dataset\n"
      ],
      "metadata": {
        "id": "pvp5qJQGmDbs"
      }
    },
    {
      "cell_type": "markdown",
      "source": [
        "Lets look at our dataset to see what we could possibly fix to make it easier to work with. Uniformity and simplicity are key!"
      ],
      "metadata": {
        "id": "g9F75jMusG4v"
      }
    },
    {
      "cell_type": "code",
      "source": [
        "data.head()"
      ],
      "metadata": {
        "colab": {
          "base_uri": "https://localhost:8080/",
          "height": 409
        },
        "id": "j_zY0KoIl43_",
        "outputId": "8b95fc42-ab50-4922-c14b-c5bad2ecd0a1"
      },
      "execution_count": null,
      "outputs": [
        {
          "output_type": "execute_result",
          "data": {
            "text/plain": [
              "       Date  \\\n",
              "0  Jan 2006   \n",
              "1  Feb 2006   \n",
              "2  Mar 2006   \n",
              "3  Apr 2006   \n",
              "4  May 2006   \n",
              "\n",
              "   Butte (380)\\nSnow\\nWater\\nEquivalent\\n(in)\\nStart of Month Values  \\\n",
              "0                                                8.0                   \n",
              "1                                               11.4                   \n",
              "2                                               13.0                   \n",
              "3                                               15.2                   \n",
              "4                                                7.0                   \n",
              "\n",
              "   Butte (380)\\nPrecipitation\\nAccumulation\\n(in)\\nStart of Month Values  \\\n",
              "0                                               10.1                       \n",
              "1                                               13.1                       \n",
              "2                                               14.4                       \n",
              "3                                               16.4                       \n",
              "4                                               17.9                       \n",
              "\n",
              "   Butte (380)\\nAir\\nTemperature\\nObserved\\n(degF)\\nStart of Month Values  \\\n",
              "0                                                 29                        \n",
              "1                                                 19                        \n",
              "2                                                 34                        \n",
              "3                                                 33                        \n",
              "4                                                 33                        \n",
              "\n",
              "   Butte (380)\\nSoil\\nTemperature\\nObserved -2in\\n(degF)\\nStart of Month Values  \\\n",
              "0                                               33.0                              \n",
              "1                                               33.0                              \n",
              "2                                               33.0                              \n",
              "3                                               33.0                              \n",
              "4                                               42.0                              \n",
              "\n",
              "   Butte (380)\\nSoil\\nMoisture\\nPercent -2in\\n(pct)\\nStart of Month Values  \\\n",
              "0                                               19.8                         \n",
              "1                                               18.5                         \n",
              "2                                               18.5                         \n",
              "3                                               27.8                         \n",
              "4                                               21.1                         \n",
              "\n",
              "   Slumgullion (762)\\nSnow\\nWater\\nEquivalent\\n(in)\\nStart of Month Values  \\\n",
              "0                                                5.7                         \n",
              "1                                                7.9                         \n",
              "2                                                9.5                         \n",
              "3                                               13.4                         \n",
              "4                                               12.1                         \n",
              "\n",
              "   Slumgullion (762)\\nPrecipitation\\nAccumulation\\n(in)\\nStart of Month Values  \\\n",
              "0                                                6.2                             \n",
              "1                                                8.4                             \n",
              "2                                               10.0                             \n",
              "3                                               13.4                             \n",
              "4                                               15.5                             \n",
              "\n",
              "   Slumgullion (762)\\nAir\\nTemperature\\nObserved\\n(degF)\\nStart of Month Values  \\\n",
              "0                                               21.0                              \n",
              "1                                               10.0                              \n",
              "2                                               24.0                              \n",
              "3                                               23.0                              \n",
              "4                                               27.0                              \n",
              "\n",
              "   Slumgullion (762)\\nSoil\\nTemperature\\nObserved -2in\\n(degF)\\nStart of Month Values  \\\n",
              "0                                               52.0                                    \n",
              "1                                               52.0                                    \n",
              "2                                               48.0                                    \n",
              "3                                               41.0                                    \n",
              "4                                               35.0                                    \n",
              "\n",
              "   Slumgullion (762)\\nSoil\\nMoisture\\nPercent -2in\\n(pct)\\nStart of Month Values  \\\n",
              "0                                                0.0                               \n",
              "1                                                0.0                               \n",
              "2                                                0.0                               \n",
              "3                                                0.0                               \n",
              "4                                                0.0                               \n",
              "\n",
              "  DC_Inflow  \n",
              "0    13,970  \n",
              "1    15,450  \n",
              "2    11,020  \n",
              "3    11,100  \n",
              "4    10,630  "
            ],
            "text/html": [
              "\n",
              "  <div id=\"df-fe05cb94-ac57-43e8-8aae-e854610c7ee2\">\n",
              "    <div class=\"colab-df-container\">\n",
              "      <div>\n",
              "<style scoped>\n",
              "    .dataframe tbody tr th:only-of-type {\n",
              "        vertical-align: middle;\n",
              "    }\n",
              "\n",
              "    .dataframe tbody tr th {\n",
              "        vertical-align: top;\n",
              "    }\n",
              "\n",
              "    .dataframe thead th {\n",
              "        text-align: right;\n",
              "    }\n",
              "</style>\n",
              "<table border=\"1\" class=\"dataframe\">\n",
              "  <thead>\n",
              "    <tr style=\"text-align: right;\">\n",
              "      <th></th>\n",
              "      <th>Date</th>\n",
              "      <th>Butte (380)\\nSnow\\nWater\\nEquivalent\\n(in)\\nStart of Month Values</th>\n",
              "      <th>Butte (380)\\nPrecipitation\\nAccumulation\\n(in)\\nStart of Month Values</th>\n",
              "      <th>Butte (380)\\nAir\\nTemperature\\nObserved\\n(degF)\\nStart of Month Values</th>\n",
              "      <th>Butte (380)\\nSoil\\nTemperature\\nObserved -2in\\n(degF)\\nStart of Month Values</th>\n",
              "      <th>Butte (380)\\nSoil\\nMoisture\\nPercent -2in\\n(pct)\\nStart of Month Values</th>\n",
              "      <th>Slumgullion (762)\\nSnow\\nWater\\nEquivalent\\n(in)\\nStart of Month Values</th>\n",
              "      <th>Slumgullion (762)\\nPrecipitation\\nAccumulation\\n(in)\\nStart of Month Values</th>\n",
              "      <th>Slumgullion (762)\\nAir\\nTemperature\\nObserved\\n(degF)\\nStart of Month Values</th>\n",
              "      <th>Slumgullion (762)\\nSoil\\nTemperature\\nObserved -2in\\n(degF)\\nStart of Month Values</th>\n",
              "      <th>Slumgullion (762)\\nSoil\\nMoisture\\nPercent -2in\\n(pct)\\nStart of Month Values</th>\n",
              "      <th>DC_Inflow</th>\n",
              "    </tr>\n",
              "  </thead>\n",
              "  <tbody>\n",
              "    <tr>\n",
              "      <th>0</th>\n",
              "      <td>Jan 2006</td>\n",
              "      <td>8.0</td>\n",
              "      <td>10.1</td>\n",
              "      <td>29</td>\n",
              "      <td>33.0</td>\n",
              "      <td>19.8</td>\n",
              "      <td>5.7</td>\n",
              "      <td>6.2</td>\n",
              "      <td>21.0</td>\n",
              "      <td>52.0</td>\n",
              "      <td>0.0</td>\n",
              "      <td>13,970</td>\n",
              "    </tr>\n",
              "    <tr>\n",
              "      <th>1</th>\n",
              "      <td>Feb 2006</td>\n",
              "      <td>11.4</td>\n",
              "      <td>13.1</td>\n",
              "      <td>19</td>\n",
              "      <td>33.0</td>\n",
              "      <td>18.5</td>\n",
              "      <td>7.9</td>\n",
              "      <td>8.4</td>\n",
              "      <td>10.0</td>\n",
              "      <td>52.0</td>\n",
              "      <td>0.0</td>\n",
              "      <td>15,450</td>\n",
              "    </tr>\n",
              "    <tr>\n",
              "      <th>2</th>\n",
              "      <td>Mar 2006</td>\n",
              "      <td>13.0</td>\n",
              "      <td>14.4</td>\n",
              "      <td>34</td>\n",
              "      <td>33.0</td>\n",
              "      <td>18.5</td>\n",
              "      <td>9.5</td>\n",
              "      <td>10.0</td>\n",
              "      <td>24.0</td>\n",
              "      <td>48.0</td>\n",
              "      <td>0.0</td>\n",
              "      <td>11,020</td>\n",
              "    </tr>\n",
              "    <tr>\n",
              "      <th>3</th>\n",
              "      <td>Apr 2006</td>\n",
              "      <td>15.2</td>\n",
              "      <td>16.4</td>\n",
              "      <td>33</td>\n",
              "      <td>33.0</td>\n",
              "      <td>27.8</td>\n",
              "      <td>13.4</td>\n",
              "      <td>13.4</td>\n",
              "      <td>23.0</td>\n",
              "      <td>41.0</td>\n",
              "      <td>0.0</td>\n",
              "      <td>11,100</td>\n",
              "    </tr>\n",
              "    <tr>\n",
              "      <th>4</th>\n",
              "      <td>May 2006</td>\n",
              "      <td>7.0</td>\n",
              "      <td>17.9</td>\n",
              "      <td>33</td>\n",
              "      <td>42.0</td>\n",
              "      <td>21.1</td>\n",
              "      <td>12.1</td>\n",
              "      <td>15.5</td>\n",
              "      <td>27.0</td>\n",
              "      <td>35.0</td>\n",
              "      <td>0.0</td>\n",
              "      <td>10,630</td>\n",
              "    </tr>\n",
              "  </tbody>\n",
              "</table>\n",
              "</div>\n",
              "      <button class=\"colab-df-convert\" onclick=\"convertToInteractive('df-fe05cb94-ac57-43e8-8aae-e854610c7ee2')\"\n",
              "              title=\"Convert this dataframe to an interactive table.\"\n",
              "              style=\"display:none;\">\n",
              "        \n",
              "  <svg xmlns=\"http://www.w3.org/2000/svg\" height=\"24px\"viewBox=\"0 0 24 24\"\n",
              "       width=\"24px\">\n",
              "    <path d=\"M0 0h24v24H0V0z\" fill=\"none\"/>\n",
              "    <path d=\"M18.56 5.44l.94 2.06.94-2.06 2.06-.94-2.06-.94-.94-2.06-.94 2.06-2.06.94zm-11 1L8.5 8.5l.94-2.06 2.06-.94-2.06-.94L8.5 2.5l-.94 2.06-2.06.94zm10 10l.94 2.06.94-2.06 2.06-.94-2.06-.94-.94-2.06-.94 2.06-2.06.94z\"/><path d=\"M17.41 7.96l-1.37-1.37c-.4-.4-.92-.59-1.43-.59-.52 0-1.04.2-1.43.59L10.3 9.45l-7.72 7.72c-.78.78-.78 2.05 0 2.83L4 21.41c.39.39.9.59 1.41.59.51 0 1.02-.2 1.41-.59l7.78-7.78 2.81-2.81c.8-.78.8-2.07 0-2.86zM5.41 20L4 18.59l7.72-7.72 1.47 1.35L5.41 20z\"/>\n",
              "  </svg>\n",
              "      </button>\n",
              "      \n",
              "  <style>\n",
              "    .colab-df-container {\n",
              "      display:flex;\n",
              "      flex-wrap:wrap;\n",
              "      gap: 12px;\n",
              "    }\n",
              "\n",
              "    .colab-df-convert {\n",
              "      background-color: #E8F0FE;\n",
              "      border: none;\n",
              "      border-radius: 50%;\n",
              "      cursor: pointer;\n",
              "      display: none;\n",
              "      fill: #1967D2;\n",
              "      height: 32px;\n",
              "      padding: 0 0 0 0;\n",
              "      width: 32px;\n",
              "    }\n",
              "\n",
              "    .colab-df-convert:hover {\n",
              "      background-color: #E2EBFA;\n",
              "      box-shadow: 0px 1px 2px rgba(60, 64, 67, 0.3), 0px 1px 3px 1px rgba(60, 64, 67, 0.15);\n",
              "      fill: #174EA6;\n",
              "    }\n",
              "\n",
              "    [theme=dark] .colab-df-convert {\n",
              "      background-color: #3B4455;\n",
              "      fill: #D2E3FC;\n",
              "    }\n",
              "\n",
              "    [theme=dark] .colab-df-convert:hover {\n",
              "      background-color: #434B5C;\n",
              "      box-shadow: 0px 1px 3px 1px rgba(0, 0, 0, 0.15);\n",
              "      filter: drop-shadow(0px 1px 2px rgba(0, 0, 0, 0.3));\n",
              "      fill: #FFFFFF;\n",
              "    }\n",
              "  </style>\n",
              "\n",
              "      <script>\n",
              "        const buttonEl =\n",
              "          document.querySelector('#df-fe05cb94-ac57-43e8-8aae-e854610c7ee2 button.colab-df-convert');\n",
              "        buttonEl.style.display =\n",
              "          google.colab.kernel.accessAllowed ? 'block' : 'none';\n",
              "\n",
              "        async function convertToInteractive(key) {\n",
              "          const element = document.querySelector('#df-fe05cb94-ac57-43e8-8aae-e854610c7ee2');\n",
              "          const dataTable =\n",
              "            await google.colab.kernel.invokeFunction('convertToInteractive',\n",
              "                                                     [key], {});\n",
              "          if (!dataTable) return;\n",
              "\n",
              "          const docLinkHtml = 'Like what you see? Visit the ' +\n",
              "            '<a target=\"_blank\" href=https://colab.research.google.com/notebooks/data_table.ipynb>data table notebook</a>'\n",
              "            + ' to learn more about interactive tables.';\n",
              "          element.innerHTML = '';\n",
              "          dataTable['output_type'] = 'display_data';\n",
              "          await google.colab.output.renderOutput(dataTable, element);\n",
              "          const docLink = document.createElement('div');\n",
              "          docLink.innerHTML = docLinkHtml;\n",
              "          element.appendChild(docLink);\n",
              "        }\n",
              "      </script>\n",
              "    </div>\n",
              "  </div>\n",
              "  "
            ]
          },
          "metadata": {},
          "execution_count": 295
        }
      ]
    },
    {
      "cell_type": "markdown",
      "source": [
        "Off the bat we need to rename these chaotic column names. We should also drop the ',' from the DC_Inflow column (last column to the right)."
      ],
      "metadata": {
        "id": "b1nzhUZ9sSMc"
      }
    },
    {
      "cell_type": "markdown",
      "source": [
        "Also filling null values (if any)"
      ],
      "metadata": {
        "id": "c-i-Sh_MqXJD"
      }
    },
    {
      "cell_type": "code",
      "source": [
        "data.fillna(method=\"ffill\");"
      ],
      "metadata": {
        "id": "IyXv3Uptqc1l"
      },
      "execution_count": null,
      "outputs": []
    },
    {
      "cell_type": "markdown",
      "source": [
        "Renaming the columns of our dataset"
      ],
      "metadata": {
        "id": "THwWew62mOZM"
      }
    },
    {
      "cell_type": "code",
      "source": [
        "my_list = data.columns.values.tolist()\n",
        "\n",
        "print(my_list)"
      ],
      "metadata": {
        "colab": {
          "base_uri": "https://localhost:8080/"
        },
        "id": "P_J6KLBH9jnq",
        "outputId": "95abfc3c-9e5f-4af1-f720-a0b6aed31bc9"
      },
      "execution_count": null,
      "outputs": [
        {
          "output_type": "stream",
          "name": "stdout",
          "text": [
            "['Date', 'Butte (380)\\nSnow\\nWater\\nEquivalent\\n(in)\\nStart of Month Values', 'Butte (380)\\nPrecipitation\\nAccumulation\\n(in)\\nStart of Month Values', 'Butte (380)\\nAir\\nTemperature\\nObserved\\n(degF)\\nStart of Month Values', 'Butte (380)\\nSoil\\nTemperature\\nObserved -2in\\n(degF)\\nStart of Month Values', 'Butte (380)\\nSoil\\nMoisture\\nPercent -2in\\n(pct)\\nStart of Month Values', 'Slumgullion (762)\\nSnow\\nWater\\nEquivalent\\n(in)\\nStart of Month Values', 'Slumgullion (762)\\nPrecipitation\\nAccumulation\\n(in)\\nStart of Month Values', 'Slumgullion (762)\\nAir\\nTemperature\\nObserved\\n(degF)\\nStart of Month Values', 'Slumgullion (762)\\nSoil\\nTemperature\\nObserved -2in\\n(degF)\\nStart of Month Values', 'Slumgullion (762)\\nSoil\\nMoisture\\nPercent -2in\\n(pct)\\nStart of Month Values', 'DC_Inflow']\n"
          ]
        }
      ]
    },
    {
      "cell_type": "code",
      "source": [
        "#Make a copy of your data before proceeding"
      ],
      "metadata": {
        "id": "LwsdAWIOox04"
      },
      "execution_count": null,
      "outputs": []
    },
    {
      "cell_type": "code",
      "source": [
        "data2 = data.copy()"
      ],
      "metadata": {
        "id": "tL64O_l_o0lP"
      },
      "execution_count": null,
      "outputs": []
    },
    {
      "cell_type": "code",
      "source": [
        "data2.replace(',','', regex=True, inplace=True)"
      ],
      "metadata": {
        "id": "vyoAIVTwl3h1"
      },
      "execution_count": null,
      "outputs": []
    },
    {
      "cell_type": "markdown",
      "source": [
        "Drop ',' from the DC_Inflow column in our data"
      ],
      "metadata": {
        "id": "1l-OROcqlzUs"
      }
    },
    {
      "cell_type": "code",
      "source": [
        "data2[\"DC_Inflow\"] = pd.to_numeric(data2[\"DC_Inflow\"], downcast=\"float\")"
      ],
      "metadata": {
        "id": "IfL6_Nf_rki9"
      },
      "execution_count": null,
      "outputs": []
    },
    {
      "cell_type": "markdown",
      "source": [
        "Making our DC_Inflow column an int data type instead of a string. Prior data processing has shown us that if there is a comma with your numeric values they might be stored as a string and need converting. "
      ],
      "metadata": {
        "id": "REaiWxd4rQVK"
      }
    },
    {
      "cell_type": "code",
      "source": [
        "#for loop to create new names for all variables\n",
        "\n",
        "for col in data2.columns:\n",
        "    data2.rename(columns={col:col.upper().replace(\" \",\"_\")},inplace=True) #replaces spaces with _\n",
        "    data2.rename(columns={col:col.replace(\"\\n\", \"\")}, inplace=True) #removes \\n from our column names\n"
      ],
      "metadata": {
        "id": "17SW0D7UmYLT"
      },
      "execution_count": null,
      "outputs": []
    },
    {
      "cell_type": "code",
      "source": [
        "for col in data2.columns:\n",
        "    data2.rename(columns={col:col.replace(\"SNOWWATEREQUIVALENT(IN)\", \"SWE_IN\")}, inplace=True)\n",
        "    data2.rename(columns={col:col.replace(\"PRECIPITATIONACCUMULATION(IN)\", \"PA_IN\")}, inplace=True)\n",
        "    data2.rename(columns={col:col.replace(\"AIRTEMPERATUREOBSERVED(DEGF)\", \"ATO_DEGF\")}, inplace=True)\n",
        "    data2.rename(columns={col:col.replace(\"SOILTEMPERATUREOBSERVED_-2IN(DEGF)\", \"STO_2IN_DEGF\")}, inplace=True)\n",
        "    data2.rename(columns={col:col.replace(\"SOILMOISTUREPERCENT_-2IN(PCT)\", \"SMP_2IN_PCT\")}, inplace=True)\n"
      ],
      "metadata": {
        "id": "a1DTIVuJ0dpu"
      },
      "execution_count": null,
      "outputs": []
    },
    {
      "cell_type": "code",
      "source": [
        "for col in data2.columns:    \n",
        "    data2.rename(columns={col:col.replace(\"START_OF_MONTH_VALUES\", \"\")}, inplace=True)"
      ],
      "metadata": {
        "id": "QUqAJenCOWdV"
      },
      "execution_count": null,
      "outputs": []
    },
    {
      "cell_type": "code",
      "source": [
        "for col in data2.columns:\n",
        "    data2.rename(columns={col:col.replace(\"BUTTE_(380)\", \"BU_380_\")}, inplace=True)"
      ],
      "metadata": {
        "id": "i9rALoBYObNO"
      },
      "execution_count": null,
      "outputs": []
    },
    {
      "cell_type": "code",
      "source": [
        "for col in data2.columns:\n",
        "    data2.rename(columns={col:col.replace(\"SLUMGULLION_(762)\", \"SLM_762_\")}, inplace=True)\n",
        "    data2.rename(columns={col:col.replace(\"DC_INFLOW\", \"CR_DC_D\")}, inplace=True)"
      ],
      "metadata": {
        "id": "vbQUD5gZ0u03"
      },
      "execution_count": null,
      "outputs": []
    },
    {
      "cell_type": "markdown",
      "source": [
        "Let's make sure our columns are renamed to our liking"
      ],
      "metadata": {
        "id": "ZYz9FDPFptXh"
      }
    },
    {
      "cell_type": "code",
      "source": [
        "my_list2 = data2.columns.values.tolist()\n",
        "\n",
        "print(my_list2)"
      ],
      "metadata": {
        "colab": {
          "base_uri": "https://localhost:8080/"
        },
        "id": "JQoBhdjfn6S0",
        "outputId": "92403f50-023c-455d-84aa-9554d7b8ba20"
      },
      "execution_count": null,
      "outputs": [
        {
          "output_type": "stream",
          "name": "stdout",
          "text": [
            "['DATE', 'BU_380_SWE_IN', 'BU_380_PA_IN', 'BU_380_ATO_DEGF', 'BU_380_STO_2IN_DEGF', 'BU_380_SMP_2IN_PCT', 'SLM_762_SWE_IN', 'SLM_762_PA_IN', 'SLM_762_ATO_DEGF', 'SLM_762_STO_2IN_DEGF', 'SLM_762_SMP_2IN_PCT', 'CR_DC_D']\n"
          ]
        }
      ]
    },
    {
      "cell_type": "markdown",
      "source": [
        "Looks good! Let's start with our dataset summary and start on some simple stats"
      ],
      "metadata": {
        "id": "DVkm2hecp2XR"
      }
    },
    {
      "cell_type": "markdown",
      "source": [
        "#Data Exploration"
      ],
      "metadata": {
        "id": "wwMaGyaDp9UL"
      }
    },
    {
      "cell_type": "markdown",
      "source": [
        "Graph your data"
      ],
      "metadata": {
        "id": "CTkDN8SGqRxM"
      }
    },
    {
      "cell_type": "markdown",
      "source": [
        "Starting off simple and building our way up to more complex data visualizations"
      ],
      "metadata": {
        "id": "O0_rJJBX2Huv"
      }
    },
    {
      "cell_type": "code",
      "source": [
        "x_axis = data2[\"DATE\"]\n",
        "y_axis = data2[\"BU_380_SWE_IN\"]\n",
        "\n",
        "\n",
        "plt.plot(x_axis, y_axis)\n",
        "plt.grid(True)\n",
        "plt.title(\"Graph of Snow Water Equivalent at Butte observation site\\n\\n\", size = 15)\n",
        "plt.suptitle(\"From 2006-2020\")\n",
        "plt.xlabel(\"Date\")\n",
        "plt.ylabel(\"Snow Water Equivalent (in)\\n\")\n",
        "\n",
        "positions = [0, 35, 71, 107, 143, 179]\n",
        "pos_list = []\n",
        "\n",
        "for num in positions:\n",
        "  pos_list.append(x_axis.iloc[num])\n",
        "\n",
        "\n",
        "#print(pos_list)\n",
        "plt.xticks(ticks = positions, labels = pos_list, rotation = 'vertical');"
      ],
      "metadata": {
        "id": "383MyW-Ezdao",
        "colab": {
          "base_uri": "https://localhost:8080/",
          "height": 235
        },
        "outputId": "5dc7ae40-adc4-4a24-b866-dfe1625c0d11"
      },
      "execution_count": null,
      "outputs": [
        {
          "output_type": "error",
          "ename": "NameError",
          "evalue": "ignored",
          "traceback": [
            "\u001b[0;31m---------------------------------------------------------------------------\u001b[0m",
            "\u001b[0;31mNameError\u001b[0m                                 Traceback (most recent call last)",
            "\u001b[0;32m<ipython-input-1-c0a30b4844a7>\u001b[0m in \u001b[0;36m<module>\u001b[0;34m()\u001b[0m\n\u001b[0;32m----> 1\u001b[0;31m \u001b[0mx_axis\u001b[0m \u001b[0;34m=\u001b[0m \u001b[0mdata2\u001b[0m\u001b[0;34m[\u001b[0m\u001b[0;34m\"DATE\"\u001b[0m\u001b[0;34m]\u001b[0m\u001b[0;34m\u001b[0m\u001b[0;34m\u001b[0m\u001b[0m\n\u001b[0m\u001b[1;32m      2\u001b[0m \u001b[0my_axis\u001b[0m \u001b[0;34m=\u001b[0m \u001b[0mdata2\u001b[0m\u001b[0;34m[\u001b[0m\u001b[0;34m\"BU_380_SWE_IN\"\u001b[0m\u001b[0;34m]\u001b[0m\u001b[0;34m\u001b[0m\u001b[0;34m\u001b[0m\u001b[0m\n\u001b[1;32m      3\u001b[0m \u001b[0;34m\u001b[0m\u001b[0m\n\u001b[1;32m      4\u001b[0m \u001b[0;34m\u001b[0m\u001b[0m\n\u001b[1;32m      5\u001b[0m \u001b[0mplt\u001b[0m\u001b[0;34m.\u001b[0m\u001b[0mplot\u001b[0m\u001b[0;34m(\u001b[0m\u001b[0mx_axis\u001b[0m\u001b[0;34m,\u001b[0m \u001b[0my_axis\u001b[0m\u001b[0;34m)\u001b[0m\u001b[0;34m\u001b[0m\u001b[0;34m\u001b[0m\u001b[0m\n",
            "\u001b[0;31mNameError\u001b[0m: name 'data2' is not defined"
          ]
        }
      ]
    },
    {
      "cell_type": "markdown",
      "source": [
        "Reprinting our list of attributes so I don't have to scroll back up and find it every 2 seconds"
      ],
      "metadata": {
        "id": "9itsFdUuEC03"
      }
    },
    {
      "cell_type": "code",
      "source": [
        "print(my_list2)"
      ],
      "metadata": {
        "colab": {
          "base_uri": "https://localhost:8080/"
        },
        "id": "caistIhUENZH",
        "outputId": "8403c990-1975-40ad-8faf-e65c9c0720e5"
      },
      "execution_count": null,
      "outputs": [
        {
          "output_type": "stream",
          "name": "stdout",
          "text": [
            "['DATE', 'BU_380_SWE_IN', 'BU_380_PA_IN', 'BU_380_ATO_DEGF', 'BU_380_STO_2IN_DEGF', 'BU_380_SMP_2IN_PCT', 'SLM_762_SWE_IN', 'SLM_762_PA_IN', 'SLM_762_ATO_DEGF', 'SLM_762_STO_2IN_DEGF', 'SLM_762_SMP_2IN_PCT', 'CR_DC_D']\n"
          ]
        }
      ]
    },
    {
      "cell_type": "code",
      "source": [
        "x = data2['DATE']\n",
        "y1 = data2[\"BU_380_SWE_IN\"]\n",
        "y2 = data2[\"BU_380_PA_IN\"]"
      ],
      "metadata": {
        "id": "f6SVwrWjDoeP"
      },
      "execution_count": null,
      "outputs": []
    },
    {
      "cell_type": "code",
      "source": [
        "plt.figure(figsize = (10, 7))\n",
        "\n",
        "# Plot 1st line\n",
        "plt.plot(x, y1, 'b', color = 'green', linestyle= 'dashed', label = \"Snow Water Equivalent\")\n",
        "\n",
        "# Plot 2nd line\n",
        "plt.plot(x, y2, 'r', color = 'blue', label=\"Precipitation Accumulation\")\n",
        "\n",
        "\n",
        "plt.title(\"Graph of Snow Water Equivalent and Precipitation Accumulation of the Butte SNOTEL Monitoring Site\", size = 15)\n",
        "plt.suptitle(\"Observed from 2006-2020\")\n",
        "plt.xlabel(\"Date\")\n",
        "plt.ylabel(\"Observed values in inches\\n\")\n",
        "\n",
        "\n",
        "positions = [15, 45, 75, 105, 135, 165, 179]\n",
        "pos_list = []\n",
        "\n",
        "for num in positions:\n",
        "  pos_list.append(x_axis.iloc[num])\n",
        "\n",
        "plt.legend()\n",
        "#print(pos_list)\n",
        "plt.xticks(ticks = positions, labels = pos_list, rotation = 'vertical');"
      ],
      "metadata": {
        "colab": {
          "base_uri": "https://localhost:8080/",
          "height": 531
        },
        "id": "gOcGf2z5ERHH",
        "outputId": "35933d7c-49bd-4649-ff17-f604e6ddfa2a"
      },
      "execution_count": null,
      "outputs": [
        {
          "output_type": "display_data",
          "data": {
            "text/plain": [
              "<Figure size 720x504 with 1 Axes>"
            ],
            "image/png": "[encoded data removed]"
          },
          "metadata": {
            "needs_background": "light"
          }
        }
      ]
    },
    {
      "cell_type": "code",
      "source": [
        "cor_matrix = data2.corr()"
      ],
      "metadata": {
        "id": "ijKcmCY0GpLf"
      },
      "execution_count": null,
      "outputs": []
    },
    {
      "cell_type": "code",
      "source": [
        "sns.heatmap(cor_matrix)"
      ],
      "metadata": {
        "colab": {
          "base_uri": "https://localhost:8080/",
          "height": 401
        },
        "id": "3SUCQmVWGroD",
        "outputId": "e6f936cc-ac98-4c50-abbb-38b49c137b85"
      },
      "execution_count": null,
      "outputs": [
        {
          "output_type": "execute_result",
          "data": {
            "text/plain": [
              "<matplotlib.axes._subplots.AxesSubplot at 0x7f66d438e110>"
            ]
          },
          "metadata": {},
          "execution_count": 321
        },
        {
          "output_type": "display_data",
          "data": {
            "text/plain": [
              "<Figure size 432x288 with 2 Axes>"
            ],
            "image/png": "[encoded data removed]"
          },
          "metadata": {
            "needs_background": "light"
          }
        }
      ]
    },
    {
      "cell_type": "code",
      "source": [
        "cor_matrix3 = cor_matrix[\"BU_380_PA_IN\"].sort_values(ascending=False) \n",
        "\n",
        "print(cor_matrix3)"
      ],
      "metadata": {
        "colab": {
          "base_uri": "https://localhost:8080/"
        },
        "id": "WFxBOLN4Jc0U",
        "outputId": "2b9c4189-a13b-44e1-aead-3aa088bc60da"
      },
      "execution_count": null,
      "outputs": [
        {
          "output_type": "stream",
          "name": "stdout",
          "text": [
            "BU_380_PA_IN            1.000000\n",
            "SLM_762_PA_IN           0.958769\n",
            "SLM_762_STO_2IN_DEGF    0.605805\n",
            "SLM_762_ATO_DEGF        0.400149\n",
            "BU_380_ATO_DEGF         0.395541\n",
            "SLM_762_SMP_2IN_PCT     0.348053\n",
            "CR_DC_D                 0.256479\n",
            "BU_380_SWE_IN           0.132002\n",
            "BU_380_SMP_2IN_PCT      0.081262\n",
            "SLM_762_SWE_IN          0.076112\n",
            "BU_380_STO_2IN_DEGF     0.011890\n",
            "Name: BU_380_PA_IN, dtype: float64\n"
          ]
        }
      ]
    },
    {
      "cell_type": "code",
      "source": [
        "cor_matrix2 = cor_matrix[\"CR_DC_D\"].sort_values(ascending=False) \n",
        "\n",
        "print(cor_matrix2)"
      ],
      "metadata": {
        "colab": {
          "base_uri": "https://localhost:8080/"
        },
        "id": "9i6xbcIDI167",
        "outputId": "cff35179-af68-47d4-b8f3-e842b39c6fbb"
      },
      "execution_count": null,
      "outputs": [
        {
          "output_type": "stream",
          "name": "stdout",
          "text": [
            "CR_DC_D                 1.000000\n",
            "BU_380_PA_IN            0.256479\n",
            "SLM_762_STO_2IN_DEGF    0.227456\n",
            "SLM_762_PA_IN           0.208171\n",
            "SLM_762_ATO_DEGF        0.064846\n",
            "BU_380_ATO_DEGF         0.038356\n",
            "BU_380_STO_2IN_DEGF    -0.046787\n",
            "SLM_762_SMP_2IN_PCT    -0.073516\n",
            "BU_380_SWE_IN          -0.081662\n",
            "SLM_762_SWE_IN         -0.110057\n",
            "BU_380_SMP_2IN_PCT     -0.154681\n",
            "Name: CR_DC_D, dtype: float64\n"
          ]
        }
      ]
    },
    {
      "cell_type": "code",
      "source": [
        "final_data = data2[[\"BU_380_PA_IN\", \"SLM_762_STO_2IN_DEGF\", \"SLM_762_ATO_DEGF\", \"SLM_762_SWE_IN\",\"BU_380_SMP_2IN_PCT\"]].copy()"
      ],
      "metadata": {
        "id": "vUMqQ-fpJmyz"
      },
      "execution_count": null,
      "outputs": []
    },
    {
      "cell_type": "code",
      "source": [
        "final_cor = final_data.corr()"
      ],
      "metadata": {
        "id": "lL3sdX_3KNVz"
      },
      "execution_count": null,
      "outputs": []
    },
    {
      "cell_type": "code",
      "source": [
        "sns.heatmap(final_cor)"
      ],
      "metadata": {
        "colab": {
          "base_uri": "https://localhost:8080/",
          "height": 401
        },
        "id": "Dbsm4ZfjKPyu",
        "outputId": "e3562de8-0bf0-43ab-935a-5dd7e6ed9b34"
      },
      "execution_count": null,
      "outputs": [
        {
          "output_type": "execute_result",
          "data": {
            "text/plain": [
              "<matplotlib.axes._subplots.AxesSubplot at 0x7f66d464aa10>"
            ]
          },
          "metadata": {},
          "execution_count": 326
        },
        {
          "output_type": "display_data",
          "data": {
            "text/plain": [
              "<Figure size 432x288 with 2 Axes>"
            ],
            "image/png": "[encoded data removed]"
          },
          "metadata": {
            "needs_background": "light"
          }
        }
      ]
    },
    {
      "cell_type": "markdown",
      "source": [
        "This looks like a much more normalized correlation map compared to the first. We will now save our data to a csv so we can eventually add it to the final dataset. "
      ],
      "metadata": {
        "id": "LSqdJXrlKX97"
      }
    },
    {
      "cell_type": "code",
      "source": [
        "final_data.head()"
      ],
      "metadata": {
        "colab": {
          "base_uri": "https://localhost:8080/",
          "height": 206
        },
        "id": "3eMqVBu7MpY8",
        "outputId": "0dfeb413-2047-4e47-b2e9-e9a5beeab7cb"
      },
      "execution_count": null,
      "outputs": [
        {
          "output_type": "execute_result",
          "data": {
            "text/plain": [
              "   BU_380_PA_IN  SLM_762_STO_2IN_DEGF  SLM_762_ATO_DEGF  SLM_762_SWE_IN  \\\n",
              "0          10.1                  52.0              21.0             5.7   \n",
              "1          13.1                  52.0              10.0             7.9   \n",
              "2          14.4                  48.0              24.0             9.5   \n",
              "3          16.4                  41.0              23.0            13.4   \n",
              "4          17.9                  35.0              27.0            12.1   \n",
              "\n",
              "   BU_380_SMP_2IN_PCT  \n",
              "0                19.8  \n",
              "1                18.5  \n",
              "2                18.5  \n",
              "3                27.8  \n",
              "4                21.1  "
            ],
            "text/html": [
              "\n",
              "  <div id=\"df-a1d8026f-08df-4994-8be4-4cd98f1483de\">\n",
              "    <div class=\"colab-df-container\">\n",
              "      <div>\n",
              "<style scoped>\n",
              "    .dataframe tbody tr th:only-of-type {\n",
              "        vertical-align: middle;\n",
              "    }\n",
              "\n",
              "    .dataframe tbody tr th {\n",
              "        vertical-align: top;\n",
              "    }\n",
              "\n",
              "    .dataframe thead th {\n",
              "        text-align: right;\n",
              "    }\n",
              "</style>\n",
              "<table border=\"1\" class=\"dataframe\">\n",
              "  <thead>\n",
              "    <tr style=\"text-align: right;\">\n",
              "      <th></th>\n",
              "      <th>BU_380_PA_IN</th>\n",
              "      <th>SLM_762_STO_2IN_DEGF</th>\n",
              "      <th>SLM_762_ATO_DEGF</th>\n",
              "      <th>SLM_762_SWE_IN</th>\n",
              "      <th>BU_380_SMP_2IN_PCT</th>\n",
              "    </tr>\n",
              "  </thead>\n",
              "  <tbody>\n",
              "    <tr>\n",
              "      <th>0</th>\n",
              "      <td>10.1</td>\n",
              "      <td>52.0</td>\n",
              "      <td>21.0</td>\n",
              "      <td>5.7</td>\n",
              "      <td>19.8</td>\n",
              "    </tr>\n",
              "    <tr>\n",
              "      <th>1</th>\n",
              "      <td>13.1</td>\n",
              "      <td>52.0</td>\n",
              "      <td>10.0</td>\n",
              "      <td>7.9</td>\n",
              "      <td>18.5</td>\n",
              "    </tr>\n",
              "    <tr>\n",
              "      <th>2</th>\n",
              "      <td>14.4</td>\n",
              "      <td>48.0</td>\n",
              "      <td>24.0</td>\n",
              "      <td>9.5</td>\n",
              "      <td>18.5</td>\n",
              "    </tr>\n",
              "    <tr>\n",
              "      <th>3</th>\n",
              "      <td>16.4</td>\n",
              "      <td>41.0</td>\n",
              "      <td>23.0</td>\n",
              "      <td>13.4</td>\n",
              "      <td>27.8</td>\n",
              "    </tr>\n",
              "    <tr>\n",
              "      <th>4</th>\n",
              "      <td>17.9</td>\n",
              "      <td>35.0</td>\n",
              "      <td>27.0</td>\n",
              "      <td>12.1</td>\n",
              "      <td>21.1</td>\n",
              "    </tr>\n",
              "  </tbody>\n",
              "</table>\n",
              "</div>\n",
              "      <button class=\"colab-df-convert\" onclick=\"convertToInteractive('df-a1d8026f-08df-4994-8be4-4cd98f1483de')\"\n",
              "              title=\"Convert this dataframe to an interactive table.\"\n",
              "              style=\"display:none;\">\n",
              "        \n",
              "  <svg xmlns=\"http://www.w3.org/2000/svg\" height=\"24px\"viewBox=\"0 0 24 24\"\n",
              "       width=\"24px\">\n",
              "    <path d=\"M0 0h24v24H0V0z\" fill=\"none\"/>\n",
              "    <path d=\"M18.56 5.44l.94 2.06.94-2.06 2.06-.94-2.06-.94-.94-2.06-.94 2.06-2.06.94zm-11 1L8.5 8.5l.94-2.06 2.06-.94-2.06-.94L8.5 2.5l-.94 2.06-2.06.94zm10 10l.94 2.06.94-2.06 2.06-.94-2.06-.94-.94-2.06-.94 2.06-2.06.94z\"/><path d=\"M17.41 7.96l-1.37-1.37c-.4-.4-.92-.59-1.43-.59-.52 0-1.04.2-1.43.59L10.3 9.45l-7.72 7.72c-.78.78-.78 2.05 0 2.83L4 21.41c.39.39.9.59 1.41.59.51 0 1.02-.2 1.41-.59l7.78-7.78 2.81-2.81c.8-.78.8-2.07 0-2.86zM5.41 20L4 18.59l7.72-7.72 1.47 1.35L5.41 20z\"/>\n",
              "  </svg>\n",
              "      </button>\n",
              "      \n",
              "  <style>\n",
              "    .colab-df-container {\n",
              "      display:flex;\n",
              "      flex-wrap:wrap;\n",
              "      gap: 12px;\n",
              "    }\n",
              "\n",
              "    .colab-df-convert {\n",
              "      background-color: #E8F0FE;\n",
              "      border: none;\n",
              "      border-radius: 50%;\n",
              "      cursor: pointer;\n",
              "      display: none;\n",
              "      fill: #1967D2;\n",
              "      height: 32px;\n",
              "      padding: 0 0 0 0;\n",
              "      width: 32px;\n",
              "    }\n",
              "\n",
              "    .colab-df-convert:hover {\n",
              "      background-color: #E2EBFA;\n",
              "      box-shadow: 0px 1px 2px rgba(60, 64, 67, 0.3), 0px 1px 3px 1px rgba(60, 64, 67, 0.15);\n",
              "      fill: #174EA6;\n",
              "    }\n",
              "\n",
              "    [theme=dark] .colab-df-convert {\n",
              "      background-color: #3B4455;\n",
              "      fill: #D2E3FC;\n",
              "    }\n",
              "\n",
              "    [theme=dark] .colab-df-convert:hover {\n",
              "      background-color: #434B5C;\n",
              "      box-shadow: 0px 1px 3px 1px rgba(0, 0, 0, 0.15);\n",
              "      filter: drop-shadow(0px 1px 2px rgba(0, 0, 0, 0.3));\n",
              "      fill: #FFFFFF;\n",
              "    }\n",
              "  </style>\n",
              "\n",
              "      <script>\n",
              "        const buttonEl =\n",
              "          document.querySelector('#df-a1d8026f-08df-4994-8be4-4cd98f1483de button.colab-df-convert');\n",
              "        buttonEl.style.display =\n",
              "          google.colab.kernel.accessAllowed ? 'block' : 'none';\n",
              "\n",
              "        async function convertToInteractive(key) {\n",
              "          const element = document.querySelector('#df-a1d8026f-08df-4994-8be4-4cd98f1483de');\n",
              "          const dataTable =\n",
              "            await google.colab.kernel.invokeFunction('convertToInteractive',\n",
              "                                                     [key], {});\n",
              "          if (!dataTable) return;\n",
              "\n",
              "          const docLinkHtml = 'Like what you see? Visit the ' +\n",
              "            '<a target=\"_blank\" href=https://colab.research.google.com/notebooks/data_table.ipynb>data table notebook</a>'\n",
              "            + ' to learn more about interactive tables.';\n",
              "          element.innerHTML = '';\n",
              "          dataTable['output_type'] = 'display_data';\n",
              "          await google.colab.output.renderOutput(dataTable, element);\n",
              "          const docLink = document.createElement('div');\n",
              "          docLink.innerHTML = docLinkHtml;\n",
              "          element.appendChild(docLink);\n",
              "        }\n",
              "      </script>\n",
              "    </div>\n",
              "  </div>\n",
              "  "
            ]
          },
          "metadata": {},
          "execution_count": 327
        }
      ]
    },
    {
      "cell_type": "code",
      "source": [
        "final_data.to_csv('final_data_2.csv')\n",
        "!cp final_data_2.csv \"/content/drive/MyDrive/CURRENT Work files/GBI/Research Project/New Report/Model_Building\""
      ],
      "metadata": {
        "id": "Uq_tpbgOKh_z"
      },
      "execution_count": null,
      "outputs": []
    },
    {
      "cell_type": "markdown",
      "source": [
        "The above code will save the csv in the google drive account that was mounted at the beginning of this tutorial. "
      ],
      "metadata": {
        "id": "GUaXRAOGKplw"
      }
    }
  ]
}