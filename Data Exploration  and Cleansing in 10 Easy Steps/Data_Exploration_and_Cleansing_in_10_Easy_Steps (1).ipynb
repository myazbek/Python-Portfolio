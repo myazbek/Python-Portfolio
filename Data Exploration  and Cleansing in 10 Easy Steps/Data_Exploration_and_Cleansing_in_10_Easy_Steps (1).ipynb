{
  "nbformat": 4,
  "nbformat_minor": 0,
  "metadata": {
    "colab": {
      "name": "Data Exploration and Cleansing in 10 Easy Steps.ipynb",
      "provenance": [],
      "toc_visible": true
    },
    "kernelspec": {
      "name": "python3",
      "display_name": "Python 3"
    },
    "language_info": {
      "name": "python"
    }
  },
  "cells": [
    {
      "cell_type": "markdown",
      "source": [
        "This Jupyter Notebook was developed in Google Collab by Mya Yazbek on 3/10/2022. "
      ],
      "metadata": {
        "id": "TGZ6gFTlSPMS"
      }
    },
    {
      "cell_type": "markdown",
      "source": [
        "#Framing this project:\n",
        "\n",
        "This is data of [USDA's SNOTEL](https://www.nrcs.usda.gov/wps/portal/wcc/home/quicklinks/imap#version=158&elements=R&networks=!&states=AZ,CO,UT,WY&counties=!&hucs=&minElevation=&maxElevation=&elementSelectType=all&activeOnly=true&activeForecastPointsOnly=false&hucLabels=false&hucIdLabels=false&hucParameterLabels=false&stationLabels=name,id&overlays=&hucOverlays=az_8,co_8,ut_8,wy_8&basinOpacity=100&basinNoDataOpacity=100&basemapOpacity=100&maskOpacity=0&mode=data&openSections=dataElement,parameter,date,basin,options,elements,location,networks,baseMaps,overlays,labels&controlsOpen=true&popup=&popupMulti=&popupBasin=&base=esriNgwm&displayType=station&basinType=6&dataElement=WTEQ&depth=-8&parameter=PCTMED&frequency=DAILY&duration=I&customDuration=1&dayPart=E&monthPart=E&forecastPubDay=1&forecastExceedance=50&seqColor=1&divColor=3&scaleType=D&scaleMin=&scaleMax=&referencePeriodType=POR&referenceBegin=1981&referenceEnd=2020&minimumYears=20&hucAssociations=true&relativeDate=-1&lat=38.085&lon=-110.948&zoom=6.5) real time climate monitoring stations. The three stations you will be analyzing are found in the Southern Utah Basin of the Colorado River Watershed. You will select one SNOTEL station's climate data to use for a river flow model out of 3 to be included in a final dataset. The different stations in the file are denoted by the unique identifiers at the beginning of each column name. These three SNOTEL sites all hold data on precipitation, snow water equivalent, soil moisture, soil temperature, and air temperature. You will select the attributes that exhibit the strongest correlation coeff when running against DC_Inflow, which is a site that monitors river discharge rates near Diamond Creek, AZ. The Colorado River Discharge rate was provided by the USGS National Water Information System website's [listing for the gauge near Diamond Creek](https://waterdata.usgs.gov/nwis/inventory?site_no=09404200). Both these datasets span 15 years, from Jan. 2006 - Dec 2020. "
      ],
      "metadata": {
        "id": "eHFKxDs57VKZ"
      }
    },
    {
      "cell_type": "markdown",
      "source": [
        "The file I am using for this coding session has the USDA and USGS data in csv format, which is up on my github as \"SNOTEL_Site_Selection.csv\" "
      ],
      "metadata": {
        "id": "I2ra0Z4_Rywp"
      }
    },
    {
      "cell_type": "markdown",
      "source": [
        "#Step 1: Importing our packages"
      ],
      "metadata": {
        "id": "h3L_w19FPWdx"
      }
    },
    {
      "cell_type": "code",
      "execution_count": 513,
      "metadata": {
        "id": "KVpNmjDzpAL6"
      },
      "outputs": [],
      "source": [
        "import matplotlib.pyplot as plt\n",
        "import numpy as np\n",
        "import pandas as pd\n",
        "import seaborn as sns"
      ]
    },
    {
      "cell_type": "markdown",
      "source": [
        "Great! All packages needed for cleaning, viewing, and analyzing are ready to use."
      ],
      "metadata": {
        "id": "Y-VSotVhpMpV"
      }
    },
    {
      "cell_type": "markdown",
      "source": [
        "#Step 2: Mounting Google Drive"
      ],
      "metadata": {
        "id": "LPe9LUDpPbAq"
      }
    },
    {
      "cell_type": "code",
      "source": [
        "from google.colab import drive\n",
        "drive.mount('/content/drive')"
      ],
      "metadata": {
        "colab": {
          "base_uri": "https://localhost:8080/"
        },
        "id": "P2PS30MSpXAe",
        "outputId": "550e9f7c-a22a-4928-de99-fa118fca6775"
      },
      "execution_count": 514,
      "outputs": [
        {
          "output_type": "stream",
          "name": "stdout",
          "text": [
            "Drive already mounted at /content/drive; to attempt to forcibly remount, call drive.mount(\"/content/drive\", force_remount=True).\n"
          ]
        }
      ]
    },
    {
      "cell_type": "markdown",
      "source": [
        "The above code mounts your drive. Select your account and press accept. You can now access your account files, which is where I have the csv file to load into a Pandas DataFrame."
      ],
      "metadata": {
        "id": "n7GMEqsnSbSl"
      }
    },
    {
      "cell_type": "markdown",
      "source": [
        "#Step 3: Load and View Data"
      ],
      "metadata": {
        "id": "MlbmHZ3qp07c"
      }
    },
    {
      "cell_type": "code",
      "source": [
        "#navigate to the file in your google drive by selecting the file folder \n",
        "#icon to the left of this text\n",
        "\n",
        "file = \"/content/drive/MyDrive/CURRENT Work files/GBI/Research Project/Report/Model_Building/SNOTEL_Site_Selection.csv\""
      ],
      "metadata": {
        "id": "Iuk1C2TJp4HN"
      },
      "execution_count": 515,
      "outputs": []
    },
    {
      "cell_type": "code",
      "source": [
        "data = pd.read_csv(file)"
      ],
      "metadata": {
        "id": "BT2NRW7gqL_W"
      },
      "execution_count": 516,
      "outputs": []
    },
    {
      "cell_type": "code",
      "source": [
        "data.head()"
      ],
      "metadata": {
        "colab": {
          "base_uri": "https://localhost:8080/",
          "height": 270
        },
        "id": "qxuJ3XalqPYL",
        "outputId": "e3266548-98ec-49ca-adf2-c16deb7d082c"
      },
      "execution_count": 517,
      "outputs": [
        {
          "output_type": "execute_result",
          "data": {
            "text/plain": [
              "       Date DC_Inflow  Camp_Jackson_(383)\\nSWE_in\\n  \\\n",
              "0  1/1/2006    13,970                           0.8   \n",
              "1  2/1/2006    15,450                           2.8   \n",
              "2  3/1/2006    11,020                           2.9   \n",
              "3  4/1/2006    11,100                           8.1   \n",
              "4  5/1/2006    10,630                           0.0   \n",
              "\n",
              "   Camp_Jackson_(383)\\nPrecipitation\\nAccumulation\\n(in)\\n  \\\n",
              "0                                                3.8         \n",
              "1                                                5.3         \n",
              "2                                                5.8         \n",
              "3                                               11.2         \n",
              "4                                               12.4         \n",
              "\n",
              "   Camp_Jackson_(383)\\nAir\\nTemperature\\nObserved\\n(degF)\\n  \\\n",
              "0                                                 29          \n",
              "1                                                 27          \n",
              "2                                                 33          \n",
              "3                                                 31          \n",
              "4                                                 45          \n",
              "\n",
              "   Camp_Jackson_(383)\\nSoil\\nTemperature\\nObserved_-2in\\n(degF)\\n  \\\n",
              "0                                                 33                \n",
              "1                                                 33                \n",
              "2                                                 34                \n",
              "3                                                 35                \n",
              "4                                                 46                \n",
              "\n",
              "   Camp_Jackson_(383)\\nSoil\\nMoisture\\nPercent_-2in\\n(pct)\\n  \\\n",
              "0                                                9.0           \n",
              "1                                                9.2           \n",
              "2                                               11.3           \n",
              "3                                               33.3           \n",
              "4                                               23.8           \n",
              "\n",
              "   East_Willow_Creek_(461)\\nSnow\\nWater\\nEquivalent\\n(in)\\n  \\\n",
              "0                                                0.9          \n",
              "1                                                1.8          \n",
              "2                                                1.8          \n",
              "3                                                4.1          \n",
              "4                                                0.0          \n",
              "\n",
              "   East_Willow_Creek_(461)\\nPrecipitation\\nAccumulation\\n(in)\\n  \\\n",
              "0                                                2.0              \n",
              "1                                                3.0              \n",
              "2                                                3.3              \n",
              "3                                                6.4              \n",
              "4                                                6.9              \n",
              "\n",
              "   East_Willow_Creek_(461)\\nAir\\nTemperature\\nObserved\\n(degF)\\n  \\\n",
              "0                                                 31               \n",
              "1                                                 25               \n",
              "2                                                 36               \n",
              "3                                                 34               \n",
              "4                                                 41               \n",
              "\n",
              "   East_Willow_Creek_(461)\\nSoil\\nTemperature\\nObserved_-2in\\n(degF)\\n  \\\n",
              "0                                                NaN                     \n",
              "1                                               22.0                     \n",
              "2                                               29.0                     \n",
              "3                                               34.0                     \n",
              "4                                               47.0                     \n",
              "\n",
              "   East_Willow_Creek_(461)\\nSoil\\nMoisture\\nPercent_-2in\\n(pct)\\n  \\\n",
              "0                                                NaN                \n",
              "1                                                7.4                \n",
              "2                                               11.7                \n",
              "3                                               27.4                \n",
              "4                                               17.2                \n",
              "\n",
              "   Lasal_Mountain_(572)\\nSnow\\nWater\\nEquivalent\\n(in)\\n  \\\n",
              "0                                                3.8       \n",
              "1                                                6.8       \n",
              "2                                                7.3       \n",
              "3                                               11.7       \n",
              "4                                                0.0       \n",
              "\n",
              "   Lasal_Mountain_(572)\\nPrecipitation\\nAccumulation\\n(in)\\n  \\\n",
              "0                                                7.5           \n",
              "1                                               10.8           \n",
              "2                                               12.0           \n",
              "3                                               18.5           \n",
              "4                                               21.0           \n",
              "\n",
              "   Lasal_Mountain_(572)\\nAir\\nTemperature\\nObserved\\n(degF)\\n  \\\n",
              "0                                               28.0            \n",
              "1                                               22.0            \n",
              "2                                               33.0            \n",
              "3                                               31.0            \n",
              "4                                                NaN            \n",
              "\n",
              "   Lasal_Mountain_(572)\\nSoil\\nTemperature\\nObserved_-2in\\n(degF)\\n  \\\n",
              "0                                               34.0                  \n",
              "1                                               34.0                  \n",
              "2                                               34.0                  \n",
              "3                                               34.0                  \n",
              "4                                               50.0                  \n",
              "\n",
              "   Lasal_Mountain_(572)\\nSoil\\nMoisture\\nPercent_-2in\\n(pct)\\n  \n",
              "0                                                5.1            \n",
              "1                                                6.0            \n",
              "2                                               12.0            \n",
              "3                                               25.7            \n",
              "4                                               12.6            "
            ],
            "text/html": [
              "\n",
              "  <div id=\"df-fc500b51-20de-4819-a97b-26f515691355\">\n",
              "    <div class=\"colab-df-container\">\n",
              "      <div>\n",
              "<style scoped>\n",
              "    .dataframe tbody tr th:only-of-type {\n",
              "        vertical-align: middle;\n",
              "    }\n",
              "\n",
              "    .dataframe tbody tr th {\n",
              "        vertical-align: top;\n",
              "    }\n",
              "\n",
              "    .dataframe thead th {\n",
              "        text-align: right;\n",
              "    }\n",
              "</style>\n",
              "<table border=\"1\" class=\"dataframe\">\n",
              "  <thead>\n",
              "    <tr style=\"text-align: right;\">\n",
              "      <th></th>\n",
              "      <th>Date</th>\n",
              "      <th>DC_Inflow</th>\n",
              "      <th>Camp_Jackson_(383)\\nSWE_in\\n</th>\n",
              "      <th>Camp_Jackson_(383)\\nPrecipitation\\nAccumulation\\n(in)\\n</th>\n",
              "      <th>Camp_Jackson_(383)\\nAir\\nTemperature\\nObserved\\n(degF)\\n</th>\n",
              "      <th>Camp_Jackson_(383)\\nSoil\\nTemperature\\nObserved_-2in\\n(degF)\\n</th>\n",
              "      <th>Camp_Jackson_(383)\\nSoil\\nMoisture\\nPercent_-2in\\n(pct)\\n</th>\n",
              "      <th>East_Willow_Creek_(461)\\nSnow\\nWater\\nEquivalent\\n(in)\\n</th>\n",
              "      <th>East_Willow_Creek_(461)\\nPrecipitation\\nAccumulation\\n(in)\\n</th>\n",
              "      <th>East_Willow_Creek_(461)\\nAir\\nTemperature\\nObserved\\n(degF)\\n</th>\n",
              "      <th>East_Willow_Creek_(461)\\nSoil\\nTemperature\\nObserved_-2in\\n(degF)\\n</th>\n",
              "      <th>East_Willow_Creek_(461)\\nSoil\\nMoisture\\nPercent_-2in\\n(pct)\\n</th>\n",
              "      <th>Lasal_Mountain_(572)\\nSnow\\nWater\\nEquivalent\\n(in)\\n</th>\n",
              "      <th>Lasal_Mountain_(572)\\nPrecipitation\\nAccumulation\\n(in)\\n</th>\n",
              "      <th>Lasal_Mountain_(572)\\nAir\\nTemperature\\nObserved\\n(degF)\\n</th>\n",
              "      <th>Lasal_Mountain_(572)\\nSoil\\nTemperature\\nObserved_-2in\\n(degF)\\n</th>\n",
              "      <th>Lasal_Mountain_(572)\\nSoil\\nMoisture\\nPercent_-2in\\n(pct)\\n</th>\n",
              "    </tr>\n",
              "  </thead>\n",
              "  <tbody>\n",
              "    <tr>\n",
              "      <th>0</th>\n",
              "      <td>1/1/2006</td>\n",
              "      <td>13,970</td>\n",
              "      <td>0.8</td>\n",
              "      <td>3.8</td>\n",
              "      <td>29</td>\n",
              "      <td>33</td>\n",
              "      <td>9.0</td>\n",
              "      <td>0.9</td>\n",
              "      <td>2.0</td>\n",
              "      <td>31</td>\n",
              "      <td>NaN</td>\n",
              "      <td>NaN</td>\n",
              "      <td>3.8</td>\n",
              "      <td>7.5</td>\n",
              "      <td>28.0</td>\n",
              "      <td>34.0</td>\n",
              "      <td>5.1</td>\n",
              "    </tr>\n",
              "    <tr>\n",
              "      <th>1</th>\n",
              "      <td>2/1/2006</td>\n",
              "      <td>15,450</td>\n",
              "      <td>2.8</td>\n",
              "      <td>5.3</td>\n",
              "      <td>27</td>\n",
              "      <td>33</td>\n",
              "      <td>9.2</td>\n",
              "      <td>1.8</td>\n",
              "      <td>3.0</td>\n",
              "      <td>25</td>\n",
              "      <td>22.0</td>\n",
              "      <td>7.4</td>\n",
              "      <td>6.8</td>\n",
              "      <td>10.8</td>\n",
              "      <td>22.0</td>\n",
              "      <td>34.0</td>\n",
              "      <td>6.0</td>\n",
              "    </tr>\n",
              "    <tr>\n",
              "      <th>2</th>\n",
              "      <td>3/1/2006</td>\n",
              "      <td>11,020</td>\n",
              "      <td>2.9</td>\n",
              "      <td>5.8</td>\n",
              "      <td>33</td>\n",
              "      <td>34</td>\n",
              "      <td>11.3</td>\n",
              "      <td>1.8</td>\n",
              "      <td>3.3</td>\n",
              "      <td>36</td>\n",
              "      <td>29.0</td>\n",
              "      <td>11.7</td>\n",
              "      <td>7.3</td>\n",
              "      <td>12.0</td>\n",
              "      <td>33.0</td>\n",
              "      <td>34.0</td>\n",
              "      <td>12.0</td>\n",
              "    </tr>\n",
              "    <tr>\n",
              "      <th>3</th>\n",
              "      <td>4/1/2006</td>\n",
              "      <td>11,100</td>\n",
              "      <td>8.1</td>\n",
              "      <td>11.2</td>\n",
              "      <td>31</td>\n",
              "      <td>35</td>\n",
              "      <td>33.3</td>\n",
              "      <td>4.1</td>\n",
              "      <td>6.4</td>\n",
              "      <td>34</td>\n",
              "      <td>34.0</td>\n",
              "      <td>27.4</td>\n",
              "      <td>11.7</td>\n",
              "      <td>18.5</td>\n",
              "      <td>31.0</td>\n",
              "      <td>34.0</td>\n",
              "      <td>25.7</td>\n",
              "    </tr>\n",
              "    <tr>\n",
              "      <th>4</th>\n",
              "      <td>5/1/2006</td>\n",
              "      <td>10,630</td>\n",
              "      <td>0.0</td>\n",
              "      <td>12.4</td>\n",
              "      <td>45</td>\n",
              "      <td>46</td>\n",
              "      <td>23.8</td>\n",
              "      <td>0.0</td>\n",
              "      <td>6.9</td>\n",
              "      <td>41</td>\n",
              "      <td>47.0</td>\n",
              "      <td>17.2</td>\n",
              "      <td>0.0</td>\n",
              "      <td>21.0</td>\n",
              "      <td>NaN</td>\n",
              "      <td>50.0</td>\n",
              "      <td>12.6</td>\n",
              "    </tr>\n",
              "  </tbody>\n",
              "</table>\n",
              "</div>\n",
              "      <button class=\"colab-df-convert\" onclick=\"convertToInteractive('df-fc500b51-20de-4819-a97b-26f515691355')\"\n",
              "              title=\"Convert this dataframe to an interactive table.\"\n",
              "              style=\"display:none;\">\n",
              "        \n",
              "  <svg xmlns=\"http://www.w3.org/2000/svg\" height=\"24px\"viewBox=\"0 0 24 24\"\n",
              "       width=\"24px\">\n",
              "    <path d=\"M0 0h24v24H0V0z\" fill=\"none\"/>\n",
              "    <path d=\"M18.56 5.44l.94 2.06.94-2.06 2.06-.94-2.06-.94-.94-2.06-.94 2.06-2.06.94zm-11 1L8.5 8.5l.94-2.06 2.06-.94-2.06-.94L8.5 2.5l-.94 2.06-2.06.94zm10 10l.94 2.06.94-2.06 2.06-.94-2.06-.94-.94-2.06-.94 2.06-2.06.94z\"/><path d=\"M17.41 7.96l-1.37-1.37c-.4-.4-.92-.59-1.43-.59-.52 0-1.04.2-1.43.59L10.3 9.45l-7.72 7.72c-.78.78-.78 2.05 0 2.83L4 21.41c.39.39.9.59 1.41.59.51 0 1.02-.2 1.41-.59l7.78-7.78 2.81-2.81c.8-.78.8-2.07 0-2.86zM5.41 20L4 18.59l7.72-7.72 1.47 1.35L5.41 20z\"/>\n",
              "  </svg>\n",
              "      </button>\n",
              "      \n",
              "  <style>\n",
              "    .colab-df-container {\n",
              "      display:flex;\n",
              "      flex-wrap:wrap;\n",
              "      gap: 12px;\n",
              "    }\n",
              "\n",
              "    .colab-df-convert {\n",
              "      background-color: #E8F0FE;\n",
              "      border: none;\n",
              "      border-radius: 50%;\n",
              "      cursor: pointer;\n",
              "      display: none;\n",
              "      fill: #1967D2;\n",
              "      height: 32px;\n",
              "      padding: 0 0 0 0;\n",
              "      width: 32px;\n",
              "    }\n",
              "\n",
              "    .colab-df-convert:hover {\n",
              "      background-color: #E2EBFA;\n",
              "      box-shadow: 0px 1px 2px rgba(60, 64, 67, 0.3), 0px 1px 3px 1px rgba(60, 64, 67, 0.15);\n",
              "      fill: #174EA6;\n",
              "    }\n",
              "\n",
              "    [theme=dark] .colab-df-convert {\n",
              "      background-color: #3B4455;\n",
              "      fill: #D2E3FC;\n",
              "    }\n",
              "\n",
              "    [theme=dark] .colab-df-convert:hover {\n",
              "      background-color: #434B5C;\n",
              "      box-shadow: 0px 1px 3px 1px rgba(0, 0, 0, 0.15);\n",
              "      filter: drop-shadow(0px 1px 2px rgba(0, 0, 0, 0.3));\n",
              "      fill: #FFFFFF;\n",
              "    }\n",
              "  </style>\n",
              "\n",
              "      <script>\n",
              "        const buttonEl =\n",
              "          document.querySelector('#df-fc500b51-20de-4819-a97b-26f515691355 button.colab-df-convert');\n",
              "        buttonEl.style.display =\n",
              "          google.colab.kernel.accessAllowed ? 'block' : 'none';\n",
              "\n",
              "        async function convertToInteractive(key) {\n",
              "          const element = document.querySelector('#df-fc500b51-20de-4819-a97b-26f515691355');\n",
              "          const dataTable =\n",
              "            await google.colab.kernel.invokeFunction('convertToInteractive',\n",
              "                                                     [key], {});\n",
              "          if (!dataTable) return;\n",
              "\n",
              "          const docLinkHtml = 'Like what you see? Visit the ' +\n",
              "            '<a target=\"_blank\" href=https://colab.research.google.com/notebooks/data_table.ipynb>data table notebook</a>'\n",
              "            + ' to learn more about interactive tables.';\n",
              "          element.innerHTML = '';\n",
              "          dataTable['output_type'] = 'display_data';\n",
              "          await google.colab.output.renderOutput(dataTable, element);\n",
              "          const docLink = document.createElement('div');\n",
              "          docLink.innerHTML = docLinkHtml;\n",
              "          element.appendChild(docLink);\n",
              "        }\n",
              "      </script>\n",
              "    </div>\n",
              "  </div>\n",
              "  "
            ]
          },
          "metadata": {},
          "execution_count": 517
        }
      ]
    },
    {
      "cell_type": "code",
      "source": [
        "#data.info()"
      ],
      "metadata": {
        "id": "tBymr7BuqQTT"
      },
      "execution_count": 518,
      "outputs": []
    },
    {
      "cell_type": "markdown",
      "source": [
        "#Step 4: Cleaning your dataset"
      ],
      "metadata": {
        "id": "1V5gBwejqct0"
      }
    },
    {
      "cell_type": "markdown",
      "source": [
        "Filling nulls"
      ],
      "metadata": {
        "id": "jcXGx5wrqjO9"
      }
    },
    {
      "cell_type": "code",
      "source": [
        "data2 = data.fillna(method=\"ffill\")"
      ],
      "metadata": {
        "id": "YcOi4F8eqfoE"
      },
      "execution_count": 519,
      "outputs": []
    },
    {
      "cell_type": "markdown",
      "source": [
        "Renaming columns for accessibility"
      ],
      "metadata": {
        "id": "UJk2Ukvqqsb0"
      }
    },
    {
      "cell_type": "markdown",
      "source": [
        "Start with putting our column names in a list"
      ],
      "metadata": {
        "id": "OHS9dx9Wq2Vm"
      }
    },
    {
      "cell_type": "code",
      "source": [
        "my_list = data2.columns.values.tolist()\n",
        "\n",
        "print(my_list)"
      ],
      "metadata": {
        "colab": {
          "base_uri": "https://localhost:8080/"
        },
        "id": "WeP1zgL4qlNe",
        "outputId": "33522e17-faad-4959-8176-61913882877c"
      },
      "execution_count": 520,
      "outputs": [
        {
          "output_type": "stream",
          "name": "stdout",
          "text": [
            "['Date', 'DC_Inflow', 'Camp_Jackson_(383)\\nSWE_in\\n', 'Camp_Jackson_(383)\\nPrecipitation\\nAccumulation\\n(in)\\n', 'Camp_Jackson_(383)\\nAir\\nTemperature\\nObserved\\n(degF)\\n', 'Camp_Jackson_(383)\\nSoil\\nTemperature\\nObserved_-2in\\n(degF)\\n', 'Camp_Jackson_(383)\\nSoil\\nMoisture\\nPercent_-2in\\n(pct)\\n', 'East_Willow_Creek_(461)\\nSnow\\nWater\\nEquivalent\\n(in)\\n', 'East_Willow_Creek_(461)\\nPrecipitation\\nAccumulation\\n(in)\\n', 'East_Willow_Creek_(461)\\nAir\\nTemperature\\nObserved\\n(degF)\\n', 'East_Willow_Creek_(461)\\nSoil\\nTemperature\\nObserved_-2in\\n(degF)\\n', 'East_Willow_Creek_(461)\\nSoil\\nMoisture\\nPercent_-2in\\n(pct)\\n', 'Lasal_Mountain_(572)\\nSnow\\nWater\\nEquivalent\\n(in)\\n', 'Lasal_Mountain_(572)\\nPrecipitation\\nAccumulation\\n(in)\\n', 'Lasal_Mountain_(572)\\nAir\\nTemperature\\nObserved\\n(degF)\\n', 'Lasal_Mountain_(572)\\nSoil\\nTemperature\\nObserved_-2in\\n(degF)\\n', 'Lasal_Mountain_(572)\\nSoil\\nMoisture\\nPercent_-2in\\n(pct)\\n']\n"
          ]
        }
      ]
    },
    {
      "cell_type": "code",
      "source": [
        "print(len(my_list))"
      ],
      "metadata": {
        "colab": {
          "base_uri": "https://localhost:8080/"
        },
        "id": "vEtCQTJhrmtt",
        "outputId": "7b56a6b6-2e3c-469f-af7d-f7fcdda3f8f3"
      },
      "execution_count": 521,
      "outputs": [
        {
          "output_type": "stream",
          "name": "stdout",
          "text": [
            "17\n"
          ]
        }
      ]
    },
    {
      "cell_type": "markdown",
      "source": [
        "We will now rename the columns using .rename()"
      ],
      "metadata": {
        "id": "2XhgIHXcq9_E"
      }
    },
    {
      "cell_type": "code",
      "source": [
        "data3 = data2.rename(columns={'Date':\"Date\", 'Diamond_Creek_Inflow_Guage':\"DC_Inflow\", 'Camp_Jackson_(383)\\nSWE_in\\n':\"CJ383_SWE_IN\", 'Camp_Jackson_(383)\\nPrecipitation\\nAccumulation\\n(in)\\n':\"CJ383_PA_IN\", 'Camp_Jackson_(383)\\nAir\\nTemperature\\nObserved\\n(degF)\\n':\"CJ383_ATO_DEGF\", 'Camp_Jackson_(383)\\nSoil\\nTemperature\\nObserved_-2in\\n(degF)\\n':\"CJ383_STO_2IN_DEGF\", 'Camp_Jackson_(383)\\nSoil\\nMoisture\\nPercent_-2in\\n(pct)\\n':\"CJ383_SMP_2IN_PCT\", 'East_Willow_Creek_(461)\\nSnow\\nWater\\nEquivalent\\n(in)\\n':\"EWC461_SWE_IN\", 'East_Willow_Creek_(461)\\nPrecipitation\\nAccumulation\\n(in)\\n':\"EWC461_PA_IN\", 'East_Willow_Creek_(461)\\nAir\\nTemperature\\nObserved\\n(degF)\\n':\"EWC461_ATO_DEGF\", 'East_Willow_Creek_(461)\\nSoil\\nTemperature\\nObserved_-2in\\n(degF)\\n':\"EWC461_STO_2IN_DEGF\", 'East_Willow_Creek_(461)\\nSoil\\nMoisture\\nPercent_-2in\\n(pct)\\n':\"EWC461_SMP_2IN_PCT\", 'Lasal_Mountain_(572)\\nSnow\\nWater\\nEquivalent\\n(in)\\n':\"LM572_SWE_IN\", 'Lasal_Mountain_(572)\\nPrecipitation\\nAccumulation\\n(in)\\n':\"LM572_PA_IN\", 'Lasal_Mountain_(572)\\nAir\\nTemperature\\nObserved\\n(degF)\\n':\"LM572_ATO_2IN_DEGF\", 'Lasal_Mountain_(572)\\nSoil\\nTemperature\\nObserved_-2in\\n(degF)\\n':\"LM572_STO_2IN_DEGF\", 'Lasal_Mountain_(572)\\nSoil\\nMoisture\\nPercent_-2in\\n(pct)\\n':\"LM572_SMP_2IN_PCT\"})\n"
      ],
      "metadata": {
        "id": "MhTJ9P1DrGyP"
      },
      "execution_count": 522,
      "outputs": []
    },
    {
      "cell_type": "code",
      "source": [
        "my_list2 = data3.columns.values.tolist()\n",
        "\n",
        "print(my_list2)"
      ],
      "metadata": {
        "colab": {
          "base_uri": "https://localhost:8080/"
        },
        "outputId": "132f354c-c193-4d83-f995-29b5247d2231",
        "id": "FaWXabzdyfkP"
      },
      "execution_count": 523,
      "outputs": [
        {
          "output_type": "stream",
          "name": "stdout",
          "text": [
            "['Date', 'DC_Inflow', 'CJ383_SWE_IN', 'CJ383_PA_IN', 'CJ383_ATO_DEGF', 'CJ383_STO_2IN_DEGF', 'CJ383_SMP_2IN_PCT', 'EWC461_SWE_IN', 'EWC461_PA_IN', 'EWC461_ATO_DEGF', 'EWC461_STO_2IN_DEGF', 'EWC461_SMP_2IN_PCT', 'LM572_SWE_IN', 'LM572_PA_IN', 'LM572_ATO_2IN_DEGF', 'LM572_STO_2IN_DEGF', 'LM572_SMP_2IN_PCT']\n"
          ]
        }
      ]
    },
    {
      "cell_type": "code",
      "source": [
        "data3.head()"
      ],
      "metadata": {
        "colab": {
          "base_uri": "https://localhost:8080/",
          "height": 270
        },
        "id": "TNmNs1X_4ldt",
        "outputId": "faa83013-8086-4b0c-fc16-f5711f1fb26f"
      },
      "execution_count": 524,
      "outputs": [
        {
          "output_type": "execute_result",
          "data": {
            "text/plain": [
              "       Date DC_Inflow  CJ383_SWE_IN  CJ383_PA_IN  CJ383_ATO_DEGF  \\\n",
              "0  1/1/2006    13,970           0.8          3.8              29   \n",
              "1  2/1/2006    15,450           2.8          5.3              27   \n",
              "2  3/1/2006    11,020           2.9          5.8              33   \n",
              "3  4/1/2006    11,100           8.1         11.2              31   \n",
              "4  5/1/2006    10,630           0.0         12.4              45   \n",
              "\n",
              "   CJ383_STO_2IN_DEGF  CJ383_SMP_2IN_PCT  EWC461_SWE_IN  EWC461_PA_IN  \\\n",
              "0                  33                9.0            0.9           2.0   \n",
              "1                  33                9.2            1.8           3.0   \n",
              "2                  34               11.3            1.8           3.3   \n",
              "3                  35               33.3            4.1           6.4   \n",
              "4                  46               23.8            0.0           6.9   \n",
              "\n",
              "   EWC461_ATO_DEGF  EWC461_STO_2IN_DEGF  EWC461_SMP_2IN_PCT  LM572_SWE_IN  \\\n",
              "0               31                  NaN                 NaN           3.8   \n",
              "1               25                 22.0                 7.4           6.8   \n",
              "2               36                 29.0                11.7           7.3   \n",
              "3               34                 34.0                27.4          11.7   \n",
              "4               41                 47.0                17.2           0.0   \n",
              "\n",
              "   LM572_PA_IN  LM572_ATO_2IN_DEGF  LM572_STO_2IN_DEGF  LM572_SMP_2IN_PCT  \n",
              "0          7.5                28.0                34.0                5.1  \n",
              "1         10.8                22.0                34.0                6.0  \n",
              "2         12.0                33.0                34.0               12.0  \n",
              "3         18.5                31.0                34.0               25.7  \n",
              "4         21.0                31.0                50.0               12.6  "
            ],
            "text/html": [
              "\n",
              "  <div id=\"df-f6022a30-a420-4bae-adcd-f9fade6f2c03\">\n",
              "    <div class=\"colab-df-container\">\n",
              "      <div>\n",
              "<style scoped>\n",
              "    .dataframe tbody tr th:only-of-type {\n",
              "        vertical-align: middle;\n",
              "    }\n",
              "\n",
              "    .dataframe tbody tr th {\n",
              "        vertical-align: top;\n",
              "    }\n",
              "\n",
              "    .dataframe thead th {\n",
              "        text-align: right;\n",
              "    }\n",
              "</style>\n",
              "<table border=\"1\" class=\"dataframe\">\n",
              "  <thead>\n",
              "    <tr style=\"text-align: right;\">\n",
              "      <th></th>\n",
              "      <th>Date</th>\n",
              "      <th>DC_Inflow</th>\n",
              "      <th>CJ383_SWE_IN</th>\n",
              "      <th>CJ383_PA_IN</th>\n",
              "      <th>CJ383_ATO_DEGF</th>\n",
              "      <th>CJ383_STO_2IN_DEGF</th>\n",
              "      <th>CJ383_SMP_2IN_PCT</th>\n",
              "      <th>EWC461_SWE_IN</th>\n",
              "      <th>EWC461_PA_IN</th>\n",
              "      <th>EWC461_ATO_DEGF</th>\n",
              "      <th>EWC461_STO_2IN_DEGF</th>\n",
              "      <th>EWC461_SMP_2IN_PCT</th>\n",
              "      <th>LM572_SWE_IN</th>\n",
              "      <th>LM572_PA_IN</th>\n",
              "      <th>LM572_ATO_2IN_DEGF</th>\n",
              "      <th>LM572_STO_2IN_DEGF</th>\n",
              "      <th>LM572_SMP_2IN_PCT</th>\n",
              "    </tr>\n",
              "  </thead>\n",
              "  <tbody>\n",
              "    <tr>\n",
              "      <th>0</th>\n",
              "      <td>1/1/2006</td>\n",
              "      <td>13,970</td>\n",
              "      <td>0.8</td>\n",
              "      <td>3.8</td>\n",
              "      <td>29</td>\n",
              "      <td>33</td>\n",
              "      <td>9.0</td>\n",
              "      <td>0.9</td>\n",
              "      <td>2.0</td>\n",
              "      <td>31</td>\n",
              "      <td>NaN</td>\n",
              "      <td>NaN</td>\n",
              "      <td>3.8</td>\n",
              "      <td>7.5</td>\n",
              "      <td>28.0</td>\n",
              "      <td>34.0</td>\n",
              "      <td>5.1</td>\n",
              "    </tr>\n",
              "    <tr>\n",
              "      <th>1</th>\n",
              "      <td>2/1/2006</td>\n",
              "      <td>15,450</td>\n",
              "      <td>2.8</td>\n",
              "      <td>5.3</td>\n",
              "      <td>27</td>\n",
              "      <td>33</td>\n",
              "      <td>9.2</td>\n",
              "      <td>1.8</td>\n",
              "      <td>3.0</td>\n",
              "      <td>25</td>\n",
              "      <td>22.0</td>\n",
              "      <td>7.4</td>\n",
              "      <td>6.8</td>\n",
              "      <td>10.8</td>\n",
              "      <td>22.0</td>\n",
              "      <td>34.0</td>\n",
              "      <td>6.0</td>\n",
              "    </tr>\n",
              "    <tr>\n",
              "      <th>2</th>\n",
              "      <td>3/1/2006</td>\n",
              "      <td>11,020</td>\n",
              "      <td>2.9</td>\n",
              "      <td>5.8</td>\n",
              "      <td>33</td>\n",
              "      <td>34</td>\n",
              "      <td>11.3</td>\n",
              "      <td>1.8</td>\n",
              "      <td>3.3</td>\n",
              "      <td>36</td>\n",
              "      <td>29.0</td>\n",
              "      <td>11.7</td>\n",
              "      <td>7.3</td>\n",
              "      <td>12.0</td>\n",
              "      <td>33.0</td>\n",
              "      <td>34.0</td>\n",
              "      <td>12.0</td>\n",
              "    </tr>\n",
              "    <tr>\n",
              "      <th>3</th>\n",
              "      <td>4/1/2006</td>\n",
              "      <td>11,100</td>\n",
              "      <td>8.1</td>\n",
              "      <td>11.2</td>\n",
              "      <td>31</td>\n",
              "      <td>35</td>\n",
              "      <td>33.3</td>\n",
              "      <td>4.1</td>\n",
              "      <td>6.4</td>\n",
              "      <td>34</td>\n",
              "      <td>34.0</td>\n",
              "      <td>27.4</td>\n",
              "      <td>11.7</td>\n",
              "      <td>18.5</td>\n",
              "      <td>31.0</td>\n",
              "      <td>34.0</td>\n",
              "      <td>25.7</td>\n",
              "    </tr>\n",
              "    <tr>\n",
              "      <th>4</th>\n",
              "      <td>5/1/2006</td>\n",
              "      <td>10,630</td>\n",
              "      <td>0.0</td>\n",
              "      <td>12.4</td>\n",
              "      <td>45</td>\n",
              "      <td>46</td>\n",
              "      <td>23.8</td>\n",
              "      <td>0.0</td>\n",
              "      <td>6.9</td>\n",
              "      <td>41</td>\n",
              "      <td>47.0</td>\n",
              "      <td>17.2</td>\n",
              "      <td>0.0</td>\n",
              "      <td>21.0</td>\n",
              "      <td>31.0</td>\n",
              "      <td>50.0</td>\n",
              "      <td>12.6</td>\n",
              "    </tr>\n",
              "  </tbody>\n",
              "</table>\n",
              "</div>\n",
              "      <button class=\"colab-df-convert\" onclick=\"convertToInteractive('df-f6022a30-a420-4bae-adcd-f9fade6f2c03')\"\n",
              "              title=\"Convert this dataframe to an interactive table.\"\n",
              "              style=\"display:none;\">\n",
              "        \n",
              "  <svg xmlns=\"http://www.w3.org/2000/svg\" height=\"24px\"viewBox=\"0 0 24 24\"\n",
              "       width=\"24px\">\n",
              "    <path d=\"M0 0h24v24H0V0z\" fill=\"none\"/>\n",
              "    <path d=\"M18.56 5.44l.94 2.06.94-2.06 2.06-.94-2.06-.94-.94-2.06-.94 2.06-2.06.94zm-11 1L8.5 8.5l.94-2.06 2.06-.94-2.06-.94L8.5 2.5l-.94 2.06-2.06.94zm10 10l.94 2.06.94-2.06 2.06-.94-2.06-.94-.94-2.06-.94 2.06-2.06.94z\"/><path d=\"M17.41 7.96l-1.37-1.37c-.4-.4-.92-.59-1.43-.59-.52 0-1.04.2-1.43.59L10.3 9.45l-7.72 7.72c-.78.78-.78 2.05 0 2.83L4 21.41c.39.39.9.59 1.41.59.51 0 1.02-.2 1.41-.59l7.78-7.78 2.81-2.81c.8-.78.8-2.07 0-2.86zM5.41 20L4 18.59l7.72-7.72 1.47 1.35L5.41 20z\"/>\n",
              "  </svg>\n",
              "      </button>\n",
              "      \n",
              "  <style>\n",
              "    .colab-df-container {\n",
              "      display:flex;\n",
              "      flex-wrap:wrap;\n",
              "      gap: 12px;\n",
              "    }\n",
              "\n",
              "    .colab-df-convert {\n",
              "      background-color: #E8F0FE;\n",
              "      border: none;\n",
              "      border-radius: 50%;\n",
              "      cursor: pointer;\n",
              "      display: none;\n",
              "      fill: #1967D2;\n",
              "      height: 32px;\n",
              "      padding: 0 0 0 0;\n",
              "      width: 32px;\n",
              "    }\n",
              "\n",
              "    .colab-df-convert:hover {\n",
              "      background-color: #E2EBFA;\n",
              "      box-shadow: 0px 1px 2px rgba(60, 64, 67, 0.3), 0px 1px 3px 1px rgba(60, 64, 67, 0.15);\n",
              "      fill: #174EA6;\n",
              "    }\n",
              "\n",
              "    [theme=dark] .colab-df-convert {\n",
              "      background-color: #3B4455;\n",
              "      fill: #D2E3FC;\n",
              "    }\n",
              "\n",
              "    [theme=dark] .colab-df-convert:hover {\n",
              "      background-color: #434B5C;\n",
              "      box-shadow: 0px 1px 3px 1px rgba(0, 0, 0, 0.15);\n",
              "      filter: drop-shadow(0px 1px 2px rgba(0, 0, 0, 0.3));\n",
              "      fill: #FFFFFF;\n",
              "    }\n",
              "  </style>\n",
              "\n",
              "      <script>\n",
              "        const buttonEl =\n",
              "          document.querySelector('#df-f6022a30-a420-4bae-adcd-f9fade6f2c03 button.colab-df-convert');\n",
              "        buttonEl.style.display =\n",
              "          google.colab.kernel.accessAllowed ? 'block' : 'none';\n",
              "\n",
              "        async function convertToInteractive(key) {\n",
              "          const element = document.querySelector('#df-f6022a30-a420-4bae-adcd-f9fade6f2c03');\n",
              "          const dataTable =\n",
              "            await google.colab.kernel.invokeFunction('convertToInteractive',\n",
              "                                                     [key], {});\n",
              "          if (!dataTable) return;\n",
              "\n",
              "          const docLinkHtml = 'Like what you see? Visit the ' +\n",
              "            '<a target=\"_blank\" href=https://colab.research.google.com/notebooks/data_table.ipynb>data table notebook</a>'\n",
              "            + ' to learn more about interactive tables.';\n",
              "          element.innerHTML = '';\n",
              "          dataTable['output_type'] = 'display_data';\n",
              "          await google.colab.output.renderOutput(dataTable, element);\n",
              "          const docLink = document.createElement('div');\n",
              "          docLink.innerHTML = docLinkHtml;\n",
              "          element.appendChild(docLink);\n",
              "        }\n",
              "      </script>\n",
              "    </div>\n",
              "  </div>\n",
              "  "
            ]
          },
          "metadata": {},
          "execution_count": 524
        }
      ]
    },
    {
      "cell_type": "markdown",
      "source": [
        "#Step 5: Visualizing your data"
      ],
      "metadata": {
        "id": "Gs2cRMhEypON"
      }
    },
    {
      "cell_type": "markdown",
      "source": [
        "Lets plot the Soil Temp Observed at a 2 inch depth in Degree Farenheit at the Lasal Mountain observation site. "
      ],
      "metadata": {
        "id": "nqZuOmJbzOCm"
      }
    },
    {
      "cell_type": "code",
      "source": [
        "x_axis = data3[\"Date\"]\n",
        "y_axis = data3[\"LM572_STO_2IN_DEGF\"]"
      ],
      "metadata": {
        "id": "383MyW-Ezdao"
      },
      "execution_count": 525,
      "outputs": []
    },
    {
      "cell_type": "code",
      "source": [
        "plt.plot(x_axis, y_axis)\n",
        "plt.grid(True)\n",
        "plt.title(\"Graph of Soil Temp Observed at a 2 inch depth in Degree Farenheit at the Lasal Mountain observation site\\n\\n\", size = 15)\n",
        "plt.suptitle(\"From 2006-2020\")\n",
        "plt.xlabel(\"Date\")\n",
        "plt.ylabel(\"Soil Temp in DEG F\\n\")\n",
        "\n",
        "positions = [0, 35, 71, 107, 143, 179]\n",
        "pos_list = []\n",
        "\n",
        "for num in positions:\n",
        "  pos_list.append(x_axis.iloc[num])\n",
        "\n",
        "\n",
        "#print(pos_list)\n",
        "plt.xticks(ticks = positions, labels = pos_list, rotation = 'vertical');"
      ],
      "metadata": {
        "colab": {
          "base_uri": "https://localhost:8080/",
          "height": 373
        },
        "id": "ngmKsZ_2yn5i",
        "outputId": "96cef1ff-b425-4c5a-a8fe-9c68f07404d6"
      },
      "execution_count": 526,
      "outputs": [
        {
          "output_type": "display_data",
          "data": {
            "text/plain": [
              "<Figure size 432x288 with 1 Axes>"
            ],
            "image/png": "[encoded data removed]"
          },
          "metadata": {
            "needs_background": "light"
          }
        }
      ]
    },
    {
      "cell_type": "markdown",
      "source": [
        "Now Let's plot Precipitation at Camp Jackson, Lasal Mountain, and East Willow Creek over 15 years"
      ],
      "metadata": {
        "id": "cW6Wn2iO0DAF"
      }
    },
    {
      "cell_type": "code",
      "source": [
        "x = data3[\"Date\"]\n",
        "y1 = data3[\"CJ383_PA_IN\"]\n",
        "y2 = data3[\"EWC461_PA_IN\"]\n",
        "y3 = data3[\"LM572_PA_IN\"]"
      ],
      "metadata": {
        "id": "lFXI6eMW1Mn_"
      },
      "execution_count": 527,
      "outputs": []
    },
    {
      "cell_type": "code",
      "source": [
        "plt.figure(figsize = (10, 7))\n",
        "\n",
        "# Plot 1st line\n",
        "plt.plot(x, y1, 'r', linestyle= 'dashed', label = \"Camp Jackson Precipitation\")\n",
        "\n",
        "# Plot 2nd line\n",
        "plt.plot(x, y2, 'b', label=\"East Willow Creek Precipitation\")\n",
        "\n",
        "# Plot 3rd line\n",
        "plt.plot(x, y3, 'g', linestyle = 'dotted', label='Lasal Mountain Precipitation');\n",
        "\n",
        "plt.title(\"Graph of Precipitation at Camp Jackson, East Willow Creek,\\n and Lasal Mountain SNOTEL Monitoring Sites From 2006-2020\", size = 15)\n",
        "plt.suptitle(\"\")\n",
        "plt.xlabel(\"Date\")\n",
        "plt.ylabel(\"Precipitation in inches\\n\")\n",
        "\n",
        "\n",
        "positions = [15, 45, 75, 105, 135, 165, 179]\n",
        "pos_list = []\n",
        "\n",
        "for num in positions:\n",
        "  pos_list.append(x_axis.iloc[num])\n",
        "\n",
        "plt.legend()\n",
        "#print(pos_list)\n",
        "plt.xticks(ticks = positions, labels = pos_list, rotation = 'vertical');"
      ],
      "metadata": {
        "colab": {
          "base_uri": "https://localhost:8080/",
          "height": 519
        },
        "id": "aqZBJ4DZ2PCG",
        "outputId": "d8e24663-3de1-41de-d955-096b0b26835a"
      },
      "execution_count": 528,
      "outputs": [
        {
          "output_type": "display_data",
          "data": {
            "text/plain": [
              "<Figure size 720x504 with 1 Axes>"
            ],
            "image/png": "[encoded data removed]"
          },
          "metadata": {
            "needs_background": "light"
          }
        }
      ]
    },
    {
      "cell_type": "markdown",
      "source": [
        "#Step 6: Attribute Selection"
      ],
      "metadata": {
        "id": "H6hTmDJM3rdm"
      }
    },
    {
      "cell_type": "code",
      "source": [
        "data_matrix = data3.corr()"
      ],
      "metadata": {
        "id": "mAZ_0vON3tqM"
      },
      "execution_count": 529,
      "outputs": []
    },
    {
      "cell_type": "code",
      "source": [
        "sns.heatmap(data_matrix)"
      ],
      "metadata": {
        "colab": {
          "base_uri": "https://localhost:8080/",
          "height": 399
        },
        "id": "sHND6FFM30Pd",
        "outputId": "1addfd78-177f-40e6-9ca6-8b9ae217dcf8"
      },
      "execution_count": 530,
      "outputs": [
        {
          "output_type": "execute_result",
          "data": {
            "text/plain": [
              "<matplotlib.axes._subplots.AxesSubplot at 0x7fbcbaeab690>"
            ]
          },
          "metadata": {},
          "execution_count": 530
        },
        {
          "output_type": "display_data",
          "data": {
            "text/plain": [
              "<Figure size 432x288 with 2 Axes>"
            ],
            "image/png": "[encoded data removed]"
          },
          "metadata": {
            "needs_background": "light"
          }
        }
      ]
    },
    {
      "cell_type": "markdown",
      "source": [
        "So this is a heatmap of all 5 climate variables from each of the 3 SNOTEL sites (15 attributes total). Let's look at all of the Snow Water Equivalent in inches across our 3 sites to see if they correlate to one another above 95%, as this is the threshold for redundancies among attributes."
      ],
      "metadata": {
        "id": "jPLM2ThhS_PG"
      }
    },
    {
      "cell_type": "markdown",
      "source": [
        "The above heatmap substantiates our investigation and removal of redundant variables. The lighter boxes indicate a very high correlation, and their uniform distribute is also a telling sign that your attributes have variables that are being over accounted for in your model. Drawing us back to our main goal: we will select the attributes with the highest correlation to DC_Inflow out of 3 stations, or select a combination of attributes if different station features show high correlation rates at differing sites. For example, if CJ383_SWE_IN, or Camp Jackson's Snow Water Equivalent (inches), is the attribute had the highest correlation among the sites with DC_Inflow, but Camp Jackson's Soil Temperature Observered at 2in Depth, in Degrees F (CJ393_STO_2IN_DEGF) is least correlated with DC_Inflow among the three recorded Soil Temperature, then we can select a Soil Temperature Observed attribute from a different station that has a higher correlation with our variable of interest (DC_Inflow). "
      ],
      "metadata": {
        "id": "KM4TKt6Od8qf"
      }
    },
    {
      "cell_type": "code",
      "source": [
        "new_attribs = data3[[\"Date\", \"DC_Inflow\", \"CJ383_SWE_IN\", \"EWC461_SWE_IN\", \"LM572_SWE_IN\"]].copy()"
      ],
      "metadata": {
        "id": "k_ZhzW-o4Dci"
      },
      "execution_count": 531,
      "outputs": []
    },
    {
      "cell_type": "code",
      "source": [
        "cor_matrix_3 = new_attribs.corr()"
      ],
      "metadata": {
        "id": "jqy72UPj5vLy"
      },
      "execution_count": 532,
      "outputs": []
    },
    {
      "cell_type": "code",
      "source": [
        "new_attribs.head()"
      ],
      "metadata": {
        "colab": {
          "base_uri": "https://localhost:8080/",
          "height": 206
        },
        "id": "xp23G2rHAROl",
        "outputId": "eae9c7f4-a04f-44e8-df7a-da29bebc5fa4"
      },
      "execution_count": 533,
      "outputs": [
        {
          "output_type": "execute_result",
          "data": {
            "text/plain": [
              "       Date DC_Inflow  CJ383_SWE_IN  EWC461_SWE_IN  LM572_SWE_IN\n",
              "0  1/1/2006    13,970           0.8            0.9           3.8\n",
              "1  2/1/2006    15,450           2.8            1.8           6.8\n",
              "2  3/1/2006    11,020           2.9            1.8           7.3\n",
              "3  4/1/2006    11,100           8.1            4.1          11.7\n",
              "4  5/1/2006    10,630           0.0            0.0           0.0"
            ],
            "text/html": [
              "\n",
              "  <div id=\"df-bcb6ff11-bdd4-4a18-833f-5c50952a22d8\">\n",
              "    <div class=\"colab-df-container\">\n",
              "      <div>\n",
              "<style scoped>\n",
              "    .dataframe tbody tr th:only-of-type {\n",
              "        vertical-align: middle;\n",
              "    }\n",
              "\n",
              "    .dataframe tbody tr th {\n",
              "        vertical-align: top;\n",
              "    }\n",
              "\n",
              "    .dataframe thead th {\n",
              "        text-align: right;\n",
              "    }\n",
              "</style>\n",
              "<table border=\"1\" class=\"dataframe\">\n",
              "  <thead>\n",
              "    <tr style=\"text-align: right;\">\n",
              "      <th></th>\n",
              "      <th>Date</th>\n",
              "      <th>DC_Inflow</th>\n",
              "      <th>CJ383_SWE_IN</th>\n",
              "      <th>EWC461_SWE_IN</th>\n",
              "      <th>LM572_SWE_IN</th>\n",
              "    </tr>\n",
              "  </thead>\n",
              "  <tbody>\n",
              "    <tr>\n",
              "      <th>0</th>\n",
              "      <td>1/1/2006</td>\n",
              "      <td>13,970</td>\n",
              "      <td>0.8</td>\n",
              "      <td>0.9</td>\n",
              "      <td>3.8</td>\n",
              "    </tr>\n",
              "    <tr>\n",
              "      <th>1</th>\n",
              "      <td>2/1/2006</td>\n",
              "      <td>15,450</td>\n",
              "      <td>2.8</td>\n",
              "      <td>1.8</td>\n",
              "      <td>6.8</td>\n",
              "    </tr>\n",
              "    <tr>\n",
              "      <th>2</th>\n",
              "      <td>3/1/2006</td>\n",
              "      <td>11,020</td>\n",
              "      <td>2.9</td>\n",
              "      <td>1.8</td>\n",
              "      <td>7.3</td>\n",
              "    </tr>\n",
              "    <tr>\n",
              "      <th>3</th>\n",
              "      <td>4/1/2006</td>\n",
              "      <td>11,100</td>\n",
              "      <td>8.1</td>\n",
              "      <td>4.1</td>\n",
              "      <td>11.7</td>\n",
              "    </tr>\n",
              "    <tr>\n",
              "      <th>4</th>\n",
              "      <td>5/1/2006</td>\n",
              "      <td>10,630</td>\n",
              "      <td>0.0</td>\n",
              "      <td>0.0</td>\n",
              "      <td>0.0</td>\n",
              "    </tr>\n",
              "  </tbody>\n",
              "</table>\n",
              "</div>\n",
              "      <button class=\"colab-df-convert\" onclick=\"convertToInteractive('df-bcb6ff11-bdd4-4a18-833f-5c50952a22d8')\"\n",
              "              title=\"Convert this dataframe to an interactive table.\"\n",
              "              style=\"display:none;\">\n",
              "        \n",
              "  <svg xmlns=\"http://www.w3.org/2000/svg\" height=\"24px\"viewBox=\"0 0 24 24\"\n",
              "       width=\"24px\">\n",
              "    <path d=\"M0 0h24v24H0V0z\" fill=\"none\"/>\n",
              "    <path d=\"M18.56 5.44l.94 2.06.94-2.06 2.06-.94-2.06-.94-.94-2.06-.94 2.06-2.06.94zm-11 1L8.5 8.5l.94-2.06 2.06-.94-2.06-.94L8.5 2.5l-.94 2.06-2.06.94zm10 10l.94 2.06.94-2.06 2.06-.94-2.06-.94-.94-2.06-.94 2.06-2.06.94z\"/><path d=\"M17.41 7.96l-1.37-1.37c-.4-.4-.92-.59-1.43-.59-.52 0-1.04.2-1.43.59L10.3 9.45l-7.72 7.72c-.78.78-.78 2.05 0 2.83L4 21.41c.39.39.9.59 1.41.59.51 0 1.02-.2 1.41-.59l7.78-7.78 2.81-2.81c.8-.78.8-2.07 0-2.86zM5.41 20L4 18.59l7.72-7.72 1.47 1.35L5.41 20z\"/>\n",
              "  </svg>\n",
              "      </button>\n",
              "      \n",
              "  <style>\n",
              "    .colab-df-container {\n",
              "      display:flex;\n",
              "      flex-wrap:wrap;\n",
              "      gap: 12px;\n",
              "    }\n",
              "\n",
              "    .colab-df-convert {\n",
              "      background-color: #E8F0FE;\n",
              "      border: none;\n",
              "      border-radius: 50%;\n",
              "      cursor: pointer;\n",
              "      display: none;\n",
              "      fill: #1967D2;\n",
              "      height: 32px;\n",
              "      padding: 0 0 0 0;\n",
              "      width: 32px;\n",
              "    }\n",
              "\n",
              "    .colab-df-convert:hover {\n",
              "      background-color: #E2EBFA;\n",
              "      box-shadow: 0px 1px 2px rgba(60, 64, 67, 0.3), 0px 1px 3px 1px rgba(60, 64, 67, 0.15);\n",
              "      fill: #174EA6;\n",
              "    }\n",
              "\n",
              "    [theme=dark] .colab-df-convert {\n",
              "      background-color: #3B4455;\n",
              "      fill: #D2E3FC;\n",
              "    }\n",
              "\n",
              "    [theme=dark] .colab-df-convert:hover {\n",
              "      background-color: #434B5C;\n",
              "      box-shadow: 0px 1px 3px 1px rgba(0, 0, 0, 0.15);\n",
              "      filter: drop-shadow(0px 1px 2px rgba(0, 0, 0, 0.3));\n",
              "      fill: #FFFFFF;\n",
              "    }\n",
              "  </style>\n",
              "\n",
              "      <script>\n",
              "        const buttonEl =\n",
              "          document.querySelector('#df-bcb6ff11-bdd4-4a18-833f-5c50952a22d8 button.colab-df-convert');\n",
              "        buttonEl.style.display =\n",
              "          google.colab.kernel.accessAllowed ? 'block' : 'none';\n",
              "\n",
              "        async function convertToInteractive(key) {\n",
              "          const element = document.querySelector('#df-bcb6ff11-bdd4-4a18-833f-5c50952a22d8');\n",
              "          const dataTable =\n",
              "            await google.colab.kernel.invokeFunction('convertToInteractive',\n",
              "                                                     [key], {});\n",
              "          if (!dataTable) return;\n",
              "\n",
              "          const docLinkHtml = 'Like what you see? Visit the ' +\n",
              "            '<a target=\"_blank\" href=https://colab.research.google.com/notebooks/data_table.ipynb>data table notebook</a>'\n",
              "            + ' to learn more about interactive tables.';\n",
              "          element.innerHTML = '';\n",
              "          dataTable['output_type'] = 'display_data';\n",
              "          await google.colab.output.renderOutput(dataTable, element);\n",
              "          const docLink = document.createElement('div');\n",
              "          docLink.innerHTML = docLinkHtml;\n",
              "          element.appendChild(docLink);\n",
              "        }\n",
              "      </script>\n",
              "    </div>\n",
              "  </div>\n",
              "  "
            ]
          },
          "metadata": {},
          "execution_count": 533
        }
      ]
    },
    {
      "cell_type": "code",
      "source": [
        "sns.heatmap(cor_matrix_3)"
      ],
      "metadata": {
        "colab": {
          "base_uri": "https://localhost:8080/",
          "height": 288
        },
        "id": "a8Zg53sIACwW",
        "outputId": "4df1d1f0-9ee2-42e8-e752-4e0bc5834dd7"
      },
      "execution_count": 534,
      "outputs": [
        {
          "output_type": "execute_result",
          "data": {
            "text/plain": [
              "<matplotlib.axes._subplots.AxesSubplot at 0x7fbcbada7a50>"
            ]
          },
          "metadata": {},
          "execution_count": 534
        },
        {
          "output_type": "display_data",
          "data": {
            "text/plain": [
              "<Figure size 432x288 with 2 Axes>"
            ],
            "image/png": "[encoded data removed]"
          },
          "metadata": {
            "needs_background": "light"
          }
        }
      ]
    },
    {
      "cell_type": "markdown",
      "source": [
        "The reason DC_Inflow wasn't showing up is because our DC_Inflow data has a comma in it and our program doesn't like that. Lets remove it. "
      ],
      "metadata": {
        "id": "13D9BSspAWLl"
      }
    },
    {
      "cell_type": "markdown",
      "source": [
        "#Step 7: More Data Manipulation"
      ],
      "metadata": {
        "id": "P4MT9bSPQTQE"
      }
    },
    {
      "cell_type": "code",
      "source": [
        "new_attribs.replace(',','', regex=True, inplace=True)"
      ],
      "metadata": {
        "id": "J4y5b9xGADR0"
      },
      "execution_count": 535,
      "outputs": []
    },
    {
      "cell_type": "code",
      "source": [
        "new_attribs.head()"
      ],
      "metadata": {
        "colab": {
          "base_uri": "https://localhost:8080/",
          "height": 206
        },
        "id": "kqWjWYqIBO23",
        "outputId": "5918131e-df66-43bf-e2a1-f52c415c2fe1"
      },
      "execution_count": 536,
      "outputs": [
        {
          "output_type": "execute_result",
          "data": {
            "text/plain": [
              "       Date DC_Inflow  CJ383_SWE_IN  EWC461_SWE_IN  LM572_SWE_IN\n",
              "0  1/1/2006     13970           0.8            0.9           3.8\n",
              "1  2/1/2006     15450           2.8            1.8           6.8\n",
              "2  3/1/2006     11020           2.9            1.8           7.3\n",
              "3  4/1/2006     11100           8.1            4.1          11.7\n",
              "4  5/1/2006     10630           0.0            0.0           0.0"
            ],
            "text/html": [
              "\n",
              "  <div id=\"df-66756c33-5c13-4c60-8d59-8e2defba979f\">\n",
              "    <div class=\"colab-df-container\">\n",
              "      <div>\n",
              "<style scoped>\n",
              "    .dataframe tbody tr th:only-of-type {\n",
              "        vertical-align: middle;\n",
              "    }\n",
              "\n",
              "    .dataframe tbody tr th {\n",
              "        vertical-align: top;\n",
              "    }\n",
              "\n",
              "    .dataframe thead th {\n",
              "        text-align: right;\n",
              "    }\n",
              "</style>\n",
              "<table border=\"1\" class=\"dataframe\">\n",
              "  <thead>\n",
              "    <tr style=\"text-align: right;\">\n",
              "      <th></th>\n",
              "      <th>Date</th>\n",
              "      <th>DC_Inflow</th>\n",
              "      <th>CJ383_SWE_IN</th>\n",
              "      <th>EWC461_SWE_IN</th>\n",
              "      <th>LM572_SWE_IN</th>\n",
              "    </tr>\n",
              "  </thead>\n",
              "  <tbody>\n",
              "    <tr>\n",
              "      <th>0</th>\n",
              "      <td>1/1/2006</td>\n",
              "      <td>13970</td>\n",
              "      <td>0.8</td>\n",
              "      <td>0.9</td>\n",
              "      <td>3.8</td>\n",
              "    </tr>\n",
              "    <tr>\n",
              "      <th>1</th>\n",
              "      <td>2/1/2006</td>\n",
              "      <td>15450</td>\n",
              "      <td>2.8</td>\n",
              "      <td>1.8</td>\n",
              "      <td>6.8</td>\n",
              "    </tr>\n",
              "    <tr>\n",
              "      <th>2</th>\n",
              "      <td>3/1/2006</td>\n",
              "      <td>11020</td>\n",
              "      <td>2.9</td>\n",
              "      <td>1.8</td>\n",
              "      <td>7.3</td>\n",
              "    </tr>\n",
              "    <tr>\n",
              "      <th>3</th>\n",
              "      <td>4/1/2006</td>\n",
              "      <td>11100</td>\n",
              "      <td>8.1</td>\n",
              "      <td>4.1</td>\n",
              "      <td>11.7</td>\n",
              "    </tr>\n",
              "    <tr>\n",
              "      <th>4</th>\n",
              "      <td>5/1/2006</td>\n",
              "      <td>10630</td>\n",
              "      <td>0.0</td>\n",
              "      <td>0.0</td>\n",
              "      <td>0.0</td>\n",
              "    </tr>\n",
              "  </tbody>\n",
              "</table>\n",
              "</div>\n",
              "      <button class=\"colab-df-convert\" onclick=\"convertToInteractive('df-66756c33-5c13-4c60-8d59-8e2defba979f')\"\n",
              "              title=\"Convert this dataframe to an interactive table.\"\n",
              "              style=\"display:none;\">\n",
              "        \n",
              "  <svg xmlns=\"http://www.w3.org/2000/svg\" height=\"24px\"viewBox=\"0 0 24 24\"\n",
              "       width=\"24px\">\n",
              "    <path d=\"M0 0h24v24H0V0z\" fill=\"none\"/>\n",
              "    <path d=\"M18.56 5.44l.94 2.06.94-2.06 2.06-.94-2.06-.94-.94-2.06-.94 2.06-2.06.94zm-11 1L8.5 8.5l.94-2.06 2.06-.94-2.06-.94L8.5 2.5l-.94 2.06-2.06.94zm10 10l.94 2.06.94-2.06 2.06-.94-2.06-.94-.94-2.06-.94 2.06-2.06.94z\"/><path d=\"M17.41 7.96l-1.37-1.37c-.4-.4-.92-.59-1.43-.59-.52 0-1.04.2-1.43.59L10.3 9.45l-7.72 7.72c-.78.78-.78 2.05 0 2.83L4 21.41c.39.39.9.59 1.41.59.51 0 1.02-.2 1.41-.59l7.78-7.78 2.81-2.81c.8-.78.8-2.07 0-2.86zM5.41 20L4 18.59l7.72-7.72 1.47 1.35L5.41 20z\"/>\n",
              "  </svg>\n",
              "      </button>\n",
              "      \n",
              "  <style>\n",
              "    .colab-df-container {\n",
              "      display:flex;\n",
              "      flex-wrap:wrap;\n",
              "      gap: 12px;\n",
              "    }\n",
              "\n",
              "    .colab-df-convert {\n",
              "      background-color: #E8F0FE;\n",
              "      border: none;\n",
              "      border-radius: 50%;\n",
              "      cursor: pointer;\n",
              "      display: none;\n",
              "      fill: #1967D2;\n",
              "      height: 32px;\n",
              "      padding: 0 0 0 0;\n",
              "      width: 32px;\n",
              "    }\n",
              "\n",
              "    .colab-df-convert:hover {\n",
              "      background-color: #E2EBFA;\n",
              "      box-shadow: 0px 1px 2px rgba(60, 64, 67, 0.3), 0px 1px 3px 1px rgba(60, 64, 67, 0.15);\n",
              "      fill: #174EA6;\n",
              "    }\n",
              "\n",
              "    [theme=dark] .colab-df-convert {\n",
              "      background-color: #3B4455;\n",
              "      fill: #D2E3FC;\n",
              "    }\n",
              "\n",
              "    [theme=dark] .colab-df-convert:hover {\n",
              "      background-color: #434B5C;\n",
              "      box-shadow: 0px 1px 3px 1px rgba(0, 0, 0, 0.15);\n",
              "      filter: drop-shadow(0px 1px 2px rgba(0, 0, 0, 0.3));\n",
              "      fill: #FFFFFF;\n",
              "    }\n",
              "  </style>\n",
              "\n",
              "      <script>\n",
              "        const buttonEl =\n",
              "          document.querySelector('#df-66756c33-5c13-4c60-8d59-8e2defba979f button.colab-df-convert');\n",
              "        buttonEl.style.display =\n",
              "          google.colab.kernel.accessAllowed ? 'block' : 'none';\n",
              "\n",
              "        async function convertToInteractive(key) {\n",
              "          const element = document.querySelector('#df-66756c33-5c13-4c60-8d59-8e2defba979f');\n",
              "          const dataTable =\n",
              "            await google.colab.kernel.invokeFunction('convertToInteractive',\n",
              "                                                     [key], {});\n",
              "          if (!dataTable) return;\n",
              "\n",
              "          const docLinkHtml = 'Like what you see? Visit the ' +\n",
              "            '<a target=\"_blank\" href=https://colab.research.google.com/notebooks/data_table.ipynb>data table notebook</a>'\n",
              "            + ' to learn more about interactive tables.';\n",
              "          element.innerHTML = '';\n",
              "          dataTable['output_type'] = 'display_data';\n",
              "          await google.colab.output.renderOutput(dataTable, element);\n",
              "          const docLink = document.createElement('div');\n",
              "          docLink.innerHTML = docLinkHtml;\n",
              "          element.appendChild(docLink);\n",
              "        }\n",
              "      </script>\n",
              "    </div>\n",
              "  </div>\n",
              "  "
            ]
          },
          "metadata": {},
          "execution_count": 536
        }
      ]
    },
    {
      "cell_type": "markdown",
      "source": [
        "All occurences of the , in the DC_Inflow column are now removed."
      ],
      "metadata": {
        "id": "y2YRKCFuBRhQ"
      }
    },
    {
      "cell_type": "markdown",
      "source": [
        "The rest of our data is a float data type, so we should convert DC_Inflow to a float as well. "
      ],
      "metadata": {
        "id": "nHv6jksOCCbe"
      }
    },
    {
      "cell_type": "code",
      "source": [
        "new_attribs[\"DC_Inflow\"] = pd.to_numeric(new_attribs[\"DC_Inflow\"], downcast=\"float\")"
      ],
      "metadata": {
        "id": "ohgM_oyiCI-G"
      },
      "execution_count": 537,
      "outputs": []
    },
    {
      "cell_type": "code",
      "source": [
        "new_attribs.head()"
      ],
      "metadata": {
        "colab": {
          "base_uri": "https://localhost:8080/",
          "height": 206
        },
        "id": "Hk-ZXyPaCQiW",
        "outputId": "43552f7f-6cb6-4a45-8e20-89b45bf3d02b"
      },
      "execution_count": 538,
      "outputs": [
        {
          "output_type": "execute_result",
          "data": {
            "text/plain": [
              "       Date  DC_Inflow  CJ383_SWE_IN  EWC461_SWE_IN  LM572_SWE_IN\n",
              "0  1/1/2006    13970.0           0.8            0.9           3.8\n",
              "1  2/1/2006    15450.0           2.8            1.8           6.8\n",
              "2  3/1/2006    11020.0           2.9            1.8           7.3\n",
              "3  4/1/2006    11100.0           8.1            4.1          11.7\n",
              "4  5/1/2006    10630.0           0.0            0.0           0.0"
            ],
            "text/html": [
              "\n",
              "  <div id=\"df-0e28eba3-e4f2-4eb8-86db-f2455d63f6b2\">\n",
              "    <div class=\"colab-df-container\">\n",
              "      <div>\n",
              "<style scoped>\n",
              "    .dataframe tbody tr th:only-of-type {\n",
              "        vertical-align: middle;\n",
              "    }\n",
              "\n",
              "    .dataframe tbody tr th {\n",
              "        vertical-align: top;\n",
              "    }\n",
              "\n",
              "    .dataframe thead th {\n",
              "        text-align: right;\n",
              "    }\n",
              "</style>\n",
              "<table border=\"1\" class=\"dataframe\">\n",
              "  <thead>\n",
              "    <tr style=\"text-align: right;\">\n",
              "      <th></th>\n",
              "      <th>Date</th>\n",
              "      <th>DC_Inflow</th>\n",
              "      <th>CJ383_SWE_IN</th>\n",
              "      <th>EWC461_SWE_IN</th>\n",
              "      <th>LM572_SWE_IN</th>\n",
              "    </tr>\n",
              "  </thead>\n",
              "  <tbody>\n",
              "    <tr>\n",
              "      <th>0</th>\n",
              "      <td>1/1/2006</td>\n",
              "      <td>13970.0</td>\n",
              "      <td>0.8</td>\n",
              "      <td>0.9</td>\n",
              "      <td>3.8</td>\n",
              "    </tr>\n",
              "    <tr>\n",
              "      <th>1</th>\n",
              "      <td>2/1/2006</td>\n",
              "      <td>15450.0</td>\n",
              "      <td>2.8</td>\n",
              "      <td>1.8</td>\n",
              "      <td>6.8</td>\n",
              "    </tr>\n",
              "    <tr>\n",
              "      <th>2</th>\n",
              "      <td>3/1/2006</td>\n",
              "      <td>11020.0</td>\n",
              "      <td>2.9</td>\n",
              "      <td>1.8</td>\n",
              "      <td>7.3</td>\n",
              "    </tr>\n",
              "    <tr>\n",
              "      <th>3</th>\n",
              "      <td>4/1/2006</td>\n",
              "      <td>11100.0</td>\n",
              "      <td>8.1</td>\n",
              "      <td>4.1</td>\n",
              "      <td>11.7</td>\n",
              "    </tr>\n",
              "    <tr>\n",
              "      <th>4</th>\n",
              "      <td>5/1/2006</td>\n",
              "      <td>10630.0</td>\n",
              "      <td>0.0</td>\n",
              "      <td>0.0</td>\n",
              "      <td>0.0</td>\n",
              "    </tr>\n",
              "  </tbody>\n",
              "</table>\n",
              "</div>\n",
              "      <button class=\"colab-df-convert\" onclick=\"convertToInteractive('df-0e28eba3-e4f2-4eb8-86db-f2455d63f6b2')\"\n",
              "              title=\"Convert this dataframe to an interactive table.\"\n",
              "              style=\"display:none;\">\n",
              "        \n",
              "  <svg xmlns=\"http://www.w3.org/2000/svg\" height=\"24px\"viewBox=\"0 0 24 24\"\n",
              "       width=\"24px\">\n",
              "    <path d=\"M0 0h24v24H0V0z\" fill=\"none\"/>\n",
              "    <path d=\"M18.56 5.44l.94 2.06.94-2.06 2.06-.94-2.06-.94-.94-2.06-.94 2.06-2.06.94zm-11 1L8.5 8.5l.94-2.06 2.06-.94-2.06-.94L8.5 2.5l-.94 2.06-2.06.94zm10 10l.94 2.06.94-2.06 2.06-.94-2.06-.94-.94-2.06-.94 2.06-2.06.94z\"/><path d=\"M17.41 7.96l-1.37-1.37c-.4-.4-.92-.59-1.43-.59-.52 0-1.04.2-1.43.59L10.3 9.45l-7.72 7.72c-.78.78-.78 2.05 0 2.83L4 21.41c.39.39.9.59 1.41.59.51 0 1.02-.2 1.41-.59l7.78-7.78 2.81-2.81c.8-.78.8-2.07 0-2.86zM5.41 20L4 18.59l7.72-7.72 1.47 1.35L5.41 20z\"/>\n",
              "  </svg>\n",
              "      </button>\n",
              "      \n",
              "  <style>\n",
              "    .colab-df-container {\n",
              "      display:flex;\n",
              "      flex-wrap:wrap;\n",
              "      gap: 12px;\n",
              "    }\n",
              "\n",
              "    .colab-df-convert {\n",
              "      background-color: #E8F0FE;\n",
              "      border: none;\n",
              "      border-radius: 50%;\n",
              "      cursor: pointer;\n",
              "      display: none;\n",
              "      fill: #1967D2;\n",
              "      height: 32px;\n",
              "      padding: 0 0 0 0;\n",
              "      width: 32px;\n",
              "    }\n",
              "\n",
              "    .colab-df-convert:hover {\n",
              "      background-color: #E2EBFA;\n",
              "      box-shadow: 0px 1px 2px rgba(60, 64, 67, 0.3), 0px 1px 3px 1px rgba(60, 64, 67, 0.15);\n",
              "      fill: #174EA6;\n",
              "    }\n",
              "\n",
              "    [theme=dark] .colab-df-convert {\n",
              "      background-color: #3B4455;\n",
              "      fill: #D2E3FC;\n",
              "    }\n",
              "\n",
              "    [theme=dark] .colab-df-convert:hover {\n",
              "      background-color: #434B5C;\n",
              "      box-shadow: 0px 1px 3px 1px rgba(0, 0, 0, 0.15);\n",
              "      filter: drop-shadow(0px 1px 2px rgba(0, 0, 0, 0.3));\n",
              "      fill: #FFFFFF;\n",
              "    }\n",
              "  </style>\n",
              "\n",
              "      <script>\n",
              "        const buttonEl =\n",
              "          document.querySelector('#df-0e28eba3-e4f2-4eb8-86db-f2455d63f6b2 button.colab-df-convert');\n",
              "        buttonEl.style.display =\n",
              "          google.colab.kernel.accessAllowed ? 'block' : 'none';\n",
              "\n",
              "        async function convertToInteractive(key) {\n",
              "          const element = document.querySelector('#df-0e28eba3-e4f2-4eb8-86db-f2455d63f6b2');\n",
              "          const dataTable =\n",
              "            await google.colab.kernel.invokeFunction('convertToInteractive',\n",
              "                                                     [key], {});\n",
              "          if (!dataTable) return;\n",
              "\n",
              "          const docLinkHtml = 'Like what you see? Visit the ' +\n",
              "            '<a target=\"_blank\" href=https://colab.research.google.com/notebooks/data_table.ipynb>data table notebook</a>'\n",
              "            + ' to learn more about interactive tables.';\n",
              "          element.innerHTML = '';\n",
              "          dataTable['output_type'] = 'display_data';\n",
              "          await google.colab.output.renderOutput(dataTable, element);\n",
              "          const docLink = document.createElement('div');\n",
              "          docLink.innerHTML = docLinkHtml;\n",
              "          element.appendChild(docLink);\n",
              "        }\n",
              "      </script>\n",
              "    </div>\n",
              "  </div>\n",
              "  "
            ]
          },
          "metadata": {},
          "execution_count": 538
        }
      ]
    },
    {
      "cell_type": "markdown",
      "source": [
        "Okay, everything we needed to fix in this dataset should be good for further analyses"
      ],
      "metadata": {
        "id": "lwCv2kdPCSfX"
      }
    },
    {
      "cell_type": "markdown",
      "source": [
        "#Step 8: More heatmaps"
      ],
      "metadata": {
        "id": "NWUkGf34VX0P"
      }
    },
    {
      "cell_type": "markdown",
      "source": [
        "Lets try our correlation coefficient heatmap again. "
      ],
      "metadata": {
        "id": "bL9oWpr3Bj5N"
      }
    },
    {
      "cell_type": "code",
      "source": [
        "another_corr_matrix = new_attribs.corr()"
      ],
      "metadata": {
        "id": "h7UEFlJPBQCS"
      },
      "execution_count": 539,
      "outputs": []
    },
    {
      "cell_type": "code",
      "source": [
        "sns.heatmap(another_corr_matrix)"
      ],
      "metadata": {
        "colab": {
          "base_uri": "https://localhost:8080/",
          "height": 363
        },
        "id": "QSDB8lIyBpVw",
        "outputId": "c4c96fd0-6145-4a91-ac0a-5ef6588a0878"
      },
      "execution_count": 540,
      "outputs": [
        {
          "output_type": "execute_result",
          "data": {
            "text/plain": [
              "<matplotlib.axes._subplots.AxesSubplot at 0x7fbcbacdbb90>"
            ]
          },
          "metadata": {},
          "execution_count": 540
        },
        {
          "output_type": "display_data",
          "data": {
            "text/plain": [
              "<Figure size 432x288 with 2 Axes>"
            ],
            "image/png": "[encoded data removed]"
          },
          "metadata": {
            "needs_background": "light"
          }
        }
      ]
    },
    {
      "cell_type": "markdown",
      "source": [
        "DC Inflow is not highly correlated to SWE in any sites, but the SWE of each site has a high correlation to one another. "
      ],
      "metadata": {
        "id": "ByIvAXl7TcXg"
      }
    },
    {
      "cell_type": "code",
      "source": [
        "print(another_corr_matrix)"
      ],
      "metadata": {
        "colab": {
          "base_uri": "https://localhost:8080/"
        },
        "id": "RQqPzEKHCjV2",
        "outputId": "23a9e144-000e-45c8-f62d-5a7ca3ca66c9"
      },
      "execution_count": 541,
      "outputs": [
        {
          "output_type": "stream",
          "name": "stdout",
          "text": [
            "               DC_Inflow  CJ383_SWE_IN  EWC461_SWE_IN  LM572_SWE_IN\n",
            "DC_Inflow       1.000000     -0.000690       0.031455     -0.014039\n",
            "CJ383_SWE_IN   -0.000690      1.000000       0.961634      0.895354\n",
            "EWC461_SWE_IN   0.031455      0.961634       1.000000      0.897485\n",
            "LM572_SWE_IN   -0.014039      0.895354       0.897485      1.000000\n"
          ]
        }
      ]
    },
    {
      "cell_type": "code",
      "source": [
        "corr_matrix3 = another_corr_matrix[\"DC_Inflow\"].sort_values(ascending=False) \n",
        "\n",
        "print(corr_matrix3)"
      ],
      "metadata": {
        "colab": {
          "base_uri": "https://localhost:8080/"
        },
        "id": "6Rzj2Je4Czuw",
        "outputId": "bb171be2-4068-4eba-fed6-06a38148a4f3"
      },
      "execution_count": 542,
      "outputs": [
        {
          "output_type": "stream",
          "name": "stdout",
          "text": [
            "DC_Inflow        1.000000\n",
            "EWC461_SWE_IN    0.031455\n",
            "CJ383_SWE_IN    -0.000690\n",
            "LM572_SWE_IN    -0.014039\n",
            "Name: DC_Inflow, dtype: float64\n"
          ]
        }
      ]
    },
    {
      "cell_type": "markdown",
      "source": [
        "These three stations have a negative correlation when compared with DC_Inflow. The highest absolute value coming from the East Willow Creek Snow Water Equivalent IN. Lets see how our other variables like soil moisture and temp compare."
      ],
      "metadata": {
        "id": "Ivc4hlN4DRp-"
      }
    },
    {
      "cell_type": "markdown",
      "source": [
        "For this, we will revist our main dataset in the data3 variable. Lets do the same cleaning methods we did for DC_Inflow like removing commas and changing the dtype to float. "
      ],
      "metadata": {
        "id": "DpuMlucGDr9l"
      }
    },
    {
      "cell_type": "code",
      "source": [
        "data3.head()"
      ],
      "metadata": {
        "colab": {
          "base_uri": "https://localhost:8080/",
          "height": 270
        },
        "id": "wpjwAJGvD5pO",
        "outputId": "c502e938-ee30-479b-8a35-2d5e6b1fc2c6"
      },
      "execution_count": 543,
      "outputs": [
        {
          "output_type": "execute_result",
          "data": {
            "text/plain": [
              "       Date DC_Inflow  CJ383_SWE_IN  CJ383_PA_IN  CJ383_ATO_DEGF  \\\n",
              "0  1/1/2006    13,970           0.8          3.8              29   \n",
              "1  2/1/2006    15,450           2.8          5.3              27   \n",
              "2  3/1/2006    11,020           2.9          5.8              33   \n",
              "3  4/1/2006    11,100           8.1         11.2              31   \n",
              "4  5/1/2006    10,630           0.0         12.4              45   \n",
              "\n",
              "   CJ383_STO_2IN_DEGF  CJ383_SMP_2IN_PCT  EWC461_SWE_IN  EWC461_PA_IN  \\\n",
              "0                  33                9.0            0.9           2.0   \n",
              "1                  33                9.2            1.8           3.0   \n",
              "2                  34               11.3            1.8           3.3   \n",
              "3                  35               33.3            4.1           6.4   \n",
              "4                  46               23.8            0.0           6.9   \n",
              "\n",
              "   EWC461_ATO_DEGF  EWC461_STO_2IN_DEGF  EWC461_SMP_2IN_PCT  LM572_SWE_IN  \\\n",
              "0               31                  NaN                 NaN           3.8   \n",
              "1               25                 22.0                 7.4           6.8   \n",
              "2               36                 29.0                11.7           7.3   \n",
              "3               34                 34.0                27.4          11.7   \n",
              "4               41                 47.0                17.2           0.0   \n",
              "\n",
              "   LM572_PA_IN  LM572_ATO_2IN_DEGF  LM572_STO_2IN_DEGF  LM572_SMP_2IN_PCT  \n",
              "0          7.5                28.0                34.0                5.1  \n",
              "1         10.8                22.0                34.0                6.0  \n",
              "2         12.0                33.0                34.0               12.0  \n",
              "3         18.5                31.0                34.0               25.7  \n",
              "4         21.0                31.0                50.0               12.6  "
            ],
            "text/html": [
              "\n",
              "  <div id=\"df-e549e637-66e4-4b98-8268-741e51794c1d\">\n",
              "    <div class=\"colab-df-container\">\n",
              "      <div>\n",
              "<style scoped>\n",
              "    .dataframe tbody tr th:only-of-type {\n",
              "        vertical-align: middle;\n",
              "    }\n",
              "\n",
              "    .dataframe tbody tr th {\n",
              "        vertical-align: top;\n",
              "    }\n",
              "\n",
              "    .dataframe thead th {\n",
              "        text-align: right;\n",
              "    }\n",
              "</style>\n",
              "<table border=\"1\" class=\"dataframe\">\n",
              "  <thead>\n",
              "    <tr style=\"text-align: right;\">\n",
              "      <th></th>\n",
              "      <th>Date</th>\n",
              "      <th>DC_Inflow</th>\n",
              "      <th>CJ383_SWE_IN</th>\n",
              "      <th>CJ383_PA_IN</th>\n",
              "      <th>CJ383_ATO_DEGF</th>\n",
              "      <th>CJ383_STO_2IN_DEGF</th>\n",
              "      <th>CJ383_SMP_2IN_PCT</th>\n",
              "      <th>EWC461_SWE_IN</th>\n",
              "      <th>EWC461_PA_IN</th>\n",
              "      <th>EWC461_ATO_DEGF</th>\n",
              "      <th>EWC461_STO_2IN_DEGF</th>\n",
              "      <th>EWC461_SMP_2IN_PCT</th>\n",
              "      <th>LM572_SWE_IN</th>\n",
              "      <th>LM572_PA_IN</th>\n",
              "      <th>LM572_ATO_2IN_DEGF</th>\n",
              "      <th>LM572_STO_2IN_DEGF</th>\n",
              "      <th>LM572_SMP_2IN_PCT</th>\n",
              "    </tr>\n",
              "  </thead>\n",
              "  <tbody>\n",
              "    <tr>\n",
              "      <th>0</th>\n",
              "      <td>1/1/2006</td>\n",
              "      <td>13,970</td>\n",
              "      <td>0.8</td>\n",
              "      <td>3.8</td>\n",
              "      <td>29</td>\n",
              "      <td>33</td>\n",
              "      <td>9.0</td>\n",
              "      <td>0.9</td>\n",
              "      <td>2.0</td>\n",
              "      <td>31</td>\n",
              "      <td>NaN</td>\n",
              "      <td>NaN</td>\n",
              "      <td>3.8</td>\n",
              "      <td>7.5</td>\n",
              "      <td>28.0</td>\n",
              "      <td>34.0</td>\n",
              "      <td>5.1</td>\n",
              "    </tr>\n",
              "    <tr>\n",
              "      <th>1</th>\n",
              "      <td>2/1/2006</td>\n",
              "      <td>15,450</td>\n",
              "      <td>2.8</td>\n",
              "      <td>5.3</td>\n",
              "      <td>27</td>\n",
              "      <td>33</td>\n",
              "      <td>9.2</td>\n",
              "      <td>1.8</td>\n",
              "      <td>3.0</td>\n",
              "      <td>25</td>\n",
              "      <td>22.0</td>\n",
              "      <td>7.4</td>\n",
              "      <td>6.8</td>\n",
              "      <td>10.8</td>\n",
              "      <td>22.0</td>\n",
              "      <td>34.0</td>\n",
              "      <td>6.0</td>\n",
              "    </tr>\n",
              "    <tr>\n",
              "      <th>2</th>\n",
              "      <td>3/1/2006</td>\n",
              "      <td>11,020</td>\n",
              "      <td>2.9</td>\n",
              "      <td>5.8</td>\n",
              "      <td>33</td>\n",
              "      <td>34</td>\n",
              "      <td>11.3</td>\n",
              "      <td>1.8</td>\n",
              "      <td>3.3</td>\n",
              "      <td>36</td>\n",
              "      <td>29.0</td>\n",
              "      <td>11.7</td>\n",
              "      <td>7.3</td>\n",
              "      <td>12.0</td>\n",
              "      <td>33.0</td>\n",
              "      <td>34.0</td>\n",
              "      <td>12.0</td>\n",
              "    </tr>\n",
              "    <tr>\n",
              "      <th>3</th>\n",
              "      <td>4/1/2006</td>\n",
              "      <td>11,100</td>\n",
              "      <td>8.1</td>\n",
              "      <td>11.2</td>\n",
              "      <td>31</td>\n",
              "      <td>35</td>\n",
              "      <td>33.3</td>\n",
              "      <td>4.1</td>\n",
              "      <td>6.4</td>\n",
              "      <td>34</td>\n",
              "      <td>34.0</td>\n",
              "      <td>27.4</td>\n",
              "      <td>11.7</td>\n",
              "      <td>18.5</td>\n",
              "      <td>31.0</td>\n",
              "      <td>34.0</td>\n",
              "      <td>25.7</td>\n",
              "    </tr>\n",
              "    <tr>\n",
              "      <th>4</th>\n",
              "      <td>5/1/2006</td>\n",
              "      <td>10,630</td>\n",
              "      <td>0.0</td>\n",
              "      <td>12.4</td>\n",
              "      <td>45</td>\n",
              "      <td>46</td>\n",
              "      <td>23.8</td>\n",
              "      <td>0.0</td>\n",
              "      <td>6.9</td>\n",
              "      <td>41</td>\n",
              "      <td>47.0</td>\n",
              "      <td>17.2</td>\n",
              "      <td>0.0</td>\n",
              "      <td>21.0</td>\n",
              "      <td>31.0</td>\n",
              "      <td>50.0</td>\n",
              "      <td>12.6</td>\n",
              "    </tr>\n",
              "  </tbody>\n",
              "</table>\n",
              "</div>\n",
              "      <button class=\"colab-df-convert\" onclick=\"convertToInteractive('df-e549e637-66e4-4b98-8268-741e51794c1d')\"\n",
              "              title=\"Convert this dataframe to an interactive table.\"\n",
              "              style=\"display:none;\">\n",
              "        \n",
              "  <svg xmlns=\"http://www.w3.org/2000/svg\" height=\"24px\"viewBox=\"0 0 24 24\"\n",
              "       width=\"24px\">\n",
              "    <path d=\"M0 0h24v24H0V0z\" fill=\"none\"/>\n",
              "    <path d=\"M18.56 5.44l.94 2.06.94-2.06 2.06-.94-2.06-.94-.94-2.06-.94 2.06-2.06.94zm-11 1L8.5 8.5l.94-2.06 2.06-.94-2.06-.94L8.5 2.5l-.94 2.06-2.06.94zm10 10l.94 2.06.94-2.06 2.06-.94-2.06-.94-.94-2.06-.94 2.06-2.06.94z\"/><path d=\"M17.41 7.96l-1.37-1.37c-.4-.4-.92-.59-1.43-.59-.52 0-1.04.2-1.43.59L10.3 9.45l-7.72 7.72c-.78.78-.78 2.05 0 2.83L4 21.41c.39.39.9.59 1.41.59.51 0 1.02-.2 1.41-.59l7.78-7.78 2.81-2.81c.8-.78.8-2.07 0-2.86zM5.41 20L4 18.59l7.72-7.72 1.47 1.35L5.41 20z\"/>\n",
              "  </svg>\n",
              "      </button>\n",
              "      \n",
              "  <style>\n",
              "    .colab-df-container {\n",
              "      display:flex;\n",
              "      flex-wrap:wrap;\n",
              "      gap: 12px;\n",
              "    }\n",
              "\n",
              "    .colab-df-convert {\n",
              "      background-color: #E8F0FE;\n",
              "      border: none;\n",
              "      border-radius: 50%;\n",
              "      cursor: pointer;\n",
              "      display: none;\n",
              "      fill: #1967D2;\n",
              "      height: 32px;\n",
              "      padding: 0 0 0 0;\n",
              "      width: 32px;\n",
              "    }\n",
              "\n",
              "    .colab-df-convert:hover {\n",
              "      background-color: #E2EBFA;\n",
              "      box-shadow: 0px 1px 2px rgba(60, 64, 67, 0.3), 0px 1px 3px 1px rgba(60, 64, 67, 0.15);\n",
              "      fill: #174EA6;\n",
              "    }\n",
              "\n",
              "    [theme=dark] .colab-df-convert {\n",
              "      background-color: #3B4455;\n",
              "      fill: #D2E3FC;\n",
              "    }\n",
              "\n",
              "    [theme=dark] .colab-df-convert:hover {\n",
              "      background-color: #434B5C;\n",
              "      box-shadow: 0px 1px 3px 1px rgba(0, 0, 0, 0.15);\n",
              "      filter: drop-shadow(0px 1px 2px rgba(0, 0, 0, 0.3));\n",
              "      fill: #FFFFFF;\n",
              "    }\n",
              "  </style>\n",
              "\n",
              "      <script>\n",
              "        const buttonEl =\n",
              "          document.querySelector('#df-e549e637-66e4-4b98-8268-741e51794c1d button.colab-df-convert');\n",
              "        buttonEl.style.display =\n",
              "          google.colab.kernel.accessAllowed ? 'block' : 'none';\n",
              "\n",
              "        async function convertToInteractive(key) {\n",
              "          const element = document.querySelector('#df-e549e637-66e4-4b98-8268-741e51794c1d');\n",
              "          const dataTable =\n",
              "            await google.colab.kernel.invokeFunction('convertToInteractive',\n",
              "                                                     [key], {});\n",
              "          if (!dataTable) return;\n",
              "\n",
              "          const docLinkHtml = 'Like what you see? Visit the ' +\n",
              "            '<a target=\"_blank\" href=https://colab.research.google.com/notebooks/data_table.ipynb>data table notebook</a>'\n",
              "            + ' to learn more about interactive tables.';\n",
              "          element.innerHTML = '';\n",
              "          dataTable['output_type'] = 'display_data';\n",
              "          await google.colab.output.renderOutput(dataTable, element);\n",
              "          const docLink = document.createElement('div');\n",
              "          docLink.innerHTML = docLinkHtml;\n",
              "          element.appendChild(docLink);\n",
              "        }\n",
              "      </script>\n",
              "    </div>\n",
              "  </div>\n",
              "  "
            ]
          },
          "metadata": {},
          "execution_count": 543
        }
      ]
    },
    {
      "cell_type": "code",
      "source": [
        "data3[\"DC_Inflow\"] = pd.to_numeric(new_attribs[\"DC_Inflow\"], downcast=\"float\")"
      ],
      "metadata": {
        "id": "Qw4-7x6DDlPG"
      },
      "execution_count": 544,
      "outputs": []
    },
    {
      "cell_type": "code",
      "source": [
        "data3.head()"
      ],
      "metadata": {
        "colab": {
          "base_uri": "https://localhost:8080/",
          "height": 270
        },
        "id": "enrAe2yYD-Al",
        "outputId": "9893d03d-92bb-4735-e82a-a165753261d8"
      },
      "execution_count": 545,
      "outputs": [
        {
          "output_type": "execute_result",
          "data": {
            "text/plain": [
              "       Date  DC_Inflow  CJ383_SWE_IN  CJ383_PA_IN  CJ383_ATO_DEGF  \\\n",
              "0  1/1/2006    13970.0           0.8          3.8              29   \n",
              "1  2/1/2006    15450.0           2.8          5.3              27   \n",
              "2  3/1/2006    11020.0           2.9          5.8              33   \n",
              "3  4/1/2006    11100.0           8.1         11.2              31   \n",
              "4  5/1/2006    10630.0           0.0         12.4              45   \n",
              "\n",
              "   CJ383_STO_2IN_DEGF  CJ383_SMP_2IN_PCT  EWC461_SWE_IN  EWC461_PA_IN  \\\n",
              "0                  33                9.0            0.9           2.0   \n",
              "1                  33                9.2            1.8           3.0   \n",
              "2                  34               11.3            1.8           3.3   \n",
              "3                  35               33.3            4.1           6.4   \n",
              "4                  46               23.8            0.0           6.9   \n",
              "\n",
              "   EWC461_ATO_DEGF  EWC461_STO_2IN_DEGF  EWC461_SMP_2IN_PCT  LM572_SWE_IN  \\\n",
              "0               31                  NaN                 NaN           3.8   \n",
              "1               25                 22.0                 7.4           6.8   \n",
              "2               36                 29.0                11.7           7.3   \n",
              "3               34                 34.0                27.4          11.7   \n",
              "4               41                 47.0                17.2           0.0   \n",
              "\n",
              "   LM572_PA_IN  LM572_ATO_2IN_DEGF  LM572_STO_2IN_DEGF  LM572_SMP_2IN_PCT  \n",
              "0          7.5                28.0                34.0                5.1  \n",
              "1         10.8                22.0                34.0                6.0  \n",
              "2         12.0                33.0                34.0               12.0  \n",
              "3         18.5                31.0                34.0               25.7  \n",
              "4         21.0                31.0                50.0               12.6  "
            ],
            "text/html": [
              "\n",
              "  <div id=\"df-bbe3a141-1d15-4873-bd39-f8b514b2325f\">\n",
              "    <div class=\"colab-df-container\">\n",
              "      <div>\n",
              "<style scoped>\n",
              "    .dataframe tbody tr th:only-of-type {\n",
              "        vertical-align: middle;\n",
              "    }\n",
              "\n",
              "    .dataframe tbody tr th {\n",
              "        vertical-align: top;\n",
              "    }\n",
              "\n",
              "    .dataframe thead th {\n",
              "        text-align: right;\n",
              "    }\n",
              "</style>\n",
              "<table border=\"1\" class=\"dataframe\">\n",
              "  <thead>\n",
              "    <tr style=\"text-align: right;\">\n",
              "      <th></th>\n",
              "      <th>Date</th>\n",
              "      <th>DC_Inflow</th>\n",
              "      <th>CJ383_SWE_IN</th>\n",
              "      <th>CJ383_PA_IN</th>\n",
              "      <th>CJ383_ATO_DEGF</th>\n",
              "      <th>CJ383_STO_2IN_DEGF</th>\n",
              "      <th>CJ383_SMP_2IN_PCT</th>\n",
              "      <th>EWC461_SWE_IN</th>\n",
              "      <th>EWC461_PA_IN</th>\n",
              "      <th>EWC461_ATO_DEGF</th>\n",
              "      <th>EWC461_STO_2IN_DEGF</th>\n",
              "      <th>EWC461_SMP_2IN_PCT</th>\n",
              "      <th>LM572_SWE_IN</th>\n",
              "      <th>LM572_PA_IN</th>\n",
              "      <th>LM572_ATO_2IN_DEGF</th>\n",
              "      <th>LM572_STO_2IN_DEGF</th>\n",
              "      <th>LM572_SMP_2IN_PCT</th>\n",
              "    </tr>\n",
              "  </thead>\n",
              "  <tbody>\n",
              "    <tr>\n",
              "      <th>0</th>\n",
              "      <td>1/1/2006</td>\n",
              "      <td>13970.0</td>\n",
              "      <td>0.8</td>\n",
              "      <td>3.8</td>\n",
              "      <td>29</td>\n",
              "      <td>33</td>\n",
              "      <td>9.0</td>\n",
              "      <td>0.9</td>\n",
              "      <td>2.0</td>\n",
              "      <td>31</td>\n",
              "      <td>NaN</td>\n",
              "      <td>NaN</td>\n",
              "      <td>3.8</td>\n",
              "      <td>7.5</td>\n",
              "      <td>28.0</td>\n",
              "      <td>34.0</td>\n",
              "      <td>5.1</td>\n",
              "    </tr>\n",
              "    <tr>\n",
              "      <th>1</th>\n",
              "      <td>2/1/2006</td>\n",
              "      <td>15450.0</td>\n",
              "      <td>2.8</td>\n",
              "      <td>5.3</td>\n",
              "      <td>27</td>\n",
              "      <td>33</td>\n",
              "      <td>9.2</td>\n",
              "      <td>1.8</td>\n",
              "      <td>3.0</td>\n",
              "      <td>25</td>\n",
              "      <td>22.0</td>\n",
              "      <td>7.4</td>\n",
              "      <td>6.8</td>\n",
              "      <td>10.8</td>\n",
              "      <td>22.0</td>\n",
              "      <td>34.0</td>\n",
              "      <td>6.0</td>\n",
              "    </tr>\n",
              "    <tr>\n",
              "      <th>2</th>\n",
              "      <td>3/1/2006</td>\n",
              "      <td>11020.0</td>\n",
              "      <td>2.9</td>\n",
              "      <td>5.8</td>\n",
              "      <td>33</td>\n",
              "      <td>34</td>\n",
              "      <td>11.3</td>\n",
              "      <td>1.8</td>\n",
              "      <td>3.3</td>\n",
              "      <td>36</td>\n",
              "      <td>29.0</td>\n",
              "      <td>11.7</td>\n",
              "      <td>7.3</td>\n",
              "      <td>12.0</td>\n",
              "      <td>33.0</td>\n",
              "      <td>34.0</td>\n",
              "      <td>12.0</td>\n",
              "    </tr>\n",
              "    <tr>\n",
              "      <th>3</th>\n",
              "      <td>4/1/2006</td>\n",
              "      <td>11100.0</td>\n",
              "      <td>8.1</td>\n",
              "      <td>11.2</td>\n",
              "      <td>31</td>\n",
              "      <td>35</td>\n",
              "      <td>33.3</td>\n",
              "      <td>4.1</td>\n",
              "      <td>6.4</td>\n",
              "      <td>34</td>\n",
              "      <td>34.0</td>\n",
              "      <td>27.4</td>\n",
              "      <td>11.7</td>\n",
              "      <td>18.5</td>\n",
              "      <td>31.0</td>\n",
              "      <td>34.0</td>\n",
              "      <td>25.7</td>\n",
              "    </tr>\n",
              "    <tr>\n",
              "      <th>4</th>\n",
              "      <td>5/1/2006</td>\n",
              "      <td>10630.0</td>\n",
              "      <td>0.0</td>\n",
              "      <td>12.4</td>\n",
              "      <td>45</td>\n",
              "      <td>46</td>\n",
              "      <td>23.8</td>\n",
              "      <td>0.0</td>\n",
              "      <td>6.9</td>\n",
              "      <td>41</td>\n",
              "      <td>47.0</td>\n",
              "      <td>17.2</td>\n",
              "      <td>0.0</td>\n",
              "      <td>21.0</td>\n",
              "      <td>31.0</td>\n",
              "      <td>50.0</td>\n",
              "      <td>12.6</td>\n",
              "    </tr>\n",
              "  </tbody>\n",
              "</table>\n",
              "</div>\n",
              "      <button class=\"colab-df-convert\" onclick=\"convertToInteractive('df-bbe3a141-1d15-4873-bd39-f8b514b2325f')\"\n",
              "              title=\"Convert this dataframe to an interactive table.\"\n",
              "              style=\"display:none;\">\n",
              "        \n",
              "  <svg xmlns=\"http://www.w3.org/2000/svg\" height=\"24px\"viewBox=\"0 0 24 24\"\n",
              "       width=\"24px\">\n",
              "    <path d=\"M0 0h24v24H0V0z\" fill=\"none\"/>\n",
              "    <path d=\"M18.56 5.44l.94 2.06.94-2.06 2.06-.94-2.06-.94-.94-2.06-.94 2.06-2.06.94zm-11 1L8.5 8.5l.94-2.06 2.06-.94-2.06-.94L8.5 2.5l-.94 2.06-2.06.94zm10 10l.94 2.06.94-2.06 2.06-.94-2.06-.94-.94-2.06-.94 2.06-2.06.94z\"/><path d=\"M17.41 7.96l-1.37-1.37c-.4-.4-.92-.59-1.43-.59-.52 0-1.04.2-1.43.59L10.3 9.45l-7.72 7.72c-.78.78-.78 2.05 0 2.83L4 21.41c.39.39.9.59 1.41.59.51 0 1.02-.2 1.41-.59l7.78-7.78 2.81-2.81c.8-.78.8-2.07 0-2.86zM5.41 20L4 18.59l7.72-7.72 1.47 1.35L5.41 20z\"/>\n",
              "  </svg>\n",
              "      </button>\n",
              "      \n",
              "  <style>\n",
              "    .colab-df-container {\n",
              "      display:flex;\n",
              "      flex-wrap:wrap;\n",
              "      gap: 12px;\n",
              "    }\n",
              "\n",
              "    .colab-df-convert {\n",
              "      background-color: #E8F0FE;\n",
              "      border: none;\n",
              "      border-radius: 50%;\n",
              "      cursor: pointer;\n",
              "      display: none;\n",
              "      fill: #1967D2;\n",
              "      height: 32px;\n",
              "      padding: 0 0 0 0;\n",
              "      width: 32px;\n",
              "    }\n",
              "\n",
              "    .colab-df-convert:hover {\n",
              "      background-color: #E2EBFA;\n",
              "      box-shadow: 0px 1px 2px rgba(60, 64, 67, 0.3), 0px 1px 3px 1px rgba(60, 64, 67, 0.15);\n",
              "      fill: #174EA6;\n",
              "    }\n",
              "\n",
              "    [theme=dark] .colab-df-convert {\n",
              "      background-color: #3B4455;\n",
              "      fill: #D2E3FC;\n",
              "    }\n",
              "\n",
              "    [theme=dark] .colab-df-convert:hover {\n",
              "      background-color: #434B5C;\n",
              "      box-shadow: 0px 1px 3px 1px rgba(0, 0, 0, 0.15);\n",
              "      filter: drop-shadow(0px 1px 2px rgba(0, 0, 0, 0.3));\n",
              "      fill: #FFFFFF;\n",
              "    }\n",
              "  </style>\n",
              "\n",
              "      <script>\n",
              "        const buttonEl =\n",
              "          document.querySelector('#df-bbe3a141-1d15-4873-bd39-f8b514b2325f button.colab-df-convert');\n",
              "        buttonEl.style.display =\n",
              "          google.colab.kernel.accessAllowed ? 'block' : 'none';\n",
              "\n",
              "        async function convertToInteractive(key) {\n",
              "          const element = document.querySelector('#df-bbe3a141-1d15-4873-bd39-f8b514b2325f');\n",
              "          const dataTable =\n",
              "            await google.colab.kernel.invokeFunction('convertToInteractive',\n",
              "                                                     [key], {});\n",
              "          if (!dataTable) return;\n",
              "\n",
              "          const docLinkHtml = 'Like what you see? Visit the ' +\n",
              "            '<a target=\"_blank\" href=https://colab.research.google.com/notebooks/data_table.ipynb>data table notebook</a>'\n",
              "            + ' to learn more about interactive tables.';\n",
              "          element.innerHTML = '';\n",
              "          dataTable['output_type'] = 'display_data';\n",
              "          await google.colab.output.renderOutput(dataTable, element);\n",
              "          const docLink = document.createElement('div');\n",
              "          docLink.innerHTML = docLinkHtml;\n",
              "          element.appendChild(docLink);\n",
              "        }\n",
              "      </script>\n",
              "    </div>\n",
              "  </div>\n",
              "  "
            ]
          },
          "metadata": {},
          "execution_count": 545
        }
      ]
    },
    {
      "cell_type": "code",
      "source": [
        "here_we_go_again = data3.corr()"
      ],
      "metadata": {
        "id": "EkF_hFD8D-ws"
      },
      "execution_count": 546,
      "outputs": []
    },
    {
      "cell_type": "code",
      "source": [
        "sns.heatmap(here_we_go_again)"
      ],
      "metadata": {
        "colab": {
          "base_uri": "https://localhost:8080/",
          "height": 399
        },
        "id": "QiV7j6chEIK9",
        "outputId": "ba8dd8ab-f577-4c7c-8882-0c092480b143"
      },
      "execution_count": 547,
      "outputs": [
        {
          "output_type": "execute_result",
          "data": {
            "text/plain": [
              "<matplotlib.axes._subplots.AxesSubplot at 0x7fbcbac6f2d0>"
            ]
          },
          "metadata": {},
          "execution_count": 547
        },
        {
          "output_type": "display_data",
          "data": {
            "text/plain": [
              "<Figure size 432x288 with 2 Axes>"
            ],
            "image/png": "[encoded data removed]"
          },
          "metadata": {
            "needs_background": "light"
          }
        }
      ]
    },
    {
      "cell_type": "markdown",
      "source": [
        "#Step 9: Final Selection"
      ],
      "metadata": {
        "id": "0mCDUVg2VhcH"
      }
    },
    {
      "cell_type": "markdown",
      "source": [
        "Lets find out which weather station/attribute has most effect on our dependent variable DC_Inflow"
      ],
      "metadata": {
        "id": "mqyItt5ZEQyb"
      }
    },
    {
      "cell_type": "code",
      "source": [
        "corr_matrix3 = here_we_go_again[\"DC_Inflow\"].sort_values(ascending=False) \n",
        "\n",
        "print(corr_matrix3)"
      ],
      "metadata": {
        "colab": {
          "base_uri": "https://localhost:8080/"
        },
        "id": "Q8LHgcn9EK63",
        "outputId": "ba6c852b-57a7-4912-f980-7c075ca87668"
      },
      "execution_count": 548,
      "outputs": [
        {
          "output_type": "stream",
          "name": "stdout",
          "text": [
            "DC_Inflow              1.000000\n",
            "EWC461_PA_IN           0.346120\n",
            "LM572_PA_IN            0.263025\n",
            "CJ383_PA_IN            0.230374\n",
            "EWC461_STO_2IN_DEGF    0.201842\n",
            "CJ383_STO_2IN_DEGF     0.199955\n",
            "LM572_STO_2IN_DEGF     0.173425\n",
            "LM572_ATO_2IN_DEGF     0.074646\n",
            "CJ383_ATO_DEGF         0.050714\n",
            "EWC461_SWE_IN          0.031455\n",
            "EWC461_ATO_DEGF        0.001367\n",
            "CJ383_SWE_IN          -0.000690\n",
            "LM572_SWE_IN          -0.014039\n",
            "CJ383_SMP_2IN_PCT     -0.036418\n",
            "EWC461_SMP_2IN_PCT    -0.091350\n",
            "LM572_SMP_2IN_PCT     -0.114646\n",
            "Name: DC_Inflow, dtype: float64\n"
          ]
        }
      ]
    },
    {
      "cell_type": "markdown",
      "source": [
        "The highest correlation coefficient when compared against DC_Inflow is the Precipitation Accumulation of East Willow Creek (in inches), coming in at 0.34!"
      ],
      "metadata": {
        "id": "tto1wEeRTtMa"
      }
    },
    {
      "cell_type": "code",
      "source": [
        "corr_matrix4 = here_we_go_again[\"EWC461_PA_IN\"].sort_values(ascending=False) \n",
        "\n",
        "print(corr_matrix4)"
      ],
      "metadata": {
        "colab": {
          "base_uri": "https://localhost:8080/"
        },
        "id": "ETIeMR8rEySx",
        "outputId": "b87bbc49-a0a1-41d2-cc23-3162bcb1d29c"
      },
      "execution_count": 549,
      "outputs": [
        {
          "output_type": "stream",
          "name": "stdout",
          "text": [
            "EWC461_PA_IN           1.000000\n",
            "CJ383_PA_IN            0.948958\n",
            "LM572_PA_IN            0.946573\n",
            "EWC461_STO_2IN_DEGF    0.614017\n",
            "CJ383_STO_2IN_DEGF     0.578442\n",
            "LM572_STO_2IN_DEGF     0.552213\n",
            "CJ383_ATO_DEGF         0.350919\n",
            "DC_Inflow              0.346120\n",
            "LM572_ATO_2IN_DEGF     0.316377\n",
            "EWC461_ATO_DEGF        0.315609\n",
            "EWC461_SMP_2IN_PCT     0.111209\n",
            "CJ383_SWE_IN           0.073846\n",
            "EWC461_SWE_IN          0.064335\n",
            "LM572_SWE_IN           0.049838\n",
            "CJ383_SMP_2IN_PCT     -0.027052\n",
            "LM572_SMP_2IN_PCT     -0.046585\n",
            "Name: EWC461_PA_IN, dtype: float64\n"
          ]
        }
      ]
    },
    {
      "cell_type": "code",
      "source": [
        "corr_matrix5 = here_we_go_again[\"EWC461_STO_2IN_DEGF\"].sort_values(ascending=False) \n",
        "\n",
        "print(corr_matrix5)\n"
      ],
      "metadata": {
        "colab": {
          "base_uri": "https://localhost:8080/"
        },
        "id": "yHzt2VNhFLi2",
        "outputId": "f07e5da5-03c5-42ec-d22e-8abac61cb0f7"
      },
      "execution_count": 550,
      "outputs": [
        {
          "output_type": "stream",
          "name": "stdout",
          "text": [
            "EWC461_STO_2IN_DEGF    1.000000\n",
            "CJ383_STO_2IN_DEGF     0.979634\n",
            "LM572_STO_2IN_DEGF     0.977038\n",
            "CJ383_ATO_DEGF         0.819381\n",
            "LM572_ATO_2IN_DEGF     0.765088\n",
            "EWC461_ATO_DEGF        0.744088\n",
            "LM572_PA_IN            0.656872\n",
            "EWC461_PA_IN           0.614017\n",
            "CJ383_PA_IN            0.588346\n",
            "DC_Inflow              0.201842\n",
            "EWC461_SMP_2IN_PCT    -0.067523\n",
            "LM572_SMP_2IN_PCT     -0.299910\n",
            "CJ383_SMP_2IN_PCT     -0.335661\n",
            "CJ383_SWE_IN          -0.483248\n",
            "EWC461_SWE_IN         -0.501982\n",
            "LM572_SWE_IN          -0.529096\n",
            "Name: EWC461_STO_2IN_DEGF, dtype: float64\n"
          ]
        }
      ]
    },
    {
      "cell_type": "markdown",
      "source": [
        "What we're doing here is going one by one down the list of attributes and seeing which station has the highest corr coef to select a combination of ones for our final model. So far its  **EWC461_PA_IN** which is the code for East Willow Creek Precipitation Accumulation in Inches and **EWC461_STO_2IN_DEGF**, which is the East Willow Creek Soil Temperature Observed. Next we'll look at **LM572_ATO_2IN_DEGF**, **EWC461_SWE_IN**, and lastly **LM572_SMP_2IN_PCT**"
      ],
      "metadata": {
        "id": "mY68eIhcFlgX"
      }
    },
    {
      "cell_type": "code",
      "source": [
        "corr_matrix6 = here_we_go_again[\"LM572_ATO_2IN_DEGF\"].sort_values(ascending=False) \n",
        "\n",
        "print(corr_matrix6)"
      ],
      "metadata": {
        "colab": {
          "base_uri": "https://localhost:8080/"
        },
        "id": "FZgL-4gPGjFb",
        "outputId": "a5b89cfc-f119-422e-e986-ffc6143858b4"
      },
      "execution_count": 551,
      "outputs": [
        {
          "output_type": "stream",
          "name": "stdout",
          "text": [
            "LM572_ATO_2IN_DEGF     1.000000\n",
            "CJ383_ATO_DEGF         0.951097\n",
            "EWC461_ATO_DEGF        0.940577\n",
            "CJ383_STO_2IN_DEGF     0.791168\n",
            "LM572_STO_2IN_DEGF     0.781453\n",
            "EWC461_STO_2IN_DEGF    0.765088\n",
            "LM572_PA_IN            0.351078\n",
            "CJ383_PA_IN            0.323306\n",
            "EWC461_PA_IN           0.316377\n",
            "DC_Inflow              0.074646\n",
            "EWC461_SMP_2IN_PCT    -0.051676\n",
            "LM572_SMP_2IN_PCT     -0.271670\n",
            "CJ383_SMP_2IN_PCT     -0.360513\n",
            "CJ383_SWE_IN          -0.548056\n",
            "EWC461_SWE_IN         -0.569192\n",
            "LM572_SWE_IN          -0.606592\n",
            "Name: LM572_ATO_2IN_DEGF, dtype: float64\n"
          ]
        }
      ]
    },
    {
      "cell_type": "code",
      "source": [
        "almost_there = here_we_go_again[\"EWC461_SWE_IN\"].sort_values(ascending=False) \n",
        "\n",
        "print(almost_there)"
      ],
      "metadata": {
        "colab": {
          "base_uri": "https://localhost:8080/"
        },
        "id": "Fru-Rbh3Gq1Z",
        "outputId": "5850eaea-9523-4727-ce00-8d7f6f96dc4a"
      },
      "execution_count": 552,
      "outputs": [
        {
          "output_type": "stream",
          "name": "stdout",
          "text": [
            "EWC461_SWE_IN          1.000000\n",
            "CJ383_SWE_IN           0.961634\n",
            "LM572_SWE_IN           0.897485\n",
            "CJ383_SMP_2IN_PCT      0.459706\n",
            "LM572_SMP_2IN_PCT      0.305024\n",
            "EWC461_SMP_2IN_PCT     0.245658\n",
            "CJ383_PA_IN            0.099422\n",
            "EWC461_PA_IN           0.064335\n",
            "DC_Inflow              0.031455\n",
            "LM572_PA_IN           -0.014479\n",
            "EWC461_STO_2IN_DEGF   -0.501982\n",
            "LM572_STO_2IN_DEGF    -0.540328\n",
            "CJ383_STO_2IN_DEGF    -0.544616\n",
            "EWC461_ATO_DEGF       -0.548680\n",
            "LM572_ATO_2IN_DEGF    -0.569192\n",
            "CJ383_ATO_DEGF        -0.579618\n",
            "Name: EWC461_SWE_IN, dtype: float64\n"
          ]
        }
      ]
    },
    {
      "cell_type": "code",
      "source": [
        "last_corr_matrix = here_we_go_again[\"LM572_SMP_2IN_PCT\"].sort_values(ascending=False)\n",
        "\n",
        "print(last_corr_matrix)"
      ],
      "metadata": {
        "colab": {
          "base_uri": "https://localhost:8080/"
        },
        "id": "Bw8KY8-unbNl",
        "outputId": "1b11c464-49f1-46b1-83dc-abc2f89e2045"
      },
      "execution_count": 553,
      "outputs": [
        {
          "output_type": "stream",
          "name": "stdout",
          "text": [
            "LM572_SMP_2IN_PCT      1.000000\n",
            "CJ383_SMP_2IN_PCT      0.834320\n",
            "EWC461_SMP_2IN_PCT     0.722368\n",
            "LM572_SWE_IN           0.394342\n",
            "EWC461_SWE_IN          0.305024\n",
            "CJ383_SWE_IN           0.299405\n",
            "LM572_PA_IN           -0.040087\n",
            "EWC461_PA_IN          -0.046585\n",
            "CJ383_PA_IN           -0.092017\n",
            "DC_Inflow             -0.114646\n",
            "EWC461_ATO_DEGF       -0.264070\n",
            "LM572_ATO_2IN_DEGF    -0.271670\n",
            "CJ383_ATO_DEGF        -0.276169\n",
            "EWC461_STO_2IN_DEGF   -0.299910\n",
            "CJ383_STO_2IN_DEGF    -0.314867\n",
            "LM572_STO_2IN_DEGF    -0.409034\n",
            "Name: LM572_SMP_2IN_PCT, dtype: float64\n"
          ]
        }
      ]
    },
    {
      "cell_type": "markdown",
      "source": [
        "So the columns of the dataframe listed above will be made into a new csv file and saved on this here drive. "
      ],
      "metadata": {
        "id": "CTenVB4BHAeY"
      }
    },
    {
      "cell_type": "markdown",
      "source": [
        "Just to refresh, the columns are: EWC461_PA_IN, EWC461_STO_2IN_DEGF, LM572_ATO_2IN_DEGF, EWC461_SWE_IN, and LM572_SMP_2IN_PCT."
      ],
      "metadata": {
        "id": "a0D5vizJHRJb"
      }
    },
    {
      "cell_type": "code",
      "source": [
        "data3.head()"
      ],
      "metadata": {
        "colab": {
          "base_uri": "https://localhost:8080/",
          "height": 270
        },
        "id": "TNqCxDURH3_l",
        "outputId": "1597ea3c-5c29-4e5e-e6aa-76bdc0b6cdfc"
      },
      "execution_count": 554,
      "outputs": [
        {
          "output_type": "execute_result",
          "data": {
            "text/plain": [
              "       Date  DC_Inflow  CJ383_SWE_IN  CJ383_PA_IN  CJ383_ATO_DEGF  \\\n",
              "0  1/1/2006    13970.0           0.8          3.8              29   \n",
              "1  2/1/2006    15450.0           2.8          5.3              27   \n",
              "2  3/1/2006    11020.0           2.9          5.8              33   \n",
              "3  4/1/2006    11100.0           8.1         11.2              31   \n",
              "4  5/1/2006    10630.0           0.0         12.4              45   \n",
              "\n",
              "   CJ383_STO_2IN_DEGF  CJ383_SMP_2IN_PCT  EWC461_SWE_IN  EWC461_PA_IN  \\\n",
              "0                  33                9.0            0.9           2.0   \n",
              "1                  33                9.2            1.8           3.0   \n",
              "2                  34               11.3            1.8           3.3   \n",
              "3                  35               33.3            4.1           6.4   \n",
              "4                  46               23.8            0.0           6.9   \n",
              "\n",
              "   EWC461_ATO_DEGF  EWC461_STO_2IN_DEGF  EWC461_SMP_2IN_PCT  LM572_SWE_IN  \\\n",
              "0               31                  NaN                 NaN           3.8   \n",
              "1               25                 22.0                 7.4           6.8   \n",
              "2               36                 29.0                11.7           7.3   \n",
              "3               34                 34.0                27.4          11.7   \n",
              "4               41                 47.0                17.2           0.0   \n",
              "\n",
              "   LM572_PA_IN  LM572_ATO_2IN_DEGF  LM572_STO_2IN_DEGF  LM572_SMP_2IN_PCT  \n",
              "0          7.5                28.0                34.0                5.1  \n",
              "1         10.8                22.0                34.0                6.0  \n",
              "2         12.0                33.0                34.0               12.0  \n",
              "3         18.5                31.0                34.0               25.7  \n",
              "4         21.0                31.0                50.0               12.6  "
            ],
            "text/html": [
              "\n",
              "  <div id=\"df-46129226-bff4-42d6-b6bc-3ee5a118e90a\">\n",
              "    <div class=\"colab-df-container\">\n",
              "      <div>\n",
              "<style scoped>\n",
              "    .dataframe tbody tr th:only-of-type {\n",
              "        vertical-align: middle;\n",
              "    }\n",
              "\n",
              "    .dataframe tbody tr th {\n",
              "        vertical-align: top;\n",
              "    }\n",
              "\n",
              "    .dataframe thead th {\n",
              "        text-align: right;\n",
              "    }\n",
              "</style>\n",
              "<table border=\"1\" class=\"dataframe\">\n",
              "  <thead>\n",
              "    <tr style=\"text-align: right;\">\n",
              "      <th></th>\n",
              "      <th>Date</th>\n",
              "      <th>DC_Inflow</th>\n",
              "      <th>CJ383_SWE_IN</th>\n",
              "      <th>CJ383_PA_IN</th>\n",
              "      <th>CJ383_ATO_DEGF</th>\n",
              "      <th>CJ383_STO_2IN_DEGF</th>\n",
              "      <th>CJ383_SMP_2IN_PCT</th>\n",
              "      <th>EWC461_SWE_IN</th>\n",
              "      <th>EWC461_PA_IN</th>\n",
              "      <th>EWC461_ATO_DEGF</th>\n",
              "      <th>EWC461_STO_2IN_DEGF</th>\n",
              "      <th>EWC461_SMP_2IN_PCT</th>\n",
              "      <th>LM572_SWE_IN</th>\n",
              "      <th>LM572_PA_IN</th>\n",
              "      <th>LM572_ATO_2IN_DEGF</th>\n",
              "      <th>LM572_STO_2IN_DEGF</th>\n",
              "      <th>LM572_SMP_2IN_PCT</th>\n",
              "    </tr>\n",
              "  </thead>\n",
              "  <tbody>\n",
              "    <tr>\n",
              "      <th>0</th>\n",
              "      <td>1/1/2006</td>\n",
              "      <td>13970.0</td>\n",
              "      <td>0.8</td>\n",
              "      <td>3.8</td>\n",
              "      <td>29</td>\n",
              "      <td>33</td>\n",
              "      <td>9.0</td>\n",
              "      <td>0.9</td>\n",
              "      <td>2.0</td>\n",
              "      <td>31</td>\n",
              "      <td>NaN</td>\n",
              "      <td>NaN</td>\n",
              "      <td>3.8</td>\n",
              "      <td>7.5</td>\n",
              "      <td>28.0</td>\n",
              "      <td>34.0</td>\n",
              "      <td>5.1</td>\n",
              "    </tr>\n",
              "    <tr>\n",
              "      <th>1</th>\n",
              "      <td>2/1/2006</td>\n",
              "      <td>15450.0</td>\n",
              "      <td>2.8</td>\n",
              "      <td>5.3</td>\n",
              "      <td>27</td>\n",
              "      <td>33</td>\n",
              "      <td>9.2</td>\n",
              "      <td>1.8</td>\n",
              "      <td>3.0</td>\n",
              "      <td>25</td>\n",
              "      <td>22.0</td>\n",
              "      <td>7.4</td>\n",
              "      <td>6.8</td>\n",
              "      <td>10.8</td>\n",
              "      <td>22.0</td>\n",
              "      <td>34.0</td>\n",
              "      <td>6.0</td>\n",
              "    </tr>\n",
              "    <tr>\n",
              "      <th>2</th>\n",
              "      <td>3/1/2006</td>\n",
              "      <td>11020.0</td>\n",
              "      <td>2.9</td>\n",
              "      <td>5.8</td>\n",
              "      <td>33</td>\n",
              "      <td>34</td>\n",
              "      <td>11.3</td>\n",
              "      <td>1.8</td>\n",
              "      <td>3.3</td>\n",
              "      <td>36</td>\n",
              "      <td>29.0</td>\n",
              "      <td>11.7</td>\n",
              "      <td>7.3</td>\n",
              "      <td>12.0</td>\n",
              "      <td>33.0</td>\n",
              "      <td>34.0</td>\n",
              "      <td>12.0</td>\n",
              "    </tr>\n",
              "    <tr>\n",
              "      <th>3</th>\n",
              "      <td>4/1/2006</td>\n",
              "      <td>11100.0</td>\n",
              "      <td>8.1</td>\n",
              "      <td>11.2</td>\n",
              "      <td>31</td>\n",
              "      <td>35</td>\n",
              "      <td>33.3</td>\n",
              "      <td>4.1</td>\n",
              "      <td>6.4</td>\n",
              "      <td>34</td>\n",
              "      <td>34.0</td>\n",
              "      <td>27.4</td>\n",
              "      <td>11.7</td>\n",
              "      <td>18.5</td>\n",
              "      <td>31.0</td>\n",
              "      <td>34.0</td>\n",
              "      <td>25.7</td>\n",
              "    </tr>\n",
              "    <tr>\n",
              "      <th>4</th>\n",
              "      <td>5/1/2006</td>\n",
              "      <td>10630.0</td>\n",
              "      <td>0.0</td>\n",
              "      <td>12.4</td>\n",
              "      <td>45</td>\n",
              "      <td>46</td>\n",
              "      <td>23.8</td>\n",
              "      <td>0.0</td>\n",
              "      <td>6.9</td>\n",
              "      <td>41</td>\n",
              "      <td>47.0</td>\n",
              "      <td>17.2</td>\n",
              "      <td>0.0</td>\n",
              "      <td>21.0</td>\n",
              "      <td>31.0</td>\n",
              "      <td>50.0</td>\n",
              "      <td>12.6</td>\n",
              "    </tr>\n",
              "  </tbody>\n",
              "</table>\n",
              "</div>\n",
              "      <button class=\"colab-df-convert\" onclick=\"convertToInteractive('df-46129226-bff4-42d6-b6bc-3ee5a118e90a')\"\n",
              "              title=\"Convert this dataframe to an interactive table.\"\n",
              "              style=\"display:none;\">\n",
              "        \n",
              "  <svg xmlns=\"http://www.w3.org/2000/svg\" height=\"24px\"viewBox=\"0 0 24 24\"\n",
              "       width=\"24px\">\n",
              "    <path d=\"M0 0h24v24H0V0z\" fill=\"none\"/>\n",
              "    <path d=\"M18.56 5.44l.94 2.06.94-2.06 2.06-.94-2.06-.94-.94-2.06-.94 2.06-2.06.94zm-11 1L8.5 8.5l.94-2.06 2.06-.94-2.06-.94L8.5 2.5l-.94 2.06-2.06.94zm10 10l.94 2.06.94-2.06 2.06-.94-2.06-.94-.94-2.06-.94 2.06-2.06.94z\"/><path d=\"M17.41 7.96l-1.37-1.37c-.4-.4-.92-.59-1.43-.59-.52 0-1.04.2-1.43.59L10.3 9.45l-7.72 7.72c-.78.78-.78 2.05 0 2.83L4 21.41c.39.39.9.59 1.41.59.51 0 1.02-.2 1.41-.59l7.78-7.78 2.81-2.81c.8-.78.8-2.07 0-2.86zM5.41 20L4 18.59l7.72-7.72 1.47 1.35L5.41 20z\"/>\n",
              "  </svg>\n",
              "      </button>\n",
              "      \n",
              "  <style>\n",
              "    .colab-df-container {\n",
              "      display:flex;\n",
              "      flex-wrap:wrap;\n",
              "      gap: 12px;\n",
              "    }\n",
              "\n",
              "    .colab-df-convert {\n",
              "      background-color: #E8F0FE;\n",
              "      border: none;\n",
              "      border-radius: 50%;\n",
              "      cursor: pointer;\n",
              "      display: none;\n",
              "      fill: #1967D2;\n",
              "      height: 32px;\n",
              "      padding: 0 0 0 0;\n",
              "      width: 32px;\n",
              "    }\n",
              "\n",
              "    .colab-df-convert:hover {\n",
              "      background-color: #E2EBFA;\n",
              "      box-shadow: 0px 1px 2px rgba(60, 64, 67, 0.3), 0px 1px 3px 1px rgba(60, 64, 67, 0.15);\n",
              "      fill: #174EA6;\n",
              "    }\n",
              "\n",
              "    [theme=dark] .colab-df-convert {\n",
              "      background-color: #3B4455;\n",
              "      fill: #D2E3FC;\n",
              "    }\n",
              "\n",
              "    [theme=dark] .colab-df-convert:hover {\n",
              "      background-color: #434B5C;\n",
              "      box-shadow: 0px 1px 3px 1px rgba(0, 0, 0, 0.15);\n",
              "      filter: drop-shadow(0px 1px 2px rgba(0, 0, 0, 0.3));\n",
              "      fill: #FFFFFF;\n",
              "    }\n",
              "  </style>\n",
              "\n",
              "      <script>\n",
              "        const buttonEl =\n",
              "          document.querySelector('#df-46129226-bff4-42d6-b6bc-3ee5a118e90a button.colab-df-convert');\n",
              "        buttonEl.style.display =\n",
              "          google.colab.kernel.accessAllowed ? 'block' : 'none';\n",
              "\n",
              "        async function convertToInteractive(key) {\n",
              "          const element = document.querySelector('#df-46129226-bff4-42d6-b6bc-3ee5a118e90a');\n",
              "          const dataTable =\n",
              "            await google.colab.kernel.invokeFunction('convertToInteractive',\n",
              "                                                     [key], {});\n",
              "          if (!dataTable) return;\n",
              "\n",
              "          const docLinkHtml = 'Like what you see? Visit the ' +\n",
              "            '<a target=\"_blank\" href=https://colab.research.google.com/notebooks/data_table.ipynb>data table notebook</a>'\n",
              "            + ' to learn more about interactive tables.';\n",
              "          element.innerHTML = '';\n",
              "          dataTable['output_type'] = 'display_data';\n",
              "          await google.colab.output.renderOutput(dataTable, element);\n",
              "          const docLink = document.createElement('div');\n",
              "          docLink.innerHTML = docLinkHtml;\n",
              "          element.appendChild(docLink);\n",
              "        }\n",
              "      </script>\n",
              "    </div>\n",
              "  </div>\n",
              "  "
            ]
          },
          "metadata": {},
          "execution_count": 554
        }
      ]
    },
    {
      "cell_type": "code",
      "source": [
        "final_dataset = data3[[\"EWC461_PA_IN\", \"EWC461_STO_2IN_DEGF\", \"LM572_ATO_2IN_DEGF\", \"EWC461_SWE_IN\", \"LM572_SMP_2IN_PCT\"]].copy()"
      ],
      "metadata": {
        "id": "_SkFLADXHJyY"
      },
      "execution_count": 555,
      "outputs": []
    },
    {
      "cell_type": "markdown",
      "source": [
        "One last corr  heatmap with the attributes we picked out just for the fun of it (against DC_Inflow)"
      ],
      "metadata": {
        "id": "7KD4vu8oQedD"
      }
    },
    {
      "cell_type": "code",
      "source": [
        "one_last_time = data3[[\"DC_Inflow\", \"CJ383_SMP_2IN_PCT\", \"EWC461_ATO_DEGF\", \"EWC461_PA_IN\", \"EWC461_SWE_IN\"]].copy()"
      ],
      "metadata": {
        "id": "9wiMvd-JQlWd"
      },
      "execution_count": 556,
      "outputs": []
    },
    {
      "cell_type": "code",
      "source": [
        "one_last_kiss_i_mean_corr = one_last_time.corr()"
      ],
      "metadata": {
        "id": "jV56fXPmQtco"
      },
      "execution_count": 557,
      "outputs": []
    },
    {
      "cell_type": "code",
      "source": [
        "sns.heatmap(one_last_kiss_i_mean_corr)"
      ],
      "metadata": {
        "colab": {
          "base_uri": "https://localhost:8080/",
          "height": 377
        },
        "id": "DWWimjeyQ9CI",
        "outputId": "00273d44-471d-47b9-efcc-c00025d2db50"
      },
      "execution_count": 558,
      "outputs": [
        {
          "output_type": "execute_result",
          "data": {
            "text/plain": [
              "<matplotlib.axes._subplots.AxesSubplot at 0x7fbcbabcf3d0>"
            ]
          },
          "metadata": {},
          "execution_count": 558
        },
        {
          "output_type": "display_data",
          "data": {
            "text/plain": [
              "<Figure size 432x288 with 2 Axes>"
            ],
            "image/png": "[encoded data removed]"
          },
          "metadata": {
            "needs_background": "light"
          }
        }
      ]
    },
    {
      "cell_type": "markdown",
      "source": [
        "Beautiful! Now thats what a corr heatmap should look like with 0 redundancies."
      ],
      "metadata": {
        "id": "4D4kdk0URduB"
      }
    },
    {
      "cell_type": "markdown",
      "source": [
        "#Step 10: Reviewing and Saving your new dataset"
      ],
      "metadata": {
        "id": "qdiU6xP1VmLp"
      }
    },
    {
      "cell_type": "markdown",
      "source": [
        "Lets look at the header to make sure we have everything we need before we save this final dataframe to a csv file."
      ],
      "metadata": {
        "id": "EUs9wOBKIP4D"
      }
    },
    {
      "cell_type": "code",
      "source": [
        "final_dataset.head()"
      ],
      "metadata": {
        "colab": {
          "base_uri": "https://localhost:8080/",
          "height": 206
        },
        "id": "JgLnX3hCIML-",
        "outputId": "ed28b732-b0ca-4ad2-fed0-7ef054910bbb"
      },
      "execution_count": 559,
      "outputs": [
        {
          "output_type": "execute_result",
          "data": {
            "text/plain": [
              "   EWC461_PA_IN  EWC461_STO_2IN_DEGF  LM572_ATO_2IN_DEGF  EWC461_SWE_IN  \\\n",
              "0           2.0                  NaN                28.0            0.9   \n",
              "1           3.0                 22.0                22.0            1.8   \n",
              "2           3.3                 29.0                33.0            1.8   \n",
              "3           6.4                 34.0                31.0            4.1   \n",
              "4           6.9                 47.0                31.0            0.0   \n",
              "\n",
              "   LM572_SMP_2IN_PCT  \n",
              "0                5.1  \n",
              "1                6.0  \n",
              "2               12.0  \n",
              "3               25.7  \n",
              "4               12.6  "
            ],
            "text/html": [
              "\n",
              "  <div id=\"df-81d32816-2e01-4136-8330-2b67a347efaa\">\n",
              "    <div class=\"colab-df-container\">\n",
              "      <div>\n",
              "<style scoped>\n",
              "    .dataframe tbody tr th:only-of-type {\n",
              "        vertical-align: middle;\n",
              "    }\n",
              "\n",
              "    .dataframe tbody tr th {\n",
              "        vertical-align: top;\n",
              "    }\n",
              "\n",
              "    .dataframe thead th {\n",
              "        text-align: right;\n",
              "    }\n",
              "</style>\n",
              "<table border=\"1\" class=\"dataframe\">\n",
              "  <thead>\n",
              "    <tr style=\"text-align: right;\">\n",
              "      <th></th>\n",
              "      <th>EWC461_PA_IN</th>\n",
              "      <th>EWC461_STO_2IN_DEGF</th>\n",
              "      <th>LM572_ATO_2IN_DEGF</th>\n",
              "      <th>EWC461_SWE_IN</th>\n",
              "      <th>LM572_SMP_2IN_PCT</th>\n",
              "    </tr>\n",
              "  </thead>\n",
              "  <tbody>\n",
              "    <tr>\n",
              "      <th>0</th>\n",
              "      <td>2.0</td>\n",
              "      <td>NaN</td>\n",
              "      <td>28.0</td>\n",
              "      <td>0.9</td>\n",
              "      <td>5.1</td>\n",
              "    </tr>\n",
              "    <tr>\n",
              "      <th>1</th>\n",
              "      <td>3.0</td>\n",
              "      <td>22.0</td>\n",
              "      <td>22.0</td>\n",
              "      <td>1.8</td>\n",
              "      <td>6.0</td>\n",
              "    </tr>\n",
              "    <tr>\n",
              "      <th>2</th>\n",
              "      <td>3.3</td>\n",
              "      <td>29.0</td>\n",
              "      <td>33.0</td>\n",
              "      <td>1.8</td>\n",
              "      <td>12.0</td>\n",
              "    </tr>\n",
              "    <tr>\n",
              "      <th>3</th>\n",
              "      <td>6.4</td>\n",
              "      <td>34.0</td>\n",
              "      <td>31.0</td>\n",
              "      <td>4.1</td>\n",
              "      <td>25.7</td>\n",
              "    </tr>\n",
              "    <tr>\n",
              "      <th>4</th>\n",
              "      <td>6.9</td>\n",
              "      <td>47.0</td>\n",
              "      <td>31.0</td>\n",
              "      <td>0.0</td>\n",
              "      <td>12.6</td>\n",
              "    </tr>\n",
              "  </tbody>\n",
              "</table>\n",
              "</div>\n",
              "      <button class=\"colab-df-convert\" onclick=\"convertToInteractive('df-81d32816-2e01-4136-8330-2b67a347efaa')\"\n",
              "              title=\"Convert this dataframe to an interactive table.\"\n",
              "              style=\"display:none;\">\n",
              "        \n",
              "  <svg xmlns=\"http://www.w3.org/2000/svg\" height=\"24px\"viewBox=\"0 0 24 24\"\n",
              "       width=\"24px\">\n",
              "    <path d=\"M0 0h24v24H0V0z\" fill=\"none\"/>\n",
              "    <path d=\"M18.56 5.44l.94 2.06.94-2.06 2.06-.94-2.06-.94-.94-2.06-.94 2.06-2.06.94zm-11 1L8.5 8.5l.94-2.06 2.06-.94-2.06-.94L8.5 2.5l-.94 2.06-2.06.94zm10 10l.94 2.06.94-2.06 2.06-.94-2.06-.94-.94-2.06-.94 2.06-2.06.94z\"/><path d=\"M17.41 7.96l-1.37-1.37c-.4-.4-.92-.59-1.43-.59-.52 0-1.04.2-1.43.59L10.3 9.45l-7.72 7.72c-.78.78-.78 2.05 0 2.83L4 21.41c.39.39.9.59 1.41.59.51 0 1.02-.2 1.41-.59l7.78-7.78 2.81-2.81c.8-.78.8-2.07 0-2.86zM5.41 20L4 18.59l7.72-7.72 1.47 1.35L5.41 20z\"/>\n",
              "  </svg>\n",
              "      </button>\n",
              "      \n",
              "  <style>\n",
              "    .colab-df-container {\n",
              "      display:flex;\n",
              "      flex-wrap:wrap;\n",
              "      gap: 12px;\n",
              "    }\n",
              "\n",
              "    .colab-df-convert {\n",
              "      background-color: #E8F0FE;\n",
              "      border: none;\n",
              "      border-radius: 50%;\n",
              "      cursor: pointer;\n",
              "      display: none;\n",
              "      fill: #1967D2;\n",
              "      height: 32px;\n",
              "      padding: 0 0 0 0;\n",
              "      width: 32px;\n",
              "    }\n",
              "\n",
              "    .colab-df-convert:hover {\n",
              "      background-color: #E2EBFA;\n",
              "      box-shadow: 0px 1px 2px rgba(60, 64, 67, 0.3), 0px 1px 3px 1px rgba(60, 64, 67, 0.15);\n",
              "      fill: #174EA6;\n",
              "    }\n",
              "\n",
              "    [theme=dark] .colab-df-convert {\n",
              "      background-color: #3B4455;\n",
              "      fill: #D2E3FC;\n",
              "    }\n",
              "\n",
              "    [theme=dark] .colab-df-convert:hover {\n",
              "      background-color: #434B5C;\n",
              "      box-shadow: 0px 1px 3px 1px rgba(0, 0, 0, 0.15);\n",
              "      filter: drop-shadow(0px 1px 2px rgba(0, 0, 0, 0.3));\n",
              "      fill: #FFFFFF;\n",
              "    }\n",
              "  </style>\n",
              "\n",
              "      <script>\n",
              "        const buttonEl =\n",
              "          document.querySelector('#df-81d32816-2e01-4136-8330-2b67a347efaa button.colab-df-convert');\n",
              "        buttonEl.style.display =\n",
              "          google.colab.kernel.accessAllowed ? 'block' : 'none';\n",
              "\n",
              "        async function convertToInteractive(key) {\n",
              "          const element = document.querySelector('#df-81d32816-2e01-4136-8330-2b67a347efaa');\n",
              "          const dataTable =\n",
              "            await google.colab.kernel.invokeFunction('convertToInteractive',\n",
              "                                                     [key], {});\n",
              "          if (!dataTable) return;\n",
              "\n",
              "          const docLinkHtml = 'Like what you see? Visit the ' +\n",
              "            '<a target=\"_blank\" href=https://colab.research.google.com/notebooks/data_table.ipynb>data table notebook</a>'\n",
              "            + ' to learn more about interactive tables.';\n",
              "          element.innerHTML = '';\n",
              "          dataTable['output_type'] = 'display_data';\n",
              "          await google.colab.output.renderOutput(dataTable, element);\n",
              "          const docLink = document.createElement('div');\n",
              "          docLink.innerHTML = docLinkHtml;\n",
              "          element.appendChild(docLink);\n",
              "        }\n",
              "      </script>\n",
              "    </div>\n",
              "  </div>\n",
              "  "
            ]
          },
          "metadata": {},
          "execution_count": 559
        }
      ]
    },
    {
      "cell_type": "markdown",
      "source": [
        "Yep, Everything's there! We will save this to a csv file called \"final_data.csv\""
      ],
      "metadata": {
        "id": "VLOwdPn2IWQd"
      }
    },
    {
      "cell_type": "code",
      "source": [
        "final_dataset.to_csv('final_data.csv')\n",
        "!cp final_data.csv \"/content/drive/MyDrive/CURRENT Work files/GBI/Research Project/Report/Model_Building\""
      ],
      "metadata": {
        "id": "aVr-9WWtIgvA"
      },
      "execution_count": 560,
      "outputs": []
    },
    {
      "cell_type": "markdown",
      "source": [
        "The above code automatically places the new file in the folder you tell it to. You need the last line of code if you are running this program in google collab (.ipynb)"
      ],
      "metadata": {
        "id": "0oeLWR_IJUqW"
      }
    },
    {
      "cell_type": "markdown",
      "source": [
        "#This is the end of Mya's introductory data exploration tutorial."
      ],
      "metadata": {
        "id": "EfBqqwrbjFse"
      }
    }
  ]
}