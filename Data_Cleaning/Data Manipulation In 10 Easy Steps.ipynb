{
  "nbformat": 4,
  "nbformat_minor": 0,
  "metadata": {
    "colab": {
      "name": "Model2.ipynb",
      "provenance": [],
      "toc_visible": true
    },
    "kernelspec": {
      "name": "python3",
      "display_name": "Python 3"
    },
    "language_info": {
      "name": "python"
    }
  },
  "cells": [
    {
      "cell_type": "markdown",
      "source": [
        "This Jupyter Notebook was developed in Google Collab by Mya Yazbek on 3/10/2022. "
      ],
      "metadata": {
        "id": "TGZ6gFTlSPMS"
      }
    },
    {
      "cell_type": "markdown",
      "source": [
        "#Framing this project:\n",
        "\n",
        "This is data that needs to be cleaned for a model from [USDA's SNOTEL](https://www.nrcs.usda.gov/wps/portal/wcc/home/quicklinks/imap#version=158&elements=R&networks=!&states=AZ,CO,UT,WY&counties=!&hucs=&minElevation=&maxElevation=&elementSelectType=all&activeOnly=true&activeForecastPointsOnly=false&hucLabels=false&hucIdLabels=false&hucParameterLabels=false&stationLabels=name,id&overlays=&hucOverlays=az_8,co_8,ut_8,wy_8&basinOpacity=100&basinNoDataOpacity=100&basemapOpacity=100&maskOpacity=0&mode=data&openSections=dataElement,parameter,date,basin,options,elements,location,networks,baseMaps,overlays,labels&controlsOpen=true&popup=&popupMulti=&popupBasin=&base=esriNgwm&displayType=station&basinType=6&dataElement=WTEQ&depth=-8&parameter=PCTMED&frequency=DAILY&duration=I&customDuration=1&dayPart=E&monthPart=E&forecastPubDay=1&forecastExceedance=50&seqColor=1&divColor=3&scaleType=D&scaleMin=&scaleMax=&referencePeriodType=POR&referenceBegin=1981&referenceEnd=2020&minimumYears=20&hucAssociations=true&relativeDate=-1&lat=38.085&lon=-110.948&zoom=6.5) real time climate monitoring stations. You will be selecting one SNOTEL station's climate data to use for a river flow model out of 3, denoted by the unique identifiers at the beginning of each. The three SNOTEL sites all hold data on precipitation, snow water equivalent, soil moisture, soil temperature, and air temperature. You will select the attributes that exhibit the strongest correlation coeff when running against DC_Inflow, our endogenous variable. The Colorado River Discharge rate was provided by the USGS National Water Information System website's [listing for the gauge near Diamond Creek](https://waterdata.usgs.gov/nwis/inventory?site_no=09404200). Both these datasets span 15 years, from Jan. 2006 - Dec 2020. "
      ],
      "metadata": {
        "id": "eHFKxDs57VKZ"
      }
    },
    {
      "cell_type": "markdown",
      "source": [
        "The data file I am using for this coding session already had the two csv's of river discharge rate and SNOTEL data in the same file, which is up on my github as \""
      ],
      "metadata": {
        "id": "I2ra0Z4_Rywp"
      }
    },
    {
      "cell_type": "markdown",
      "source": [
        "#Step 1: Importing our packages"
      ],
      "metadata": {
        "id": "h3L_w19FPWdx"
      }
    },
    {
      "cell_type": "code",
      "execution_count": 240,
      "metadata": {
        "id": "KVpNmjDzpAL6"
      },
      "outputs": [],
      "source": [
        "import matplotlib.pyplot as plt\n",
        "import numpy as np\n",
        "import pandas as pd\n",
        "import seaborn as sns\n",
        "import statsmodels.api as sm\n",
        "import statsmodels.formula.api as smf"
      ]
    },
    {
      "cell_type": "markdown",
      "source": [
        "Great! All packages needed for cleaning, analyzing, and modeling our dataset are now installed. "
      ],
      "metadata": {
        "id": "Y-VSotVhpMpV"
      }
    },
    {
      "cell_type": "markdown",
      "source": [
        "#Step 2: Mounting our Google Drive and Importing Our Data"
      ],
      "metadata": {
        "id": "LPe9LUDpPbAq"
      }
    },
    {
      "cell_type": "code",
      "source": [
        "from google.colab import drive\n",
        "drive.mount('/content/drive')"
      ],
      "metadata": {
        "colab": {
          "base_uri": "https://localhost:8080/"
        },
        "id": "P2PS30MSpXAe",
        "outputId": "735ab291-3e67-4d03-ee16-c7aeba9d98a2"
      },
      "execution_count": 241,
      "outputs": [
        {
          "output_type": "stream",
          "name": "stdout",
          "text": [
            "Drive already mounted at /content/drive; to attempt to forcibly remount, call drive.mount(\"/content/drive\", force_remount=True).\n"
          ]
        }
      ]
    },
    {
      "cell_type": "markdown",
      "source": [
        "The above code mounts your drive. Select your account and press accept. I can now access the files I have in my google drive, which is where I have the csv file to load into a Pandas DataFrame."
      ],
      "metadata": {
        "id": "n7GMEqsnSbSl"
      }
    },
    {
      "cell_type": "markdown",
      "source": [
        "#Step 3: Load and View Data"
      ],
      "metadata": {
        "id": "MlbmHZ3qp07c"
      }
    },
    {
      "cell_type": "code",
      "source": [
        "#navigate to the file in your google drive by selecting the file folder \n",
        "#to the left of this text\n",
        "\n",
        "file = \"/content/drive/MyDrive/CURRENT Work files/GBI/Research Project/Report/Model_Building/SNOTEL_Site_Selection.csv\""
      ],
      "metadata": {
        "id": "Iuk1C2TJp4HN"
      },
      "execution_count": 242,
      "outputs": []
    },
    {
      "cell_type": "code",
      "source": [
        "data = pd.read_csv(file)"
      ],
      "metadata": {
        "id": "BT2NRW7gqL_W"
      },
      "execution_count": 243,
      "outputs": []
    },
    {
      "cell_type": "code",
      "source": [
        "data.head()"
      ],
      "metadata": {
        "colab": {
          "base_uri": "https://localhost:8080/",
          "height": 270
        },
        "id": "qxuJ3XalqPYL",
        "outputId": "941ebf43-9bcc-4a02-b922-3d530de1f0fd"
      },
      "execution_count": 244,
      "outputs": [
        {
          "output_type": "execute_result",
          "data": {
            "text/html": [
              "\n",
              "  <div id=\"df-f5fa6e5d-5be8-41e8-89e1-222e705b7422\">\n",
              "    <div class=\"colab-df-container\">\n",
              "      <div>\n",
              "<style scoped>\n",
              "    .dataframe tbody tr th:only-of-type {\n",
              "        vertical-align: middle;\n",
              "    }\n",
              "\n",
              "    .dataframe tbody tr th {\n",
              "        vertical-align: top;\n",
              "    }\n",
              "\n",
              "    .dataframe thead th {\n",
              "        text-align: right;\n",
              "    }\n",
              "</style>\n",
              "<table border=\"1\" class=\"dataframe\">\n",
              "  <thead>\n",
              "    <tr style=\"text-align: right;\">\n",
              "      <th></th>\n",
              "      <th>Date</th>\n",
              "      <th>Diamond_Creek_Inflow_Guage</th>\n",
              "      <th>Camp_Jackson_(383)\\nSWE_in\\n</th>\n",
              "      <th>Camp_Jackson_(383)\\nPrecipitation\\nAccumulation\\n(in)\\n</th>\n",
              "      <th>Camp_Jackson_(383)\\nAir\\nTemperature\\nObserved\\n(degF)\\n</th>\n",
              "      <th>Camp_Jackson_(383)\\nSoil\\nTemperature\\nObserved_-2in\\n(degF)\\n</th>\n",
              "      <th>Camp_Jackson_(383)\\nSoil\\nMoisture\\nPercent_-2in\\n(pct)\\n</th>\n",
              "      <th>East_Willow_Creek_(461)\\nSnow\\nWater\\nEquivalent\\n(in)\\n</th>\n",
              "      <th>East_Willow_Creek_(461)\\nPrecipitation\\nAccumulation\\n(in)\\n</th>\n",
              "      <th>East_Willow_Creek_(461)\\nAir\\nTemperature\\nObserved\\n(degF)\\n</th>\n",
              "      <th>East_Willow_Creek_(461)\\nSoil\\nTemperature\\nObserved_-2in\\n(degF)\\n</th>\n",
              "      <th>East_Willow_Creek_(461)\\nSoil\\nMoisture\\nPercent_-2in\\n(pct)\\n</th>\n",
              "      <th>Lasal_Mountain_(572)\\nSnow\\nWater\\nEquivalent\\n(in)\\n</th>\n",
              "      <th>Lasal_Mountain_(572)\\nPrecipitation\\nAccumulation\\n(in)\\n</th>\n",
              "      <th>Lasal_Mountain_(572)\\nAir\\nTemperature\\nObserved\\n(degF)\\n</th>\n",
              "      <th>Lasal_Mountain_(572)\\nSoil\\nTemperature\\nObserved_-2in\\n(degF)\\n</th>\n",
              "      <th>Lasal_Mountain_(572)\\nSoil\\nMoisture\\nPercent_-2in\\n(pct)\\n</th>\n",
              "    </tr>\n",
              "  </thead>\n",
              "  <tbody>\n",
              "    <tr>\n",
              "      <th>0</th>\n",
              "      <td>1/1/2006</td>\n",
              "      <td>12,050</td>\n",
              "      <td>0.8</td>\n",
              "      <td>3.8</td>\n",
              "      <td>29.0</td>\n",
              "      <td>33.0</td>\n",
              "      <td>9.0</td>\n",
              "      <td>0.9</td>\n",
              "      <td>2.0</td>\n",
              "      <td>31.0</td>\n",
              "      <td>NaN</td>\n",
              "      <td>NaN</td>\n",
              "      <td>3.8</td>\n",
              "      <td>7.5</td>\n",
              "      <td>28.0</td>\n",
              "      <td>34.0</td>\n",
              "      <td>5.1</td>\n",
              "    </tr>\n",
              "    <tr>\n",
              "      <th>1</th>\n",
              "      <td>2/1/2006</td>\n",
              "      <td>11,880</td>\n",
              "      <td>2.8</td>\n",
              "      <td>5.3</td>\n",
              "      <td>27.0</td>\n",
              "      <td>33.0</td>\n",
              "      <td>9.2</td>\n",
              "      <td>1.8</td>\n",
              "      <td>3.0</td>\n",
              "      <td>25.0</td>\n",
              "      <td>22.0</td>\n",
              "      <td>7.4</td>\n",
              "      <td>6.8</td>\n",
              "      <td>10.8</td>\n",
              "      <td>22.0</td>\n",
              "      <td>34.0</td>\n",
              "      <td>6.0</td>\n",
              "    </tr>\n",
              "    <tr>\n",
              "      <th>2</th>\n",
              "      <td>3/1/2006</td>\n",
              "      <td>11,130</td>\n",
              "      <td>2.9</td>\n",
              "      <td>5.8</td>\n",
              "      <td>33.0</td>\n",
              "      <td>34.0</td>\n",
              "      <td>11.3</td>\n",
              "      <td>1.8</td>\n",
              "      <td>3.3</td>\n",
              "      <td>36.0</td>\n",
              "      <td>29.0</td>\n",
              "      <td>11.7</td>\n",
              "      <td>7.3</td>\n",
              "      <td>12.0</td>\n",
              "      <td>33.0</td>\n",
              "      <td>34.0</td>\n",
              "      <td>12.0</td>\n",
              "    </tr>\n",
              "    <tr>\n",
              "      <th>3</th>\n",
              "      <td>4/1/2006</td>\n",
              "      <td>10,620</td>\n",
              "      <td>8.1</td>\n",
              "      <td>11.2</td>\n",
              "      <td>31.0</td>\n",
              "      <td>35.0</td>\n",
              "      <td>33.3</td>\n",
              "      <td>4.1</td>\n",
              "      <td>6.4</td>\n",
              "      <td>34.0</td>\n",
              "      <td>34.0</td>\n",
              "      <td>27.4</td>\n",
              "      <td>11.7</td>\n",
              "      <td>18.5</td>\n",
              "      <td>31.0</td>\n",
              "      <td>34.0</td>\n",
              "      <td>25.7</td>\n",
              "    </tr>\n",
              "    <tr>\n",
              "      <th>4</th>\n",
              "      <td>5/1/2006</td>\n",
              "      <td>13,500</td>\n",
              "      <td>0.0</td>\n",
              "      <td>12.4</td>\n",
              "      <td>45.0</td>\n",
              "      <td>46.0</td>\n",
              "      <td>23.8</td>\n",
              "      <td>0.0</td>\n",
              "      <td>6.9</td>\n",
              "      <td>41.0</td>\n",
              "      <td>47.0</td>\n",
              "      <td>17.2</td>\n",
              "      <td>0.0</td>\n",
              "      <td>21.0</td>\n",
              "      <td>NaN</td>\n",
              "      <td>50.0</td>\n",
              "      <td>12.6</td>\n",
              "    </tr>\n",
              "  </tbody>\n",
              "</table>\n",
              "</div>\n",
              "      <button class=\"colab-df-convert\" onclick=\"convertToInteractive('df-f5fa6e5d-5be8-41e8-89e1-222e705b7422')\"\n",
              "              title=\"Convert this dataframe to an interactive table.\"\n",
              "              style=\"display:none;\">\n",
              "        \n",
              "  <svg xmlns=\"http://www.w3.org/2000/svg\" height=\"24px\"viewBox=\"0 0 24 24\"\n",
              "       width=\"24px\">\n",
              "    <path d=\"M0 0h24v24H0V0z\" fill=\"none\"/>\n",
              "    <path d=\"M18.56 5.44l.94 2.06.94-2.06 2.06-.94-2.06-.94-.94-2.06-.94 2.06-2.06.94zm-11 1L8.5 8.5l.94-2.06 2.06-.94-2.06-.94L8.5 2.5l-.94 2.06-2.06.94zm10 10l.94 2.06.94-2.06 2.06-.94-2.06-.94-.94-2.06-.94 2.06-2.06.94z\"/><path d=\"M17.41 7.96l-1.37-1.37c-.4-.4-.92-.59-1.43-.59-.52 0-1.04.2-1.43.59L10.3 9.45l-7.72 7.72c-.78.78-.78 2.05 0 2.83L4 21.41c.39.39.9.59 1.41.59.51 0 1.02-.2 1.41-.59l7.78-7.78 2.81-2.81c.8-.78.8-2.07 0-2.86zM5.41 20L4 18.59l7.72-7.72 1.47 1.35L5.41 20z\"/>\n",
              "  </svg>\n",
              "      </button>\n",
              "      \n",
              "  <style>\n",
              "    .colab-df-container {\n",
              "      display:flex;\n",
              "      flex-wrap:wrap;\n",
              "      gap: 12px;\n",
              "    }\n",
              "\n",
              "    .colab-df-convert {\n",
              "      background-color: #E8F0FE;\n",
              "      border: none;\n",
              "      border-radius: 50%;\n",
              "      cursor: pointer;\n",
              "      display: none;\n",
              "      fill: #1967D2;\n",
              "      height: 32px;\n",
              "      padding: 0 0 0 0;\n",
              "      width: 32px;\n",
              "    }\n",
              "\n",
              "    .colab-df-convert:hover {\n",
              "      background-color: #E2EBFA;\n",
              "      box-shadow: 0px 1px 2px rgba(60, 64, 67, 0.3), 0px 1px 3px 1px rgba(60, 64, 67, 0.15);\n",
              "      fill: #174EA6;\n",
              "    }\n",
              "\n",
              "    [theme=dark] .colab-df-convert {\n",
              "      background-color: #3B4455;\n",
              "      fill: #D2E3FC;\n",
              "    }\n",
              "\n",
              "    [theme=dark] .colab-df-convert:hover {\n",
              "      background-color: #434B5C;\n",
              "      box-shadow: 0px 1px 3px 1px rgba(0, 0, 0, 0.15);\n",
              "      filter: drop-shadow(0px 1px 2px rgba(0, 0, 0, 0.3));\n",
              "      fill: #FFFFFF;\n",
              "    }\n",
              "  </style>\n",
              "\n",
              "      <script>\n",
              "        const buttonEl =\n",
              "          document.querySelector('#df-f5fa6e5d-5be8-41e8-89e1-222e705b7422 button.colab-df-convert');\n",
              "        buttonEl.style.display =\n",
              "          google.colab.kernel.accessAllowed ? 'block' : 'none';\n",
              "\n",
              "        async function convertToInteractive(key) {\n",
              "          const element = document.querySelector('#df-f5fa6e5d-5be8-41e8-89e1-222e705b7422');\n",
              "          const dataTable =\n",
              "            await google.colab.kernel.invokeFunction('convertToInteractive',\n",
              "                                                     [key], {});\n",
              "          if (!dataTable) return;\n",
              "\n",
              "          const docLinkHtml = 'Like what you see? Visit the ' +\n",
              "            '<a target=\"_blank\" href=https://colab.research.google.com/notebooks/data_table.ipynb>data table notebook</a>'\n",
              "            + ' to learn more about interactive tables.';\n",
              "          element.innerHTML = '';\n",
              "          dataTable['output_type'] = 'display_data';\n",
              "          await google.colab.output.renderOutput(dataTable, element);\n",
              "          const docLink = document.createElement('div');\n",
              "          docLink.innerHTML = docLinkHtml;\n",
              "          element.appendChild(docLink);\n",
              "        }\n",
              "      </script>\n",
              "    </div>\n",
              "  </div>\n",
              "  "
            ],
            "text/plain": [
              "       Date Diamond_Creek_Inflow_Guage  Camp_Jackson_(383)\\nSWE_in\\n  \\\n",
              "0  1/1/2006                     12,050                           0.8   \n",
              "1  2/1/2006                     11,880                           2.8   \n",
              "2  3/1/2006                     11,130                           2.9   \n",
              "3  4/1/2006                     10,620                           8.1   \n",
              "4  5/1/2006                     13,500                           0.0   \n",
              "\n",
              "   Camp_Jackson_(383)\\nPrecipitation\\nAccumulation\\n(in)\\n  \\\n",
              "0                                                3.8         \n",
              "1                                                5.3         \n",
              "2                                                5.8         \n",
              "3                                               11.2         \n",
              "4                                               12.4         \n",
              "\n",
              "   Camp_Jackson_(383)\\nAir\\nTemperature\\nObserved\\n(degF)\\n  \\\n",
              "0                                               29.0          \n",
              "1                                               27.0          \n",
              "2                                               33.0          \n",
              "3                                               31.0          \n",
              "4                                               45.0          \n",
              "\n",
              "   Camp_Jackson_(383)\\nSoil\\nTemperature\\nObserved_-2in\\n(degF)\\n  \\\n",
              "0                                               33.0                \n",
              "1                                               33.0                \n",
              "2                                               34.0                \n",
              "3                                               35.0                \n",
              "4                                               46.0                \n",
              "\n",
              "   Camp_Jackson_(383)\\nSoil\\nMoisture\\nPercent_-2in\\n(pct)\\n  \\\n",
              "0                                                9.0           \n",
              "1                                                9.2           \n",
              "2                                               11.3           \n",
              "3                                               33.3           \n",
              "4                                               23.8           \n",
              "\n",
              "   East_Willow_Creek_(461)\\nSnow\\nWater\\nEquivalent\\n(in)\\n  \\\n",
              "0                                                0.9          \n",
              "1                                                1.8          \n",
              "2                                                1.8          \n",
              "3                                                4.1          \n",
              "4                                                0.0          \n",
              "\n",
              "   East_Willow_Creek_(461)\\nPrecipitation\\nAccumulation\\n(in)\\n  \\\n",
              "0                                                2.0              \n",
              "1                                                3.0              \n",
              "2                                                3.3              \n",
              "3                                                6.4              \n",
              "4                                                6.9              \n",
              "\n",
              "   East_Willow_Creek_(461)\\nAir\\nTemperature\\nObserved\\n(degF)\\n  \\\n",
              "0                                               31.0               \n",
              "1                                               25.0               \n",
              "2                                               36.0               \n",
              "3                                               34.0               \n",
              "4                                               41.0               \n",
              "\n",
              "   East_Willow_Creek_(461)\\nSoil\\nTemperature\\nObserved_-2in\\n(degF)\\n  \\\n",
              "0                                                NaN                     \n",
              "1                                               22.0                     \n",
              "2                                               29.0                     \n",
              "3                                               34.0                     \n",
              "4                                               47.0                     \n",
              "\n",
              "   East_Willow_Creek_(461)\\nSoil\\nMoisture\\nPercent_-2in\\n(pct)\\n  \\\n",
              "0                                                NaN                \n",
              "1                                                7.4                \n",
              "2                                               11.7                \n",
              "3                                               27.4                \n",
              "4                                               17.2                \n",
              "\n",
              "   Lasal_Mountain_(572)\\nSnow\\nWater\\nEquivalent\\n(in)\\n  \\\n",
              "0                                                3.8       \n",
              "1                                                6.8       \n",
              "2                                                7.3       \n",
              "3                                               11.7       \n",
              "4                                                0.0       \n",
              "\n",
              "   Lasal_Mountain_(572)\\nPrecipitation\\nAccumulation\\n(in)\\n  \\\n",
              "0                                                7.5           \n",
              "1                                               10.8           \n",
              "2                                               12.0           \n",
              "3                                               18.5           \n",
              "4                                               21.0           \n",
              "\n",
              "   Lasal_Mountain_(572)\\nAir\\nTemperature\\nObserved\\n(degF)\\n  \\\n",
              "0                                               28.0            \n",
              "1                                               22.0            \n",
              "2                                               33.0            \n",
              "3                                               31.0            \n",
              "4                                                NaN            \n",
              "\n",
              "   Lasal_Mountain_(572)\\nSoil\\nTemperature\\nObserved_-2in\\n(degF)\\n  \\\n",
              "0                                               34.0                  \n",
              "1                                               34.0                  \n",
              "2                                               34.0                  \n",
              "3                                               34.0                  \n",
              "4                                               50.0                  \n",
              "\n",
              "   Lasal_Mountain_(572)\\nSoil\\nMoisture\\nPercent_-2in\\n(pct)\\n  \n",
              "0                                                5.1            \n",
              "1                                                6.0            \n",
              "2                                               12.0            \n",
              "3                                               25.7            \n",
              "4                                               12.6            "
            ]
          },
          "metadata": {},
          "execution_count": 244
        }
      ]
    },
    {
      "cell_type": "code",
      "source": [
        "#data.info()"
      ],
      "metadata": {
        "id": "tBymr7BuqQTT"
      },
      "execution_count": 245,
      "outputs": []
    },
    {
      "cell_type": "markdown",
      "source": [
        "#Step 4: Cleaning your dataset"
      ],
      "metadata": {
        "id": "1V5gBwejqct0"
      }
    },
    {
      "cell_type": "markdown",
      "source": [
        "Filling nulls"
      ],
      "metadata": {
        "id": "jcXGx5wrqjO9"
      }
    },
    {
      "cell_type": "code",
      "source": [
        "data2 = data.fillna(method=\"ffill\")"
      ],
      "metadata": {
        "id": "YcOi4F8eqfoE"
      },
      "execution_count": 246,
      "outputs": []
    },
    {
      "cell_type": "markdown",
      "source": [
        "Renaming columns for accessibility"
      ],
      "metadata": {
        "id": "UJk2Ukvqqsb0"
      }
    },
    {
      "cell_type": "markdown",
      "source": [
        "Start with putting our column names in a list"
      ],
      "metadata": {
        "id": "OHS9dx9Wq2Vm"
      }
    },
    {
      "cell_type": "code",
      "source": [
        "my_list = data2.columns.values.tolist()\n",
        "\n",
        "print(my_list)"
      ],
      "metadata": {
        "colab": {
          "base_uri": "https://localhost:8080/"
        },
        "id": "WeP1zgL4qlNe",
        "outputId": "ff1631ff-73d6-4361-efa6-0efcc20c0ac8"
      },
      "execution_count": 247,
      "outputs": [
        {
          "output_type": "stream",
          "name": "stdout",
          "text": [
            "['Date', 'Diamond_Creek_Inflow_Guage', 'Camp_Jackson_(383)\\nSWE_in\\n', 'Camp_Jackson_(383)\\nPrecipitation\\nAccumulation\\n(in)\\n', 'Camp_Jackson_(383)\\nAir\\nTemperature\\nObserved\\n(degF)\\n', 'Camp_Jackson_(383)\\nSoil\\nTemperature\\nObserved_-2in\\n(degF)\\n', 'Camp_Jackson_(383)\\nSoil\\nMoisture\\nPercent_-2in\\n(pct)\\n', 'East_Willow_Creek_(461)\\nSnow\\nWater\\nEquivalent\\n(in)\\n', 'East_Willow_Creek_(461)\\nPrecipitation\\nAccumulation\\n(in)\\n', 'East_Willow_Creek_(461)\\nAir\\nTemperature\\nObserved\\n(degF)\\n', 'East_Willow_Creek_(461)\\nSoil\\nTemperature\\nObserved_-2in\\n(degF)\\n', 'East_Willow_Creek_(461)\\nSoil\\nMoisture\\nPercent_-2in\\n(pct)\\n', 'Lasal_Mountain_(572)\\nSnow\\nWater\\nEquivalent\\n(in)\\n', 'Lasal_Mountain_(572)\\nPrecipitation\\nAccumulation\\n(in)\\n', 'Lasal_Mountain_(572)\\nAir\\nTemperature\\nObserved\\n(degF)\\n', 'Lasal_Mountain_(572)\\nSoil\\nTemperature\\nObserved_-2in\\n(degF)\\n', 'Lasal_Mountain_(572)\\nSoil\\nMoisture\\nPercent_-2in\\n(pct)\\n']\n"
          ]
        }
      ]
    },
    {
      "cell_type": "code",
      "source": [
        "print(len(my_list))"
      ],
      "metadata": {
        "colab": {
          "base_uri": "https://localhost:8080/"
        },
        "id": "vEtCQTJhrmtt",
        "outputId": "6f4b78a6-4a93-4484-c706-4bec2f4b65fb"
      },
      "execution_count": 248,
      "outputs": [
        {
          "output_type": "stream",
          "name": "stdout",
          "text": [
            "17\n"
          ]
        }
      ]
    },
    {
      "cell_type": "markdown",
      "source": [
        "We will now rename the columns using .rename()"
      ],
      "metadata": {
        "id": "2XhgIHXcq9_E"
      }
    },
    {
      "cell_type": "code",
      "source": [
        "data3 = data2.rename(columns={'Date':\"Date\", 'Diamond_Creek_Inflow_Guage':\"DC_Inflow\", 'Camp_Jackson_(383)\\nSWE_in\\n':\"CJ383_SWE_IN\", 'Camp_Jackson_(383)\\nPrecipitation\\nAccumulation\\n(in)\\n':\"CJ383_PA_IN\", 'Camp_Jackson_(383)\\nAir\\nTemperature\\nObserved\\n(degF)\\n':\"CJ383_ATO_DEGF\", 'Camp_Jackson_(383)\\nSoil\\nTemperature\\nObserved_-2in\\n(degF)\\n':\"CJ383_STO_2IN_DEGF\", 'Camp_Jackson_(383)\\nSoil\\nMoisture\\nPercent_-2in\\n(pct)\\n':\"CJ383_SMP_2IN_PCT\", 'East_Willow_Creek_(461)\\nSnow\\nWater\\nEquivalent\\n(in)\\n':\"EWC461_SWE_IN_\", 'East_Willow_Creek_(461)\\nPrecipitation\\nAccumulation\\n(in)\\n':\"EWC461_PA_IN\", 'East_Willow_Creek_(461)\\nAir\\nTemperature\\nObserved\\n(degF)\\n':\"EWC461_ATO_DEGF\", 'East_Willow_Creek_(461)\\nSoil\\nTemperature\\nObserved_-2in\\n(degF)\\n':\"EWC461_STO_2IN_DEGF\", 'East_Willow_Creek_(461)\\nSoil\\nMoisture\\nPercent_-2in\\n(pct)\\n':\"EWC461_SMP_2IN_PCT\", 'Lasal_Mountain_(572)\\nSnow\\nWater\\nEquivalent\\n(in)\\n':\"LM572_SWE_IN\", 'Lasal_Mountain_(572)\\nPrecipitation\\nAccumulation\\n(in)\\n':\"LM572_PRECP_IN\", 'Lasal_Mountain_(572)\\nAir\\nTemperature\\nObserved\\n(degF)\\n':\"LM572_ATO_2IN_DEGF\", 'Lasal_Mountain_(572)\\nSoil\\nTemperature\\nObserved_-2in\\n(degF)\\n':\"LM572_STO_2IN_DEGF\", 'Lasal_Mountain_(572)\\nSoil\\nMoisture\\nPercent_-2in\\n(pct)\\n':\"LM572_SMP_2IN_PCT\"})\n"
      ],
      "metadata": {
        "id": "MhTJ9P1DrGyP"
      },
      "execution_count": 249,
      "outputs": []
    },
    {
      "cell_type": "code",
      "source": [
        "my_list2 = data3.columns.values.tolist()\n",
        "\n",
        "print(my_list2)"
      ],
      "metadata": {
        "colab": {
          "base_uri": "https://localhost:8080/"
        },
        "outputId": "8e907e20-fdd9-40ee-eec5-d7b6ed10623a",
        "id": "FaWXabzdyfkP"
      },
      "execution_count": 250,
      "outputs": [
        {
          "output_type": "stream",
          "name": "stdout",
          "text": [
            "['Date', 'DC_Inflow', 'CJ383_SWE_IN', 'CJ383_PA_IN', 'CJ383_ATO_DEGF', 'CJ383_STO_2IN_DEGF', 'CJ383_SMP_2IN_PCT', 'EWC461_SWE_IN_', 'EWC461_PA_IN', 'EWC461_ATO_DEGF', 'EWC461_STO_2IN_DEGF', 'EWC461_SMP_2IN_PCT', 'LM572_SWE_IN', 'LM572_PRECP_IN', 'LM572_ATO_2IN_DEGF', 'LM572_STO_2IN_DEGF', 'LM572_SMP_2IN_PCT']\n"
          ]
        }
      ]
    },
    {
      "cell_type": "code",
      "source": [
        "data3.head()"
      ],
      "metadata": {
        "colab": {
          "base_uri": "https://localhost:8080/",
          "height": 270
        },
        "id": "TNmNs1X_4ldt",
        "outputId": "2c3b5921-3add-41bb-a916-f9b70c311f7f"
      },
      "execution_count": 251,
      "outputs": [
        {
          "output_type": "execute_result",
          "data": {
            "text/html": [
              "\n",
              "  <div id=\"df-c1ec1773-ba9e-410c-b7da-8ccb9590e63a\">\n",
              "    <div class=\"colab-df-container\">\n",
              "      <div>\n",
              "<style scoped>\n",
              "    .dataframe tbody tr th:only-of-type {\n",
              "        vertical-align: middle;\n",
              "    }\n",
              "\n",
              "    .dataframe tbody tr th {\n",
              "        vertical-align: top;\n",
              "    }\n",
              "\n",
              "    .dataframe thead th {\n",
              "        text-align: right;\n",
              "    }\n",
              "</style>\n",
              "<table border=\"1\" class=\"dataframe\">\n",
              "  <thead>\n",
              "    <tr style=\"text-align: right;\">\n",
              "      <th></th>\n",
              "      <th>Date</th>\n",
              "      <th>DC_Inflow</th>\n",
              "      <th>CJ383_SWE_IN</th>\n",
              "      <th>CJ383_PA_IN</th>\n",
              "      <th>CJ383_ATO_DEGF</th>\n",
              "      <th>CJ383_STO_2IN_DEGF</th>\n",
              "      <th>CJ383_SMP_2IN_PCT</th>\n",
              "      <th>EWC461_SWE_IN_</th>\n",
              "      <th>EWC461_PA_IN</th>\n",
              "      <th>EWC461_ATO_DEGF</th>\n",
              "      <th>EWC461_STO_2IN_DEGF</th>\n",
              "      <th>EWC461_SMP_2IN_PCT</th>\n",
              "      <th>LM572_SWE_IN</th>\n",
              "      <th>LM572_PRECP_IN</th>\n",
              "      <th>LM572_ATO_2IN_DEGF</th>\n",
              "      <th>LM572_STO_2IN_DEGF</th>\n",
              "      <th>LM572_SMP_2IN_PCT</th>\n",
              "    </tr>\n",
              "  </thead>\n",
              "  <tbody>\n",
              "    <tr>\n",
              "      <th>0</th>\n",
              "      <td>1/1/2006</td>\n",
              "      <td>12,050</td>\n",
              "      <td>0.8</td>\n",
              "      <td>3.8</td>\n",
              "      <td>29.0</td>\n",
              "      <td>33.0</td>\n",
              "      <td>9.0</td>\n",
              "      <td>0.9</td>\n",
              "      <td>2.0</td>\n",
              "      <td>31.0</td>\n",
              "      <td>NaN</td>\n",
              "      <td>NaN</td>\n",
              "      <td>3.8</td>\n",
              "      <td>7.5</td>\n",
              "      <td>28.0</td>\n",
              "      <td>34.0</td>\n",
              "      <td>5.1</td>\n",
              "    </tr>\n",
              "    <tr>\n",
              "      <th>1</th>\n",
              "      <td>2/1/2006</td>\n",
              "      <td>11,880</td>\n",
              "      <td>2.8</td>\n",
              "      <td>5.3</td>\n",
              "      <td>27.0</td>\n",
              "      <td>33.0</td>\n",
              "      <td>9.2</td>\n",
              "      <td>1.8</td>\n",
              "      <td>3.0</td>\n",
              "      <td>25.0</td>\n",
              "      <td>22.0</td>\n",
              "      <td>7.4</td>\n",
              "      <td>6.8</td>\n",
              "      <td>10.8</td>\n",
              "      <td>22.0</td>\n",
              "      <td>34.0</td>\n",
              "      <td>6.0</td>\n",
              "    </tr>\n",
              "    <tr>\n",
              "      <th>2</th>\n",
              "      <td>3/1/2006</td>\n",
              "      <td>11,130</td>\n",
              "      <td>2.9</td>\n",
              "      <td>5.8</td>\n",
              "      <td>33.0</td>\n",
              "      <td>34.0</td>\n",
              "      <td>11.3</td>\n",
              "      <td>1.8</td>\n",
              "      <td>3.3</td>\n",
              "      <td>36.0</td>\n",
              "      <td>29.0</td>\n",
              "      <td>11.7</td>\n",
              "      <td>7.3</td>\n",
              "      <td>12.0</td>\n",
              "      <td>33.0</td>\n",
              "      <td>34.0</td>\n",
              "      <td>12.0</td>\n",
              "    </tr>\n",
              "    <tr>\n",
              "      <th>3</th>\n",
              "      <td>4/1/2006</td>\n",
              "      <td>10,620</td>\n",
              "      <td>8.1</td>\n",
              "      <td>11.2</td>\n",
              "      <td>31.0</td>\n",
              "      <td>35.0</td>\n",
              "      <td>33.3</td>\n",
              "      <td>4.1</td>\n",
              "      <td>6.4</td>\n",
              "      <td>34.0</td>\n",
              "      <td>34.0</td>\n",
              "      <td>27.4</td>\n",
              "      <td>11.7</td>\n",
              "      <td>18.5</td>\n",
              "      <td>31.0</td>\n",
              "      <td>34.0</td>\n",
              "      <td>25.7</td>\n",
              "    </tr>\n",
              "    <tr>\n",
              "      <th>4</th>\n",
              "      <td>5/1/2006</td>\n",
              "      <td>13,500</td>\n",
              "      <td>0.0</td>\n",
              "      <td>12.4</td>\n",
              "      <td>45.0</td>\n",
              "      <td>46.0</td>\n",
              "      <td>23.8</td>\n",
              "      <td>0.0</td>\n",
              "      <td>6.9</td>\n",
              "      <td>41.0</td>\n",
              "      <td>47.0</td>\n",
              "      <td>17.2</td>\n",
              "      <td>0.0</td>\n",
              "      <td>21.0</td>\n",
              "      <td>31.0</td>\n",
              "      <td>50.0</td>\n",
              "      <td>12.6</td>\n",
              "    </tr>\n",
              "  </tbody>\n",
              "</table>\n",
              "</div>\n",
              "      <button class=\"colab-df-convert\" onclick=\"convertToInteractive('df-c1ec1773-ba9e-410c-b7da-8ccb9590e63a')\"\n",
              "              title=\"Convert this dataframe to an interactive table.\"\n",
              "              style=\"display:none;\">\n",
              "        \n",
              "  <svg xmlns=\"http://www.w3.org/2000/svg\" height=\"24px\"viewBox=\"0 0 24 24\"\n",
              "       width=\"24px\">\n",
              "    <path d=\"M0 0h24v24H0V0z\" fill=\"none\"/>\n",
              "    <path d=\"M18.56 5.44l.94 2.06.94-2.06 2.06-.94-2.06-.94-.94-2.06-.94 2.06-2.06.94zm-11 1L8.5 8.5l.94-2.06 2.06-.94-2.06-.94L8.5 2.5l-.94 2.06-2.06.94zm10 10l.94 2.06.94-2.06 2.06-.94-2.06-.94-.94-2.06-.94 2.06-2.06.94z\"/><path d=\"M17.41 7.96l-1.37-1.37c-.4-.4-.92-.59-1.43-.59-.52 0-1.04.2-1.43.59L10.3 9.45l-7.72 7.72c-.78.78-.78 2.05 0 2.83L4 21.41c.39.39.9.59 1.41.59.51 0 1.02-.2 1.41-.59l7.78-7.78 2.81-2.81c.8-.78.8-2.07 0-2.86zM5.41 20L4 18.59l7.72-7.72 1.47 1.35L5.41 20z\"/>\n",
              "  </svg>\n",
              "      </button>\n",
              "      \n",
              "  <style>\n",
              "    .colab-df-container {\n",
              "      display:flex;\n",
              "      flex-wrap:wrap;\n",
              "      gap: 12px;\n",
              "    }\n",
              "\n",
              "    .colab-df-convert {\n",
              "      background-color: #E8F0FE;\n",
              "      border: none;\n",
              "      border-radius: 50%;\n",
              "      cursor: pointer;\n",
              "      display: none;\n",
              "      fill: #1967D2;\n",
              "      height: 32px;\n",
              "      padding: 0 0 0 0;\n",
              "      width: 32px;\n",
              "    }\n",
              "\n",
              "    .colab-df-convert:hover {\n",
              "      background-color: #E2EBFA;\n",
              "      box-shadow: 0px 1px 2px rgba(60, 64, 67, 0.3), 0px 1px 3px 1px rgba(60, 64, 67, 0.15);\n",
              "      fill: #174EA6;\n",
              "    }\n",
              "\n",
              "    [theme=dark] .colab-df-convert {\n",
              "      background-color: #3B4455;\n",
              "      fill: #D2E3FC;\n",
              "    }\n",
              "\n",
              "    [theme=dark] .colab-df-convert:hover {\n",
              "      background-color: #434B5C;\n",
              "      box-shadow: 0px 1px 3px 1px rgba(0, 0, 0, 0.15);\n",
              "      filter: drop-shadow(0px 1px 2px rgba(0, 0, 0, 0.3));\n",
              "      fill: #FFFFFF;\n",
              "    }\n",
              "  </style>\n",
              "\n",
              "      <script>\n",
              "        const buttonEl =\n",
              "          document.querySelector('#df-c1ec1773-ba9e-410c-b7da-8ccb9590e63a button.colab-df-convert');\n",
              "        buttonEl.style.display =\n",
              "          google.colab.kernel.accessAllowed ? 'block' : 'none';\n",
              "\n",
              "        async function convertToInteractive(key) {\n",
              "          const element = document.querySelector('#df-c1ec1773-ba9e-410c-b7da-8ccb9590e63a');\n",
              "          const dataTable =\n",
              "            await google.colab.kernel.invokeFunction('convertToInteractive',\n",
              "                                                     [key], {});\n",
              "          if (!dataTable) return;\n",
              "\n",
              "          const docLinkHtml = 'Like what you see? Visit the ' +\n",
              "            '<a target=\"_blank\" href=https://colab.research.google.com/notebooks/data_table.ipynb>data table notebook</a>'\n",
              "            + ' to learn more about interactive tables.';\n",
              "          element.innerHTML = '';\n",
              "          dataTable['output_type'] = 'display_data';\n",
              "          await google.colab.output.renderOutput(dataTable, element);\n",
              "          const docLink = document.createElement('div');\n",
              "          docLink.innerHTML = docLinkHtml;\n",
              "          element.appendChild(docLink);\n",
              "        }\n",
              "      </script>\n",
              "    </div>\n",
              "  </div>\n",
              "  "
            ],
            "text/plain": [
              "       Date DC_Inflow  CJ383_SWE_IN  CJ383_PA_IN  CJ383_ATO_DEGF  \\\n",
              "0  1/1/2006    12,050           0.8          3.8            29.0   \n",
              "1  2/1/2006    11,880           2.8          5.3            27.0   \n",
              "2  3/1/2006    11,130           2.9          5.8            33.0   \n",
              "3  4/1/2006    10,620           8.1         11.2            31.0   \n",
              "4  5/1/2006    13,500           0.0         12.4            45.0   \n",
              "\n",
              "   CJ383_STO_2IN_DEGF  CJ383_SMP_2IN_PCT  EWC461_SWE_IN_  EWC461_PA_IN  \\\n",
              "0                33.0                9.0             0.9           2.0   \n",
              "1                33.0                9.2             1.8           3.0   \n",
              "2                34.0               11.3             1.8           3.3   \n",
              "3                35.0               33.3             4.1           6.4   \n",
              "4                46.0               23.8             0.0           6.9   \n",
              "\n",
              "   EWC461_ATO_DEGF  EWC461_STO_2IN_DEGF  EWC461_SMP_2IN_PCT  LM572_SWE_IN  \\\n",
              "0             31.0                  NaN                 NaN           3.8   \n",
              "1             25.0                 22.0                 7.4           6.8   \n",
              "2             36.0                 29.0                11.7           7.3   \n",
              "3             34.0                 34.0                27.4          11.7   \n",
              "4             41.0                 47.0                17.2           0.0   \n",
              "\n",
              "   LM572_PRECP_IN  LM572_ATO_2IN_DEGF  LM572_STO_2IN_DEGF  LM572_SMP_2IN_PCT  \n",
              "0             7.5                28.0                34.0                5.1  \n",
              "1            10.8                22.0                34.0                6.0  \n",
              "2            12.0                33.0                34.0               12.0  \n",
              "3            18.5                31.0                34.0               25.7  \n",
              "4            21.0                31.0                50.0               12.6  "
            ]
          },
          "metadata": {},
          "execution_count": 251
        }
      ]
    },
    {
      "cell_type": "markdown",
      "source": [
        "#Step 5: Visualizing your data"
      ],
      "metadata": {
        "id": "Gs2cRMhEypON"
      }
    },
    {
      "cell_type": "markdown",
      "source": [
        "Lets plot the Soil Temp Observed at a 2 inch depth in Degree Farenheit at the Lasal Mountain observation site. "
      ],
      "metadata": {
        "id": "nqZuOmJbzOCm"
      }
    },
    {
      "cell_type": "code",
      "source": [
        "x_axis = data3[\"Date\"]\n",
        "y_axis = data3[\"LM572_STO_2IN_DEGF\"]"
      ],
      "metadata": {
        "id": "383MyW-Ezdao"
      },
      "execution_count": 252,
      "outputs": []
    },
    {
      "cell_type": "code",
      "source": [
        "plt.plot(x_axis, y_axis)\n",
        "plt.grid(True)\n",
        "plt.title(\"Graph of Soil Temp Observed at a 2 inch depth in Degree Farenheit at the Lasal Mountain observation site\\n\\n\", size = 15)\n",
        "plt.suptitle(\"From 2006-2020\")\n",
        "plt.xlabel(\"Date\")\n",
        "plt.ylabel(\"Soil Temp in DEG F\\n\")\n",
        "\n",
        "positions = [15, 45, 75, 105, 135, 165, 180]\n",
        "pos_list = []\n",
        "\n",
        "for num in positions:\n",
        "  pos_list.append(x_axis.iloc[num])\n",
        "\n",
        "\n",
        "#print(pos_list)\n",
        "plt.xticks(ticks = positions, labels = pos_list, rotation = 'vertical');"
      ],
      "metadata": {
        "colab": {
          "base_uri": "https://localhost:8080/",
          "height": 373
        },
        "id": "ngmKsZ_2yn5i",
        "outputId": "79768600-bcb6-4b13-9f2f-986a4d6e5a44"
      },
      "execution_count": 253,
      "outputs": [
        {
          "output_type": "display_data",
          "data": {
            "image/png": "[encoded data removed]",
            "text/plain": [
              "<Figure size 432x288 with 1 Axes>"
            ]
          },
          "metadata": {
            "needs_background": "light"
          }
        }
      ]
    },
    {
      "cell_type": "markdown",
      "source": [
        "Now Let's plot Precipitation at Camp Jackson, Lasal Mountain, and East Willow Creek over 15 years"
      ],
      "metadata": {
        "id": "cW6Wn2iO0DAF"
      }
    },
    {
      "cell_type": "code",
      "source": [
        "x = data3[\"Date\"]\n",
        "y1 = data3[\"CJ383_PA_IN\"]\n",
        "y2 = data3[\"EWC461_PA_IN\"]\n",
        "y3 = data3[\"LM572_PRECP_IN\"]"
      ],
      "metadata": {
        "id": "lFXI6eMW1Mn_"
      },
      "execution_count": 254,
      "outputs": []
    },
    {
      "cell_type": "code",
      "source": [
        "plt.figure(figsize = (10, 7))\n",
        "\n",
        "# Plot 1st line\n",
        "plt.plot(x, y1, 'r', linestyle= 'dashed', label = \"Camp Jackson Precipitation\")\n",
        "\n",
        "# Plot 2nd line\n",
        "plt.plot(x, y2, 'b', label=\"East Willow Creek Precipitation\")\n",
        "\n",
        "# Plot 3rd line\n",
        "plt.plot(x, y3, 'g', linestyle = 'dotted', label='Lasal Mountain Precipitation');\n",
        "\n",
        "plt.title(\"Graph of Precipitation at Camp Jackson, East Willow Creek,\\n and Lasal Mountain SNOTEL Monitoring Sites From 2006-2020\", size = 15)\n",
        "plt.suptitle(\"\")\n",
        "plt.xlabel(\"Date\")\n",
        "plt.ylabel(\"Precipitation in inches\\n\")\n",
        "\n",
        "\n",
        "positions = [15, 45, 75, 105, 135, 165, 180]\n",
        "pos_list = []\n",
        "\n",
        "for num in positions:\n",
        "  pos_list.append(x_axis.iloc[num])\n",
        "\n",
        "plt.legend()\n",
        "#print(pos_list)\n",
        "plt.xticks(ticks = positions, labels = pos_list, rotation = 'vertical');"
      ],
      "metadata": {
        "colab": {
          "base_uri": "https://localhost:8080/",
          "height": 519
        },
        "id": "aqZBJ4DZ2PCG",
        "outputId": "247992a6-6f13-45f4-8554-6569ebe578df"
      },
      "execution_count": 255,
      "outputs": [
        {
          "output_type": "display_data",
          "data": {
            "image/png": "[encoded data removed]",
            "text/plain": [
              "<Figure size 720x504 with 1 Axes>"
            ]
          },
          "metadata": {
            "needs_background": "light"
          }
        }
      ]
    },
    {
      "cell_type": "markdown",
      "source": [
        "#Step 6: Attribute Selection"
      ],
      "metadata": {
        "id": "H6hTmDJM3rdm"
      }
    },
    {
      "cell_type": "code",
      "source": [
        "data_matrix = data3.corr()"
      ],
      "metadata": {
        "id": "mAZ_0vON3tqM"
      },
      "execution_count": 256,
      "outputs": []
    },
    {
      "cell_type": "code",
      "source": [
        "sns.heatmap(data_matrix)"
      ],
      "metadata": {
        "colab": {
          "base_uri": "https://localhost:8080/",
          "height": 399
        },
        "id": "sHND6FFM30Pd",
        "outputId": "691fdc74-ce0d-432b-fb40-9268763015fe"
      },
      "execution_count": 257,
      "outputs": [
        {
          "output_type": "execute_result",
          "data": {
            "text/plain": [
              "<matplotlib.axes._subplots.AxesSubplot at 0x7f2ab4fb2450>"
            ]
          },
          "metadata": {},
          "execution_count": 257
        },
        {
          "output_type": "display_data",
          "data": {
            "image/png": "[encoded data removed]",
            "text/plain": [
              "<Figure size 432x288 with 2 Axes>"
            ]
          },
          "metadata": {
            "needs_background": "light"
          }
        }
      ]
    },
    {
      "cell_type": "markdown",
      "source": [
        "So this is a heatmap of all 5 climate variables from each of the 3 SNOTEL sites (15 attributes total). Let's look at all of the Snow Water Equivalent in inches across our 3 sites to see if they correlate to one another above 95%, as this is the threshold for redundancies among attributes."
      ],
      "metadata": {
        "id": "jPLM2ThhS_PG"
      }
    },
    {
      "cell_type": "code",
      "source": [
        "new_attribs = data3[[\"Date\", \"DC_Inflow\", \"CJ383_SWE_IN\", \"EWC461_SWE_IN_\", \"LM572_SWE_IN\"]].copy()"
      ],
      "metadata": {
        "id": "k_ZhzW-o4Dci"
      },
      "execution_count": 258,
      "outputs": []
    },
    {
      "cell_type": "code",
      "source": [
        "cor_matrix_3 = new_attribs.corr()"
      ],
      "metadata": {
        "id": "jqy72UPj5vLy"
      },
      "execution_count": 259,
      "outputs": []
    },
    {
      "cell_type": "code",
      "source": [
        "new_attribs.head()"
      ],
      "metadata": {
        "colab": {
          "base_uri": "https://localhost:8080/",
          "height": 206
        },
        "id": "xp23G2rHAROl",
        "outputId": "5c3ac49d-60c0-423d-d660-41700062fd1f"
      },
      "execution_count": 260,
      "outputs": [
        {
          "output_type": "execute_result",
          "data": {
            "text/html": [
              "\n",
              "  <div id=\"df-045aa2e9-7029-41f3-8d8e-9729b4f419f0\">\n",
              "    <div class=\"colab-df-container\">\n",
              "      <div>\n",
              "<style scoped>\n",
              "    .dataframe tbody tr th:only-of-type {\n",
              "        vertical-align: middle;\n",
              "    }\n",
              "\n",
              "    .dataframe tbody tr th {\n",
              "        vertical-align: top;\n",
              "    }\n",
              "\n",
              "    .dataframe thead th {\n",
              "        text-align: right;\n",
              "    }\n",
              "</style>\n",
              "<table border=\"1\" class=\"dataframe\">\n",
              "  <thead>\n",
              "    <tr style=\"text-align: right;\">\n",
              "      <th></th>\n",
              "      <th>Date</th>\n",
              "      <th>DC_Inflow</th>\n",
              "      <th>CJ383_SWE_IN</th>\n",
              "      <th>EWC461_SWE_IN_</th>\n",
              "      <th>LM572_SWE_IN</th>\n",
              "    </tr>\n",
              "  </thead>\n",
              "  <tbody>\n",
              "    <tr>\n",
              "      <th>0</th>\n",
              "      <td>1/1/2006</td>\n",
              "      <td>12,050</td>\n",
              "      <td>0.8</td>\n",
              "      <td>0.9</td>\n",
              "      <td>3.8</td>\n",
              "    </tr>\n",
              "    <tr>\n",
              "      <th>1</th>\n",
              "      <td>2/1/2006</td>\n",
              "      <td>11,880</td>\n",
              "      <td>2.8</td>\n",
              "      <td>1.8</td>\n",
              "      <td>6.8</td>\n",
              "    </tr>\n",
              "    <tr>\n",
              "      <th>2</th>\n",
              "      <td>3/1/2006</td>\n",
              "      <td>11,130</td>\n",
              "      <td>2.9</td>\n",
              "      <td>1.8</td>\n",
              "      <td>7.3</td>\n",
              "    </tr>\n",
              "    <tr>\n",
              "      <th>3</th>\n",
              "      <td>4/1/2006</td>\n",
              "      <td>10,620</td>\n",
              "      <td>8.1</td>\n",
              "      <td>4.1</td>\n",
              "      <td>11.7</td>\n",
              "    </tr>\n",
              "    <tr>\n",
              "      <th>4</th>\n",
              "      <td>5/1/2006</td>\n",
              "      <td>13,500</td>\n",
              "      <td>0.0</td>\n",
              "      <td>0.0</td>\n",
              "      <td>0.0</td>\n",
              "    </tr>\n",
              "  </tbody>\n",
              "</table>\n",
              "</div>\n",
              "      <button class=\"colab-df-convert\" onclick=\"convertToInteractive('df-045aa2e9-7029-41f3-8d8e-9729b4f419f0')\"\n",
              "              title=\"Convert this dataframe to an interactive table.\"\n",
              "              style=\"display:none;\">\n",
              "        \n",
              "  <svg xmlns=\"http://www.w3.org/2000/svg\" height=\"24px\"viewBox=\"0 0 24 24\"\n",
              "       width=\"24px\">\n",
              "    <path d=\"M0 0h24v24H0V0z\" fill=\"none\"/>\n",
              "    <path d=\"M18.56 5.44l.94 2.06.94-2.06 2.06-.94-2.06-.94-.94-2.06-.94 2.06-2.06.94zm-11 1L8.5 8.5l.94-2.06 2.06-.94-2.06-.94L8.5 2.5l-.94 2.06-2.06.94zm10 10l.94 2.06.94-2.06 2.06-.94-2.06-.94-.94-2.06-.94 2.06-2.06.94z\"/><path d=\"M17.41 7.96l-1.37-1.37c-.4-.4-.92-.59-1.43-.59-.52 0-1.04.2-1.43.59L10.3 9.45l-7.72 7.72c-.78.78-.78 2.05 0 2.83L4 21.41c.39.39.9.59 1.41.59.51 0 1.02-.2 1.41-.59l7.78-7.78 2.81-2.81c.8-.78.8-2.07 0-2.86zM5.41 20L4 18.59l7.72-7.72 1.47 1.35L5.41 20z\"/>\n",
              "  </svg>\n",
              "      </button>\n",
              "      \n",
              "  <style>\n",
              "    .colab-df-container {\n",
              "      display:flex;\n",
              "      flex-wrap:wrap;\n",
              "      gap: 12px;\n",
              "    }\n",
              "\n",
              "    .colab-df-convert {\n",
              "      background-color: #E8F0FE;\n",
              "      border: none;\n",
              "      border-radius: 50%;\n",
              "      cursor: pointer;\n",
              "      display: none;\n",
              "      fill: #1967D2;\n",
              "      height: 32px;\n",
              "      padding: 0 0 0 0;\n",
              "      width: 32px;\n",
              "    }\n",
              "\n",
              "    .colab-df-convert:hover {\n",
              "      background-color: #E2EBFA;\n",
              "      box-shadow: 0px 1px 2px rgba(60, 64, 67, 0.3), 0px 1px 3px 1px rgba(60, 64, 67, 0.15);\n",
              "      fill: #174EA6;\n",
              "    }\n",
              "\n",
              "    [theme=dark] .colab-df-convert {\n",
              "      background-color: #3B4455;\n",
              "      fill: #D2E3FC;\n",
              "    }\n",
              "\n",
              "    [theme=dark] .colab-df-convert:hover {\n",
              "      background-color: #434B5C;\n",
              "      box-shadow: 0px 1px 3px 1px rgba(0, 0, 0, 0.15);\n",
              "      filter: drop-shadow(0px 1px 2px rgba(0, 0, 0, 0.3));\n",
              "      fill: #FFFFFF;\n",
              "    }\n",
              "  </style>\n",
              "\n",
              "      <script>\n",
              "        const buttonEl =\n",
              "          document.querySelector('#df-045aa2e9-7029-41f3-8d8e-9729b4f419f0 button.colab-df-convert');\n",
              "        buttonEl.style.display =\n",
              "          google.colab.kernel.accessAllowed ? 'block' : 'none';\n",
              "\n",
              "        async function convertToInteractive(key) {\n",
              "          const element = document.querySelector('#df-045aa2e9-7029-41f3-8d8e-9729b4f419f0');\n",
              "          const dataTable =\n",
              "            await google.colab.kernel.invokeFunction('convertToInteractive',\n",
              "                                                     [key], {});\n",
              "          if (!dataTable) return;\n",
              "\n",
              "          const docLinkHtml = 'Like what you see? Visit the ' +\n",
              "            '<a target=\"_blank\" href=https://colab.research.google.com/notebooks/data_table.ipynb>data table notebook</a>'\n",
              "            + ' to learn more about interactive tables.';\n",
              "          element.innerHTML = '';\n",
              "          dataTable['output_type'] = 'display_data';\n",
              "          await google.colab.output.renderOutput(dataTable, element);\n",
              "          const docLink = document.createElement('div');\n",
              "          docLink.innerHTML = docLinkHtml;\n",
              "          element.appendChild(docLink);\n",
              "        }\n",
              "      </script>\n",
              "    </div>\n",
              "  </div>\n",
              "  "
            ],
            "text/plain": [
              "       Date DC_Inflow  CJ383_SWE_IN  EWC461_SWE_IN_  LM572_SWE_IN\n",
              "0  1/1/2006    12,050           0.8             0.9           3.8\n",
              "1  2/1/2006    11,880           2.8             1.8           6.8\n",
              "2  3/1/2006    11,130           2.9             1.8           7.3\n",
              "3  4/1/2006    10,620           8.1             4.1          11.7\n",
              "4  5/1/2006    13,500           0.0             0.0           0.0"
            ]
          },
          "metadata": {},
          "execution_count": 260
        }
      ]
    },
    {
      "cell_type": "code",
      "source": [
        "sns.heatmap(cor_matrix_3)"
      ],
      "metadata": {
        "colab": {
          "base_uri": "https://localhost:8080/",
          "height": 287
        },
        "id": "a8Zg53sIACwW",
        "outputId": "7368a088-5218-4d12-f4f7-ccd1589aadd1"
      },
      "execution_count": 261,
      "outputs": [
        {
          "output_type": "execute_result",
          "data": {
            "text/plain": [
              "<matplotlib.axes._subplots.AxesSubplot at 0x7f2ab4bc02d0>"
            ]
          },
          "metadata": {},
          "execution_count": 261
        },
        {
          "output_type": "display_data",
          "data": {
            "image/png": "[encoded data removed]",
            "text/plain": [
              "<Figure size 432x288 with 2 Axes>"
            ]
          },
          "metadata": {
            "needs_background": "light"
          }
        }
      ]
    },
    {
      "cell_type": "markdown",
      "source": [
        "The reason DC_Inflow wasn't showing up is because our DC_Inflow data has a comma in it and our program doesn't like that. Lets remove it. "
      ],
      "metadata": {
        "id": "13D9BSspAWLl"
      }
    },
    {
      "cell_type": "markdown",
      "source": [
        "#Step 7: More Data Manipulation"
      ],
      "metadata": {
        "id": "P4MT9bSPQTQE"
      }
    },
    {
      "cell_type": "code",
      "source": [
        "new_attribs.replace(',','', regex=True, inplace=True)"
      ],
      "metadata": {
        "id": "J4y5b9xGADR0"
      },
      "execution_count": 262,
      "outputs": []
    },
    {
      "cell_type": "code",
      "source": [
        "new_attribs.head()"
      ],
      "metadata": {
        "colab": {
          "base_uri": "https://localhost:8080/",
          "height": 206
        },
        "id": "kqWjWYqIBO23",
        "outputId": "7ab4c5f9-9aff-4fec-8013-e5f841caad16"
      },
      "execution_count": 263,
      "outputs": [
        {
          "output_type": "execute_result",
          "data": {
            "text/html": [
              "\n",
              "  <div id=\"df-cba72a7e-40af-44f8-800e-abcf387e515b\">\n",
              "    <div class=\"colab-df-container\">\n",
              "      <div>\n",
              "<style scoped>\n",
              "    .dataframe tbody tr th:only-of-type {\n",
              "        vertical-align: middle;\n",
              "    }\n",
              "\n",
              "    .dataframe tbody tr th {\n",
              "        vertical-align: top;\n",
              "    }\n",
              "\n",
              "    .dataframe thead th {\n",
              "        text-align: right;\n",
              "    }\n",
              "</style>\n",
              "<table border=\"1\" class=\"dataframe\">\n",
              "  <thead>\n",
              "    <tr style=\"text-align: right;\">\n",
              "      <th></th>\n",
              "      <th>Date</th>\n",
              "      <th>DC_Inflow</th>\n",
              "      <th>CJ383_SWE_IN</th>\n",
              "      <th>EWC461_SWE_IN_</th>\n",
              "      <th>LM572_SWE_IN</th>\n",
              "    </tr>\n",
              "  </thead>\n",
              "  <tbody>\n",
              "    <tr>\n",
              "      <th>0</th>\n",
              "      <td>1/1/2006</td>\n",
              "      <td>12050</td>\n",
              "      <td>0.8</td>\n",
              "      <td>0.9</td>\n",
              "      <td>3.8</td>\n",
              "    </tr>\n",
              "    <tr>\n",
              "      <th>1</th>\n",
              "      <td>2/1/2006</td>\n",
              "      <td>11880</td>\n",
              "      <td>2.8</td>\n",
              "      <td>1.8</td>\n",
              "      <td>6.8</td>\n",
              "    </tr>\n",
              "    <tr>\n",
              "      <th>2</th>\n",
              "      <td>3/1/2006</td>\n",
              "      <td>11130</td>\n",
              "      <td>2.9</td>\n",
              "      <td>1.8</td>\n",
              "      <td>7.3</td>\n",
              "    </tr>\n",
              "    <tr>\n",
              "      <th>3</th>\n",
              "      <td>4/1/2006</td>\n",
              "      <td>10620</td>\n",
              "      <td>8.1</td>\n",
              "      <td>4.1</td>\n",
              "      <td>11.7</td>\n",
              "    </tr>\n",
              "    <tr>\n",
              "      <th>4</th>\n",
              "      <td>5/1/2006</td>\n",
              "      <td>13500</td>\n",
              "      <td>0.0</td>\n",
              "      <td>0.0</td>\n",
              "      <td>0.0</td>\n",
              "    </tr>\n",
              "  </tbody>\n",
              "</table>\n",
              "</div>\n",
              "      <button class=\"colab-df-convert\" onclick=\"convertToInteractive('df-cba72a7e-40af-44f8-800e-abcf387e515b')\"\n",
              "              title=\"Convert this dataframe to an interactive table.\"\n",
              "              style=\"display:none;\">\n",
              "        \n",
              "  <svg xmlns=\"http://www.w3.org/2000/svg\" height=\"24px\"viewBox=\"0 0 24 24\"\n",
              "       width=\"24px\">\n",
              "    <path d=\"M0 0h24v24H0V0z\" fill=\"none\"/>\n",
              "    <path d=\"M18.56 5.44l.94 2.06.94-2.06 2.06-.94-2.06-.94-.94-2.06-.94 2.06-2.06.94zm-11 1L8.5 8.5l.94-2.06 2.06-.94-2.06-.94L8.5 2.5l-.94 2.06-2.06.94zm10 10l.94 2.06.94-2.06 2.06-.94-2.06-.94-.94-2.06-.94 2.06-2.06.94z\"/><path d=\"M17.41 7.96l-1.37-1.37c-.4-.4-.92-.59-1.43-.59-.52 0-1.04.2-1.43.59L10.3 9.45l-7.72 7.72c-.78.78-.78 2.05 0 2.83L4 21.41c.39.39.9.59 1.41.59.51 0 1.02-.2 1.41-.59l7.78-7.78 2.81-2.81c.8-.78.8-2.07 0-2.86zM5.41 20L4 18.59l7.72-7.72 1.47 1.35L5.41 20z\"/>\n",
              "  </svg>\n",
              "      </button>\n",
              "      \n",
              "  <style>\n",
              "    .colab-df-container {\n",
              "      display:flex;\n",
              "      flex-wrap:wrap;\n",
              "      gap: 12px;\n",
              "    }\n",
              "\n",
              "    .colab-df-convert {\n",
              "      background-color: #E8F0FE;\n",
              "      border: none;\n",
              "      border-radius: 50%;\n",
              "      cursor: pointer;\n",
              "      display: none;\n",
              "      fill: #1967D2;\n",
              "      height: 32px;\n",
              "      padding: 0 0 0 0;\n",
              "      width: 32px;\n",
              "    }\n",
              "\n",
              "    .colab-df-convert:hover {\n",
              "      background-color: #E2EBFA;\n",
              "      box-shadow: 0px 1px 2px rgba(60, 64, 67, 0.3), 0px 1px 3px 1px rgba(60, 64, 67, 0.15);\n",
              "      fill: #174EA6;\n",
              "    }\n",
              "\n",
              "    [theme=dark] .colab-df-convert {\n",
              "      background-color: #3B4455;\n",
              "      fill: #D2E3FC;\n",
              "    }\n",
              "\n",
              "    [theme=dark] .colab-df-convert:hover {\n",
              "      background-color: #434B5C;\n",
              "      box-shadow: 0px 1px 3px 1px rgba(0, 0, 0, 0.15);\n",
              "      filter: drop-shadow(0px 1px 2px rgba(0, 0, 0, 0.3));\n",
              "      fill: #FFFFFF;\n",
              "    }\n",
              "  </style>\n",
              "\n",
              "      <script>\n",
              "        const buttonEl =\n",
              "          document.querySelector('#df-cba72a7e-40af-44f8-800e-abcf387e515b button.colab-df-convert');\n",
              "        buttonEl.style.display =\n",
              "          google.colab.kernel.accessAllowed ? 'block' : 'none';\n",
              "\n",
              "        async function convertToInteractive(key) {\n",
              "          const element = document.querySelector('#df-cba72a7e-40af-44f8-800e-abcf387e515b');\n",
              "          const dataTable =\n",
              "            await google.colab.kernel.invokeFunction('convertToInteractive',\n",
              "                                                     [key], {});\n",
              "          if (!dataTable) return;\n",
              "\n",
              "          const docLinkHtml = 'Like what you see? Visit the ' +\n",
              "            '<a target=\"_blank\" href=https://colab.research.google.com/notebooks/data_table.ipynb>data table notebook</a>'\n",
              "            + ' to learn more about interactive tables.';\n",
              "          element.innerHTML = '';\n",
              "          dataTable['output_type'] = 'display_data';\n",
              "          await google.colab.output.renderOutput(dataTable, element);\n",
              "          const docLink = document.createElement('div');\n",
              "          docLink.innerHTML = docLinkHtml;\n",
              "          element.appendChild(docLink);\n",
              "        }\n",
              "      </script>\n",
              "    </div>\n",
              "  </div>\n",
              "  "
            ],
            "text/plain": [
              "       Date DC_Inflow  CJ383_SWE_IN  EWC461_SWE_IN_  LM572_SWE_IN\n",
              "0  1/1/2006     12050           0.8             0.9           3.8\n",
              "1  2/1/2006     11880           2.8             1.8           6.8\n",
              "2  3/1/2006     11130           2.9             1.8           7.3\n",
              "3  4/1/2006     10620           8.1             4.1          11.7\n",
              "4  5/1/2006     13500           0.0             0.0           0.0"
            ]
          },
          "metadata": {},
          "execution_count": 263
        }
      ]
    },
    {
      "cell_type": "markdown",
      "source": [
        "All occurences of the , in the DC_Inflow column are now removed."
      ],
      "metadata": {
        "id": "y2YRKCFuBRhQ"
      }
    },
    {
      "cell_type": "markdown",
      "source": [
        "The rest of our data is a float data type, so we should convert DC_Inflow to a float as well. "
      ],
      "metadata": {
        "id": "nHv6jksOCCbe"
      }
    },
    {
      "cell_type": "code",
      "source": [
        "new_attribs[\"DC_Inflow\"] = pd.to_numeric(new_attribs[\"DC_Inflow\"], downcast=\"float\")"
      ],
      "metadata": {
        "id": "ohgM_oyiCI-G"
      },
      "execution_count": 264,
      "outputs": []
    },
    {
      "cell_type": "code",
      "source": [
        "new_attribs.head()"
      ],
      "metadata": {
        "colab": {
          "base_uri": "https://localhost:8080/",
          "height": 206
        },
        "id": "Hk-ZXyPaCQiW",
        "outputId": "6bc66e91-63a6-414b-8bbe-c32e55bb4cbf"
      },
      "execution_count": 265,
      "outputs": [
        {
          "output_type": "execute_result",
          "data": {
            "text/html": [
              "\n",
              "  <div id=\"df-21a1a03d-b940-43d8-9b7c-6368d2e94ed1\">\n",
              "    <div class=\"colab-df-container\">\n",
              "      <div>\n",
              "<style scoped>\n",
              "    .dataframe tbody tr th:only-of-type {\n",
              "        vertical-align: middle;\n",
              "    }\n",
              "\n",
              "    .dataframe tbody tr th {\n",
              "        vertical-align: top;\n",
              "    }\n",
              "\n",
              "    .dataframe thead th {\n",
              "        text-align: right;\n",
              "    }\n",
              "</style>\n",
              "<table border=\"1\" class=\"dataframe\">\n",
              "  <thead>\n",
              "    <tr style=\"text-align: right;\">\n",
              "      <th></th>\n",
              "      <th>Date</th>\n",
              "      <th>DC_Inflow</th>\n",
              "      <th>CJ383_SWE_IN</th>\n",
              "      <th>EWC461_SWE_IN_</th>\n",
              "      <th>LM572_SWE_IN</th>\n",
              "    </tr>\n",
              "  </thead>\n",
              "  <tbody>\n",
              "    <tr>\n",
              "      <th>0</th>\n",
              "      <td>1/1/2006</td>\n",
              "      <td>12050.0</td>\n",
              "      <td>0.8</td>\n",
              "      <td>0.9</td>\n",
              "      <td>3.8</td>\n",
              "    </tr>\n",
              "    <tr>\n",
              "      <th>1</th>\n",
              "      <td>2/1/2006</td>\n",
              "      <td>11880.0</td>\n",
              "      <td>2.8</td>\n",
              "      <td>1.8</td>\n",
              "      <td>6.8</td>\n",
              "    </tr>\n",
              "    <tr>\n",
              "      <th>2</th>\n",
              "      <td>3/1/2006</td>\n",
              "      <td>11130.0</td>\n",
              "      <td>2.9</td>\n",
              "      <td>1.8</td>\n",
              "      <td>7.3</td>\n",
              "    </tr>\n",
              "    <tr>\n",
              "      <th>3</th>\n",
              "      <td>4/1/2006</td>\n",
              "      <td>10620.0</td>\n",
              "      <td>8.1</td>\n",
              "      <td>4.1</td>\n",
              "      <td>11.7</td>\n",
              "    </tr>\n",
              "    <tr>\n",
              "      <th>4</th>\n",
              "      <td>5/1/2006</td>\n",
              "      <td>13500.0</td>\n",
              "      <td>0.0</td>\n",
              "      <td>0.0</td>\n",
              "      <td>0.0</td>\n",
              "    </tr>\n",
              "  </tbody>\n",
              "</table>\n",
              "</div>\n",
              "      <button class=\"colab-df-convert\" onclick=\"convertToInteractive('df-21a1a03d-b940-43d8-9b7c-6368d2e94ed1')\"\n",
              "              title=\"Convert this dataframe to an interactive table.\"\n",
              "              style=\"display:none;\">\n",
              "        \n",
              "  <svg xmlns=\"http://www.w3.org/2000/svg\" height=\"24px\"viewBox=\"0 0 24 24\"\n",
              "       width=\"24px\">\n",
              "    <path d=\"M0 0h24v24H0V0z\" fill=\"none\"/>\n",
              "    <path d=\"M18.56 5.44l.94 2.06.94-2.06 2.06-.94-2.06-.94-.94-2.06-.94 2.06-2.06.94zm-11 1L8.5 8.5l.94-2.06 2.06-.94-2.06-.94L8.5 2.5l-.94 2.06-2.06.94zm10 10l.94 2.06.94-2.06 2.06-.94-2.06-.94-.94-2.06-.94 2.06-2.06.94z\"/><path d=\"M17.41 7.96l-1.37-1.37c-.4-.4-.92-.59-1.43-.59-.52 0-1.04.2-1.43.59L10.3 9.45l-7.72 7.72c-.78.78-.78 2.05 0 2.83L4 21.41c.39.39.9.59 1.41.59.51 0 1.02-.2 1.41-.59l7.78-7.78 2.81-2.81c.8-.78.8-2.07 0-2.86zM5.41 20L4 18.59l7.72-7.72 1.47 1.35L5.41 20z\"/>\n",
              "  </svg>\n",
              "      </button>\n",
              "      \n",
              "  <style>\n",
              "    .colab-df-container {\n",
              "      display:flex;\n",
              "      flex-wrap:wrap;\n",
              "      gap: 12px;\n",
              "    }\n",
              "\n",
              "    .colab-df-convert {\n",
              "      background-color: #E8F0FE;\n",
              "      border: none;\n",
              "      border-radius: 50%;\n",
              "      cursor: pointer;\n",
              "      display: none;\n",
              "      fill: #1967D2;\n",
              "      height: 32px;\n",
              "      padding: 0 0 0 0;\n",
              "      width: 32px;\n",
              "    }\n",
              "\n",
              "    .colab-df-convert:hover {\n",
              "      background-color: #E2EBFA;\n",
              "      box-shadow: 0px 1px 2px rgba(60, 64, 67, 0.3), 0px 1px 3px 1px rgba(60, 64, 67, 0.15);\n",
              "      fill: #174EA6;\n",
              "    }\n",
              "\n",
              "    [theme=dark] .colab-df-convert {\n",
              "      background-color: #3B4455;\n",
              "      fill: #D2E3FC;\n",
              "    }\n",
              "\n",
              "    [theme=dark] .colab-df-convert:hover {\n",
              "      background-color: #434B5C;\n",
              "      box-shadow: 0px 1px 3px 1px rgba(0, 0, 0, 0.15);\n",
              "      filter: drop-shadow(0px 1px 2px rgba(0, 0, 0, 0.3));\n",
              "      fill: #FFFFFF;\n",
              "    }\n",
              "  </style>\n",
              "\n",
              "      <script>\n",
              "        const buttonEl =\n",
              "          document.querySelector('#df-21a1a03d-b940-43d8-9b7c-6368d2e94ed1 button.colab-df-convert');\n",
              "        buttonEl.style.display =\n",
              "          google.colab.kernel.accessAllowed ? 'block' : 'none';\n",
              "\n",
              "        async function convertToInteractive(key) {\n",
              "          const element = document.querySelector('#df-21a1a03d-b940-43d8-9b7c-6368d2e94ed1');\n",
              "          const dataTable =\n",
              "            await google.colab.kernel.invokeFunction('convertToInteractive',\n",
              "                                                     [key], {});\n",
              "          if (!dataTable) return;\n",
              "\n",
              "          const docLinkHtml = 'Like what you see? Visit the ' +\n",
              "            '<a target=\"_blank\" href=https://colab.research.google.com/notebooks/data_table.ipynb>data table notebook</a>'\n",
              "            + ' to learn more about interactive tables.';\n",
              "          element.innerHTML = '';\n",
              "          dataTable['output_type'] = 'display_data';\n",
              "          await google.colab.output.renderOutput(dataTable, element);\n",
              "          const docLink = document.createElement('div');\n",
              "          docLink.innerHTML = docLinkHtml;\n",
              "          element.appendChild(docLink);\n",
              "        }\n",
              "      </script>\n",
              "    </div>\n",
              "  </div>\n",
              "  "
            ],
            "text/plain": [
              "       Date  DC_Inflow  CJ383_SWE_IN  EWC461_SWE_IN_  LM572_SWE_IN\n",
              "0  1/1/2006    12050.0           0.8             0.9           3.8\n",
              "1  2/1/2006    11880.0           2.8             1.8           6.8\n",
              "2  3/1/2006    11130.0           2.9             1.8           7.3\n",
              "3  4/1/2006    10620.0           8.1             4.1          11.7\n",
              "4  5/1/2006    13500.0           0.0             0.0           0.0"
            ]
          },
          "metadata": {},
          "execution_count": 265
        }
      ]
    },
    {
      "cell_type": "markdown",
      "source": [
        "Okay, everything we needed to fix in this dataset should be good for further analyses"
      ],
      "metadata": {
        "id": "lwCv2kdPCSfX"
      }
    },
    {
      "cell_type": "markdown",
      "source": [
        "#Step 8: More heatmaps"
      ],
      "metadata": {
        "id": "NWUkGf34VX0P"
      }
    },
    {
      "cell_type": "markdown",
      "source": [
        "Lets try our correlation coefficient heatmap again. "
      ],
      "metadata": {
        "id": "bL9oWpr3Bj5N"
      }
    },
    {
      "cell_type": "code",
      "source": [
        "another_corr_matrix = new_attribs.corr()"
      ],
      "metadata": {
        "id": "h7UEFlJPBQCS"
      },
      "execution_count": 266,
      "outputs": []
    },
    {
      "cell_type": "code",
      "source": [
        "sns.heatmap(another_corr_matrix)"
      ],
      "metadata": {
        "colab": {
          "base_uri": "https://localhost:8080/",
          "height": 367
        },
        "id": "QSDB8lIyBpVw",
        "outputId": "285f86cc-9c1a-41a0-ea36-caffb8ee5fe3"
      },
      "execution_count": 267,
      "outputs": [
        {
          "output_type": "execute_result",
          "data": {
            "text/plain": [
              "<matplotlib.axes._subplots.AxesSubplot at 0x7f2ab4884210>"
            ]
          },
          "metadata": {},
          "execution_count": 267
        },
        {
          "output_type": "display_data",
          "data": {
            "image/png": "[encoded data removed]",
            "text/plain": [
              "<Figure size 432x288 with 2 Axes>"
            ]
          },
          "metadata": {
            "needs_background": "light"
          }
        }
      ]
    },
    {
      "cell_type": "markdown",
      "source": [
        "DC Inflow is not highly correlated to SWE in any sites, but the SWE of each site has a high correlation to one another. "
      ],
      "metadata": {
        "id": "ByIvAXl7TcXg"
      }
    },
    {
      "cell_type": "code",
      "source": [
        "print(another_corr_matrix)"
      ],
      "metadata": {
        "colab": {
          "base_uri": "https://localhost:8080/"
        },
        "id": "RQqPzEKHCjV2",
        "outputId": "bf674c9f-01d1-461b-cf4c-c20ed52271e5"
      },
      "execution_count": 268,
      "outputs": [
        {
          "output_type": "stream",
          "name": "stdout",
          "text": [
            "                DC_Inflow  CJ383_SWE_IN  EWC461_SWE_IN_  LM572_SWE_IN\n",
            "DC_Inflow        1.000000     -0.003307       -0.011801     -0.010709\n",
            "CJ383_SWE_IN    -0.003307      1.000000        0.963960      0.895253\n",
            "EWC461_SWE_IN_  -0.011801      0.963960        1.000000      0.904255\n",
            "LM572_SWE_IN    -0.010709      0.895253        0.904255      1.000000\n"
          ]
        }
      ]
    },
    {
      "cell_type": "code",
      "source": [
        "corr_matrix3 = another_corr_matrix[\"DC_Inflow\"].sort_values(ascending=False) \n",
        "\n",
        "print(corr_matrix3)"
      ],
      "metadata": {
        "colab": {
          "base_uri": "https://localhost:8080/"
        },
        "id": "6Rzj2Je4Czuw",
        "outputId": "c927bfdd-fbe4-4623-c3a5-4306e07caa01"
      },
      "execution_count": 269,
      "outputs": [
        {
          "output_type": "stream",
          "name": "stdout",
          "text": [
            "DC_Inflow         1.000000\n",
            "CJ383_SWE_IN     -0.003307\n",
            "LM572_SWE_IN     -0.010709\n",
            "EWC461_SWE_IN_   -0.011801\n",
            "Name: DC_Inflow, dtype: float64\n"
          ]
        }
      ]
    },
    {
      "cell_type": "markdown",
      "source": [
        "These three stations have a negative correlation when compared with DC_Inflow. The highest absolute value coming from the East Willow Creek Snow Water Equivalent IN. Lets see how our other variables like soil moisture and temp compare."
      ],
      "metadata": {
        "id": "Ivc4hlN4DRp-"
      }
    },
    {
      "cell_type": "markdown",
      "source": [
        "For this, we will revist our main dataset. Lets do the same cleaning methods we did for DC_Inflow like removing commas and changing the dtype to float. "
      ],
      "metadata": {
        "id": "DpuMlucGDr9l"
      }
    },
    {
      "cell_type": "code",
      "source": [
        "data3.head()"
      ],
      "metadata": {
        "colab": {
          "base_uri": "https://localhost:8080/",
          "height": 270
        },
        "id": "wpjwAJGvD5pO",
        "outputId": "60674841-5c77-4244-838a-1a96a9e0d8cd"
      },
      "execution_count": 270,
      "outputs": [
        {
          "output_type": "execute_result",
          "data": {
            "text/html": [
              "\n",
              "  <div id=\"df-fd21350a-df2e-4572-a4e3-2dce54a15eb4\">\n",
              "    <div class=\"colab-df-container\">\n",
              "      <div>\n",
              "<style scoped>\n",
              "    .dataframe tbody tr th:only-of-type {\n",
              "        vertical-align: middle;\n",
              "    }\n",
              "\n",
              "    .dataframe tbody tr th {\n",
              "        vertical-align: top;\n",
              "    }\n",
              "\n",
              "    .dataframe thead th {\n",
              "        text-align: right;\n",
              "    }\n",
              "</style>\n",
              "<table border=\"1\" class=\"dataframe\">\n",
              "  <thead>\n",
              "    <tr style=\"text-align: right;\">\n",
              "      <th></th>\n",
              "      <th>Date</th>\n",
              "      <th>DC_Inflow</th>\n",
              "      <th>CJ383_SWE_IN</th>\n",
              "      <th>CJ383_PA_IN</th>\n",
              "      <th>CJ383_ATO_DEGF</th>\n",
              "      <th>CJ383_STO_2IN_DEGF</th>\n",
              "      <th>CJ383_SMP_2IN_PCT</th>\n",
              "      <th>EWC461_SWE_IN_</th>\n",
              "      <th>EWC461_PA_IN</th>\n",
              "      <th>EWC461_ATO_DEGF</th>\n",
              "      <th>EWC461_STO_2IN_DEGF</th>\n",
              "      <th>EWC461_SMP_2IN_PCT</th>\n",
              "      <th>LM572_SWE_IN</th>\n",
              "      <th>LM572_PRECP_IN</th>\n",
              "      <th>LM572_ATO_2IN_DEGF</th>\n",
              "      <th>LM572_STO_2IN_DEGF</th>\n",
              "      <th>LM572_SMP_2IN_PCT</th>\n",
              "    </tr>\n",
              "  </thead>\n",
              "  <tbody>\n",
              "    <tr>\n",
              "      <th>0</th>\n",
              "      <td>1/1/2006</td>\n",
              "      <td>12,050</td>\n",
              "      <td>0.8</td>\n",
              "      <td>3.8</td>\n",
              "      <td>29.0</td>\n",
              "      <td>33.0</td>\n",
              "      <td>9.0</td>\n",
              "      <td>0.9</td>\n",
              "      <td>2.0</td>\n",
              "      <td>31.0</td>\n",
              "      <td>NaN</td>\n",
              "      <td>NaN</td>\n",
              "      <td>3.8</td>\n",
              "      <td>7.5</td>\n",
              "      <td>28.0</td>\n",
              "      <td>34.0</td>\n",
              "      <td>5.1</td>\n",
              "    </tr>\n",
              "    <tr>\n",
              "      <th>1</th>\n",
              "      <td>2/1/2006</td>\n",
              "      <td>11,880</td>\n",
              "      <td>2.8</td>\n",
              "      <td>5.3</td>\n",
              "      <td>27.0</td>\n",
              "      <td>33.0</td>\n",
              "      <td>9.2</td>\n",
              "      <td>1.8</td>\n",
              "      <td>3.0</td>\n",
              "      <td>25.0</td>\n",
              "      <td>22.0</td>\n",
              "      <td>7.4</td>\n",
              "      <td>6.8</td>\n",
              "      <td>10.8</td>\n",
              "      <td>22.0</td>\n",
              "      <td>34.0</td>\n",
              "      <td>6.0</td>\n",
              "    </tr>\n",
              "    <tr>\n",
              "      <th>2</th>\n",
              "      <td>3/1/2006</td>\n",
              "      <td>11,130</td>\n",
              "      <td>2.9</td>\n",
              "      <td>5.8</td>\n",
              "      <td>33.0</td>\n",
              "      <td>34.0</td>\n",
              "      <td>11.3</td>\n",
              "      <td>1.8</td>\n",
              "      <td>3.3</td>\n",
              "      <td>36.0</td>\n",
              "      <td>29.0</td>\n",
              "      <td>11.7</td>\n",
              "      <td>7.3</td>\n",
              "      <td>12.0</td>\n",
              "      <td>33.0</td>\n",
              "      <td>34.0</td>\n",
              "      <td>12.0</td>\n",
              "    </tr>\n",
              "    <tr>\n",
              "      <th>3</th>\n",
              "      <td>4/1/2006</td>\n",
              "      <td>10,620</td>\n",
              "      <td>8.1</td>\n",
              "      <td>11.2</td>\n",
              "      <td>31.0</td>\n",
              "      <td>35.0</td>\n",
              "      <td>33.3</td>\n",
              "      <td>4.1</td>\n",
              "      <td>6.4</td>\n",
              "      <td>34.0</td>\n",
              "      <td>34.0</td>\n",
              "      <td>27.4</td>\n",
              "      <td>11.7</td>\n",
              "      <td>18.5</td>\n",
              "      <td>31.0</td>\n",
              "      <td>34.0</td>\n",
              "      <td>25.7</td>\n",
              "    </tr>\n",
              "    <tr>\n",
              "      <th>4</th>\n",
              "      <td>5/1/2006</td>\n",
              "      <td>13,500</td>\n",
              "      <td>0.0</td>\n",
              "      <td>12.4</td>\n",
              "      <td>45.0</td>\n",
              "      <td>46.0</td>\n",
              "      <td>23.8</td>\n",
              "      <td>0.0</td>\n",
              "      <td>6.9</td>\n",
              "      <td>41.0</td>\n",
              "      <td>47.0</td>\n",
              "      <td>17.2</td>\n",
              "      <td>0.0</td>\n",
              "      <td>21.0</td>\n",
              "      <td>31.0</td>\n",
              "      <td>50.0</td>\n",
              "      <td>12.6</td>\n",
              "    </tr>\n",
              "  </tbody>\n",
              "</table>\n",
              "</div>\n",
              "      <button class=\"colab-df-convert\" onclick=\"convertToInteractive('df-fd21350a-df2e-4572-a4e3-2dce54a15eb4')\"\n",
              "              title=\"Convert this dataframe to an interactive table.\"\n",
              "              style=\"display:none;\">\n",
              "        \n",
              "  <svg xmlns=\"http://www.w3.org/2000/svg\" height=\"24px\"viewBox=\"0 0 24 24\"\n",
              "       width=\"24px\">\n",
              "    <path d=\"M0 0h24v24H0V0z\" fill=\"none\"/>\n",
              "    <path d=\"M18.56 5.44l.94 2.06.94-2.06 2.06-.94-2.06-.94-.94-2.06-.94 2.06-2.06.94zm-11 1L8.5 8.5l.94-2.06 2.06-.94-2.06-.94L8.5 2.5l-.94 2.06-2.06.94zm10 10l.94 2.06.94-2.06 2.06-.94-2.06-.94-.94-2.06-.94 2.06-2.06.94z\"/><path d=\"M17.41 7.96l-1.37-1.37c-.4-.4-.92-.59-1.43-.59-.52 0-1.04.2-1.43.59L10.3 9.45l-7.72 7.72c-.78.78-.78 2.05 0 2.83L4 21.41c.39.39.9.59 1.41.59.51 0 1.02-.2 1.41-.59l7.78-7.78 2.81-2.81c.8-.78.8-2.07 0-2.86zM5.41 20L4 18.59l7.72-7.72 1.47 1.35L5.41 20z\"/>\n",
              "  </svg>\n",
              "      </button>\n",
              "      \n",
              "  <style>\n",
              "    .colab-df-container {\n",
              "      display:flex;\n",
              "      flex-wrap:wrap;\n",
              "      gap: 12px;\n",
              "    }\n",
              "\n",
              "    .colab-df-convert {\n",
              "      background-color: #E8F0FE;\n",
              "      border: none;\n",
              "      border-radius: 50%;\n",
              "      cursor: pointer;\n",
              "      display: none;\n",
              "      fill: #1967D2;\n",
              "      height: 32px;\n",
              "      padding: 0 0 0 0;\n",
              "      width: 32px;\n",
              "    }\n",
              "\n",
              "    .colab-df-convert:hover {\n",
              "      background-color: #E2EBFA;\n",
              "      box-shadow: 0px 1px 2px rgba(60, 64, 67, 0.3), 0px 1px 3px 1px rgba(60, 64, 67, 0.15);\n",
              "      fill: #174EA6;\n",
              "    }\n",
              "\n",
              "    [theme=dark] .colab-df-convert {\n",
              "      background-color: #3B4455;\n",
              "      fill: #D2E3FC;\n",
              "    }\n",
              "\n",
              "    [theme=dark] .colab-df-convert:hover {\n",
              "      background-color: #434B5C;\n",
              "      box-shadow: 0px 1px 3px 1px rgba(0, 0, 0, 0.15);\n",
              "      filter: drop-shadow(0px 1px 2px rgba(0, 0, 0, 0.3));\n",
              "      fill: #FFFFFF;\n",
              "    }\n",
              "  </style>\n",
              "\n",
              "      <script>\n",
              "        const buttonEl =\n",
              "          document.querySelector('#df-fd21350a-df2e-4572-a4e3-2dce54a15eb4 button.colab-df-convert');\n",
              "        buttonEl.style.display =\n",
              "          google.colab.kernel.accessAllowed ? 'block' : 'none';\n",
              "\n",
              "        async function convertToInteractive(key) {\n",
              "          const element = document.querySelector('#df-fd21350a-df2e-4572-a4e3-2dce54a15eb4');\n",
              "          const dataTable =\n",
              "            await google.colab.kernel.invokeFunction('convertToInteractive',\n",
              "                                                     [key], {});\n",
              "          if (!dataTable) return;\n",
              "\n",
              "          const docLinkHtml = 'Like what you see? Visit the ' +\n",
              "            '<a target=\"_blank\" href=https://colab.research.google.com/notebooks/data_table.ipynb>data table notebook</a>'\n",
              "            + ' to learn more about interactive tables.';\n",
              "          element.innerHTML = '';\n",
              "          dataTable['output_type'] = 'display_data';\n",
              "          await google.colab.output.renderOutput(dataTable, element);\n",
              "          const docLink = document.createElement('div');\n",
              "          docLink.innerHTML = docLinkHtml;\n",
              "          element.appendChild(docLink);\n",
              "        }\n",
              "      </script>\n",
              "    </div>\n",
              "  </div>\n",
              "  "
            ],
            "text/plain": [
              "       Date DC_Inflow  CJ383_SWE_IN  CJ383_PA_IN  CJ383_ATO_DEGF  \\\n",
              "0  1/1/2006    12,050           0.8          3.8            29.0   \n",
              "1  2/1/2006    11,880           2.8          5.3            27.0   \n",
              "2  3/1/2006    11,130           2.9          5.8            33.0   \n",
              "3  4/1/2006    10,620           8.1         11.2            31.0   \n",
              "4  5/1/2006    13,500           0.0         12.4            45.0   \n",
              "\n",
              "   CJ383_STO_2IN_DEGF  CJ383_SMP_2IN_PCT  EWC461_SWE_IN_  EWC461_PA_IN  \\\n",
              "0                33.0                9.0             0.9           2.0   \n",
              "1                33.0                9.2             1.8           3.0   \n",
              "2                34.0               11.3             1.8           3.3   \n",
              "3                35.0               33.3             4.1           6.4   \n",
              "4                46.0               23.8             0.0           6.9   \n",
              "\n",
              "   EWC461_ATO_DEGF  EWC461_STO_2IN_DEGF  EWC461_SMP_2IN_PCT  LM572_SWE_IN  \\\n",
              "0             31.0                  NaN                 NaN           3.8   \n",
              "1             25.0                 22.0                 7.4           6.8   \n",
              "2             36.0                 29.0                11.7           7.3   \n",
              "3             34.0                 34.0                27.4          11.7   \n",
              "4             41.0                 47.0                17.2           0.0   \n",
              "\n",
              "   LM572_PRECP_IN  LM572_ATO_2IN_DEGF  LM572_STO_2IN_DEGF  LM572_SMP_2IN_PCT  \n",
              "0             7.5                28.0                34.0                5.1  \n",
              "1            10.8                22.0                34.0                6.0  \n",
              "2            12.0                33.0                34.0               12.0  \n",
              "3            18.5                31.0                34.0               25.7  \n",
              "4            21.0                31.0                50.0               12.6  "
            ]
          },
          "metadata": {},
          "execution_count": 270
        }
      ]
    },
    {
      "cell_type": "code",
      "source": [
        "data3[\"DC_Inflow\"] = pd.to_numeric(new_attribs[\"DC_Inflow\"], downcast=\"float\")"
      ],
      "metadata": {
        "id": "Qw4-7x6DDlPG"
      },
      "execution_count": 271,
      "outputs": []
    },
    {
      "cell_type": "code",
      "source": [
        "data3.head()"
      ],
      "metadata": {
        "colab": {
          "base_uri": "https://localhost:8080/",
          "height": 270
        },
        "id": "enrAe2yYD-Al",
        "outputId": "d8a73423-1d66-4e4c-ee66-27bfaa0304d6"
      },
      "execution_count": 272,
      "outputs": [
        {
          "output_type": "execute_result",
          "data": {
            "text/html": [
              "\n",
              "  <div id=\"df-5de27f5f-9be6-4596-a558-7726f1cb27a9\">\n",
              "    <div class=\"colab-df-container\">\n",
              "      <div>\n",
              "<style scoped>\n",
              "    .dataframe tbody tr th:only-of-type {\n",
              "        vertical-align: middle;\n",
              "    }\n",
              "\n",
              "    .dataframe tbody tr th {\n",
              "        vertical-align: top;\n",
              "    }\n",
              "\n",
              "    .dataframe thead th {\n",
              "        text-align: right;\n",
              "    }\n",
              "</style>\n",
              "<table border=\"1\" class=\"dataframe\">\n",
              "  <thead>\n",
              "    <tr style=\"text-align: right;\">\n",
              "      <th></th>\n",
              "      <th>Date</th>\n",
              "      <th>DC_Inflow</th>\n",
              "      <th>CJ383_SWE_IN</th>\n",
              "      <th>CJ383_PA_IN</th>\n",
              "      <th>CJ383_ATO_DEGF</th>\n",
              "      <th>CJ383_STO_2IN_DEGF</th>\n",
              "      <th>CJ383_SMP_2IN_PCT</th>\n",
              "      <th>EWC461_SWE_IN_</th>\n",
              "      <th>EWC461_PA_IN</th>\n",
              "      <th>EWC461_ATO_DEGF</th>\n",
              "      <th>EWC461_STO_2IN_DEGF</th>\n",
              "      <th>EWC461_SMP_2IN_PCT</th>\n",
              "      <th>LM572_SWE_IN</th>\n",
              "      <th>LM572_PRECP_IN</th>\n",
              "      <th>LM572_ATO_2IN_DEGF</th>\n",
              "      <th>LM572_STO_2IN_DEGF</th>\n",
              "      <th>LM572_SMP_2IN_PCT</th>\n",
              "    </tr>\n",
              "  </thead>\n",
              "  <tbody>\n",
              "    <tr>\n",
              "      <th>0</th>\n",
              "      <td>1/1/2006</td>\n",
              "      <td>12050.0</td>\n",
              "      <td>0.8</td>\n",
              "      <td>3.8</td>\n",
              "      <td>29.0</td>\n",
              "      <td>33.0</td>\n",
              "      <td>9.0</td>\n",
              "      <td>0.9</td>\n",
              "      <td>2.0</td>\n",
              "      <td>31.0</td>\n",
              "      <td>NaN</td>\n",
              "      <td>NaN</td>\n",
              "      <td>3.8</td>\n",
              "      <td>7.5</td>\n",
              "      <td>28.0</td>\n",
              "      <td>34.0</td>\n",
              "      <td>5.1</td>\n",
              "    </tr>\n",
              "    <tr>\n",
              "      <th>1</th>\n",
              "      <td>2/1/2006</td>\n",
              "      <td>11880.0</td>\n",
              "      <td>2.8</td>\n",
              "      <td>5.3</td>\n",
              "      <td>27.0</td>\n",
              "      <td>33.0</td>\n",
              "      <td>9.2</td>\n",
              "      <td>1.8</td>\n",
              "      <td>3.0</td>\n",
              "      <td>25.0</td>\n",
              "      <td>22.0</td>\n",
              "      <td>7.4</td>\n",
              "      <td>6.8</td>\n",
              "      <td>10.8</td>\n",
              "      <td>22.0</td>\n",
              "      <td>34.0</td>\n",
              "      <td>6.0</td>\n",
              "    </tr>\n",
              "    <tr>\n",
              "      <th>2</th>\n",
              "      <td>3/1/2006</td>\n",
              "      <td>11130.0</td>\n",
              "      <td>2.9</td>\n",
              "      <td>5.8</td>\n",
              "      <td>33.0</td>\n",
              "      <td>34.0</td>\n",
              "      <td>11.3</td>\n",
              "      <td>1.8</td>\n",
              "      <td>3.3</td>\n",
              "      <td>36.0</td>\n",
              "      <td>29.0</td>\n",
              "      <td>11.7</td>\n",
              "      <td>7.3</td>\n",
              "      <td>12.0</td>\n",
              "      <td>33.0</td>\n",
              "      <td>34.0</td>\n",
              "      <td>12.0</td>\n",
              "    </tr>\n",
              "    <tr>\n",
              "      <th>3</th>\n",
              "      <td>4/1/2006</td>\n",
              "      <td>10620.0</td>\n",
              "      <td>8.1</td>\n",
              "      <td>11.2</td>\n",
              "      <td>31.0</td>\n",
              "      <td>35.0</td>\n",
              "      <td>33.3</td>\n",
              "      <td>4.1</td>\n",
              "      <td>6.4</td>\n",
              "      <td>34.0</td>\n",
              "      <td>34.0</td>\n",
              "      <td>27.4</td>\n",
              "      <td>11.7</td>\n",
              "      <td>18.5</td>\n",
              "      <td>31.0</td>\n",
              "      <td>34.0</td>\n",
              "      <td>25.7</td>\n",
              "    </tr>\n",
              "    <tr>\n",
              "      <th>4</th>\n",
              "      <td>5/1/2006</td>\n",
              "      <td>13500.0</td>\n",
              "      <td>0.0</td>\n",
              "      <td>12.4</td>\n",
              "      <td>45.0</td>\n",
              "      <td>46.0</td>\n",
              "      <td>23.8</td>\n",
              "      <td>0.0</td>\n",
              "      <td>6.9</td>\n",
              "      <td>41.0</td>\n",
              "      <td>47.0</td>\n",
              "      <td>17.2</td>\n",
              "      <td>0.0</td>\n",
              "      <td>21.0</td>\n",
              "      <td>31.0</td>\n",
              "      <td>50.0</td>\n",
              "      <td>12.6</td>\n",
              "    </tr>\n",
              "  </tbody>\n",
              "</table>\n",
              "</div>\n",
              "      <button class=\"colab-df-convert\" onclick=\"convertToInteractive('df-5de27f5f-9be6-4596-a558-7726f1cb27a9')\"\n",
              "              title=\"Convert this dataframe to an interactive table.\"\n",
              "              style=\"display:none;\">\n",
              "        \n",
              "  <svg xmlns=\"http://www.w3.org/2000/svg\" height=\"24px\"viewBox=\"0 0 24 24\"\n",
              "       width=\"24px\">\n",
              "    <path d=\"M0 0h24v24H0V0z\" fill=\"none\"/>\n",
              "    <path d=\"M18.56 5.44l.94 2.06.94-2.06 2.06-.94-2.06-.94-.94-2.06-.94 2.06-2.06.94zm-11 1L8.5 8.5l.94-2.06 2.06-.94-2.06-.94L8.5 2.5l-.94 2.06-2.06.94zm10 10l.94 2.06.94-2.06 2.06-.94-2.06-.94-.94-2.06-.94 2.06-2.06.94z\"/><path d=\"M17.41 7.96l-1.37-1.37c-.4-.4-.92-.59-1.43-.59-.52 0-1.04.2-1.43.59L10.3 9.45l-7.72 7.72c-.78.78-.78 2.05 0 2.83L4 21.41c.39.39.9.59 1.41.59.51 0 1.02-.2 1.41-.59l7.78-7.78 2.81-2.81c.8-.78.8-2.07 0-2.86zM5.41 20L4 18.59l7.72-7.72 1.47 1.35L5.41 20z\"/>\n",
              "  </svg>\n",
              "      </button>\n",
              "      \n",
              "  <style>\n",
              "    .colab-df-container {\n",
              "      display:flex;\n",
              "      flex-wrap:wrap;\n",
              "      gap: 12px;\n",
              "    }\n",
              "\n",
              "    .colab-df-convert {\n",
              "      background-color: #E8F0FE;\n",
              "      border: none;\n",
              "      border-radius: 50%;\n",
              "      cursor: pointer;\n",
              "      display: none;\n",
              "      fill: #1967D2;\n",
              "      height: 32px;\n",
              "      padding: 0 0 0 0;\n",
              "      width: 32px;\n",
              "    }\n",
              "\n",
              "    .colab-df-convert:hover {\n",
              "      background-color: #E2EBFA;\n",
              "      box-shadow: 0px 1px 2px rgba(60, 64, 67, 0.3), 0px 1px 3px 1px rgba(60, 64, 67, 0.15);\n",
              "      fill: #174EA6;\n",
              "    }\n",
              "\n",
              "    [theme=dark] .colab-df-convert {\n",
              "      background-color: #3B4455;\n",
              "      fill: #D2E3FC;\n",
              "    }\n",
              "\n",
              "    [theme=dark] .colab-df-convert:hover {\n",
              "      background-color: #434B5C;\n",
              "      box-shadow: 0px 1px 3px 1px rgba(0, 0, 0, 0.15);\n",
              "      filter: drop-shadow(0px 1px 2px rgba(0, 0, 0, 0.3));\n",
              "      fill: #FFFFFF;\n",
              "    }\n",
              "  </style>\n",
              "\n",
              "      <script>\n",
              "        const buttonEl =\n",
              "          document.querySelector('#df-5de27f5f-9be6-4596-a558-7726f1cb27a9 button.colab-df-convert');\n",
              "        buttonEl.style.display =\n",
              "          google.colab.kernel.accessAllowed ? 'block' : 'none';\n",
              "\n",
              "        async function convertToInteractive(key) {\n",
              "          const element = document.querySelector('#df-5de27f5f-9be6-4596-a558-7726f1cb27a9');\n",
              "          const dataTable =\n",
              "            await google.colab.kernel.invokeFunction('convertToInteractive',\n",
              "                                                     [key], {});\n",
              "          if (!dataTable) return;\n",
              "\n",
              "          const docLinkHtml = 'Like what you see? Visit the ' +\n",
              "            '<a target=\"_blank\" href=https://colab.research.google.com/notebooks/data_table.ipynb>data table notebook</a>'\n",
              "            + ' to learn more about interactive tables.';\n",
              "          element.innerHTML = '';\n",
              "          dataTable['output_type'] = 'display_data';\n",
              "          await google.colab.output.renderOutput(dataTable, element);\n",
              "          const docLink = document.createElement('div');\n",
              "          docLink.innerHTML = docLinkHtml;\n",
              "          element.appendChild(docLink);\n",
              "        }\n",
              "      </script>\n",
              "    </div>\n",
              "  </div>\n",
              "  "
            ],
            "text/plain": [
              "       Date  DC_Inflow  CJ383_SWE_IN  CJ383_PA_IN  CJ383_ATO_DEGF  \\\n",
              "0  1/1/2006    12050.0           0.8          3.8            29.0   \n",
              "1  2/1/2006    11880.0           2.8          5.3            27.0   \n",
              "2  3/1/2006    11130.0           2.9          5.8            33.0   \n",
              "3  4/1/2006    10620.0           8.1         11.2            31.0   \n",
              "4  5/1/2006    13500.0           0.0         12.4            45.0   \n",
              "\n",
              "   CJ383_STO_2IN_DEGF  CJ383_SMP_2IN_PCT  EWC461_SWE_IN_  EWC461_PA_IN  \\\n",
              "0                33.0                9.0             0.9           2.0   \n",
              "1                33.0                9.2             1.8           3.0   \n",
              "2                34.0               11.3             1.8           3.3   \n",
              "3                35.0               33.3             4.1           6.4   \n",
              "4                46.0               23.8             0.0           6.9   \n",
              "\n",
              "   EWC461_ATO_DEGF  EWC461_STO_2IN_DEGF  EWC461_SMP_2IN_PCT  LM572_SWE_IN  \\\n",
              "0             31.0                  NaN                 NaN           3.8   \n",
              "1             25.0                 22.0                 7.4           6.8   \n",
              "2             36.0                 29.0                11.7           7.3   \n",
              "3             34.0                 34.0                27.4          11.7   \n",
              "4             41.0                 47.0                17.2           0.0   \n",
              "\n",
              "   LM572_PRECP_IN  LM572_ATO_2IN_DEGF  LM572_STO_2IN_DEGF  LM572_SMP_2IN_PCT  \n",
              "0             7.5                28.0                34.0                5.1  \n",
              "1            10.8                22.0                34.0                6.0  \n",
              "2            12.0                33.0                34.0               12.0  \n",
              "3            18.5                31.0                34.0               25.7  \n",
              "4            21.0                31.0                50.0               12.6  "
            ]
          },
          "metadata": {},
          "execution_count": 272
        }
      ]
    },
    {
      "cell_type": "code",
      "source": [
        "here_we_go_again = data3.corr()"
      ],
      "metadata": {
        "id": "EkF_hFD8D-ws"
      },
      "execution_count": 273,
      "outputs": []
    },
    {
      "cell_type": "code",
      "source": [
        "sns.heatmap(here_we_go_again)"
      ],
      "metadata": {
        "colab": {
          "base_uri": "https://localhost:8080/",
          "height": 399
        },
        "id": "QiV7j6chEIK9",
        "outputId": "adc865d5-0524-4e77-ab1a-488a78ebfb43"
      },
      "execution_count": 274,
      "outputs": [
        {
          "output_type": "execute_result",
          "data": {
            "text/plain": [
              "<matplotlib.axes._subplots.AxesSubplot at 0x7f2ab4d52150>"
            ]
          },
          "metadata": {},
          "execution_count": 274
        },
        {
          "output_type": "display_data",
          "data": {
            "image/png": "[encoded data removed]",
            "text/plain": [
              "<Figure size 432x288 with 2 Axes>"
            ]
          },
          "metadata": {
            "needs_background": "light"
          }
        }
      ]
    },
    {
      "cell_type": "markdown",
      "source": [
        "#Step 9: Final Selection"
      ],
      "metadata": {
        "id": "0mCDUVg2VhcH"
      }
    },
    {
      "cell_type": "markdown",
      "source": [
        "Lets find out which weather station/attribute has most effect on our dependent variable DC_Inflow"
      ],
      "metadata": {
        "id": "mqyItt5ZEQyb"
      }
    },
    {
      "cell_type": "code",
      "source": [
        "corr_matrix3 = here_we_go_again[\"DC_Inflow\"].sort_values(ascending=False) \n",
        "\n",
        "print(corr_matrix3)"
      ],
      "metadata": {
        "colab": {
          "base_uri": "https://localhost:8080/"
        },
        "id": "Q8LHgcn9EK63",
        "outputId": "56386b81-bea8-489e-b026-bdea79212a3c"
      },
      "execution_count": 275,
      "outputs": [
        {
          "output_type": "stream",
          "name": "stdout",
          "text": [
            "DC_Inflow              1.000000\n",
            "LM572_STO_2IN_DEGF     0.198663\n",
            "CJ383_STO_2IN_DEGF     0.193714\n",
            "EWC461_STO_2IN_DEGF    0.180444\n",
            "EWC461_PA_IN           0.144830\n",
            "CJ383_PA_IN            0.139915\n",
            "LM572_PRECP_IN         0.131646\n",
            "EWC461_ATO_DEGF        0.125930\n",
            "CJ383_ATO_DEGF         0.121674\n",
            "LM572_ATO_2IN_DEGF     0.118902\n",
            "CJ383_SMP_2IN_PCT      0.090439\n",
            "EWC461_SMP_2IN_PCT     0.057445\n",
            "LM572_SMP_2IN_PCT      0.002967\n",
            "CJ383_SWE_IN          -0.003307\n",
            "LM572_SWE_IN          -0.010709\n",
            "EWC461_SWE_IN_        -0.011801\n",
            "Name: DC_Inflow, dtype: float64\n"
          ]
        }
      ]
    },
    {
      "cell_type": "markdown",
      "source": [
        "The highest correlation coefficient when compared against DC_Inflow is the Soil Temperature Observed for Lasal Mountain (in Farenheit)."
      ],
      "metadata": {
        "id": "tto1wEeRTtMa"
      }
    },
    {
      "cell_type": "code",
      "source": [
        "corr_matrix4 = here_we_go_again[\"LM572_STO_2IN_DEGF\"].sort_values(ascending=False) \n",
        "\n",
        "print(corr_matrix4)"
      ],
      "metadata": {
        "colab": {
          "base_uri": "https://localhost:8080/"
        },
        "id": "ETIeMR8rEySx",
        "outputId": "fc6dee4a-a68b-43ea-875b-5ca9933a145a"
      },
      "execution_count": 276,
      "outputs": [
        {
          "output_type": "stream",
          "name": "stdout",
          "text": [
            "LM572_STO_2IN_DEGF     1.000000\n",
            "CJ383_STO_2IN_DEGF     0.988847\n",
            "EWC461_STO_2IN_DEGF    0.974961\n",
            "CJ383_ATO_DEGF         0.855629\n",
            "LM572_ATO_2IN_DEGF     0.842450\n",
            "EWC461_ATO_DEGF        0.823222\n",
            "LM572_PRECP_IN         0.756017\n",
            "EWC461_PA_IN           0.738896\n",
            "CJ383_PA_IN            0.727915\n",
            "EWC461_SMP_2IN_PCT     0.437698\n",
            "CJ383_SMP_2IN_PCT      0.288393\n",
            "LM572_SMP_2IN_PCT      0.277710\n",
            "DC_Inflow              0.198663\n",
            "LM572_SWE_IN          -0.140991\n",
            "EWC461_SWE_IN_        -0.188644\n",
            "CJ383_SWE_IN          -0.211086\n",
            "Name: LM572_STO_2IN_DEGF, dtype: float64\n"
          ]
        }
      ]
    },
    {
      "cell_type": "code",
      "source": [
        "corr_matrix5 = here_we_go_again[\"EWC461_PA_IN\"].sort_values(ascending=False) \n",
        "\n",
        "print(corr_matrix5)\n"
      ],
      "metadata": {
        "colab": {
          "base_uri": "https://localhost:8080/"
        },
        "id": "yHzt2VNhFLi2",
        "outputId": "ede09031-3d9f-467f-eca9-cc5fac4b6366"
      },
      "execution_count": 277,
      "outputs": [
        {
          "output_type": "stream",
          "name": "stdout",
          "text": [
            "EWC461_PA_IN           1.000000\n",
            "CJ383_PA_IN            0.970010\n",
            "LM572_PRECP_IN         0.967831\n",
            "EWC461_STO_2IN_DEGF    0.795259\n",
            "CJ383_STO_2IN_DEGF     0.759016\n",
            "LM572_STO_2IN_DEGF     0.738896\n",
            "EWC461_SMP_2IN_PCT     0.566633\n",
            "EWC461_ATO_DEGF        0.537085\n",
            "LM572_ATO_2IN_DEGF     0.535958\n",
            "CJ383_ATO_DEGF         0.529725\n",
            "CJ383_SMP_2IN_PCT      0.480735\n",
            "LM572_SMP_2IN_PCT      0.452895\n",
            "LM572_SWE_IN           0.304904\n",
            "EWC461_SWE_IN_         0.244926\n",
            "CJ383_SWE_IN           0.226643\n",
            "DC_Inflow              0.144830\n",
            "Name: EWC461_PA_IN, dtype: float64\n"
          ]
        }
      ]
    },
    {
      "cell_type": "markdown",
      "source": [
        "What we're doing here is going one by one down the list of attributes and seeing which station has the highest corr coef to select a combination of ones for our final model. So far its **LM572_STO_2IN_DEGF**, or Lasal Mountain Soil Temperature Observed in Farenheit, and **EWC461_PA_IN** which is the code for East Willow Creek Precipitation Accumulation in Inches. Next we'll look at **LM572_PRECP_IN** and **EWC461_ATO_DEGF**"
      ],
      "metadata": {
        "id": "mY68eIhcFlgX"
      }
    },
    {
      "cell_type": "code",
      "source": [
        "corr_matrix6 = here_we_go_again[\"LM572_PRECP_IN\"].sort_values(ascending=False) \n",
        "\n",
        "print(corr_matrix6)"
      ],
      "metadata": {
        "colab": {
          "base_uri": "https://localhost:8080/"
        },
        "id": "FZgL-4gPGjFb",
        "outputId": "c9342cc0-d3e1-4dab-e003-937b6ed8fede"
      },
      "execution_count": 278,
      "outputs": [
        {
          "output_type": "stream",
          "name": "stdout",
          "text": [
            "LM572_PRECP_IN         1.000000\n",
            "EWC461_PA_IN           0.967831\n",
            "CJ383_PA_IN            0.964562\n",
            "EWC461_STO_2IN_DEGF    0.809568\n",
            "CJ383_STO_2IN_DEGF     0.778237\n",
            "LM572_STO_2IN_DEGF     0.756017\n",
            "EWC461_ATO_DEGF        0.561268\n",
            "CJ383_ATO_DEGF         0.560784\n",
            "LM572_ATO_2IN_DEGF     0.555109\n",
            "EWC461_SMP_2IN_PCT     0.545342\n",
            "CJ383_SMP_2IN_PCT      0.468059\n",
            "LM572_SMP_2IN_PCT      0.445287\n",
            "LM572_SWE_IN           0.286250\n",
            "EWC461_SWE_IN_         0.182782\n",
            "CJ383_SWE_IN           0.175986\n",
            "DC_Inflow              0.131646\n",
            "Name: LM572_PRECP_IN, dtype: float64\n"
          ]
        }
      ]
    },
    {
      "cell_type": "code",
      "source": [
        "last_corr_matrix = here_we_go_again[\"EWC461_ATO_DEGF\"].sort_values(ascending=False) \n",
        "\n",
        "print(last_corr_matrix)"
      ],
      "metadata": {
        "colab": {
          "base_uri": "https://localhost:8080/"
        },
        "id": "Fru-Rbh3Gq1Z",
        "outputId": "89705956-fdaf-46f5-b5f1-41e165b1e2e7"
      },
      "execution_count": 279,
      "outputs": [
        {
          "output_type": "stream",
          "name": "stdout",
          "text": [
            "EWC461_ATO_DEGF        1.000000\n",
            "LM572_ATO_2IN_DEGF     0.956170\n",
            "CJ383_ATO_DEGF         0.948820\n",
            "CJ383_STO_2IN_DEGF     0.827813\n",
            "LM572_STO_2IN_DEGF     0.823222\n",
            "EWC461_STO_2IN_DEGF    0.803325\n",
            "LM572_PRECP_IN         0.561268\n",
            "CJ383_PA_IN            0.541873\n",
            "EWC461_PA_IN           0.537085\n",
            "EWC461_SMP_2IN_PCT     0.392665\n",
            "LM572_SMP_2IN_PCT      0.231518\n",
            "CJ383_SMP_2IN_PCT      0.215505\n",
            "DC_Inflow              0.125930\n",
            "LM572_SWE_IN          -0.228904\n",
            "EWC461_SWE_IN_        -0.288714\n",
            "CJ383_SWE_IN          -0.302357\n",
            "Name: EWC461_ATO_DEGF, dtype: float64\n"
          ]
        }
      ]
    },
    {
      "cell_type": "markdown",
      "source": [
        "So the columns of the dataframe listed above will be made into a new csv file and saved on this here drive. "
      ],
      "metadata": {
        "id": "CTenVB4BHAeY"
      }
    },
    {
      "cell_type": "markdown",
      "source": [
        "Just to refresh, the columns are: CJ383_SMP_2IN_PCT, EWC461_ATO_DEGF, EWC461_PA_IN, and EWC461_SWE_IN_"
      ],
      "metadata": {
        "id": "a0D5vizJHRJb"
      }
    },
    {
      "cell_type": "code",
      "source": [
        "data3.head()"
      ],
      "metadata": {
        "colab": {
          "base_uri": "https://localhost:8080/",
          "height": 270
        },
        "id": "TNqCxDURH3_l",
        "outputId": "73778f63-5f2a-4043-edd4-3188f22c574b"
      },
      "execution_count": 280,
      "outputs": [
        {
          "output_type": "execute_result",
          "data": {
            "text/html": [
              "\n",
              "  <div id=\"df-45b164c9-3007-428a-9413-49df35053e81\">\n",
              "    <div class=\"colab-df-container\">\n",
              "      <div>\n",
              "<style scoped>\n",
              "    .dataframe tbody tr th:only-of-type {\n",
              "        vertical-align: middle;\n",
              "    }\n",
              "\n",
              "    .dataframe tbody tr th {\n",
              "        vertical-align: top;\n",
              "    }\n",
              "\n",
              "    .dataframe thead th {\n",
              "        text-align: right;\n",
              "    }\n",
              "</style>\n",
              "<table border=\"1\" class=\"dataframe\">\n",
              "  <thead>\n",
              "    <tr style=\"text-align: right;\">\n",
              "      <th></th>\n",
              "      <th>Date</th>\n",
              "      <th>DC_Inflow</th>\n",
              "      <th>CJ383_SWE_IN</th>\n",
              "      <th>CJ383_PA_IN</th>\n",
              "      <th>CJ383_ATO_DEGF</th>\n",
              "      <th>CJ383_STO_2IN_DEGF</th>\n",
              "      <th>CJ383_SMP_2IN_PCT</th>\n",
              "      <th>EWC461_SWE_IN_</th>\n",
              "      <th>EWC461_PA_IN</th>\n",
              "      <th>EWC461_ATO_DEGF</th>\n",
              "      <th>EWC461_STO_2IN_DEGF</th>\n",
              "      <th>EWC461_SMP_2IN_PCT</th>\n",
              "      <th>LM572_SWE_IN</th>\n",
              "      <th>LM572_PRECP_IN</th>\n",
              "      <th>LM572_ATO_2IN_DEGF</th>\n",
              "      <th>LM572_STO_2IN_DEGF</th>\n",
              "      <th>LM572_SMP_2IN_PCT</th>\n",
              "    </tr>\n",
              "  </thead>\n",
              "  <tbody>\n",
              "    <tr>\n",
              "      <th>0</th>\n",
              "      <td>1/1/2006</td>\n",
              "      <td>12050.0</td>\n",
              "      <td>0.8</td>\n",
              "      <td>3.8</td>\n",
              "      <td>29.0</td>\n",
              "      <td>33.0</td>\n",
              "      <td>9.0</td>\n",
              "      <td>0.9</td>\n",
              "      <td>2.0</td>\n",
              "      <td>31.0</td>\n",
              "      <td>NaN</td>\n",
              "      <td>NaN</td>\n",
              "      <td>3.8</td>\n",
              "      <td>7.5</td>\n",
              "      <td>28.0</td>\n",
              "      <td>34.0</td>\n",
              "      <td>5.1</td>\n",
              "    </tr>\n",
              "    <tr>\n",
              "      <th>1</th>\n",
              "      <td>2/1/2006</td>\n",
              "      <td>11880.0</td>\n",
              "      <td>2.8</td>\n",
              "      <td>5.3</td>\n",
              "      <td>27.0</td>\n",
              "      <td>33.0</td>\n",
              "      <td>9.2</td>\n",
              "      <td>1.8</td>\n",
              "      <td>3.0</td>\n",
              "      <td>25.0</td>\n",
              "      <td>22.0</td>\n",
              "      <td>7.4</td>\n",
              "      <td>6.8</td>\n",
              "      <td>10.8</td>\n",
              "      <td>22.0</td>\n",
              "      <td>34.0</td>\n",
              "      <td>6.0</td>\n",
              "    </tr>\n",
              "    <tr>\n",
              "      <th>2</th>\n",
              "      <td>3/1/2006</td>\n",
              "      <td>11130.0</td>\n",
              "      <td>2.9</td>\n",
              "      <td>5.8</td>\n",
              "      <td>33.0</td>\n",
              "      <td>34.0</td>\n",
              "      <td>11.3</td>\n",
              "      <td>1.8</td>\n",
              "      <td>3.3</td>\n",
              "      <td>36.0</td>\n",
              "      <td>29.0</td>\n",
              "      <td>11.7</td>\n",
              "      <td>7.3</td>\n",
              "      <td>12.0</td>\n",
              "      <td>33.0</td>\n",
              "      <td>34.0</td>\n",
              "      <td>12.0</td>\n",
              "    </tr>\n",
              "    <tr>\n",
              "      <th>3</th>\n",
              "      <td>4/1/2006</td>\n",
              "      <td>10620.0</td>\n",
              "      <td>8.1</td>\n",
              "      <td>11.2</td>\n",
              "      <td>31.0</td>\n",
              "      <td>35.0</td>\n",
              "      <td>33.3</td>\n",
              "      <td>4.1</td>\n",
              "      <td>6.4</td>\n",
              "      <td>34.0</td>\n",
              "      <td>34.0</td>\n",
              "      <td>27.4</td>\n",
              "      <td>11.7</td>\n",
              "      <td>18.5</td>\n",
              "      <td>31.0</td>\n",
              "      <td>34.0</td>\n",
              "      <td>25.7</td>\n",
              "    </tr>\n",
              "    <tr>\n",
              "      <th>4</th>\n",
              "      <td>5/1/2006</td>\n",
              "      <td>13500.0</td>\n",
              "      <td>0.0</td>\n",
              "      <td>12.4</td>\n",
              "      <td>45.0</td>\n",
              "      <td>46.0</td>\n",
              "      <td>23.8</td>\n",
              "      <td>0.0</td>\n",
              "      <td>6.9</td>\n",
              "      <td>41.0</td>\n",
              "      <td>47.0</td>\n",
              "      <td>17.2</td>\n",
              "      <td>0.0</td>\n",
              "      <td>21.0</td>\n",
              "      <td>31.0</td>\n",
              "      <td>50.0</td>\n",
              "      <td>12.6</td>\n",
              "    </tr>\n",
              "  </tbody>\n",
              "</table>\n",
              "</div>\n",
              "      <button class=\"colab-df-convert\" onclick=\"convertToInteractive('df-45b164c9-3007-428a-9413-49df35053e81')\"\n",
              "              title=\"Convert this dataframe to an interactive table.\"\n",
              "              style=\"display:none;\">\n",
              "        \n",
              "  <svg xmlns=\"http://www.w3.org/2000/svg\" height=\"24px\"viewBox=\"0 0 24 24\"\n",
              "       width=\"24px\">\n",
              "    <path d=\"M0 0h24v24H0V0z\" fill=\"none\"/>\n",
              "    <path d=\"M18.56 5.44l.94 2.06.94-2.06 2.06-.94-2.06-.94-.94-2.06-.94 2.06-2.06.94zm-11 1L8.5 8.5l.94-2.06 2.06-.94-2.06-.94L8.5 2.5l-.94 2.06-2.06.94zm10 10l.94 2.06.94-2.06 2.06-.94-2.06-.94-.94-2.06-.94 2.06-2.06.94z\"/><path d=\"M17.41 7.96l-1.37-1.37c-.4-.4-.92-.59-1.43-.59-.52 0-1.04.2-1.43.59L10.3 9.45l-7.72 7.72c-.78.78-.78 2.05 0 2.83L4 21.41c.39.39.9.59 1.41.59.51 0 1.02-.2 1.41-.59l7.78-7.78 2.81-2.81c.8-.78.8-2.07 0-2.86zM5.41 20L4 18.59l7.72-7.72 1.47 1.35L5.41 20z\"/>\n",
              "  </svg>\n",
              "      </button>\n",
              "      \n",
              "  <style>\n",
              "    .colab-df-container {\n",
              "      display:flex;\n",
              "      flex-wrap:wrap;\n",
              "      gap: 12px;\n",
              "    }\n",
              "\n",
              "    .colab-df-convert {\n",
              "      background-color: #E8F0FE;\n",
              "      border: none;\n",
              "      border-radius: 50%;\n",
              "      cursor: pointer;\n",
              "      display: none;\n",
              "      fill: #1967D2;\n",
              "      height: 32px;\n",
              "      padding: 0 0 0 0;\n",
              "      width: 32px;\n",
              "    }\n",
              "\n",
              "    .colab-df-convert:hover {\n",
              "      background-color: #E2EBFA;\n",
              "      box-shadow: 0px 1px 2px rgba(60, 64, 67, 0.3), 0px 1px 3px 1px rgba(60, 64, 67, 0.15);\n",
              "      fill: #174EA6;\n",
              "    }\n",
              "\n",
              "    [theme=dark] .colab-df-convert {\n",
              "      background-color: #3B4455;\n",
              "      fill: #D2E3FC;\n",
              "    }\n",
              "\n",
              "    [theme=dark] .colab-df-convert:hover {\n",
              "      background-color: #434B5C;\n",
              "      box-shadow: 0px 1px 3px 1px rgba(0, 0, 0, 0.15);\n",
              "      filter: drop-shadow(0px 1px 2px rgba(0, 0, 0, 0.3));\n",
              "      fill: #FFFFFF;\n",
              "    }\n",
              "  </style>\n",
              "\n",
              "      <script>\n",
              "        const buttonEl =\n",
              "          document.querySelector('#df-45b164c9-3007-428a-9413-49df35053e81 button.colab-df-convert');\n",
              "        buttonEl.style.display =\n",
              "          google.colab.kernel.accessAllowed ? 'block' : 'none';\n",
              "\n",
              "        async function convertToInteractive(key) {\n",
              "          const element = document.querySelector('#df-45b164c9-3007-428a-9413-49df35053e81');\n",
              "          const dataTable =\n",
              "            await google.colab.kernel.invokeFunction('convertToInteractive',\n",
              "                                                     [key], {});\n",
              "          if (!dataTable) return;\n",
              "\n",
              "          const docLinkHtml = 'Like what you see? Visit the ' +\n",
              "            '<a target=\"_blank\" href=https://colab.research.google.com/notebooks/data_table.ipynb>data table notebook</a>'\n",
              "            + ' to learn more about interactive tables.';\n",
              "          element.innerHTML = '';\n",
              "          dataTable['output_type'] = 'display_data';\n",
              "          await google.colab.output.renderOutput(dataTable, element);\n",
              "          const docLink = document.createElement('div');\n",
              "          docLink.innerHTML = docLinkHtml;\n",
              "          element.appendChild(docLink);\n",
              "        }\n",
              "      </script>\n",
              "    </div>\n",
              "  </div>\n",
              "  "
            ],
            "text/plain": [
              "       Date  DC_Inflow  CJ383_SWE_IN  CJ383_PA_IN  CJ383_ATO_DEGF  \\\n",
              "0  1/1/2006    12050.0           0.8          3.8            29.0   \n",
              "1  2/1/2006    11880.0           2.8          5.3            27.0   \n",
              "2  3/1/2006    11130.0           2.9          5.8            33.0   \n",
              "3  4/1/2006    10620.0           8.1         11.2            31.0   \n",
              "4  5/1/2006    13500.0           0.0         12.4            45.0   \n",
              "\n",
              "   CJ383_STO_2IN_DEGF  CJ383_SMP_2IN_PCT  EWC461_SWE_IN_  EWC461_PA_IN  \\\n",
              "0                33.0                9.0             0.9           2.0   \n",
              "1                33.0                9.2             1.8           3.0   \n",
              "2                34.0               11.3             1.8           3.3   \n",
              "3                35.0               33.3             4.1           6.4   \n",
              "4                46.0               23.8             0.0           6.9   \n",
              "\n",
              "   EWC461_ATO_DEGF  EWC461_STO_2IN_DEGF  EWC461_SMP_2IN_PCT  LM572_SWE_IN  \\\n",
              "0             31.0                  NaN                 NaN           3.8   \n",
              "1             25.0                 22.0                 7.4           6.8   \n",
              "2             36.0                 29.0                11.7           7.3   \n",
              "3             34.0                 34.0                27.4          11.7   \n",
              "4             41.0                 47.0                17.2           0.0   \n",
              "\n",
              "   LM572_PRECP_IN  LM572_ATO_2IN_DEGF  LM572_STO_2IN_DEGF  LM572_SMP_2IN_PCT  \n",
              "0             7.5                28.0                34.0                5.1  \n",
              "1            10.8                22.0                34.0                6.0  \n",
              "2            12.0                33.0                34.0               12.0  \n",
              "3            18.5                31.0                34.0               25.7  \n",
              "4            21.0                31.0                50.0               12.6  "
            ]
          },
          "metadata": {},
          "execution_count": 280
        }
      ]
    },
    {
      "cell_type": "code",
      "source": [
        "final_dataset = data3[[\"CJ383_SMP_2IN_PCT\", \"EWC461_ATO_DEGF\", \"EWC461_PA_IN\", \"EWC461_SWE_IN_\"]].copy()"
      ],
      "metadata": {
        "id": "_SkFLADXHJyY"
      },
      "execution_count": 281,
      "outputs": []
    },
    {
      "cell_type": "markdown",
      "source": [
        "One last corr  heatmap with the attributes we picked out just for the fun of it (against DC_Inflow)"
      ],
      "metadata": {
        "id": "7KD4vu8oQedD"
      }
    },
    {
      "cell_type": "code",
      "source": [
        "one_last_time = data3[[\"DC_Inflow\", \"CJ383_SMP_2IN_PCT\", \"EWC461_ATO_DEGF\", \"EWC461_PA_IN\", \"EWC461_SWE_IN_\"]].copy()"
      ],
      "metadata": {
        "id": "9wiMvd-JQlWd"
      },
      "execution_count": 282,
      "outputs": []
    },
    {
      "cell_type": "code",
      "source": [
        "one_last_kiss_i_mean_corr = one_last_time.corr()"
      ],
      "metadata": {
        "id": "jV56fXPmQtco"
      },
      "execution_count": 283,
      "outputs": []
    },
    {
      "cell_type": "code",
      "source": [
        "sns.heatmap(one_last_kiss_i_mean_corr)"
      ],
      "metadata": {
        "colab": {
          "base_uri": "https://localhost:8080/",
          "height": 377
        },
        "id": "DWWimjeyQ9CI",
        "outputId": "dd0156df-37c9-457f-fc22-6c6588eaba9d"
      },
      "execution_count": 284,
      "outputs": [
        {
          "output_type": "execute_result",
          "data": {
            "text/plain": [
              "<matplotlib.axes._subplots.AxesSubplot at 0x7f2ab470ced0>"
            ]
          },
          "metadata": {},
          "execution_count": 284
        },
        {
          "output_type": "display_data",
          "data": {
            "image/png": "[encoded data removed]",
            "text/plain": [
              "<Figure size 432x288 with 2 Axes>"
            ]
          },
          "metadata": {
            "needs_background": "light"
          }
        }
      ]
    },
    {
      "cell_type": "markdown",
      "source": [
        "Beautiful! Now thats what a corr heatmap should look like with 0 redundancies."
      ],
      "metadata": {
        "id": "4D4kdk0URduB"
      }
    },
    {
      "cell_type": "markdown",
      "source": [
        "#Step 10: Reviewing and Saving your new dataset"
      ],
      "metadata": {
        "id": "qdiU6xP1VmLp"
      }
    },
    {
      "cell_type": "markdown",
      "source": [
        "Lets look at the header to make sure we have everything we need before we save to our csv file."
      ],
      "metadata": {
        "id": "EUs9wOBKIP4D"
      }
    },
    {
      "cell_type": "code",
      "source": [
        "final_dataset.head()"
      ],
      "metadata": {
        "colab": {
          "base_uri": "https://localhost:8080/",
          "height": 206
        },
        "id": "JgLnX3hCIML-",
        "outputId": "8fa50227-2701-49b6-ac90-1e419a7f96d6"
      },
      "execution_count": 285,
      "outputs": [
        {
          "output_type": "execute_result",
          "data": {
            "text/html": [
              "\n",
              "  <div id=\"df-a228f732-0f91-47db-8383-fac3b7a4d595\">\n",
              "    <div class=\"colab-df-container\">\n",
              "      <div>\n",
              "<style scoped>\n",
              "    .dataframe tbody tr th:only-of-type {\n",
              "        vertical-align: middle;\n",
              "    }\n",
              "\n",
              "    .dataframe tbody tr th {\n",
              "        vertical-align: top;\n",
              "    }\n",
              "\n",
              "    .dataframe thead th {\n",
              "        text-align: right;\n",
              "    }\n",
              "</style>\n",
              "<table border=\"1\" class=\"dataframe\">\n",
              "  <thead>\n",
              "    <tr style=\"text-align: right;\">\n",
              "      <th></th>\n",
              "      <th>CJ383_SMP_2IN_PCT</th>\n",
              "      <th>EWC461_ATO_DEGF</th>\n",
              "      <th>EWC461_PA_IN</th>\n",
              "      <th>EWC461_SWE_IN_</th>\n",
              "    </tr>\n",
              "  </thead>\n",
              "  <tbody>\n",
              "    <tr>\n",
              "      <th>0</th>\n",
              "      <td>9.0</td>\n",
              "      <td>31.0</td>\n",
              "      <td>2.0</td>\n",
              "      <td>0.9</td>\n",
              "    </tr>\n",
              "    <tr>\n",
              "      <th>1</th>\n",
              "      <td>9.2</td>\n",
              "      <td>25.0</td>\n",
              "      <td>3.0</td>\n",
              "      <td>1.8</td>\n",
              "    </tr>\n",
              "    <tr>\n",
              "      <th>2</th>\n",
              "      <td>11.3</td>\n",
              "      <td>36.0</td>\n",
              "      <td>3.3</td>\n",
              "      <td>1.8</td>\n",
              "    </tr>\n",
              "    <tr>\n",
              "      <th>3</th>\n",
              "      <td>33.3</td>\n",
              "      <td>34.0</td>\n",
              "      <td>6.4</td>\n",
              "      <td>4.1</td>\n",
              "    </tr>\n",
              "    <tr>\n",
              "      <th>4</th>\n",
              "      <td>23.8</td>\n",
              "      <td>41.0</td>\n",
              "      <td>6.9</td>\n",
              "      <td>0.0</td>\n",
              "    </tr>\n",
              "  </tbody>\n",
              "</table>\n",
              "</div>\n",
              "      <button class=\"colab-df-convert\" onclick=\"convertToInteractive('df-a228f732-0f91-47db-8383-fac3b7a4d595')\"\n",
              "              title=\"Convert this dataframe to an interactive table.\"\n",
              "              style=\"display:none;\">\n",
              "        \n",
              "  <svg xmlns=\"http://www.w3.org/2000/svg\" height=\"24px\"viewBox=\"0 0 24 24\"\n",
              "       width=\"24px\">\n",
              "    <path d=\"M0 0h24v24H0V0z\" fill=\"none\"/>\n",
              "    <path d=\"M18.56 5.44l.94 2.06.94-2.06 2.06-.94-2.06-.94-.94-2.06-.94 2.06-2.06.94zm-11 1L8.5 8.5l.94-2.06 2.06-.94-2.06-.94L8.5 2.5l-.94 2.06-2.06.94zm10 10l.94 2.06.94-2.06 2.06-.94-2.06-.94-.94-2.06-.94 2.06-2.06.94z\"/><path d=\"M17.41 7.96l-1.37-1.37c-.4-.4-.92-.59-1.43-.59-.52 0-1.04.2-1.43.59L10.3 9.45l-7.72 7.72c-.78.78-.78 2.05 0 2.83L4 21.41c.39.39.9.59 1.41.59.51 0 1.02-.2 1.41-.59l7.78-7.78 2.81-2.81c.8-.78.8-2.07 0-2.86zM5.41 20L4 18.59l7.72-7.72 1.47 1.35L5.41 20z\"/>\n",
              "  </svg>\n",
              "      </button>\n",
              "      \n",
              "  <style>\n",
              "    .colab-df-container {\n",
              "      display:flex;\n",
              "      flex-wrap:wrap;\n",
              "      gap: 12px;\n",
              "    }\n",
              "\n",
              "    .colab-df-convert {\n",
              "      background-color: #E8F0FE;\n",
              "      border: none;\n",
              "      border-radius: 50%;\n",
              "      cursor: pointer;\n",
              "      display: none;\n",
              "      fill: #1967D2;\n",
              "      height: 32px;\n",
              "      padding: 0 0 0 0;\n",
              "      width: 32px;\n",
              "    }\n",
              "\n",
              "    .colab-df-convert:hover {\n",
              "      background-color: #E2EBFA;\n",
              "      box-shadow: 0px 1px 2px rgba(60, 64, 67, 0.3), 0px 1px 3px 1px rgba(60, 64, 67, 0.15);\n",
              "      fill: #174EA6;\n",
              "    }\n",
              "\n",
              "    [theme=dark] .colab-df-convert {\n",
              "      background-color: #3B4455;\n",
              "      fill: #D2E3FC;\n",
              "    }\n",
              "\n",
              "    [theme=dark] .colab-df-convert:hover {\n",
              "      background-color: #434B5C;\n",
              "      box-shadow: 0px 1px 3px 1px rgba(0, 0, 0, 0.15);\n",
              "      filter: drop-shadow(0px 1px 2px rgba(0, 0, 0, 0.3));\n",
              "      fill: #FFFFFF;\n",
              "    }\n",
              "  </style>\n",
              "\n",
              "      <script>\n",
              "        const buttonEl =\n",
              "          document.querySelector('#df-a228f732-0f91-47db-8383-fac3b7a4d595 button.colab-df-convert');\n",
              "        buttonEl.style.display =\n",
              "          google.colab.kernel.accessAllowed ? 'block' : 'none';\n",
              "\n",
              "        async function convertToInteractive(key) {\n",
              "          const element = document.querySelector('#df-a228f732-0f91-47db-8383-fac3b7a4d595');\n",
              "          const dataTable =\n",
              "            await google.colab.kernel.invokeFunction('convertToInteractive',\n",
              "                                                     [key], {});\n",
              "          if (!dataTable) return;\n",
              "\n",
              "          const docLinkHtml = 'Like what you see? Visit the ' +\n",
              "            '<a target=\"_blank\" href=https://colab.research.google.com/notebooks/data_table.ipynb>data table notebook</a>'\n",
              "            + ' to learn more about interactive tables.';\n",
              "          element.innerHTML = '';\n",
              "          dataTable['output_type'] = 'display_data';\n",
              "          await google.colab.output.renderOutput(dataTable, element);\n",
              "          const docLink = document.createElement('div');\n",
              "          docLink.innerHTML = docLinkHtml;\n",
              "          element.appendChild(docLink);\n",
              "        }\n",
              "      </script>\n",
              "    </div>\n",
              "  </div>\n",
              "  "
            ],
            "text/plain": [
              "   CJ383_SMP_2IN_PCT  EWC461_ATO_DEGF  EWC461_PA_IN  EWC461_SWE_IN_\n",
              "0                9.0             31.0           2.0             0.9\n",
              "1                9.2             25.0           3.0             1.8\n",
              "2               11.3             36.0           3.3             1.8\n",
              "3               33.3             34.0           6.4             4.1\n",
              "4               23.8             41.0           6.9             0.0"
            ]
          },
          "metadata": {},
          "execution_count": 285
        }
      ]
    },
    {
      "cell_type": "markdown",
      "source": [
        "Yep, Everything's there! We did not include Date or DC_Inflow because it is already in the final dataset. We will save this to a csv file called \"final_data.csv\""
      ],
      "metadata": {
        "id": "VLOwdPn2IWQd"
      }
    },
    {
      "cell_type": "code",
      "source": [
        "final_dataset.to_csv('final_data.csv')\n",
        "!cp final_data.csv \"/content/drive/MyDrive/CURRENT Work files/GBI/Research Project/Report/Model_Building\""
      ],
      "metadata": {
        "id": "aVr-9WWtIgvA"
      },
      "execution_count": 286,
      "outputs": []
    },
    {
      "cell_type": "markdown",
      "source": [
        "The above code automatically places the new file in the folder you tell it to. You need the last line of code if you are running this program in google collab (.ipynb)"
      ],
      "metadata": {
        "id": "0oeLWR_IJUqW"
      }
    },
    {
      "cell_type": "markdown",
      "source": [
        "#NextSteps Research Project"
      ],
      "metadata": {
        "id": "Z-fFulikVvRL"
      }
    },
    {
      "cell_type": "markdown",
      "source": [
        "The next steps before our final model is built is to go through this same process with another cluster of 2 SNOTEL monitoring site data to select for the model. "
      ],
      "metadata": {
        "id": "b8aiGdlPJw4P"
      }
    }
  ]
}
