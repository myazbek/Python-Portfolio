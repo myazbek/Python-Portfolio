{
  "nbformat": 4,
  "nbformat_minor": 0,
  "metadata": {
    "colab": {
      "name": "Iris Species Decision Tree.ipynb",
      "provenance": [],
      "collapsed_sections": []
    },
    "kernelspec": {
      "name": "python3",
      "display_name": "Python 3"
    },
    "language_info": {
      "name": "python"
    }
  },
  "cells": [
    {
      "cell_type": "markdown",
      "source": [
        "#My First Decision Tree! :)"
      ],
      "metadata": {
        "id": "IT5P8XpqiP_G"
      }
    },
    {
      "cell_type": "markdown",
      "source": [
        "Sources used to develop this can be explored in greater detail here:\n",
        "* [Implementing Machine learning models on Iris Dataset.](https://medium.com/@harimittapalli/implementing-machine-learning-models-on-iris-dataset-a08e017dd3ee)\n",
        "* [Visualizing Decision Trees with Python (Scikit-learn, Graphviz, Matplotlib)](https://towardsdatascience.com/visualizing-decision-trees-with-python-scikit-learn-graphviz-matplotlib-1c50b4aa68dc)\n",
        "* [SciKit Learn Decision Trees](https://scikit-learn.org/stable/modules/tree.html)\n",
        "* [Beautiful decision tree visualizations with dtreeviz](https://https://towardsdatascience.com/beautiful-decision-tree-visualizations-with-dtreeviz-af1a66c1c180)"
      ],
      "metadata": {
        "id": "olKe8GeciZPS"
      }
    },
    {
      "cell_type": "markdown",
      "source": [
        "Alright nerds lets get started"
      ],
      "metadata": {
        "id": "K_di7W80ia9F"
      }
    },
    {
      "cell_type": "code",
      "source": [
        "import sys\n",
        "\n",
        "if 'google.colab' in sys.modules:\n",
        "  !pip install -q sklearn"
      ],
      "metadata": {
        "id": "L62KtYk7wugE"
      },
      "execution_count": 102,
      "outputs": []
    },
    {
      "cell_type": "markdown",
      "source": [
        "We will create a simple decision tree using the Iris dataset in seaborn to predict what class of iris a set of observations are based off plant physiology."
      ],
      "metadata": {
        "id": "_7d3zUCo002w"
      }
    },
    {
      "cell_type": "markdown",
      "source": [
        "#Import and Load Data"
      ],
      "metadata": {
        "id": "1bJXycmglXLI"
      }
    },
    {
      "cell_type": "code",
      "execution_count": 103,
      "metadata": {
        "id": "Os_t0yfg0ewG"
      },
      "outputs": [],
      "source": [
        "#import your packages\n",
        "\n",
        "import numpy as np\n",
        "import pandas as pd\n",
        "import seaborn as sns\n",
        "import jupyter as jp\n",
        "import matplotlib as mpl\n",
        "import matplotlib.pyplot as plt\n",
        "import sklearn as skl\n"
      ]
    },
    {
      "cell_type": "code",
      "source": [
        "#load the dataset\n",
        "\n",
        "iris_data = sns.load_dataset(\"iris\")\n",
        "\n",
        "\n",
        "#prints the first 5 rows of the dataset\n",
        "iris_data.head()\n"
      ],
      "metadata": {
        "colab": {
          "base_uri": "https://localhost:8080/",
          "height": 206
        },
        "id": "XRV60VNA3yAH",
        "outputId": "c5cd9f1d-6250-47fe-bc96-4273fbadfa57"
      },
      "execution_count": 104,
      "outputs": [
        {
          "output_type": "execute_result",
          "data": {
            "text/html": [
              "\n",
              "  <div id=\"df-b4ad8cd2-5f71-4c94-aae2-615e86bd5c9d\">\n",
              "    <div class=\"colab-df-container\">\n",
              "      <div>\n",
              "<style scoped>\n",
              "    .dataframe tbody tr th:only-of-type {\n",
              "        vertical-align: middle;\n",
              "    }\n",
              "\n",
              "    .dataframe tbody tr th {\n",
              "        vertical-align: top;\n",
              "    }\n",
              "\n",
              "    .dataframe thead th {\n",
              "        text-align: right;\n",
              "    }\n",
              "</style>\n",
              "<table border=\"1\" class=\"dataframe\">\n",
              "  <thead>\n",
              "    <tr style=\"text-align: right;\">\n",
              "      <th></th>\n",
              "      <th>sepal_length</th>\n",
              "      <th>sepal_width</th>\n",
              "      <th>petal_length</th>\n",
              "      <th>petal_width</th>\n",
              "      <th>species</th>\n",
              "    </tr>\n",
              "  </thead>\n",
              "  <tbody>\n",
              "    <tr>\n",
              "      <th>0</th>\n",
              "      <td>5.1</td>\n",
              "      <td>3.5</td>\n",
              "      <td>1.4</td>\n",
              "      <td>0.2</td>\n",
              "      <td>setosa</td>\n",
              "    </tr>\n",
              "    <tr>\n",
              "      <th>1</th>\n",
              "      <td>4.9</td>\n",
              "      <td>3.0</td>\n",
              "      <td>1.4</td>\n",
              "      <td>0.2</td>\n",
              "      <td>setosa</td>\n",
              "    </tr>\n",
              "    <tr>\n",
              "      <th>2</th>\n",
              "      <td>4.7</td>\n",
              "      <td>3.2</td>\n",
              "      <td>1.3</td>\n",
              "      <td>0.2</td>\n",
              "      <td>setosa</td>\n",
              "    </tr>\n",
              "    <tr>\n",
              "      <th>3</th>\n",
              "      <td>4.6</td>\n",
              "      <td>3.1</td>\n",
              "      <td>1.5</td>\n",
              "      <td>0.2</td>\n",
              "      <td>setosa</td>\n",
              "    </tr>\n",
              "    <tr>\n",
              "      <th>4</th>\n",
              "      <td>5.0</td>\n",
              "      <td>3.6</td>\n",
              "      <td>1.4</td>\n",
              "      <td>0.2</td>\n",
              "      <td>setosa</td>\n",
              "    </tr>\n",
              "  </tbody>\n",
              "</table>\n",
              "</div>\n",
              "      <button class=\"colab-df-convert\" onclick=\"convertToInteractive('df-b4ad8cd2-5f71-4c94-aae2-615e86bd5c9d')\"\n",
              "              title=\"Convert this dataframe to an interactive table.\"\n",
              "              style=\"display:none;\">\n",
              "        \n",
              "  <svg xmlns=\"http://www.w3.org/2000/svg\" height=\"24px\"viewBox=\"0 0 24 24\"\n",
              "       width=\"24px\">\n",
              "    <path d=\"M0 0h24v24H0V0z\" fill=\"none\"/>\n",
              "    <path d=\"M18.56 5.44l.94 2.06.94-2.06 2.06-.94-2.06-.94-.94-2.06-.94 2.06-2.06.94zm-11 1L8.5 8.5l.94-2.06 2.06-.94-2.06-.94L8.5 2.5l-.94 2.06-2.06.94zm10 10l.94 2.06.94-2.06 2.06-.94-2.06-.94-.94-2.06-.94 2.06-2.06.94z\"/><path d=\"M17.41 7.96l-1.37-1.37c-.4-.4-.92-.59-1.43-.59-.52 0-1.04.2-1.43.59L10.3 9.45l-7.72 7.72c-.78.78-.78 2.05 0 2.83L4 21.41c.39.39.9.59 1.41.59.51 0 1.02-.2 1.41-.59l7.78-7.78 2.81-2.81c.8-.78.8-2.07 0-2.86zM5.41 20L4 18.59l7.72-7.72 1.47 1.35L5.41 20z\"/>\n",
              "  </svg>\n",
              "      </button>\n",
              "      \n",
              "  <style>\n",
              "    .colab-df-container {\n",
              "      display:flex;\n",
              "      flex-wrap:wrap;\n",
              "      gap: 12px;\n",
              "    }\n",
              "\n",
              "    .colab-df-convert {\n",
              "      background-color: #E8F0FE;\n",
              "      border: none;\n",
              "      border-radius: 50%;\n",
              "      cursor: pointer;\n",
              "      display: none;\n",
              "      fill: #1967D2;\n",
              "      height: 32px;\n",
              "      padding: 0 0 0 0;\n",
              "      width: 32px;\n",
              "    }\n",
              "\n",
              "    .colab-df-convert:hover {\n",
              "      background-color: #E2EBFA;\n",
              "      box-shadow: 0px 1px 2px rgba(60, 64, 67, 0.3), 0px 1px 3px 1px rgba(60, 64, 67, 0.15);\n",
              "      fill: #174EA6;\n",
              "    }\n",
              "\n",
              "    [theme=dark] .colab-df-convert {\n",
              "      background-color: #3B4455;\n",
              "      fill: #D2E3FC;\n",
              "    }\n",
              "\n",
              "    [theme=dark] .colab-df-convert:hover {\n",
              "      background-color: #434B5C;\n",
              "      box-shadow: 0px 1px 3px 1px rgba(0, 0, 0, 0.15);\n",
              "      filter: drop-shadow(0px 1px 2px rgba(0, 0, 0, 0.3));\n",
              "      fill: #FFFFFF;\n",
              "    }\n",
              "  </style>\n",
              "\n",
              "      <script>\n",
              "        const buttonEl =\n",
              "          document.querySelector('#df-b4ad8cd2-5f71-4c94-aae2-615e86bd5c9d button.colab-df-convert');\n",
              "        buttonEl.style.display =\n",
              "          google.colab.kernel.accessAllowed ? 'block' : 'none';\n",
              "\n",
              "        async function convertToInteractive(key) {\n",
              "          const element = document.querySelector('#df-b4ad8cd2-5f71-4c94-aae2-615e86bd5c9d');\n",
              "          const dataTable =\n",
              "            await google.colab.kernel.invokeFunction('convertToInteractive',\n",
              "                                                     [key], {});\n",
              "          if (!dataTable) return;\n",
              "\n",
              "          const docLinkHtml = 'Like what you see? Visit the ' +\n",
              "            '<a target=\"_blank\" href=https://colab.research.google.com/notebooks/data_table.ipynb>data table notebook</a>'\n",
              "            + ' to learn more about interactive tables.';\n",
              "          element.innerHTML = '';\n",
              "          dataTable['output_type'] = 'display_data';\n",
              "          await google.colab.output.renderOutput(dataTable, element);\n",
              "          const docLink = document.createElement('div');\n",
              "          docLink.innerHTML = docLinkHtml;\n",
              "          element.appendChild(docLink);\n",
              "        }\n",
              "      </script>\n",
              "    </div>\n",
              "  </div>\n",
              "  "
            ],
            "text/plain": [
              "   sepal_length  sepal_width  petal_length  petal_width species\n",
              "0           5.1          3.5           1.4          0.2  setosa\n",
              "1           4.9          3.0           1.4          0.2  setosa\n",
              "2           4.7          3.2           1.3          0.2  setosa\n",
              "3           4.6          3.1           1.5          0.2  setosa\n",
              "4           5.0          3.6           1.4          0.2  setosa"
            ]
          },
          "metadata": {},
          "execution_count": 104
        }
      ]
    },
    {
      "cell_type": "code",
      "source": [
        "#describe the dataset\n",
        "\n",
        "iris_data.describe()\n",
        "\n",
        "#we have 150 observations in this dataset"
      ],
      "metadata": {
        "colab": {
          "base_uri": "https://localhost:8080/",
          "height": 300
        },
        "id": "pim4WPMt4gg-",
        "outputId": "0b7b9fd9-676c-4cb8-d5a8-fc875925578a"
      },
      "execution_count": 105,
      "outputs": [
        {
          "output_type": "execute_result",
          "data": {
            "text/html": [
              "\n",
              "  <div id=\"df-3db1838b-8b1b-44c8-a9f4-0059680129f7\">\n",
              "    <div class=\"colab-df-container\">\n",
              "      <div>\n",
              "<style scoped>\n",
              "    .dataframe tbody tr th:only-of-type {\n",
              "        vertical-align: middle;\n",
              "    }\n",
              "\n",
              "    .dataframe tbody tr th {\n",
              "        vertical-align: top;\n",
              "    }\n",
              "\n",
              "    .dataframe thead th {\n",
              "        text-align: right;\n",
              "    }\n",
              "</style>\n",
              "<table border=\"1\" class=\"dataframe\">\n",
              "  <thead>\n",
              "    <tr style=\"text-align: right;\">\n",
              "      <th></th>\n",
              "      <th>sepal_length</th>\n",
              "      <th>sepal_width</th>\n",
              "      <th>petal_length</th>\n",
              "      <th>petal_width</th>\n",
              "    </tr>\n",
              "  </thead>\n",
              "  <tbody>\n",
              "    <tr>\n",
              "      <th>count</th>\n",
              "      <td>150.000000</td>\n",
              "      <td>150.000000</td>\n",
              "      <td>150.000000</td>\n",
              "      <td>150.000000</td>\n",
              "    </tr>\n",
              "    <tr>\n",
              "      <th>mean</th>\n",
              "      <td>5.843333</td>\n",
              "      <td>3.057333</td>\n",
              "      <td>3.758000</td>\n",
              "      <td>1.199333</td>\n",
              "    </tr>\n",
              "    <tr>\n",
              "      <th>std</th>\n",
              "      <td>0.828066</td>\n",
              "      <td>0.435866</td>\n",
              "      <td>1.765298</td>\n",
              "      <td>0.762238</td>\n",
              "    </tr>\n",
              "    <tr>\n",
              "      <th>min</th>\n",
              "      <td>4.300000</td>\n",
              "      <td>2.000000</td>\n",
              "      <td>1.000000</td>\n",
              "      <td>0.100000</td>\n",
              "    </tr>\n",
              "    <tr>\n",
              "      <th>25%</th>\n",
              "      <td>5.100000</td>\n",
              "      <td>2.800000</td>\n",
              "      <td>1.600000</td>\n",
              "      <td>0.300000</td>\n",
              "    </tr>\n",
              "    <tr>\n",
              "      <th>50%</th>\n",
              "      <td>5.800000</td>\n",
              "      <td>3.000000</td>\n",
              "      <td>4.350000</td>\n",
              "      <td>1.300000</td>\n",
              "    </tr>\n",
              "    <tr>\n",
              "      <th>75%</th>\n",
              "      <td>6.400000</td>\n",
              "      <td>3.300000</td>\n",
              "      <td>5.100000</td>\n",
              "      <td>1.800000</td>\n",
              "    </tr>\n",
              "    <tr>\n",
              "      <th>max</th>\n",
              "      <td>7.900000</td>\n",
              "      <td>4.400000</td>\n",
              "      <td>6.900000</td>\n",
              "      <td>2.500000</td>\n",
              "    </tr>\n",
              "  </tbody>\n",
              "</table>\n",
              "</div>\n",
              "      <button class=\"colab-df-convert\" onclick=\"convertToInteractive('df-3db1838b-8b1b-44c8-a9f4-0059680129f7')\"\n",
              "              title=\"Convert this dataframe to an interactive table.\"\n",
              "              style=\"display:none;\">\n",
              "        \n",
              "  <svg xmlns=\"http://www.w3.org/2000/svg\" height=\"24px\"viewBox=\"0 0 24 24\"\n",
              "       width=\"24px\">\n",
              "    <path d=\"M0 0h24v24H0V0z\" fill=\"none\"/>\n",
              "    <path d=\"M18.56 5.44l.94 2.06.94-2.06 2.06-.94-2.06-.94-.94-2.06-.94 2.06-2.06.94zm-11 1L8.5 8.5l.94-2.06 2.06-.94-2.06-.94L8.5 2.5l-.94 2.06-2.06.94zm10 10l.94 2.06.94-2.06 2.06-.94-2.06-.94-.94-2.06-.94 2.06-2.06.94z\"/><path d=\"M17.41 7.96l-1.37-1.37c-.4-.4-.92-.59-1.43-.59-.52 0-1.04.2-1.43.59L10.3 9.45l-7.72 7.72c-.78.78-.78 2.05 0 2.83L4 21.41c.39.39.9.59 1.41.59.51 0 1.02-.2 1.41-.59l7.78-7.78 2.81-2.81c.8-.78.8-2.07 0-2.86zM5.41 20L4 18.59l7.72-7.72 1.47 1.35L5.41 20z\"/>\n",
              "  </svg>\n",
              "      </button>\n",
              "      \n",
              "  <style>\n",
              "    .colab-df-container {\n",
              "      display:flex;\n",
              "      flex-wrap:wrap;\n",
              "      gap: 12px;\n",
              "    }\n",
              "\n",
              "    .colab-df-convert {\n",
              "      background-color: #E8F0FE;\n",
              "      border: none;\n",
              "      border-radius: 50%;\n",
              "      cursor: pointer;\n",
              "      display: none;\n",
              "      fill: #1967D2;\n",
              "      height: 32px;\n",
              "      padding: 0 0 0 0;\n",
              "      width: 32px;\n",
              "    }\n",
              "\n",
              "    .colab-df-convert:hover {\n",
              "      background-color: #E2EBFA;\n",
              "      box-shadow: 0px 1px 2px rgba(60, 64, 67, 0.3), 0px 1px 3px 1px rgba(60, 64, 67, 0.15);\n",
              "      fill: #174EA6;\n",
              "    }\n",
              "\n",
              "    [theme=dark] .colab-df-convert {\n",
              "      background-color: #3B4455;\n",
              "      fill: #D2E3FC;\n",
              "    }\n",
              "\n",
              "    [theme=dark] .colab-df-convert:hover {\n",
              "      background-color: #434B5C;\n",
              "      box-shadow: 0px 1px 3px 1px rgba(0, 0, 0, 0.15);\n",
              "      filter: drop-shadow(0px 1px 2px rgba(0, 0, 0, 0.3));\n",
              "      fill: #FFFFFF;\n",
              "    }\n",
              "  </style>\n",
              "\n",
              "      <script>\n",
              "        const buttonEl =\n",
              "          document.querySelector('#df-3db1838b-8b1b-44c8-a9f4-0059680129f7 button.colab-df-convert');\n",
              "        buttonEl.style.display =\n",
              "          google.colab.kernel.accessAllowed ? 'block' : 'none';\n",
              "\n",
              "        async function convertToInteractive(key) {\n",
              "          const element = document.querySelector('#df-3db1838b-8b1b-44c8-a9f4-0059680129f7');\n",
              "          const dataTable =\n",
              "            await google.colab.kernel.invokeFunction('convertToInteractive',\n",
              "                                                     [key], {});\n",
              "          if (!dataTable) return;\n",
              "\n",
              "          const docLinkHtml = 'Like what you see? Visit the ' +\n",
              "            '<a target=\"_blank\" href=https://colab.research.google.com/notebooks/data_table.ipynb>data table notebook</a>'\n",
              "            + ' to learn more about interactive tables.';\n",
              "          element.innerHTML = '';\n",
              "          dataTable['output_type'] = 'display_data';\n",
              "          await google.colab.output.renderOutput(dataTable, element);\n",
              "          const docLink = document.createElement('div');\n",
              "          docLink.innerHTML = docLinkHtml;\n",
              "          element.appendChild(docLink);\n",
              "        }\n",
              "      </script>\n",
              "    </div>\n",
              "  </div>\n",
              "  "
            ],
            "text/plain": [
              "       sepal_length  sepal_width  petal_length  petal_width\n",
              "count    150.000000   150.000000    150.000000   150.000000\n",
              "mean       5.843333     3.057333      3.758000     1.199333\n",
              "std        0.828066     0.435866      1.765298     0.762238\n",
              "min        4.300000     2.000000      1.000000     0.100000\n",
              "25%        5.100000     2.800000      1.600000     0.300000\n",
              "50%        5.800000     3.000000      4.350000     1.300000\n",
              "75%        6.400000     3.300000      5.100000     1.800000\n",
              "max        7.900000     4.400000      6.900000     2.500000"
            ]
          },
          "metadata": {},
          "execution_count": 105
        }
      ]
    },
    {
      "cell_type": "code",
      "source": [
        "#number of observations for each column\n",
        "\n",
        "iris_data.count()"
      ],
      "metadata": {
        "colab": {
          "base_uri": "https://localhost:8080/"
        },
        "id": "JARx33t047uM",
        "outputId": "287759b6-b802-4034-de60-92ca67e12a9c"
      },
      "execution_count": 106,
      "outputs": [
        {
          "output_type": "execute_result",
          "data": {
            "text/plain": [
              "sepal_length    150\n",
              "sepal_width     150\n",
              "petal_length    150\n",
              "petal_width     150\n",
              "species         150\n",
              "dtype: int64"
            ]
          },
          "metadata": {},
          "execution_count": 106
        }
      ]
    },
    {
      "cell_type": "markdown",
      "source": [
        "#Making Graphs"
      ],
      "metadata": {
        "id": "jQ61lfUpof8b"
      }
    },
    {
      "cell_type": "markdown",
      "source": [
        "Great! We have our dataset. Now lets create some graphs to visualize our data. We will do this for each of our attributes (i.e. petal and sepal length/width). Let's learn more about what we're working with."
      ],
      "metadata": {
        "id": "8CTbJw1R4w6r"
      }
    },
    {
      "cell_type": "code",
      "source": [
        "plt = sns.scatterplot( x = 'species', y = 'petal_length', hue='species', palette = 'spring_r', data=iris_data)\n",
        "plt.grid(True)\n"
      ],
      "metadata": {
        "colab": {
          "base_uri": "https://localhost:8080/",
          "height": 279
        },
        "id": "L6BMF_Tv5evF",
        "outputId": "163b7d75-61ae-4dcc-c1f2-74742e8ef967"
      },
      "execution_count": 107,
      "outputs": [
        {
          "output_type": "display_data",
          "data": {
            "image/png": "[encoded data removed]",
            "text/plain": [
              "<Figure size 432x288 with 1 Axes>"
            ]
          },
          "metadata": {
            "needs_background": "light"
          }
        }
      ]
    },
    {
      "cell_type": "code",
      "source": [
        "plt = sns.scatterplot( x = 'species', y = 'sepal_length', hue='species', palette = 'winter_r', data=iris_data)\n",
        "\n",
        "#plt.style.use('ggplot')\n",
        "plt.grid(True)"
      ],
      "metadata": {
        "colab": {
          "base_uri": "https://localhost:8080/",
          "height": 279
        },
        "id": "EaggWsiC6aJE",
        "outputId": "43affaba-56c6-4779-cef4-b03094a8e17c"
      },
      "execution_count": 108,
      "outputs": [
        {
          "output_type": "display_data",
          "data": {
            "image/png": "[encoded data removed]",
            "text/plain": [
              "<Figure size 432x288 with 1 Axes>"
            ]
          },
          "metadata": {
            "needs_background": "light"
          }
        }
      ]
    },
    {
      "cell_type": "code",
      "source": [
        "\n",
        "#plt.style.use('ggplot')\n",
        "#this makes our plots look a little nicer\n",
        "\n",
        "petals = sns.relplot(x = 'petal_length', y = 'petal_width', col = 'species', hue = 'species', palette = 'cubehelix', data = iris_data)\n",
        "plt.grid(True)\n",
        "#plt.suptitle('Petal Length x Petal Width by species', fontsize=10)\n",
        "#adds an all encompassing title\n"
      ],
      "metadata": {
        "colab": {
          "base_uri": "https://localhost:8080/",
          "height": 370
        },
        "id": "O0vo2A57A_Qk",
        "outputId": "6893f7b1-88c3-40f4-c637-da7cadfe2c05"
      },
      "execution_count": 109,
      "outputs": [
        {
          "output_type": "display_data",
          "data": {
            "image/png": "[encoded data removed]",
            "text/plain": [
              "<Figure size 1164.75x360 with 3 Axes>"
            ]
          },
          "metadata": {
            "needs_background": "light"
          }
        }
      ]
    },
    {
      "cell_type": "code",
      "source": [
        "sepals = sns.relplot(x = 'sepal_length', y = 'sepal_width', col='species', hue = 'species', palette = 'inferno', data = iris_data);\n",
        "#plt.style.use('ggplot')\n",
        "plt.grid(True);\n",
        "print(sepals);\n",
        "#other palettes I want to try: \n",
        "#cube, helix icefire, inferno, jet, magma, flare, Spectral, cividis, etc"
      ],
      "metadata": {
        "colab": {
          "base_uri": "https://localhost:8080/",
          "height": 388
        },
        "id": "N_4roB7_Dazz",
        "outputId": "2cc3d9ad-b4c2-4cb7-f824-089e89b214f6"
      },
      "execution_count": 110,
      "outputs": [
        {
          "output_type": "stream",
          "name": "stdout",
          "text": [
            "<seaborn.axisgrid.FacetGrid object at 0x7fded1c8dd10>\n"
          ]
        },
        {
          "output_type": "display_data",
          "data": {
            "image/png": "[encoded data removed]",
            "text/plain": [
              "<Figure size 1164.75x360 with 3 Axes>"
            ]
          },
          "metadata": {
            "needs_background": "light"
          }
        }
      ]
    },
    {
      "cell_type": "markdown",
      "source": [
        "Okay, let's make one final graph that plots petal length x petal width and has all three species in one grid. \n"
      ],
      "metadata": {
        "id": "4HaZgmvIAvj6"
      }
    },
    {
      "cell_type": "code",
      "source": [
        "petal_sepal = sns.scatterplot(x = 'petal_length', y ='petal_width', hue ='species', palette = 'pastel', data = iris_data);\n",
        "petal_sepal.set(xlabel = 'Petal Length cm', ylabel = 'Petal Width cm');\n",
        "petal_sepal.set(title = 'Petal Length x Petal Width for Three Species of Iris')"
      ],
      "metadata": {
        "colab": {
          "base_uri": "https://localhost:8080/",
          "height": 313
        },
        "id": "9O6KUycMA6jF",
        "outputId": "88d1ff1e-62bd-46fe-aef2-f75ea9801fff"
      },
      "execution_count": 111,
      "outputs": [
        {
          "output_type": "execute_result",
          "data": {
            "text/plain": [
              "[Text(0.5, 1.0, 'Petal Length x Petal Width for Three Species of Iris')]"
            ]
          },
          "metadata": {},
          "execution_count": 111
        },
        {
          "output_type": "display_data",
          "data": {
            "image/png": "[encoded data removed]",
            "text/plain": [
              "<Figure size 432x288 with 1 Axes>"
            ]
          },
          "metadata": {
            "needs_background": "light"
          }
        }
      ]
    },
    {
      "cell_type": "markdown",
      "source": [
        "Cool! So we made some graphs and visualized our data. Lets build an easy decision tree with it."
      ],
      "metadata": {
        "id": "1OKTWLGoALqA"
      }
    },
    {
      "cell_type": "code",
      "source": [
        "#first we need to import all our shit again just in case it didn't carry over\n",
        "#import your packages\n",
        "\n",
        "import numpy as np\n",
        "import pandas as pd\n",
        "import seaborn as sns\n",
        "import jupyter as jp\n",
        "import matplotlib as mpl\n",
        "import matplotlib.pyplot as plt\n",
        "import sklearn as skl\n"
      ],
      "metadata": {
        "id": "IP-qk7nVoc4p"
      },
      "execution_count": 112,
      "outputs": []
    },
    {
      "cell_type": "code",
      "source": [
        "#load the dataset\n",
        "\n",
        "iris_data = sns.load_dataset('iris')\n"
      ],
      "metadata": {
        "id": "7lDZniYeo8Y0"
      },
      "execution_count": 113,
      "outputs": []
    },
    {
      "cell_type": "markdown",
      "source": [
        "As a refresher, lets look at some metadata (information about our dataset). We will look at things like how many records our dataset has, what type of data we are working with (i.e. strings, intergers, floats, boolean), etc. "
      ],
      "metadata": {
        "id": "ANfKh9f0zzIJ"
      }
    },
    {
      "cell_type": "code",
      "source": [
        "iris_data.info() \n",
        "\n",
        "#tells us columns, their respective interger index, \n",
        "#whether they have any null values, and what data type is contained by that column."
      ],
      "metadata": {
        "colab": {
          "base_uri": "https://localhost:8080/"
        },
        "id": "vKm0O80I0Mk8",
        "outputId": "68c1a9de-d160-4d0d-ec24-57ed5b480b5a"
      },
      "execution_count": 114,
      "outputs": [
        {
          "output_type": "stream",
          "name": "stdout",
          "text": [
            "<class 'pandas.core.frame.DataFrame'>\n",
            "RangeIndex: 150 entries, 0 to 149\n",
            "Data columns (total 5 columns):\n",
            " #   Column        Non-Null Count  Dtype  \n",
            "---  ------        --------------  -----  \n",
            " 0   sepal_length  150 non-null    float64\n",
            " 1   sepal_width   150 non-null    float64\n",
            " 2   petal_length  150 non-null    float64\n",
            " 3   petal_width   150 non-null    float64\n",
            " 4   species       150 non-null    object \n",
            "dtypes: float64(4), object(1)\n",
            "memory usage: 6.0+ KB\n"
          ]
        }
      ]
    },
    {
      "cell_type": "code",
      "source": [
        "iris_data.head()"
      ],
      "metadata": {
        "colab": {
          "base_uri": "https://localhost:8080/",
          "height": 206
        },
        "id": "GsHlANs6qbPa",
        "outputId": "1b24d855-a6cf-4eb8-e4b0-2b2e4edb969c"
      },
      "execution_count": 115,
      "outputs": [
        {
          "output_type": "execute_result",
          "data": {
            "text/html": [
              "\n",
              "  <div id=\"df-23b9ae89-9a4f-4550-ad63-14b8900620b0\">\n",
              "    <div class=\"colab-df-container\">\n",
              "      <div>\n",
              "<style scoped>\n",
              "    .dataframe tbody tr th:only-of-type {\n",
              "        vertical-align: middle;\n",
              "    }\n",
              "\n",
              "    .dataframe tbody tr th {\n",
              "        vertical-align: top;\n",
              "    }\n",
              "\n",
              "    .dataframe thead th {\n",
              "        text-align: right;\n",
              "    }\n",
              "</style>\n",
              "<table border=\"1\" class=\"dataframe\">\n",
              "  <thead>\n",
              "    <tr style=\"text-align: right;\">\n",
              "      <th></th>\n",
              "      <th>sepal_length</th>\n",
              "      <th>sepal_width</th>\n",
              "      <th>petal_length</th>\n",
              "      <th>petal_width</th>\n",
              "      <th>species</th>\n",
              "    </tr>\n",
              "  </thead>\n",
              "  <tbody>\n",
              "    <tr>\n",
              "      <th>0</th>\n",
              "      <td>5.1</td>\n",
              "      <td>3.5</td>\n",
              "      <td>1.4</td>\n",
              "      <td>0.2</td>\n",
              "      <td>setosa</td>\n",
              "    </tr>\n",
              "    <tr>\n",
              "      <th>1</th>\n",
              "      <td>4.9</td>\n",
              "      <td>3.0</td>\n",
              "      <td>1.4</td>\n",
              "      <td>0.2</td>\n",
              "      <td>setosa</td>\n",
              "    </tr>\n",
              "    <tr>\n",
              "      <th>2</th>\n",
              "      <td>4.7</td>\n",
              "      <td>3.2</td>\n",
              "      <td>1.3</td>\n",
              "      <td>0.2</td>\n",
              "      <td>setosa</td>\n",
              "    </tr>\n",
              "    <tr>\n",
              "      <th>3</th>\n",
              "      <td>4.6</td>\n",
              "      <td>3.1</td>\n",
              "      <td>1.5</td>\n",
              "      <td>0.2</td>\n",
              "      <td>setosa</td>\n",
              "    </tr>\n",
              "    <tr>\n",
              "      <th>4</th>\n",
              "      <td>5.0</td>\n",
              "      <td>3.6</td>\n",
              "      <td>1.4</td>\n",
              "      <td>0.2</td>\n",
              "      <td>setosa</td>\n",
              "    </tr>\n",
              "  </tbody>\n",
              "</table>\n",
              "</div>\n",
              "      <button class=\"colab-df-convert\" onclick=\"convertToInteractive('df-23b9ae89-9a4f-4550-ad63-14b8900620b0')\"\n",
              "              title=\"Convert this dataframe to an interactive table.\"\n",
              "              style=\"display:none;\">\n",
              "        \n",
              "  <svg xmlns=\"http://www.w3.org/2000/svg\" height=\"24px\"viewBox=\"0 0 24 24\"\n",
              "       width=\"24px\">\n",
              "    <path d=\"M0 0h24v24H0V0z\" fill=\"none\"/>\n",
              "    <path d=\"M18.56 5.44l.94 2.06.94-2.06 2.06-.94-2.06-.94-.94-2.06-.94 2.06-2.06.94zm-11 1L8.5 8.5l.94-2.06 2.06-.94-2.06-.94L8.5 2.5l-.94 2.06-2.06.94zm10 10l.94 2.06.94-2.06 2.06-.94-2.06-.94-.94-2.06-.94 2.06-2.06.94z\"/><path d=\"M17.41 7.96l-1.37-1.37c-.4-.4-.92-.59-1.43-.59-.52 0-1.04.2-1.43.59L10.3 9.45l-7.72 7.72c-.78.78-.78 2.05 0 2.83L4 21.41c.39.39.9.59 1.41.59.51 0 1.02-.2 1.41-.59l7.78-7.78 2.81-2.81c.8-.78.8-2.07 0-2.86zM5.41 20L4 18.59l7.72-7.72 1.47 1.35L5.41 20z\"/>\n",
              "  </svg>\n",
              "      </button>\n",
              "      \n",
              "  <style>\n",
              "    .colab-df-container {\n",
              "      display:flex;\n",
              "      flex-wrap:wrap;\n",
              "      gap: 12px;\n",
              "    }\n",
              "\n",
              "    .colab-df-convert {\n",
              "      background-color: #E8F0FE;\n",
              "      border: none;\n",
              "      border-radius: 50%;\n",
              "      cursor: pointer;\n",
              "      display: none;\n",
              "      fill: #1967D2;\n",
              "      height: 32px;\n",
              "      padding: 0 0 0 0;\n",
              "      width: 32px;\n",
              "    }\n",
              "\n",
              "    .colab-df-convert:hover {\n",
              "      background-color: #E2EBFA;\n",
              "      box-shadow: 0px 1px 2px rgba(60, 64, 67, 0.3), 0px 1px 3px 1px rgba(60, 64, 67, 0.15);\n",
              "      fill: #174EA6;\n",
              "    }\n",
              "\n",
              "    [theme=dark] .colab-df-convert {\n",
              "      background-color: #3B4455;\n",
              "      fill: #D2E3FC;\n",
              "    }\n",
              "\n",
              "    [theme=dark] .colab-df-convert:hover {\n",
              "      background-color: #434B5C;\n",
              "      box-shadow: 0px 1px 3px 1px rgba(0, 0, 0, 0.15);\n",
              "      filter: drop-shadow(0px 1px 2px rgba(0, 0, 0, 0.3));\n",
              "      fill: #FFFFFF;\n",
              "    }\n",
              "  </style>\n",
              "\n",
              "      <script>\n",
              "        const buttonEl =\n",
              "          document.querySelector('#df-23b9ae89-9a4f-4550-ad63-14b8900620b0 button.colab-df-convert');\n",
              "        buttonEl.style.display =\n",
              "          google.colab.kernel.accessAllowed ? 'block' : 'none';\n",
              "\n",
              "        async function convertToInteractive(key) {\n",
              "          const element = document.querySelector('#df-23b9ae89-9a4f-4550-ad63-14b8900620b0');\n",
              "          const dataTable =\n",
              "            await google.colab.kernel.invokeFunction('convertToInteractive',\n",
              "                                                     [key], {});\n",
              "          if (!dataTable) return;\n",
              "\n",
              "          const docLinkHtml = 'Like what you see? Visit the ' +\n",
              "            '<a target=\"_blank\" href=https://colab.research.google.com/notebooks/data_table.ipynb>data table notebook</a>'\n",
              "            + ' to learn more about interactive tables.';\n",
              "          element.innerHTML = '';\n",
              "          dataTable['output_type'] = 'display_data';\n",
              "          await google.colab.output.renderOutput(dataTable, element);\n",
              "          const docLink = document.createElement('div');\n",
              "          docLink.innerHTML = docLinkHtml;\n",
              "          element.appendChild(docLink);\n",
              "        }\n",
              "      </script>\n",
              "    </div>\n",
              "  </div>\n",
              "  "
            ],
            "text/plain": [
              "   sepal_length  sepal_width  petal_length  petal_width species\n",
              "0           5.1          3.5           1.4          0.2  setosa\n",
              "1           4.9          3.0           1.4          0.2  setosa\n",
              "2           4.7          3.2           1.3          0.2  setosa\n",
              "3           4.6          3.1           1.5          0.2  setosa\n",
              "4           5.0          3.6           1.4          0.2  setosa"
            ]
          },
          "metadata": {},
          "execution_count": 115
        }
      ]
    },
    {
      "cell_type": "markdown",
      "source": [
        "To make our data easier to work with, we will transform our dataset into a pandas Data Frame. "
      ],
      "metadata": {
        "id": "KoCasX5B0qck"
      }
    },
    {
      "cell_type": "code",
      "source": [
        "iris_df = pd.DataFrame(iris_data)\n",
        "#creating a pandas DataFrame for easy indexing"
      ],
      "metadata": {
        "id": "ybIeChBAqdNr"
      },
      "execution_count": 116,
      "outputs": []
    },
    {
      "cell_type": "code",
      "source": [
        "iris_df.head()"
      ],
      "metadata": {
        "colab": {
          "base_uri": "https://localhost:8080/",
          "height": 206
        },
        "id": "J-YFwl8EqgGi",
        "outputId": "0b94cd86-de7b-4f50-9b7d-c1d344050d8c"
      },
      "execution_count": 117,
      "outputs": [
        {
          "output_type": "execute_result",
          "data": {
            "text/html": [
              "\n",
              "  <div id=\"df-fa115f67-7b64-4915-85a0-28eae57c45c8\">\n",
              "    <div class=\"colab-df-container\">\n",
              "      <div>\n",
              "<style scoped>\n",
              "    .dataframe tbody tr th:only-of-type {\n",
              "        vertical-align: middle;\n",
              "    }\n",
              "\n",
              "    .dataframe tbody tr th {\n",
              "        vertical-align: top;\n",
              "    }\n",
              "\n",
              "    .dataframe thead th {\n",
              "        text-align: right;\n",
              "    }\n",
              "</style>\n",
              "<table border=\"1\" class=\"dataframe\">\n",
              "  <thead>\n",
              "    <tr style=\"text-align: right;\">\n",
              "      <th></th>\n",
              "      <th>sepal_length</th>\n",
              "      <th>sepal_width</th>\n",
              "      <th>petal_length</th>\n",
              "      <th>petal_width</th>\n",
              "      <th>species</th>\n",
              "    </tr>\n",
              "  </thead>\n",
              "  <tbody>\n",
              "    <tr>\n",
              "      <th>0</th>\n",
              "      <td>5.1</td>\n",
              "      <td>3.5</td>\n",
              "      <td>1.4</td>\n",
              "      <td>0.2</td>\n",
              "      <td>setosa</td>\n",
              "    </tr>\n",
              "    <tr>\n",
              "      <th>1</th>\n",
              "      <td>4.9</td>\n",
              "      <td>3.0</td>\n",
              "      <td>1.4</td>\n",
              "      <td>0.2</td>\n",
              "      <td>setosa</td>\n",
              "    </tr>\n",
              "    <tr>\n",
              "      <th>2</th>\n",
              "      <td>4.7</td>\n",
              "      <td>3.2</td>\n",
              "      <td>1.3</td>\n",
              "      <td>0.2</td>\n",
              "      <td>setosa</td>\n",
              "    </tr>\n",
              "    <tr>\n",
              "      <th>3</th>\n",
              "      <td>4.6</td>\n",
              "      <td>3.1</td>\n",
              "      <td>1.5</td>\n",
              "      <td>0.2</td>\n",
              "      <td>setosa</td>\n",
              "    </tr>\n",
              "    <tr>\n",
              "      <th>4</th>\n",
              "      <td>5.0</td>\n",
              "      <td>3.6</td>\n",
              "      <td>1.4</td>\n",
              "      <td>0.2</td>\n",
              "      <td>setosa</td>\n",
              "    </tr>\n",
              "  </tbody>\n",
              "</table>\n",
              "</div>\n",
              "      <button class=\"colab-df-convert\" onclick=\"convertToInteractive('df-fa115f67-7b64-4915-85a0-28eae57c45c8')\"\n",
              "              title=\"Convert this dataframe to an interactive table.\"\n",
              "              style=\"display:none;\">\n",
              "        \n",
              "  <svg xmlns=\"http://www.w3.org/2000/svg\" height=\"24px\"viewBox=\"0 0 24 24\"\n",
              "       width=\"24px\">\n",
              "    <path d=\"M0 0h24v24H0V0z\" fill=\"none\"/>\n",
              "    <path d=\"M18.56 5.44l.94 2.06.94-2.06 2.06-.94-2.06-.94-.94-2.06-.94 2.06-2.06.94zm-11 1L8.5 8.5l.94-2.06 2.06-.94-2.06-.94L8.5 2.5l-.94 2.06-2.06.94zm10 10l.94 2.06.94-2.06 2.06-.94-2.06-.94-.94-2.06-.94 2.06-2.06.94z\"/><path d=\"M17.41 7.96l-1.37-1.37c-.4-.4-.92-.59-1.43-.59-.52 0-1.04.2-1.43.59L10.3 9.45l-7.72 7.72c-.78.78-.78 2.05 0 2.83L4 21.41c.39.39.9.59 1.41.59.51 0 1.02-.2 1.41-.59l7.78-7.78 2.81-2.81c.8-.78.8-2.07 0-2.86zM5.41 20L4 18.59l7.72-7.72 1.47 1.35L5.41 20z\"/>\n",
              "  </svg>\n",
              "      </button>\n",
              "      \n",
              "  <style>\n",
              "    .colab-df-container {\n",
              "      display:flex;\n",
              "      flex-wrap:wrap;\n",
              "      gap: 12px;\n",
              "    }\n",
              "\n",
              "    .colab-df-convert {\n",
              "      background-color: #E8F0FE;\n",
              "      border: none;\n",
              "      border-radius: 50%;\n",
              "      cursor: pointer;\n",
              "      display: none;\n",
              "      fill: #1967D2;\n",
              "      height: 32px;\n",
              "      padding: 0 0 0 0;\n",
              "      width: 32px;\n",
              "    }\n",
              "\n",
              "    .colab-df-convert:hover {\n",
              "      background-color: #E2EBFA;\n",
              "      box-shadow: 0px 1px 2px rgba(60, 64, 67, 0.3), 0px 1px 3px 1px rgba(60, 64, 67, 0.15);\n",
              "      fill: #174EA6;\n",
              "    }\n",
              "\n",
              "    [theme=dark] .colab-df-convert {\n",
              "      background-color: #3B4455;\n",
              "      fill: #D2E3FC;\n",
              "    }\n",
              "\n",
              "    [theme=dark] .colab-df-convert:hover {\n",
              "      background-color: #434B5C;\n",
              "      box-shadow: 0px 1px 3px 1px rgba(0, 0, 0, 0.15);\n",
              "      filter: drop-shadow(0px 1px 2px rgba(0, 0, 0, 0.3));\n",
              "      fill: #FFFFFF;\n",
              "    }\n",
              "  </style>\n",
              "\n",
              "      <script>\n",
              "        const buttonEl =\n",
              "          document.querySelector('#df-fa115f67-7b64-4915-85a0-28eae57c45c8 button.colab-df-convert');\n",
              "        buttonEl.style.display =\n",
              "          google.colab.kernel.accessAllowed ? 'block' : 'none';\n",
              "\n",
              "        async function convertToInteractive(key) {\n",
              "          const element = document.querySelector('#df-fa115f67-7b64-4915-85a0-28eae57c45c8');\n",
              "          const dataTable =\n",
              "            await google.colab.kernel.invokeFunction('convertToInteractive',\n",
              "                                                     [key], {});\n",
              "          if (!dataTable) return;\n",
              "\n",
              "          const docLinkHtml = 'Like what you see? Visit the ' +\n",
              "            '<a target=\"_blank\" href=https://colab.research.google.com/notebooks/data_table.ipynb>data table notebook</a>'\n",
              "            + ' to learn more about interactive tables.';\n",
              "          element.innerHTML = '';\n",
              "          dataTable['output_type'] = 'display_data';\n",
              "          await google.colab.output.renderOutput(dataTable, element);\n",
              "          const docLink = document.createElement('div');\n",
              "          docLink.innerHTML = docLinkHtml;\n",
              "          element.appendChild(docLink);\n",
              "        }\n",
              "      </script>\n",
              "    </div>\n",
              "  </div>\n",
              "  "
            ],
            "text/plain": [
              "   sepal_length  sepal_width  petal_length  petal_width species\n",
              "0           5.1          3.5           1.4          0.2  setosa\n",
              "1           4.9          3.0           1.4          0.2  setosa\n",
              "2           4.7          3.2           1.3          0.2  setosa\n",
              "3           4.6          3.1           1.5          0.2  setosa\n",
              "4           5.0          3.6           1.4          0.2  setosa"
            ]
          },
          "metadata": {},
          "execution_count": 117
        }
      ]
    },
    {
      "cell_type": "markdown",
      "source": [
        "Great! We successfully made our data a dataframe. We can see that the iris_data head and iris_df head produce the same results. "
      ],
      "metadata": {
        "id": "2NkVxxwtzsNZ"
      }
    },
    {
      "cell_type": "code",
      "source": [
        "#below is a quick example in indexing your dataframe"
      ],
      "metadata": {
        "id": "qCC00nGZ0_sw"
      },
      "execution_count": 118,
      "outputs": []
    },
    {
      "cell_type": "code",
      "source": [
        "iris_df.iloc[1, :]\n",
        "\n",
        "#gives us the second observation, because numeric indexing in python begins with 0 (see table above)\n",
        "\n",
        "#.iloc[#row splicing, #column splicing]\n",
        "#so .iloc[1, :] gives us the second row, and the : means we wants ALL columns\n",
        "#associated with that row. If you only want the first two columns (sepal length and sepal width)\n",
        "#for the second observation, you would use\n",
        "#iris_df.iloc[1, 0:2]"
      ],
      "metadata": {
        "colab": {
          "base_uri": "https://localhost:8080/"
        },
        "id": "USWI7ronq_DK",
        "outputId": "a4263816-d28e-4340-b016-709bf15b7fe4"
      },
      "execution_count": 119,
      "outputs": [
        {
          "output_type": "execute_result",
          "data": {
            "text/plain": [
              "sepal_length       4.9\n",
              "sepal_width        3.0\n",
              "petal_length       1.4\n",
              "petal_width        0.2\n",
              "species         setosa\n",
              "Name: 1, dtype: object"
            ]
          },
          "metadata": {},
          "execution_count": 119
        }
      ]
    },
    {
      "cell_type": "code",
      "source": [
        "iris_df.iloc[1, 0:2]\n",
        "#you would use 0:2 and NOT 0:1 because Python thinks\n",
        "#you want to stop before the 2nd position, which would be the third column.\n",
        "#keep this in mind!\n",
        "#you can check both of these .iloc examples in the \n",
        "#iris_df header to verify the output."
      ],
      "metadata": {
        "colab": {
          "base_uri": "https://localhost:8080/"
        },
        "id": "4LAg1nEG1mQb",
        "outputId": "a6f4a961-033f-422b-f0ba-eaff7c16c6f2"
      },
      "execution_count": 120,
      "outputs": [
        {
          "output_type": "execute_result",
          "data": {
            "text/plain": [
              "sepal_length    4.9\n",
              "sepal_width     3.0\n",
              "Name: 1, dtype: object"
            ]
          },
          "metadata": {},
          "execution_count": 120
        }
      ]
    },
    {
      "cell_type": "markdown",
      "source": [
        "So now we need gather observations to train our model on. We want to divide our full dataset into a training and testing set. Since we have 150 obersevations, with 50 each being from our 3 species of iris, we should use about 20% of our total observations per species. This comes out to about 10 observations. I want to select observations at random, incase they are sorted in some way. We can use the randint function to randomly select observations. "
      ],
      "metadata": {
        "id": "DRePO4MGpC_m"
      }
    },
    {
      "cell_type": "markdown",
      "source": [
        "Let's try to get python to display the full dataset so we can see how we need to index our"
      ],
      "metadata": {
        "id": "sZHCpxrDsUMM"
      }
    },
    {
      "cell_type": "code",
      "source": [
        "pd.set_option('display.max_rows', None)\n",
        "pd.set_option('display.max_columns', None)\n",
        "pd.set_option('display.width', None)\n",
        "pd.set_option('display.max_colwidth', None)\n",
        "\n",
        "#print(iris_df)\n",
        "#the above comment will print all 150 observations of the dataframe. \n",
        "#remove the # symbol in front of the print statement to view the dataframe. "
      ],
      "metadata": {
        "id": "fbBvZ1WPsTb0"
      },
      "execution_count": 121,
      "outputs": []
    },
    {
      "cell_type": "markdown",
      "source": [
        "Great! We can see the full dataset now. 0-49 are the positions for the setosa iris. 50-99 we have versicolor. 100-149 is our virginica species. "
      ],
      "metadata": {
        "id": "sTTKactguwch"
      }
    },
    {
      "cell_type": "markdown",
      "source": [
        "Okay great, we've got splicing and indexing down. Lets create 3 test sets that contain 10 randomly chosen intergers that correlate with the 3 species observed in our data. The three species are: \n",
        "\n",
        "*   setosa\n",
        "*   versicolor\n",
        "*   virginica\n",
        "\n"
      ],
      "metadata": {
        "id": "zFJVfgjqrxXF"
      }
    },
    {
      "cell_type": "code",
      "source": [
        "#before we move on!!! We must add a target column to our dataframe! This is need for our decision tree. \n",
        "#we will also add a name column to add the unique identifier\n",
        "\n",
        "iris_df.insert(5, 'target', 0)\n"
      ],
      "metadata": {
        "id": "XmoiFiOW8_jt"
      },
      "execution_count": 122,
      "outputs": []
    },
    {
      "cell_type": "code",
      "source": [
        "#lets check to make sure our target column was added at the end of our dataframe\n",
        "\n",
        "iris_df.head()"
      ],
      "metadata": {
        "colab": {
          "base_uri": "https://localhost:8080/",
          "height": 206
        },
        "id": "c29A4_ZS_Qbs",
        "outputId": "15126bbd-6a9d-4978-da65-4f3d1329db68"
      },
      "execution_count": 123,
      "outputs": [
        {
          "output_type": "execute_result",
          "data": {
            "text/html": [
              "\n",
              "  <div id=\"df-53a5fcb6-3717-4a40-a016-fb18a3efb6c9\">\n",
              "    <div class=\"colab-df-container\">\n",
              "      <div>\n",
              "<style scoped>\n",
              "    .dataframe tbody tr th:only-of-type {\n",
              "        vertical-align: middle;\n",
              "    }\n",
              "\n",
              "    .dataframe tbody tr th {\n",
              "        vertical-align: top;\n",
              "    }\n",
              "\n",
              "    .dataframe thead th {\n",
              "        text-align: right;\n",
              "    }\n",
              "</style>\n",
              "<table border=\"1\" class=\"dataframe\">\n",
              "  <thead>\n",
              "    <tr style=\"text-align: right;\">\n",
              "      <th></th>\n",
              "      <th>sepal_length</th>\n",
              "      <th>sepal_width</th>\n",
              "      <th>petal_length</th>\n",
              "      <th>petal_width</th>\n",
              "      <th>species</th>\n",
              "      <th>target</th>\n",
              "    </tr>\n",
              "  </thead>\n",
              "  <tbody>\n",
              "    <tr>\n",
              "      <th>0</th>\n",
              "      <td>5.1</td>\n",
              "      <td>3.5</td>\n",
              "      <td>1.4</td>\n",
              "      <td>0.2</td>\n",
              "      <td>setosa</td>\n",
              "      <td>0</td>\n",
              "    </tr>\n",
              "    <tr>\n",
              "      <th>1</th>\n",
              "      <td>4.9</td>\n",
              "      <td>3.0</td>\n",
              "      <td>1.4</td>\n",
              "      <td>0.2</td>\n",
              "      <td>setosa</td>\n",
              "      <td>0</td>\n",
              "    </tr>\n",
              "    <tr>\n",
              "      <th>2</th>\n",
              "      <td>4.7</td>\n",
              "      <td>3.2</td>\n",
              "      <td>1.3</td>\n",
              "      <td>0.2</td>\n",
              "      <td>setosa</td>\n",
              "      <td>0</td>\n",
              "    </tr>\n",
              "    <tr>\n",
              "      <th>3</th>\n",
              "      <td>4.6</td>\n",
              "      <td>3.1</td>\n",
              "      <td>1.5</td>\n",
              "      <td>0.2</td>\n",
              "      <td>setosa</td>\n",
              "      <td>0</td>\n",
              "    </tr>\n",
              "    <tr>\n",
              "      <th>4</th>\n",
              "      <td>5.0</td>\n",
              "      <td>3.6</td>\n",
              "      <td>1.4</td>\n",
              "      <td>0.2</td>\n",
              "      <td>setosa</td>\n",
              "      <td>0</td>\n",
              "    </tr>\n",
              "  </tbody>\n",
              "</table>\n",
              "</div>\n",
              "      <button class=\"colab-df-convert\" onclick=\"convertToInteractive('df-53a5fcb6-3717-4a40-a016-fb18a3efb6c9')\"\n",
              "              title=\"Convert this dataframe to an interactive table.\"\n",
              "              style=\"display:none;\">\n",
              "        \n",
              "  <svg xmlns=\"http://www.w3.org/2000/svg\" height=\"24px\"viewBox=\"0 0 24 24\"\n",
              "       width=\"24px\">\n",
              "    <path d=\"M0 0h24v24H0V0z\" fill=\"none\"/>\n",
              "    <path d=\"M18.56 5.44l.94 2.06.94-2.06 2.06-.94-2.06-.94-.94-2.06-.94 2.06-2.06.94zm-11 1L8.5 8.5l.94-2.06 2.06-.94-2.06-.94L8.5 2.5l-.94 2.06-2.06.94zm10 10l.94 2.06.94-2.06 2.06-.94-2.06-.94-.94-2.06-.94 2.06-2.06.94z\"/><path d=\"M17.41 7.96l-1.37-1.37c-.4-.4-.92-.59-1.43-.59-.52 0-1.04.2-1.43.59L10.3 9.45l-7.72 7.72c-.78.78-.78 2.05 0 2.83L4 21.41c.39.39.9.59 1.41.59.51 0 1.02-.2 1.41-.59l7.78-7.78 2.81-2.81c.8-.78.8-2.07 0-2.86zM5.41 20L4 18.59l7.72-7.72 1.47 1.35L5.41 20z\"/>\n",
              "  </svg>\n",
              "      </button>\n",
              "      \n",
              "  <style>\n",
              "    .colab-df-container {\n",
              "      display:flex;\n",
              "      flex-wrap:wrap;\n",
              "      gap: 12px;\n",
              "    }\n",
              "\n",
              "    .colab-df-convert {\n",
              "      background-color: #E8F0FE;\n",
              "      border: none;\n",
              "      border-radius: 50%;\n",
              "      cursor: pointer;\n",
              "      display: none;\n",
              "      fill: #1967D2;\n",
              "      height: 32px;\n",
              "      padding: 0 0 0 0;\n",
              "      width: 32px;\n",
              "    }\n",
              "\n",
              "    .colab-df-convert:hover {\n",
              "      background-color: #E2EBFA;\n",
              "      box-shadow: 0px 1px 2px rgba(60, 64, 67, 0.3), 0px 1px 3px 1px rgba(60, 64, 67, 0.15);\n",
              "      fill: #174EA6;\n",
              "    }\n",
              "\n",
              "    [theme=dark] .colab-df-convert {\n",
              "      background-color: #3B4455;\n",
              "      fill: #D2E3FC;\n",
              "    }\n",
              "\n",
              "    [theme=dark] .colab-df-convert:hover {\n",
              "      background-color: #434B5C;\n",
              "      box-shadow: 0px 1px 3px 1px rgba(0, 0, 0, 0.15);\n",
              "      filter: drop-shadow(0px 1px 2px rgba(0, 0, 0, 0.3));\n",
              "      fill: #FFFFFF;\n",
              "    }\n",
              "  </style>\n",
              "\n",
              "      <script>\n",
              "        const buttonEl =\n",
              "          document.querySelector('#df-53a5fcb6-3717-4a40-a016-fb18a3efb6c9 button.colab-df-convert');\n",
              "        buttonEl.style.display =\n",
              "          google.colab.kernel.accessAllowed ? 'block' : 'none';\n",
              "\n",
              "        async function convertToInteractive(key) {\n",
              "          const element = document.querySelector('#df-53a5fcb6-3717-4a40-a016-fb18a3efb6c9');\n",
              "          const dataTable =\n",
              "            await google.colab.kernel.invokeFunction('convertToInteractive',\n",
              "                                                     [key], {});\n",
              "          if (!dataTable) return;\n",
              "\n",
              "          const docLinkHtml = 'Like what you see? Visit the ' +\n",
              "            '<a target=\"_blank\" href=https://colab.research.google.com/notebooks/data_table.ipynb>data table notebook</a>'\n",
              "            + ' to learn more about interactive tables.';\n",
              "          element.innerHTML = '';\n",
              "          dataTable['output_type'] = 'display_data';\n",
              "          await google.colab.output.renderOutput(dataTable, element);\n",
              "          const docLink = document.createElement('div');\n",
              "          docLink.innerHTML = docLinkHtml;\n",
              "          element.appendChild(docLink);\n",
              "        }\n",
              "      </script>\n",
              "    </div>\n",
              "  </div>\n",
              "  "
            ],
            "text/plain": [
              "   sepal_length  sepal_width  petal_length  petal_width species  target\n",
              "0           5.1          3.5           1.4          0.2  setosa       0\n",
              "1           4.9          3.0           1.4          0.2  setosa       0\n",
              "2           4.7          3.2           1.3          0.2  setosa       0\n",
              "3           4.6          3.1           1.5          0.2  setosa       0\n",
              "4           5.0          3.6           1.4          0.2  setosa       0"
            ]
          },
          "metadata": {},
          "execution_count": 123
        }
      ]
    },
    {
      "cell_type": "code",
      "source": [
        "#inserting the numeric index as a column\n",
        "\n",
        "#num_index = pd.Series(index = iris_df) \n",
        "\n",
        "iris_df['num_index'] = np.arange(iris_df.shape[0])\n",
        "\n",
        "#iris_df.drop(['(0, num_index)'], axis=1)\n"
      ],
      "metadata": {
        "id": "1f08VLUTPg7E"
      },
      "execution_count": 124,
      "outputs": []
    },
    {
      "cell_type": "code",
      "source": [
        "iris_df.head()"
      ],
      "metadata": {
        "colab": {
          "base_uri": "https://localhost:8080/",
          "height": 206
        },
        "id": "sUYgkurJXf7B",
        "outputId": "550cda26-4cbc-46a5-f715-b08028468a9f"
      },
      "execution_count": 125,
      "outputs": [
        {
          "output_type": "execute_result",
          "data": {
            "text/html": [
              "\n",
              "  <div id=\"df-4b894859-cebf-4779-9b48-2057d53df68b\">\n",
              "    <div class=\"colab-df-container\">\n",
              "      <div>\n",
              "<style scoped>\n",
              "    .dataframe tbody tr th:only-of-type {\n",
              "        vertical-align: middle;\n",
              "    }\n",
              "\n",
              "    .dataframe tbody tr th {\n",
              "        vertical-align: top;\n",
              "    }\n",
              "\n",
              "    .dataframe thead th {\n",
              "        text-align: right;\n",
              "    }\n",
              "</style>\n",
              "<table border=\"1\" class=\"dataframe\">\n",
              "  <thead>\n",
              "    <tr style=\"text-align: right;\">\n",
              "      <th></th>\n",
              "      <th>sepal_length</th>\n",
              "      <th>sepal_width</th>\n",
              "      <th>petal_length</th>\n",
              "      <th>petal_width</th>\n",
              "      <th>species</th>\n",
              "      <th>target</th>\n",
              "      <th>num_index</th>\n",
              "    </tr>\n",
              "  </thead>\n",
              "  <tbody>\n",
              "    <tr>\n",
              "      <th>0</th>\n",
              "      <td>5.1</td>\n",
              "      <td>3.5</td>\n",
              "      <td>1.4</td>\n",
              "      <td>0.2</td>\n",
              "      <td>setosa</td>\n",
              "      <td>0</td>\n",
              "      <td>0</td>\n",
              "    </tr>\n",
              "    <tr>\n",
              "      <th>1</th>\n",
              "      <td>4.9</td>\n",
              "      <td>3.0</td>\n",
              "      <td>1.4</td>\n",
              "      <td>0.2</td>\n",
              "      <td>setosa</td>\n",
              "      <td>0</td>\n",
              "      <td>1</td>\n",
              "    </tr>\n",
              "    <tr>\n",
              "      <th>2</th>\n",
              "      <td>4.7</td>\n",
              "      <td>3.2</td>\n",
              "      <td>1.3</td>\n",
              "      <td>0.2</td>\n",
              "      <td>setosa</td>\n",
              "      <td>0</td>\n",
              "      <td>2</td>\n",
              "    </tr>\n",
              "    <tr>\n",
              "      <th>3</th>\n",
              "      <td>4.6</td>\n",
              "      <td>3.1</td>\n",
              "      <td>1.5</td>\n",
              "      <td>0.2</td>\n",
              "      <td>setosa</td>\n",
              "      <td>0</td>\n",
              "      <td>3</td>\n",
              "    </tr>\n",
              "    <tr>\n",
              "      <th>4</th>\n",
              "      <td>5.0</td>\n",
              "      <td>3.6</td>\n",
              "      <td>1.4</td>\n",
              "      <td>0.2</td>\n",
              "      <td>setosa</td>\n",
              "      <td>0</td>\n",
              "      <td>4</td>\n",
              "    </tr>\n",
              "  </tbody>\n",
              "</table>\n",
              "</div>\n",
              "      <button class=\"colab-df-convert\" onclick=\"convertToInteractive('df-4b894859-cebf-4779-9b48-2057d53df68b')\"\n",
              "              title=\"Convert this dataframe to an interactive table.\"\n",
              "              style=\"display:none;\">\n",
              "        \n",
              "  <svg xmlns=\"http://www.w3.org/2000/svg\" height=\"24px\"viewBox=\"0 0 24 24\"\n",
              "       width=\"24px\">\n",
              "    <path d=\"M0 0h24v24H0V0z\" fill=\"none\"/>\n",
              "    <path d=\"M18.56 5.44l.94 2.06.94-2.06 2.06-.94-2.06-.94-.94-2.06-.94 2.06-2.06.94zm-11 1L8.5 8.5l.94-2.06 2.06-.94-2.06-.94L8.5 2.5l-.94 2.06-2.06.94zm10 10l.94 2.06.94-2.06 2.06-.94-2.06-.94-.94-2.06-.94 2.06-2.06.94z\"/><path d=\"M17.41 7.96l-1.37-1.37c-.4-.4-.92-.59-1.43-.59-.52 0-1.04.2-1.43.59L10.3 9.45l-7.72 7.72c-.78.78-.78 2.05 0 2.83L4 21.41c.39.39.9.59 1.41.59.51 0 1.02-.2 1.41-.59l7.78-7.78 2.81-2.81c.8-.78.8-2.07 0-2.86zM5.41 20L4 18.59l7.72-7.72 1.47 1.35L5.41 20z\"/>\n",
              "  </svg>\n",
              "      </button>\n",
              "      \n",
              "  <style>\n",
              "    .colab-df-container {\n",
              "      display:flex;\n",
              "      flex-wrap:wrap;\n",
              "      gap: 12px;\n",
              "    }\n",
              "\n",
              "    .colab-df-convert {\n",
              "      background-color: #E8F0FE;\n",
              "      border: none;\n",
              "      border-radius: 50%;\n",
              "      cursor: pointer;\n",
              "      display: none;\n",
              "      fill: #1967D2;\n",
              "      height: 32px;\n",
              "      padding: 0 0 0 0;\n",
              "      width: 32px;\n",
              "    }\n",
              "\n",
              "    .colab-df-convert:hover {\n",
              "      background-color: #E2EBFA;\n",
              "      box-shadow: 0px 1px 2px rgba(60, 64, 67, 0.3), 0px 1px 3px 1px rgba(60, 64, 67, 0.15);\n",
              "      fill: #174EA6;\n",
              "    }\n",
              "\n",
              "    [theme=dark] .colab-df-convert {\n",
              "      background-color: #3B4455;\n",
              "      fill: #D2E3FC;\n",
              "    }\n",
              "\n",
              "    [theme=dark] .colab-df-convert:hover {\n",
              "      background-color: #434B5C;\n",
              "      box-shadow: 0px 1px 3px 1px rgba(0, 0, 0, 0.15);\n",
              "      filter: drop-shadow(0px 1px 2px rgba(0, 0, 0, 0.3));\n",
              "      fill: #FFFFFF;\n",
              "    }\n",
              "  </style>\n",
              "\n",
              "      <script>\n",
              "        const buttonEl =\n",
              "          document.querySelector('#df-4b894859-cebf-4779-9b48-2057d53df68b button.colab-df-convert');\n",
              "        buttonEl.style.display =\n",
              "          google.colab.kernel.accessAllowed ? 'block' : 'none';\n",
              "\n",
              "        async function convertToInteractive(key) {\n",
              "          const element = document.querySelector('#df-4b894859-cebf-4779-9b48-2057d53df68b');\n",
              "          const dataTable =\n",
              "            await google.colab.kernel.invokeFunction('convertToInteractive',\n",
              "                                                     [key], {});\n",
              "          if (!dataTable) return;\n",
              "\n",
              "          const docLinkHtml = 'Like what you see? Visit the ' +\n",
              "            '<a target=\"_blank\" href=https://colab.research.google.com/notebooks/data_table.ipynb>data table notebook</a>'\n",
              "            + ' to learn more about interactive tables.';\n",
              "          element.innerHTML = '';\n",
              "          dataTable['output_type'] = 'display_data';\n",
              "          await google.colab.output.renderOutput(dataTable, element);\n",
              "          const docLink = document.createElement('div');\n",
              "          docLink.innerHTML = docLinkHtml;\n",
              "          element.appendChild(docLink);\n",
              "        }\n",
              "      </script>\n",
              "    </div>\n",
              "  </div>\n",
              "  "
            ],
            "text/plain": [
              "   sepal_length  sepal_width  petal_length  petal_width species  target  \\\n",
              "0           5.1          3.5           1.4          0.2  setosa       0   \n",
              "1           4.9          3.0           1.4          0.2  setosa       0   \n",
              "2           4.7          3.2           1.3          0.2  setosa       0   \n",
              "3           4.6          3.1           1.5          0.2  setosa       0   \n",
              "4           5.0          3.6           1.4          0.2  setosa       0   \n",
              "\n",
              "   num_index  \n",
              "0          0  \n",
              "1          1  \n",
              "2          2  \n",
              "3          3  \n",
              "4          4  "
            ]
          },
          "metadata": {},
          "execution_count": 125
        }
      ]
    },
    {
      "cell_type": "markdown",
      "source": [
        "We can now use the train_test_split function that sklearn has built in"
      ],
      "metadata": {
        "id": "KTLuHZC4GclN"
      }
    },
    {
      "cell_type": "code",
      "source": [
        "from sklearn.model_selection import train_test_split\n",
        "\n",
        "\n",
        "dt_train, dt_test =train_test_split(iris_df,test_size=0.2)"
      ],
      "metadata": {
        "id": "Pnf-MxszGmR2"
      },
      "execution_count": 126,
      "outputs": []
    },
    {
      "cell_type": "markdown",
      "source": [
        "We will use 20% of our data to train our decision tree, as exhibited above. We can check the size of our respective training and testing datasets below"
      ],
      "metadata": {
        "id": "wpt1sPLLG2ee"
      }
    },
    {
      "cell_type": "code",
      "source": [
        "dt_train.shape, dt_test.shape"
      ],
      "metadata": {
        "colab": {
          "base_uri": "https://localhost:8080/"
        },
        "id": "rVkkNSzhG2LO",
        "outputId": "2ae87ba5-8e26-48df-ce53-6f719116d68f"
      },
      "execution_count": 127,
      "outputs": [
        {
          "output_type": "execute_result",
          "data": {
            "text/plain": [
              "((120, 7), (30, 7))"
            ]
          },
          "metadata": {},
          "execution_count": 127
        }
      ]
    },
    {
      "cell_type": "markdown",
      "source": [
        "We now need to split the training and testing datasets into input and output datasets. Our input will be the sepal length/width, as well as the petal length/width. Our ouput will be the species. "
      ],
      "metadata": {
        "id": "-MLbd7plHUpm"
      }
    },
    {
      "cell_type": "code",
      "source": [
        "dt_train_x = dt_train[['sepal_length', 'sepal_width', 'petal_length', 'petal_width']]\n",
        "\n",
        "dt_train_y = dt_train['species']\n",
        "\n",
        "dt_test_x = dt_test[['sepal_length', 'sepal_width', 'petal_length', 'petal_width']]\n",
        "\n",
        "dt_test_y = dt_test['species']"
      ],
      "metadata": {
        "id": "i4GVWZkPHeHq"
      },
      "execution_count": 128,
      "outputs": []
    },
    {
      "cell_type": "markdown",
      "source": [
        "Great! We now have everything needed to train our decision tree. Let's give it a go!"
      ],
      "metadata": {
        "id": "CNzFTTT9ICf-"
      }
    },
    {
      "cell_type": "code",
      "source": [
        "import sys\n",
        "\n",
        "if 'google.colab' in sys.modules:\n",
        "    !pip install -q sklearn\n",
        "\n",
        "from sklearn.tree import DecisionTreeClassifier\n",
        "#from sklearn import DecisionTreeClassifier\n",
        "\n",
        "species_id_tree = DecisionTreeClassifier()\n",
        "\n",
        "#an empty decision tree"
      ],
      "metadata": {
        "id": "u-BCmswfIC2I"
      },
      "execution_count": 129,
      "outputs": []
    },
    {
      "cell_type": "code",
      "source": [
        "species_id_tree.fit(dt_train_x, dt_train_y)"
      ],
      "metadata": {
        "id": "-4p2anrvISTl",
        "colab": {
          "base_uri": "https://localhost:8080/"
        },
        "outputId": "8b29267e-64d7-4601-ff9b-f1171cc0b5e1"
      },
      "execution_count": 130,
      "outputs": [
        {
          "output_type": "execute_result",
          "data": {
            "text/plain": [
              "DecisionTreeClassifier()"
            ]
          },
          "metadata": {},
          "execution_count": 130
        }
      ]
    },
    {
      "cell_type": "markdown",
      "source": [
        "Our tree has been trained using our training datasets. It knows that it will recieve an input of numeric values, and it wants an output of species."
      ],
      "metadata": {
        "id": "avlHG7AqIfBV"
      }
    },
    {
      "cell_type": "code",
      "source": [
        "species_id = species_id_tree.predict(dt_test_x)\n",
        "\n",
        "#we can now calculate the accuracy of these predictions\n",
        "\n",
        "species_id_accuracy = skl.metrics.accuracy_score(species_id,dt_test_y)\n",
        "\n",
        "print(\"Decision tree species prediction accuracy =\", species_id_accuracy)"
      ],
      "metadata": {
        "id": "97TGHK-TIoPz",
        "colab": {
          "base_uri": "https://localhost:8080/"
        },
        "outputId": "2be7d71b-d990-4a3c-8b06-f4accc61fae0"
      },
      "execution_count": 131,
      "outputs": [
        {
          "output_type": "stream",
          "name": "stdout",
          "text": [
            "Decision tree species prediction accuracy = 0.9666666666666667\n"
          ]
        }
      ]
    },
    {
      "cell_type": "markdown",
      "source": [
        "Our decision tree correclty predicited most of the input observations. Let's take a look at all of the info we fed it and it's predictions. "
      ],
      "metadata": {
        "id": "Hr7hoW-OJWU_"
      }
    },
    {
      "cell_type": "code",
      "source": [
        "final_df = pd.concat([dt_test_x, dt_test_y], axis=1)\n",
        "\n",
        "final_df"
      ],
      "metadata": {
        "id": "SEdy1T-hNwkD",
        "colab": {
          "base_uri": "https://localhost:8080/",
          "height": 989
        },
        "outputId": "00907955-f789-4d1d-ce02-b6213c638f32"
      },
      "execution_count": 132,
      "outputs": [
        {
          "output_type": "execute_result",
          "data": {
            "text/html": [
              "\n",
              "  <div id=\"df-6db4c542-4a1b-404d-89f7-41ac64d80bee\">\n",
              "    <div class=\"colab-df-container\">\n",
              "      <div>\n",
              "<style scoped>\n",
              "    .dataframe tbody tr th:only-of-type {\n",
              "        vertical-align: middle;\n",
              "    }\n",
              "\n",
              "    .dataframe tbody tr th {\n",
              "        vertical-align: top;\n",
              "    }\n",
              "\n",
              "    .dataframe thead th {\n",
              "        text-align: right;\n",
              "    }\n",
              "</style>\n",
              "<table border=\"1\" class=\"dataframe\">\n",
              "  <thead>\n",
              "    <tr style=\"text-align: right;\">\n",
              "      <th></th>\n",
              "      <th>sepal_length</th>\n",
              "      <th>sepal_width</th>\n",
              "      <th>petal_length</th>\n",
              "      <th>petal_width</th>\n",
              "      <th>species</th>\n",
              "    </tr>\n",
              "  </thead>\n",
              "  <tbody>\n",
              "    <tr>\n",
              "      <th>64</th>\n",
              "      <td>5.6</td>\n",
              "      <td>2.9</td>\n",
              "      <td>3.6</td>\n",
              "      <td>1.3</td>\n",
              "      <td>versicolor</td>\n",
              "    </tr>\n",
              "    <tr>\n",
              "      <th>128</th>\n",
              "      <td>6.4</td>\n",
              "      <td>2.8</td>\n",
              "      <td>5.6</td>\n",
              "      <td>2.1</td>\n",
              "      <td>virginica</td>\n",
              "    </tr>\n",
              "    <tr>\n",
              "      <th>106</th>\n",
              "      <td>4.9</td>\n",
              "      <td>2.5</td>\n",
              "      <td>4.5</td>\n",
              "      <td>1.7</td>\n",
              "      <td>virginica</td>\n",
              "    </tr>\n",
              "    <tr>\n",
              "      <th>20</th>\n",
              "      <td>5.4</td>\n",
              "      <td>3.4</td>\n",
              "      <td>1.7</td>\n",
              "      <td>0.2</td>\n",
              "      <td>setosa</td>\n",
              "    </tr>\n",
              "    <tr>\n",
              "      <th>141</th>\n",
              "      <td>6.9</td>\n",
              "      <td>3.1</td>\n",
              "      <td>5.1</td>\n",
              "      <td>2.3</td>\n",
              "      <td>virginica</td>\n",
              "    </tr>\n",
              "    <tr>\n",
              "      <th>124</th>\n",
              "      <td>6.7</td>\n",
              "      <td>3.3</td>\n",
              "      <td>5.7</td>\n",
              "      <td>2.1</td>\n",
              "      <td>virginica</td>\n",
              "    </tr>\n",
              "    <tr>\n",
              "      <th>97</th>\n",
              "      <td>6.2</td>\n",
              "      <td>2.9</td>\n",
              "      <td>4.3</td>\n",
              "      <td>1.3</td>\n",
              "      <td>versicolor</td>\n",
              "    </tr>\n",
              "    <tr>\n",
              "      <th>40</th>\n",
              "      <td>5.0</td>\n",
              "      <td>3.5</td>\n",
              "      <td>1.3</td>\n",
              "      <td>0.3</td>\n",
              "      <td>setosa</td>\n",
              "    </tr>\n",
              "    <tr>\n",
              "      <th>39</th>\n",
              "      <td>5.1</td>\n",
              "      <td>3.4</td>\n",
              "      <td>1.5</td>\n",
              "      <td>0.2</td>\n",
              "      <td>setosa</td>\n",
              "    </tr>\n",
              "    <tr>\n",
              "      <th>94</th>\n",
              "      <td>5.6</td>\n",
              "      <td>2.7</td>\n",
              "      <td>4.2</td>\n",
              "      <td>1.3</td>\n",
              "      <td>versicolor</td>\n",
              "    </tr>\n",
              "    <tr>\n",
              "      <th>91</th>\n",
              "      <td>6.1</td>\n",
              "      <td>3.0</td>\n",
              "      <td>4.6</td>\n",
              "      <td>1.4</td>\n",
              "      <td>versicolor</td>\n",
              "    </tr>\n",
              "    <tr>\n",
              "      <th>12</th>\n",
              "      <td>4.8</td>\n",
              "      <td>3.0</td>\n",
              "      <td>1.4</td>\n",
              "      <td>0.1</td>\n",
              "      <td>setosa</td>\n",
              "    </tr>\n",
              "    <tr>\n",
              "      <th>78</th>\n",
              "      <td>6.0</td>\n",
              "      <td>2.9</td>\n",
              "      <td>4.5</td>\n",
              "      <td>1.5</td>\n",
              "      <td>versicolor</td>\n",
              "    </tr>\n",
              "    <tr>\n",
              "      <th>90</th>\n",
              "      <td>5.5</td>\n",
              "      <td>2.6</td>\n",
              "      <td>4.4</td>\n",
              "      <td>1.2</td>\n",
              "      <td>versicolor</td>\n",
              "    </tr>\n",
              "    <tr>\n",
              "      <th>15</th>\n",
              "      <td>5.7</td>\n",
              "      <td>4.4</td>\n",
              "      <td>1.5</td>\n",
              "      <td>0.4</td>\n",
              "      <td>setosa</td>\n",
              "    </tr>\n",
              "    <tr>\n",
              "      <th>2</th>\n",
              "      <td>4.7</td>\n",
              "      <td>3.2</td>\n",
              "      <td>1.3</td>\n",
              "      <td>0.2</td>\n",
              "      <td>setosa</td>\n",
              "    </tr>\n",
              "    <tr>\n",
              "      <th>140</th>\n",
              "      <td>6.7</td>\n",
              "      <td>3.1</td>\n",
              "      <td>5.6</td>\n",
              "      <td>2.4</td>\n",
              "      <td>virginica</td>\n",
              "    </tr>\n",
              "    <tr>\n",
              "      <th>121</th>\n",
              "      <td>5.6</td>\n",
              "      <td>2.8</td>\n",
              "      <td>4.9</td>\n",
              "      <td>2.0</td>\n",
              "      <td>virginica</td>\n",
              "    </tr>\n",
              "    <tr>\n",
              "      <th>10</th>\n",
              "      <td>5.4</td>\n",
              "      <td>3.7</td>\n",
              "      <td>1.5</td>\n",
              "      <td>0.2</td>\n",
              "      <td>setosa</td>\n",
              "    </tr>\n",
              "    <tr>\n",
              "      <th>116</th>\n",
              "      <td>6.5</td>\n",
              "      <td>3.0</td>\n",
              "      <td>5.5</td>\n",
              "      <td>1.8</td>\n",
              "      <td>virginica</td>\n",
              "    </tr>\n",
              "    <tr>\n",
              "      <th>108</th>\n",
              "      <td>6.7</td>\n",
              "      <td>2.5</td>\n",
              "      <td>5.8</td>\n",
              "      <td>1.8</td>\n",
              "      <td>virginica</td>\n",
              "    </tr>\n",
              "    <tr>\n",
              "      <th>69</th>\n",
              "      <td>5.6</td>\n",
              "      <td>2.5</td>\n",
              "      <td>3.9</td>\n",
              "      <td>1.1</td>\n",
              "      <td>versicolor</td>\n",
              "    </tr>\n",
              "    <tr>\n",
              "      <th>63</th>\n",
              "      <td>6.1</td>\n",
              "      <td>2.9</td>\n",
              "      <td>4.7</td>\n",
              "      <td>1.4</td>\n",
              "      <td>versicolor</td>\n",
              "    </tr>\n",
              "    <tr>\n",
              "      <th>14</th>\n",
              "      <td>5.8</td>\n",
              "      <td>4.0</td>\n",
              "      <td>1.2</td>\n",
              "      <td>0.2</td>\n",
              "      <td>setosa</td>\n",
              "    </tr>\n",
              "    <tr>\n",
              "      <th>133</th>\n",
              "      <td>6.3</td>\n",
              "      <td>2.8</td>\n",
              "      <td>5.1</td>\n",
              "      <td>1.5</td>\n",
              "      <td>virginica</td>\n",
              "    </tr>\n",
              "    <tr>\n",
              "      <th>33</th>\n",
              "      <td>5.5</td>\n",
              "      <td>4.2</td>\n",
              "      <td>1.4</td>\n",
              "      <td>0.2</td>\n",
              "      <td>setosa</td>\n",
              "    </tr>\n",
              "    <tr>\n",
              "      <th>115</th>\n",
              "      <td>6.4</td>\n",
              "      <td>3.2</td>\n",
              "      <td>5.3</td>\n",
              "      <td>2.3</td>\n",
              "      <td>virginica</td>\n",
              "    </tr>\n",
              "    <tr>\n",
              "      <th>6</th>\n",
              "      <td>4.6</td>\n",
              "      <td>3.4</td>\n",
              "      <td>1.4</td>\n",
              "      <td>0.3</td>\n",
              "      <td>setosa</td>\n",
              "    </tr>\n",
              "    <tr>\n",
              "      <th>105</th>\n",
              "      <td>7.6</td>\n",
              "      <td>3.0</td>\n",
              "      <td>6.6</td>\n",
              "      <td>2.1</td>\n",
              "      <td>virginica</td>\n",
              "    </tr>\n",
              "    <tr>\n",
              "      <th>27</th>\n",
              "      <td>5.2</td>\n",
              "      <td>3.5</td>\n",
              "      <td>1.5</td>\n",
              "      <td>0.2</td>\n",
              "      <td>setosa</td>\n",
              "    </tr>\n",
              "  </tbody>\n",
              "</table>\n",
              "</div>\n",
              "      <button class=\"colab-df-convert\" onclick=\"convertToInteractive('df-6db4c542-4a1b-404d-89f7-41ac64d80bee')\"\n",
              "              title=\"Convert this dataframe to an interactive table.\"\n",
              "              style=\"display:none;\">\n",
              "        \n",
              "  <svg xmlns=\"http://www.w3.org/2000/svg\" height=\"24px\"viewBox=\"0 0 24 24\"\n",
              "       width=\"24px\">\n",
              "    <path d=\"M0 0h24v24H0V0z\" fill=\"none\"/>\n",
              "    <path d=\"M18.56 5.44l.94 2.06.94-2.06 2.06-.94-2.06-.94-.94-2.06-.94 2.06-2.06.94zm-11 1L8.5 8.5l.94-2.06 2.06-.94-2.06-.94L8.5 2.5l-.94 2.06-2.06.94zm10 10l.94 2.06.94-2.06 2.06-.94-2.06-.94-.94-2.06-.94 2.06-2.06.94z\"/><path d=\"M17.41 7.96l-1.37-1.37c-.4-.4-.92-.59-1.43-.59-.52 0-1.04.2-1.43.59L10.3 9.45l-7.72 7.72c-.78.78-.78 2.05 0 2.83L4 21.41c.39.39.9.59 1.41.59.51 0 1.02-.2 1.41-.59l7.78-7.78 2.81-2.81c.8-.78.8-2.07 0-2.86zM5.41 20L4 18.59l7.72-7.72 1.47 1.35L5.41 20z\"/>\n",
              "  </svg>\n",
              "      </button>\n",
              "      \n",
              "  <style>\n",
              "    .colab-df-container {\n",
              "      display:flex;\n",
              "      flex-wrap:wrap;\n",
              "      gap: 12px;\n",
              "    }\n",
              "\n",
              "    .colab-df-convert {\n",
              "      background-color: #E8F0FE;\n",
              "      border: none;\n",
              "      border-radius: 50%;\n",
              "      cursor: pointer;\n",
              "      display: none;\n",
              "      fill: #1967D2;\n",
              "      height: 32px;\n",
              "      padding: 0 0 0 0;\n",
              "      width: 32px;\n",
              "    }\n",
              "\n",
              "    .colab-df-convert:hover {\n",
              "      background-color: #E2EBFA;\n",
              "      box-shadow: 0px 1px 2px rgba(60, 64, 67, 0.3), 0px 1px 3px 1px rgba(60, 64, 67, 0.15);\n",
              "      fill: #174EA6;\n",
              "    }\n",
              "\n",
              "    [theme=dark] .colab-df-convert {\n",
              "      background-color: #3B4455;\n",
              "      fill: #D2E3FC;\n",
              "    }\n",
              "\n",
              "    [theme=dark] .colab-df-convert:hover {\n",
              "      background-color: #434B5C;\n",
              "      box-shadow: 0px 1px 3px 1px rgba(0, 0, 0, 0.15);\n",
              "      filter: drop-shadow(0px 1px 2px rgba(0, 0, 0, 0.3));\n",
              "      fill: #FFFFFF;\n",
              "    }\n",
              "  </style>\n",
              "\n",
              "      <script>\n",
              "        const buttonEl =\n",
              "          document.querySelector('#df-6db4c542-4a1b-404d-89f7-41ac64d80bee button.colab-df-convert');\n",
              "        buttonEl.style.display =\n",
              "          google.colab.kernel.accessAllowed ? 'block' : 'none';\n",
              "\n",
              "        async function convertToInteractive(key) {\n",
              "          const element = document.querySelector('#df-6db4c542-4a1b-404d-89f7-41ac64d80bee');\n",
              "          const dataTable =\n",
              "            await google.colab.kernel.invokeFunction('convertToInteractive',\n",
              "                                                     [key], {});\n",
              "          if (!dataTable) return;\n",
              "\n",
              "          const docLinkHtml = 'Like what you see? Visit the ' +\n",
              "            '<a target=\"_blank\" href=https://colab.research.google.com/notebooks/data_table.ipynb>data table notebook</a>'\n",
              "            + ' to learn more about interactive tables.';\n",
              "          element.innerHTML = '';\n",
              "          dataTable['output_type'] = 'display_data';\n",
              "          await google.colab.output.renderOutput(dataTable, element);\n",
              "          const docLink = document.createElement('div');\n",
              "          docLink.innerHTML = docLinkHtml;\n",
              "          element.appendChild(docLink);\n",
              "        }\n",
              "      </script>\n",
              "    </div>\n",
              "  </div>\n",
              "  "
            ],
            "text/plain": [
              "     sepal_length  sepal_width  petal_length  petal_width     species\n",
              "64            5.6          2.9           3.6          1.3  versicolor\n",
              "128           6.4          2.8           5.6          2.1   virginica\n",
              "106           4.9          2.5           4.5          1.7   virginica\n",
              "20            5.4          3.4           1.7          0.2      setosa\n",
              "141           6.9          3.1           5.1          2.3   virginica\n",
              "124           6.7          3.3           5.7          2.1   virginica\n",
              "97            6.2          2.9           4.3          1.3  versicolor\n",
              "40            5.0          3.5           1.3          0.3      setosa\n",
              "39            5.1          3.4           1.5          0.2      setosa\n",
              "94            5.6          2.7           4.2          1.3  versicolor\n",
              "91            6.1          3.0           4.6          1.4  versicolor\n",
              "12            4.8          3.0           1.4          0.1      setosa\n",
              "78            6.0          2.9           4.5          1.5  versicolor\n",
              "90            5.5          2.6           4.4          1.2  versicolor\n",
              "15            5.7          4.4           1.5          0.4      setosa\n",
              "2             4.7          3.2           1.3          0.2      setosa\n",
              "140           6.7          3.1           5.6          2.4   virginica\n",
              "121           5.6          2.8           4.9          2.0   virginica\n",
              "10            5.4          3.7           1.5          0.2      setosa\n",
              "116           6.5          3.0           5.5          1.8   virginica\n",
              "108           6.7          2.5           5.8          1.8   virginica\n",
              "69            5.6          2.5           3.9          1.1  versicolor\n",
              "63            6.1          2.9           4.7          1.4  versicolor\n",
              "14            5.8          4.0           1.2          0.2      setosa\n",
              "133           6.3          2.8           5.1          1.5   virginica\n",
              "33            5.5          4.2           1.4          0.2      setosa\n",
              "115           6.4          3.2           5.3          2.3   virginica\n",
              "6             4.6          3.4           1.4          0.3      setosa\n",
              "105           7.6          3.0           6.6          2.1   virginica\n",
              "27            5.2          3.5           1.5          0.2      setosa"
            ]
          },
          "metadata": {},
          "execution_count": 132
        }
      ]
    },
    {
      "cell_type": "code",
      "source": [
        "#final_df.insert(column='predicted_species', value=species_id_ser, loc=5)\n",
        "\n",
        "final_df['predicted_species'] = species_id"
      ],
      "metadata": {
        "id": "yMKSN6qbcL6i"
      },
      "execution_count": 133,
      "outputs": []
    },
    {
      "cell_type": "markdown",
      "source": [
        "Okay now that we've joined our test input, test output, and decision tree results, lets take a look at it all together!"
      ],
      "metadata": {
        "id": "Sxq0ipNoM4O8"
      }
    },
    {
      "cell_type": "code",
      "source": [
        "final_df"
      ],
      "metadata": {
        "id": "BcJElXQ2fO9c",
        "colab": {
          "base_uri": "https://localhost:8080/",
          "height": 989
        },
        "outputId": "71b0442d-9173-4ff1-899c-2bfcc0d91739"
      },
      "execution_count": 134,
      "outputs": [
        {
          "output_type": "execute_result",
          "data": {
            "text/html": [
              "\n",
              "  <div id=\"df-87f06c90-9c35-4808-afb7-29bb3a6192a3\">\n",
              "    <div class=\"colab-df-container\">\n",
              "      <div>\n",
              "<style scoped>\n",
              "    .dataframe tbody tr th:only-of-type {\n",
              "        vertical-align: middle;\n",
              "    }\n",
              "\n",
              "    .dataframe tbody tr th {\n",
              "        vertical-align: top;\n",
              "    }\n",
              "\n",
              "    .dataframe thead th {\n",
              "        text-align: right;\n",
              "    }\n",
              "</style>\n",
              "<table border=\"1\" class=\"dataframe\">\n",
              "  <thead>\n",
              "    <tr style=\"text-align: right;\">\n",
              "      <th></th>\n",
              "      <th>sepal_length</th>\n",
              "      <th>sepal_width</th>\n",
              "      <th>petal_length</th>\n",
              "      <th>petal_width</th>\n",
              "      <th>species</th>\n",
              "      <th>predicted_species</th>\n",
              "    </tr>\n",
              "  </thead>\n",
              "  <tbody>\n",
              "    <tr>\n",
              "      <th>64</th>\n",
              "      <td>5.6</td>\n",
              "      <td>2.9</td>\n",
              "      <td>3.6</td>\n",
              "      <td>1.3</td>\n",
              "      <td>versicolor</td>\n",
              "      <td>versicolor</td>\n",
              "    </tr>\n",
              "    <tr>\n",
              "      <th>128</th>\n",
              "      <td>6.4</td>\n",
              "      <td>2.8</td>\n",
              "      <td>5.6</td>\n",
              "      <td>2.1</td>\n",
              "      <td>virginica</td>\n",
              "      <td>virginica</td>\n",
              "    </tr>\n",
              "    <tr>\n",
              "      <th>106</th>\n",
              "      <td>4.9</td>\n",
              "      <td>2.5</td>\n",
              "      <td>4.5</td>\n",
              "      <td>1.7</td>\n",
              "      <td>virginica</td>\n",
              "      <td>versicolor</td>\n",
              "    </tr>\n",
              "    <tr>\n",
              "      <th>20</th>\n",
              "      <td>5.4</td>\n",
              "      <td>3.4</td>\n",
              "      <td>1.7</td>\n",
              "      <td>0.2</td>\n",
              "      <td>setosa</td>\n",
              "      <td>setosa</td>\n",
              "    </tr>\n",
              "    <tr>\n",
              "      <th>141</th>\n",
              "      <td>6.9</td>\n",
              "      <td>3.1</td>\n",
              "      <td>5.1</td>\n",
              "      <td>2.3</td>\n",
              "      <td>virginica</td>\n",
              "      <td>virginica</td>\n",
              "    </tr>\n",
              "    <tr>\n",
              "      <th>124</th>\n",
              "      <td>6.7</td>\n",
              "      <td>3.3</td>\n",
              "      <td>5.7</td>\n",
              "      <td>2.1</td>\n",
              "      <td>virginica</td>\n",
              "      <td>virginica</td>\n",
              "    </tr>\n",
              "    <tr>\n",
              "      <th>97</th>\n",
              "      <td>6.2</td>\n",
              "      <td>2.9</td>\n",
              "      <td>4.3</td>\n",
              "      <td>1.3</td>\n",
              "      <td>versicolor</td>\n",
              "      <td>versicolor</td>\n",
              "    </tr>\n",
              "    <tr>\n",
              "      <th>40</th>\n",
              "      <td>5.0</td>\n",
              "      <td>3.5</td>\n",
              "      <td>1.3</td>\n",
              "      <td>0.3</td>\n",
              "      <td>setosa</td>\n",
              "      <td>setosa</td>\n",
              "    </tr>\n",
              "    <tr>\n",
              "      <th>39</th>\n",
              "      <td>5.1</td>\n",
              "      <td>3.4</td>\n",
              "      <td>1.5</td>\n",
              "      <td>0.2</td>\n",
              "      <td>setosa</td>\n",
              "      <td>setosa</td>\n",
              "    </tr>\n",
              "    <tr>\n",
              "      <th>94</th>\n",
              "      <td>5.6</td>\n",
              "      <td>2.7</td>\n",
              "      <td>4.2</td>\n",
              "      <td>1.3</td>\n",
              "      <td>versicolor</td>\n",
              "      <td>versicolor</td>\n",
              "    </tr>\n",
              "    <tr>\n",
              "      <th>91</th>\n",
              "      <td>6.1</td>\n",
              "      <td>3.0</td>\n",
              "      <td>4.6</td>\n",
              "      <td>1.4</td>\n",
              "      <td>versicolor</td>\n",
              "      <td>versicolor</td>\n",
              "    </tr>\n",
              "    <tr>\n",
              "      <th>12</th>\n",
              "      <td>4.8</td>\n",
              "      <td>3.0</td>\n",
              "      <td>1.4</td>\n",
              "      <td>0.1</td>\n",
              "      <td>setosa</td>\n",
              "      <td>setosa</td>\n",
              "    </tr>\n",
              "    <tr>\n",
              "      <th>78</th>\n",
              "      <td>6.0</td>\n",
              "      <td>2.9</td>\n",
              "      <td>4.5</td>\n",
              "      <td>1.5</td>\n",
              "      <td>versicolor</td>\n",
              "      <td>versicolor</td>\n",
              "    </tr>\n",
              "    <tr>\n",
              "      <th>90</th>\n",
              "      <td>5.5</td>\n",
              "      <td>2.6</td>\n",
              "      <td>4.4</td>\n",
              "      <td>1.2</td>\n",
              "      <td>versicolor</td>\n",
              "      <td>versicolor</td>\n",
              "    </tr>\n",
              "    <tr>\n",
              "      <th>15</th>\n",
              "      <td>5.7</td>\n",
              "      <td>4.4</td>\n",
              "      <td>1.5</td>\n",
              "      <td>0.4</td>\n",
              "      <td>setosa</td>\n",
              "      <td>setosa</td>\n",
              "    </tr>\n",
              "    <tr>\n",
              "      <th>2</th>\n",
              "      <td>4.7</td>\n",
              "      <td>3.2</td>\n",
              "      <td>1.3</td>\n",
              "      <td>0.2</td>\n",
              "      <td>setosa</td>\n",
              "      <td>setosa</td>\n",
              "    </tr>\n",
              "    <tr>\n",
              "      <th>140</th>\n",
              "      <td>6.7</td>\n",
              "      <td>3.1</td>\n",
              "      <td>5.6</td>\n",
              "      <td>2.4</td>\n",
              "      <td>virginica</td>\n",
              "      <td>virginica</td>\n",
              "    </tr>\n",
              "    <tr>\n",
              "      <th>121</th>\n",
              "      <td>5.6</td>\n",
              "      <td>2.8</td>\n",
              "      <td>4.9</td>\n",
              "      <td>2.0</td>\n",
              "      <td>virginica</td>\n",
              "      <td>virginica</td>\n",
              "    </tr>\n",
              "    <tr>\n",
              "      <th>10</th>\n",
              "      <td>5.4</td>\n",
              "      <td>3.7</td>\n",
              "      <td>1.5</td>\n",
              "      <td>0.2</td>\n",
              "      <td>setosa</td>\n",
              "      <td>setosa</td>\n",
              "    </tr>\n",
              "    <tr>\n",
              "      <th>116</th>\n",
              "      <td>6.5</td>\n",
              "      <td>3.0</td>\n",
              "      <td>5.5</td>\n",
              "      <td>1.8</td>\n",
              "      <td>virginica</td>\n",
              "      <td>virginica</td>\n",
              "    </tr>\n",
              "    <tr>\n",
              "      <th>108</th>\n",
              "      <td>6.7</td>\n",
              "      <td>2.5</td>\n",
              "      <td>5.8</td>\n",
              "      <td>1.8</td>\n",
              "      <td>virginica</td>\n",
              "      <td>virginica</td>\n",
              "    </tr>\n",
              "    <tr>\n",
              "      <th>69</th>\n",
              "      <td>5.6</td>\n",
              "      <td>2.5</td>\n",
              "      <td>3.9</td>\n",
              "      <td>1.1</td>\n",
              "      <td>versicolor</td>\n",
              "      <td>versicolor</td>\n",
              "    </tr>\n",
              "    <tr>\n",
              "      <th>63</th>\n",
              "      <td>6.1</td>\n",
              "      <td>2.9</td>\n",
              "      <td>4.7</td>\n",
              "      <td>1.4</td>\n",
              "      <td>versicolor</td>\n",
              "      <td>versicolor</td>\n",
              "    </tr>\n",
              "    <tr>\n",
              "      <th>14</th>\n",
              "      <td>5.8</td>\n",
              "      <td>4.0</td>\n",
              "      <td>1.2</td>\n",
              "      <td>0.2</td>\n",
              "      <td>setosa</td>\n",
              "      <td>setosa</td>\n",
              "    </tr>\n",
              "    <tr>\n",
              "      <th>133</th>\n",
              "      <td>6.3</td>\n",
              "      <td>2.8</td>\n",
              "      <td>5.1</td>\n",
              "      <td>1.5</td>\n",
              "      <td>virginica</td>\n",
              "      <td>virginica</td>\n",
              "    </tr>\n",
              "    <tr>\n",
              "      <th>33</th>\n",
              "      <td>5.5</td>\n",
              "      <td>4.2</td>\n",
              "      <td>1.4</td>\n",
              "      <td>0.2</td>\n",
              "      <td>setosa</td>\n",
              "      <td>setosa</td>\n",
              "    </tr>\n",
              "    <tr>\n",
              "      <th>115</th>\n",
              "      <td>6.4</td>\n",
              "      <td>3.2</td>\n",
              "      <td>5.3</td>\n",
              "      <td>2.3</td>\n",
              "      <td>virginica</td>\n",
              "      <td>virginica</td>\n",
              "    </tr>\n",
              "    <tr>\n",
              "      <th>6</th>\n",
              "      <td>4.6</td>\n",
              "      <td>3.4</td>\n",
              "      <td>1.4</td>\n",
              "      <td>0.3</td>\n",
              "      <td>setosa</td>\n",
              "      <td>setosa</td>\n",
              "    </tr>\n",
              "    <tr>\n",
              "      <th>105</th>\n",
              "      <td>7.6</td>\n",
              "      <td>3.0</td>\n",
              "      <td>6.6</td>\n",
              "      <td>2.1</td>\n",
              "      <td>virginica</td>\n",
              "      <td>virginica</td>\n",
              "    </tr>\n",
              "    <tr>\n",
              "      <th>27</th>\n",
              "      <td>5.2</td>\n",
              "      <td>3.5</td>\n",
              "      <td>1.5</td>\n",
              "      <td>0.2</td>\n",
              "      <td>setosa</td>\n",
              "      <td>setosa</td>\n",
              "    </tr>\n",
              "  </tbody>\n",
              "</table>\n",
              "</div>\n",
              "      <button class=\"colab-df-convert\" onclick=\"convertToInteractive('df-87f06c90-9c35-4808-afb7-29bb3a6192a3')\"\n",
              "              title=\"Convert this dataframe to an interactive table.\"\n",
              "              style=\"display:none;\">\n",
              "        \n",
              "  <svg xmlns=\"http://www.w3.org/2000/svg\" height=\"24px\"viewBox=\"0 0 24 24\"\n",
              "       width=\"24px\">\n",
              "    <path d=\"M0 0h24v24H0V0z\" fill=\"none\"/>\n",
              "    <path d=\"M18.56 5.44l.94 2.06.94-2.06 2.06-.94-2.06-.94-.94-2.06-.94 2.06-2.06.94zm-11 1L8.5 8.5l.94-2.06 2.06-.94-2.06-.94L8.5 2.5l-.94 2.06-2.06.94zm10 10l.94 2.06.94-2.06 2.06-.94-2.06-.94-.94-2.06-.94 2.06-2.06.94z\"/><path d=\"M17.41 7.96l-1.37-1.37c-.4-.4-.92-.59-1.43-.59-.52 0-1.04.2-1.43.59L10.3 9.45l-7.72 7.72c-.78.78-.78 2.05 0 2.83L4 21.41c.39.39.9.59 1.41.59.51 0 1.02-.2 1.41-.59l7.78-7.78 2.81-2.81c.8-.78.8-2.07 0-2.86zM5.41 20L4 18.59l7.72-7.72 1.47 1.35L5.41 20z\"/>\n",
              "  </svg>\n",
              "      </button>\n",
              "      \n",
              "  <style>\n",
              "    .colab-df-container {\n",
              "      display:flex;\n",
              "      flex-wrap:wrap;\n",
              "      gap: 12px;\n",
              "    }\n",
              "\n",
              "    .colab-df-convert {\n",
              "      background-color: #E8F0FE;\n",
              "      border: none;\n",
              "      border-radius: 50%;\n",
              "      cursor: pointer;\n",
              "      display: none;\n",
              "      fill: #1967D2;\n",
              "      height: 32px;\n",
              "      padding: 0 0 0 0;\n",
              "      width: 32px;\n",
              "    }\n",
              "\n",
              "    .colab-df-convert:hover {\n",
              "      background-color: #E2EBFA;\n",
              "      box-shadow: 0px 1px 2px rgba(60, 64, 67, 0.3), 0px 1px 3px 1px rgba(60, 64, 67, 0.15);\n",
              "      fill: #174EA6;\n",
              "    }\n",
              "\n",
              "    [theme=dark] .colab-df-convert {\n",
              "      background-color: #3B4455;\n",
              "      fill: #D2E3FC;\n",
              "    }\n",
              "\n",
              "    [theme=dark] .colab-df-convert:hover {\n",
              "      background-color: #434B5C;\n",
              "      box-shadow: 0px 1px 3px 1px rgba(0, 0, 0, 0.15);\n",
              "      filter: drop-shadow(0px 1px 2px rgba(0, 0, 0, 0.3));\n",
              "      fill: #FFFFFF;\n",
              "    }\n",
              "  </style>\n",
              "\n",
              "      <script>\n",
              "        const buttonEl =\n",
              "          document.querySelector('#df-87f06c90-9c35-4808-afb7-29bb3a6192a3 button.colab-df-convert');\n",
              "        buttonEl.style.display =\n",
              "          google.colab.kernel.accessAllowed ? 'block' : 'none';\n",
              "\n",
              "        async function convertToInteractive(key) {\n",
              "          const element = document.querySelector('#df-87f06c90-9c35-4808-afb7-29bb3a6192a3');\n",
              "          const dataTable =\n",
              "            await google.colab.kernel.invokeFunction('convertToInteractive',\n",
              "                                                     [key], {});\n",
              "          if (!dataTable) return;\n",
              "\n",
              "          const docLinkHtml = 'Like what you see? Visit the ' +\n",
              "            '<a target=\"_blank\" href=https://colab.research.google.com/notebooks/data_table.ipynb>data table notebook</a>'\n",
              "            + ' to learn more about interactive tables.';\n",
              "          element.innerHTML = '';\n",
              "          dataTable['output_type'] = 'display_data';\n",
              "          await google.colab.output.renderOutput(dataTable, element);\n",
              "          const docLink = document.createElement('div');\n",
              "          docLink.innerHTML = docLinkHtml;\n",
              "          element.appendChild(docLink);\n",
              "        }\n",
              "      </script>\n",
              "    </div>\n",
              "  </div>\n",
              "  "
            ],
            "text/plain": [
              "     sepal_length  sepal_width  petal_length  petal_width     species  \\\n",
              "64            5.6          2.9           3.6          1.3  versicolor   \n",
              "128           6.4          2.8           5.6          2.1   virginica   \n",
              "106           4.9          2.5           4.5          1.7   virginica   \n",
              "20            5.4          3.4           1.7          0.2      setosa   \n",
              "141           6.9          3.1           5.1          2.3   virginica   \n",
              "124           6.7          3.3           5.7          2.1   virginica   \n",
              "97            6.2          2.9           4.3          1.3  versicolor   \n",
              "40            5.0          3.5           1.3          0.3      setosa   \n",
              "39            5.1          3.4           1.5          0.2      setosa   \n",
              "94            5.6          2.7           4.2          1.3  versicolor   \n",
              "91            6.1          3.0           4.6          1.4  versicolor   \n",
              "12            4.8          3.0           1.4          0.1      setosa   \n",
              "78            6.0          2.9           4.5          1.5  versicolor   \n",
              "90            5.5          2.6           4.4          1.2  versicolor   \n",
              "15            5.7          4.4           1.5          0.4      setosa   \n",
              "2             4.7          3.2           1.3          0.2      setosa   \n",
              "140           6.7          3.1           5.6          2.4   virginica   \n",
              "121           5.6          2.8           4.9          2.0   virginica   \n",
              "10            5.4          3.7           1.5          0.2      setosa   \n",
              "116           6.5          3.0           5.5          1.8   virginica   \n",
              "108           6.7          2.5           5.8          1.8   virginica   \n",
              "69            5.6          2.5           3.9          1.1  versicolor   \n",
              "63            6.1          2.9           4.7          1.4  versicolor   \n",
              "14            5.8          4.0           1.2          0.2      setosa   \n",
              "133           6.3          2.8           5.1          1.5   virginica   \n",
              "33            5.5          4.2           1.4          0.2      setosa   \n",
              "115           6.4          3.2           5.3          2.3   virginica   \n",
              "6             4.6          3.4           1.4          0.3      setosa   \n",
              "105           7.6          3.0           6.6          2.1   virginica   \n",
              "27            5.2          3.5           1.5          0.2      setosa   \n",
              "\n",
              "    predicted_species  \n",
              "64         versicolor  \n",
              "128         virginica  \n",
              "106        versicolor  \n",
              "20             setosa  \n",
              "141         virginica  \n",
              "124         virginica  \n",
              "97         versicolor  \n",
              "40             setosa  \n",
              "39             setosa  \n",
              "94         versicolor  \n",
              "91         versicolor  \n",
              "12             setosa  \n",
              "78         versicolor  \n",
              "90         versicolor  \n",
              "15             setosa  \n",
              "2              setosa  \n",
              "140         virginica  \n",
              "121         virginica  \n",
              "10             setosa  \n",
              "116         virginica  \n",
              "108         virginica  \n",
              "69         versicolor  \n",
              "63         versicolor  \n",
              "14             setosa  \n",
              "133         virginica  \n",
              "33             setosa  \n",
              "115         virginica  \n",
              "6              setosa  \n",
              "105         virginica  \n",
              "27             setosa  "
            ]
          },
          "metadata": {},
          "execution_count": 134
        }
      ]
    },
    {
      "cell_type": "markdown",
      "source": [
        "We can print a dataframe with only the wrongly identified values to see which ones were not accurately identified"
      ],
      "metadata": {
        "id": "oH_PfsccfUlm"
      }
    },
    {
      "cell_type": "code",
      "source": [
        "incorrect_id = final_df.loc[dt_test['species'] != species_id]\n",
        "\n",
        "incorrect_id"
      ],
      "metadata": {
        "id": "0IwW4pESfbi8",
        "colab": {
          "base_uri": "https://localhost:8080/",
          "height": 81
        },
        "outputId": "88504071-8501-4486-a380-4dcac5d14cb6"
      },
      "execution_count": 135,
      "outputs": [
        {
          "output_type": "execute_result",
          "data": {
            "text/html": [
              "\n",
              "  <div id=\"df-97107b77-cbbf-4105-8d41-d43cd221651e\">\n",
              "    <div class=\"colab-df-container\">\n",
              "      <div>\n",
              "<style scoped>\n",
              "    .dataframe tbody tr th:only-of-type {\n",
              "        vertical-align: middle;\n",
              "    }\n",
              "\n",
              "    .dataframe tbody tr th {\n",
              "        vertical-align: top;\n",
              "    }\n",
              "\n",
              "    .dataframe thead th {\n",
              "        text-align: right;\n",
              "    }\n",
              "</style>\n",
              "<table border=\"1\" class=\"dataframe\">\n",
              "  <thead>\n",
              "    <tr style=\"text-align: right;\">\n",
              "      <th></th>\n",
              "      <th>sepal_length</th>\n",
              "      <th>sepal_width</th>\n",
              "      <th>petal_length</th>\n",
              "      <th>petal_width</th>\n",
              "      <th>species</th>\n",
              "      <th>predicted_species</th>\n",
              "    </tr>\n",
              "  </thead>\n",
              "  <tbody>\n",
              "    <tr>\n",
              "      <th>106</th>\n",
              "      <td>4.9</td>\n",
              "      <td>2.5</td>\n",
              "      <td>4.5</td>\n",
              "      <td>1.7</td>\n",
              "      <td>virginica</td>\n",
              "      <td>versicolor</td>\n",
              "    </tr>\n",
              "  </tbody>\n",
              "</table>\n",
              "</div>\n",
              "      <button class=\"colab-df-convert\" onclick=\"convertToInteractive('df-97107b77-cbbf-4105-8d41-d43cd221651e')\"\n",
              "              title=\"Convert this dataframe to an interactive table.\"\n",
              "              style=\"display:none;\">\n",
              "        \n",
              "  <svg xmlns=\"http://www.w3.org/2000/svg\" height=\"24px\"viewBox=\"0 0 24 24\"\n",
              "       width=\"24px\">\n",
              "    <path d=\"M0 0h24v24H0V0z\" fill=\"none\"/>\n",
              "    <path d=\"M18.56 5.44l.94 2.06.94-2.06 2.06-.94-2.06-.94-.94-2.06-.94 2.06-2.06.94zm-11 1L8.5 8.5l.94-2.06 2.06-.94-2.06-.94L8.5 2.5l-.94 2.06-2.06.94zm10 10l.94 2.06.94-2.06 2.06-.94-2.06-.94-.94-2.06-.94 2.06-2.06.94z\"/><path d=\"M17.41 7.96l-1.37-1.37c-.4-.4-.92-.59-1.43-.59-.52 0-1.04.2-1.43.59L10.3 9.45l-7.72 7.72c-.78.78-.78 2.05 0 2.83L4 21.41c.39.39.9.59 1.41.59.51 0 1.02-.2 1.41-.59l7.78-7.78 2.81-2.81c.8-.78.8-2.07 0-2.86zM5.41 20L4 18.59l7.72-7.72 1.47 1.35L5.41 20z\"/>\n",
              "  </svg>\n",
              "      </button>\n",
              "      \n",
              "  <style>\n",
              "    .colab-df-container {\n",
              "      display:flex;\n",
              "      flex-wrap:wrap;\n",
              "      gap: 12px;\n",
              "    }\n",
              "\n",
              "    .colab-df-convert {\n",
              "      background-color: #E8F0FE;\n",
              "      border: none;\n",
              "      border-radius: 50%;\n",
              "      cursor: pointer;\n",
              "      display: none;\n",
              "      fill: #1967D2;\n",
              "      height: 32px;\n",
              "      padding: 0 0 0 0;\n",
              "      width: 32px;\n",
              "    }\n",
              "\n",
              "    .colab-df-convert:hover {\n",
              "      background-color: #E2EBFA;\n",
              "      box-shadow: 0px 1px 2px rgba(60, 64, 67, 0.3), 0px 1px 3px 1px rgba(60, 64, 67, 0.15);\n",
              "      fill: #174EA6;\n",
              "    }\n",
              "\n",
              "    [theme=dark] .colab-df-convert {\n",
              "      background-color: #3B4455;\n",
              "      fill: #D2E3FC;\n",
              "    }\n",
              "\n",
              "    [theme=dark] .colab-df-convert:hover {\n",
              "      background-color: #434B5C;\n",
              "      box-shadow: 0px 1px 3px 1px rgba(0, 0, 0, 0.15);\n",
              "      filter: drop-shadow(0px 1px 2px rgba(0, 0, 0, 0.3));\n",
              "      fill: #FFFFFF;\n",
              "    }\n",
              "  </style>\n",
              "\n",
              "      <script>\n",
              "        const buttonEl =\n",
              "          document.querySelector('#df-97107b77-cbbf-4105-8d41-d43cd221651e button.colab-df-convert');\n",
              "        buttonEl.style.display =\n",
              "          google.colab.kernel.accessAllowed ? 'block' : 'none';\n",
              "\n",
              "        async function convertToInteractive(key) {\n",
              "          const element = document.querySelector('#df-97107b77-cbbf-4105-8d41-d43cd221651e');\n",
              "          const dataTable =\n",
              "            await google.colab.kernel.invokeFunction('convertToInteractive',\n",
              "                                                     [key], {});\n",
              "          if (!dataTable) return;\n",
              "\n",
              "          const docLinkHtml = 'Like what you see? Visit the ' +\n",
              "            '<a target=\"_blank\" href=https://colab.research.google.com/notebooks/data_table.ipynb>data table notebook</a>'\n",
              "            + ' to learn more about interactive tables.';\n",
              "          element.innerHTML = '';\n",
              "          dataTable['output_type'] = 'display_data';\n",
              "          await google.colab.output.renderOutput(dataTable, element);\n",
              "          const docLink = document.createElement('div');\n",
              "          docLink.innerHTML = docLinkHtml;\n",
              "          element.appendChild(docLink);\n",
              "        }\n",
              "      </script>\n",
              "    </div>\n",
              "  </div>\n",
              "  "
            ],
            "text/plain": [
              "     sepal_length  sepal_width  petal_length  petal_width    species  \\\n",
              "106           4.9          2.5           4.5          1.7  virginica   \n",
              "\n",
              "    predicted_species  \n",
              "106        versicolor  "
            ]
          },
          "metadata": {},
          "execution_count": 135
        }
      ]
    },
    {
      "cell_type": "markdown",
      "source": [
        "Great! We made our first decision tree! In the next section we will visualize our machine learning algorithm to get a better grasp on what just happened. \n"
      ],
      "metadata": {
        "id": "h1QAbSMdgxgN"
      }
    },
    {
      "cell_type": "markdown",
      "source": [
        "#Visualizing our Decision Tree"
      ],
      "metadata": {
        "id": "3VW8BTbWhvi6"
      }
    },
    {
      "cell_type": "code",
      "source": [
        "import matplotlib.pyplot as plt\n",
        "from sklearn import tree\n",
        "\n",
        "tree_diagram = tree.plot_tree(species_id_tree);\n",
        "\n",
        "plt.figure(figsize=(60,60));\n",
        "\n",
        "#the ; at the end removes all the text. \n",
        "#try running the code without it to see what i mean"
      ],
      "metadata": {
        "colab": {
          "base_uri": "https://localhost:8080/",
          "height": 267
        },
        "id": "L4GI5nLChzfO",
        "outputId": "077700e0-0b75-4ab3-b267-06591a3ddf06"
      },
      "execution_count": 136,
      "outputs": [
        {
          "output_type": "display_data",
          "data": {
            "image/png": "[encoded data removed]",
            "text/plain": [
              "<Figure size 432x288 with 1 Axes>"
            ]
          },
          "metadata": {
            "needs_background": "light"
          }
        },
        {
          "output_type": "display_data",
          "data": {
            "text/plain": [
              "<Figure size 4320x4320 with 0 Axes>"
            ]
          },
          "metadata": {}
        }
      ]
    },
    {
      "cell_type": "code",
      "source": [
        "fn=['sepal length (cm)','sepal width (cm)','petal length (cm)','petal width (cm)']\n",
        "cn=['setosa', 'versicolor', 'virginica']\n",
        "fig, axes = plt.subplots(nrows = 1,ncols = 1,figsize = (15,15), dpi=90)\n",
        "tree.plot_tree(species_id_tree,\n",
        "               feature_names = fn, \n",
        "               class_names=cn,\n",
        "               filled = True); #filled = true indicates we want a color coded class."
      ],
      "metadata": {
        "colab": {
          "base_uri": "https://localhost:8080/",
          "height": 1000
        },
        "id": "tiwzLvH2j7PF",
        "outputId": "a3972073-5a19-4477-dcc7-aea50abc62da"
      },
      "execution_count": 137,
      "outputs": [
        {
          "output_type": "display_data",
          "data": {
            "image/png": "[encoded data removed]",
            "text/plain": [
              "<Figure size 1350x1350 with 1 Axes>"
            ]
          },
          "metadata": {
            "needs_background": "light"
          }
        }
      ]
    },
    {
      "cell_type": "markdown",
      "source": [
        "Some things to note about the above tree:\n",
        "gini index is an impurity measure that \"calculates the amount of probability of a specific feature that is classified incorrectly when selected randomly\" \n",
        "[source](https://https://medium.com/analytics-steps/understanding-the-gini-index-and-information-gain-in-decision-trees-ab4720518ba8)\n",
        "\n",
        "Let's look at some other ways to visualize decision trees!"
      ],
      "metadata": {
        "id": "1BCWI2zHqb07"
      }
    },
    {
      "cell_type": "code",
      "source": [
        "\n",
        "import sys\n",
        "\n",
        "if 'google.colab' in sys.modules:\n",
        "  %pip install -q dtreeviz\n",
        "\n",
        "\n",
        "from sklearn.datasets import *\n",
        "from dtreeviz.trees import *\n",
        "from IPython.display import Image, display_svg, SVG\n",
        "import graphviz\n",
        "import pandas as pd\n",
        "import numpy as np\n",
        "\n",
        "#below line installs packages in google collab\n",
        "\"\"\"\n",
        "import sys\n",
        "\n",
        "if 'google.colab' in sys.modules:\n",
        "  !pip install -q dtreeviz\n",
        "\"\"\"\n",
        "\n"
      ],
      "metadata": {
        "id": "bckOAYsx4Brx",
        "colab": {
          "base_uri": "https://localhost:8080/",
          "height": 36
        },
        "outputId": "111498f7-84ff-4aeb-8681-5c3131640929"
      },
      "execution_count": 138,
      "outputs": [
        {
          "output_type": "execute_result",
          "data": {
            "application/vnd.google.colaboratory.intrinsic+json": {
              "type": "string"
            },
            "text/plain": [
              "\"\\nimport sys\\n\\nif 'google.colab' in sys.modules:\\n  !pip install -q dtreeviz\\n\""
            ]
          },
          "metadata": {},
          "execution_count": 138
        }
      ]
    },
    {
      "cell_type": "markdown",
      "source": [
        "Below is a shorter way to train a decision tree, and then make a tree visualization using dtreeviz"
      ],
      "metadata": {
        "id": "oAllmxDt8zDF"
      }
    },
    {
      "cell_type": "code",
      "source": [
        "iris_dt = tree.DecisionTreeClassifier(max_depth=2)  \n",
        "iris = load_iris()\n",
        "\n",
        "X_train = iris.data\n",
        "y_train = iris.target\n",
        "iris_dt.fit(X_train, y_train)\n",
        "\n",
        "fn=['sepal length (cm)','sepal width (cm)','petal length (cm)','petal width (cm)']\n",
        "cn=['setosa', 'versicolor', 'virginica']\n",
        "\n",
        "tree_diagram2 = dtreeviz(iris_dt, \n",
        "               X_train, \n",
        "               y_train,\n",
        "               target_name='species',\n",
        "               feature_names= fn, \n",
        "               class_names= cn, \n",
        "               histtype= 'barstacked',  # barstackes is default\n",
        "               orientation = 'LR')  # LR = left to right orientation\n",
        "\n",
        "\n",
        "tree_diagram2"
      ],
      "metadata": {
        "id": "H18Au-EH4tgM",
        "colab": {
          "base_uri": "https://localhost:8080/",
          "height": 360
        },
        "outputId": "2f8987b4-8e56-4815-9f12-818fb1853e0d"
      },
      "execution_count": 139,
      "outputs": [
        {
          "output_type": "stream",
          "name": "stderr",
          "text": [
            "/usr/local/lib/python3.7/dist-packages/numpy/core/fromnumeric.py:3208: VisibleDeprecationWarning: Creating an ndarray from ragged nested sequences (which is a list-or-tuple of lists-or-tuples-or ndarrays with different lengths or shapes) is deprecated. If you meant to do this, you must specify 'dtype=object' when creating the ndarray.\n",
            "  return asarray(a).size\n",
            "/usr/local/lib/python3.7/dist-packages/matplotlib/cbook/__init__.py:1376: VisibleDeprecationWarning: Creating an ndarray from ragged nested sequences (which is a list-or-tuple of lists-or-tuples-or ndarrays with different lengths or shapes) is deprecated. If you meant to do this, you must specify 'dtype=object' when creating the ndarray.\n",
            "  X = np.atleast_1d(X.T if isinstance(X, np.ndarray) else np.asarray(X))\n"
          ]
        },
        {
          "output_type": "execute_result",
          "data": {
            "text/plain": [
              "<dtreeviz.trees.DTreeViz at 0x7fdecfadd590>"
            ],
            "image/svg+xml": "<svg xmlns=\"http://www.w3.org/2000/svg\" xmlns:xlink=\"http://www.w3.org/1999/xlink\" height=\"246.0\" viewBox=\"0.0 0.0 432.0 245.5\" width=\"432.0\">\n<g class=\"graph\" id=\"graph0\" transform=\"scale(1.0 1.0) rotate(0) translate(4 241.5)\">\n<title>G</title>\n<polygon fill=\"#ffffff\" points=\"-4,4 -4,-241.5 428,-241.5 428,4 -4,4\" stroke=\"transparent\" />\n<g class=\"cluster\" id=\"clust3\">\n<title>cluster_legend</title>\n</g>\n\n<g class=\"node\" id=\"node1\">\n<title>node2</title>\n<svg height=\"45px\" preserveAspectRatio=\"xMinYMin meet\" version=\"1.1\" viewBox=\"0 0 201.32 59.281339\" width=\"151px\" x=\"188.5\" y=\"-102.5\">\n <defs>\n  <style type=\"text/css\">\n*{stroke-linecap:butt;stroke-linejoin:round;}\n  </style>\n </defs>\n <g id=\"figure_1\">\n  <g id=\"patch_1\">\n   <path d=\"M 0 59.281339  L 201.32 59.281339  L 201.32 0  L 0 0  z \" style=\"fill:#ffffff;\" />\n  </g>\n  <g id=\"axes_1\">\n   <g id=\"patch_2\">\n    <path d=\"M 17.18 28.925089  L 201.32 28.925089  L 201.32 1.745089  L 17.18 1.745089  z \" style=\"fill:#ffffff;\" />\n   </g>\n   <g id=\"patch_3\">\n    <path clip-path=\"url(#pcc38503ed2)\" d=\"M 17.761571 28.925089  L 28.024593 28.925089  L 28.024593 28.925089  L 17.761571 28.925089  z \" style=\"fill:#fefebb;stroke:#444443;stroke-linejoin:miter;stroke-width:0.5;\" />\n   </g>\n   <g id=\"patch_4\">\n    <path clip-path=\"url(#pcc38503ed2)\" d=\"M 28.024593 28.925089  L 38.287616 28.925089  L 38.287616 28.925089  L 28.024593 28.925089  z \" style=\"fill:#fefebb;stroke:#444443;stroke-linejoin:miter;stroke-width:0.5;\" />\n   </g>\n   <g id=\"patch_5\">\n    <path clip-path=\"url(#pcc38503ed2)\" d=\"M 38.287616 28.925089  L 48.550638 28.925089  L 48.550638 28.925089  L 38.287616 28.925089  z \" style=\"fill:#fefebb;stroke:#444443;stroke-linejoin:miter;stroke-width:0.5;\" />\n   </g>\n   <g id=\"patch_6\">\n    <path clip-path=\"url(#pcc38503ed2)\" d=\"M 48.550638 28.925089  L 58.81366 28.925089  L 58.81366 28.925089  L 48.550638 28.925089  z \" style=\"fill:#fefebb;stroke:#444443;stroke-linejoin:miter;stroke-width:0.5;\" />\n   </g>\n   <g id=\"patch_7\">\n    <path clip-path=\"url(#pcc38503ed2)\" d=\"M 58.81366 28.925089  L 69.076682 28.925089  L 69.076682 28.925089  L 58.81366 28.925089  z \" style=\"fill:#fefebb;stroke:#444443;stroke-linejoin:miter;stroke-width:0.5;\" />\n   </g>\n   <g id=\"patch_8\">\n    <path clip-path=\"url(#pcc38503ed2)\" d=\"M 69.076682 28.925089  L 79.339705 28.925089  L 79.339705 28.925089  L 69.076682 28.925089  z \" style=\"fill:#fefebb;stroke:#444443;stroke-linejoin:miter;stroke-width:0.5;\" />\n   </g>\n   <g id=\"patch_9\">\n    <path clip-path=\"url(#pcc38503ed2)\" d=\"M 79.339705 28.925089  L 89.602727 28.925089  L 89.602727 28.925089  L 79.339705 28.925089  z \" style=\"fill:#fefebb;stroke:#444443;stroke-linejoin:miter;stroke-width:0.5;\" />\n   </g>\n   <g id=\"patch_10\">\n    <path clip-path=\"url(#pcc38503ed2)\" d=\"M 89.602727 28.925089  L 99.865749 28.925089  L 99.865749 28.925089  L 89.602727 28.925089  z \" style=\"fill:#fefebb;stroke:#444443;stroke-linejoin:miter;stroke-width:0.5;\" />\n   </g>\n   <g id=\"patch_11\">\n    <path clip-path=\"url(#pcc38503ed2)\" d=\"M 99.865749 28.925089  L 110.128771 28.925089  L 110.128771 28.925089  L 99.865749 28.925089  z \" style=\"fill:#fefebb;stroke:#444443;stroke-linejoin:miter;stroke-width:0.5;\" />\n   </g>\n   <g id=\"patch_12\">\n    <path clip-path=\"url(#pcc38503ed2)\" d=\"M 110.128771 28.925089  L 120.391794 28.925089  L 120.391794 28.925089  L 110.128771 28.925089  z \" style=\"fill:#fefebb;stroke:#444443;stroke-linejoin:miter;stroke-width:0.5;\" />\n   </g>\n   <g id=\"patch_13\">\n    <path clip-path=\"url(#pcc38503ed2)\" d=\"M 120.391794 28.925089  L 130.654816 28.925089  L 130.654816 28.925089  L 120.391794 28.925089  z \" style=\"fill:#fefebb;stroke:#444443;stroke-linejoin:miter;stroke-width:0.5;\" />\n   </g>\n   <g id=\"patch_14\">\n    <path clip-path=\"url(#pcc38503ed2)\" d=\"M 130.654816 28.925089  L 140.917838 28.925089  L 140.917838 28.925089  L 130.654816 28.925089  z \" style=\"fill:#fefebb;stroke:#444443;stroke-linejoin:miter;stroke-width:0.5;\" />\n   </g>\n   <g id=\"patch_15\">\n    <path clip-path=\"url(#pcc38503ed2)\" d=\"M 140.917838 28.925089  L 151.18086 28.925089  L 151.18086 28.925089  L 140.917838 28.925089  z \" style=\"fill:#fefebb;stroke:#444443;stroke-linejoin:miter;stroke-width:0.5;\" />\n   </g>\n   <g id=\"patch_16\">\n    <path clip-path=\"url(#pcc38503ed2)\" d=\"M 151.18086 28.925089  L 161.443882 28.925089  L 161.443882 28.925089  L 151.18086 28.925089  z \" style=\"fill:#fefebb;stroke:#444443;stroke-linejoin:miter;stroke-width:0.5;\" />\n   </g>\n   <g id=\"patch_17\">\n    <path clip-path=\"url(#pcc38503ed2)\" d=\"M 161.443882 28.925089  L 171.706905 28.925089  L 171.706905 28.925089  L 161.443882 28.925089  z \" style=\"fill:#fefebb;stroke:#444443;stroke-linejoin:miter;stroke-width:0.5;\" />\n   </g>\n   <g id=\"patch_18\">\n    <path clip-path=\"url(#pcc38503ed2)\" d=\"M 171.706905 28.925089  L 181.969927 28.925089  L 181.969927 28.925089  L 171.706905 28.925089  z \" style=\"fill:#fefebb;stroke:#444443;stroke-linejoin:miter;stroke-width:0.5;\" />\n   </g>\n   <g id=\"patch_19\">\n    <path clip-path=\"url(#pcc38503ed2)\" d=\"M 181.969927 28.925089  L 192.232949 28.925089  L 192.232949 28.925089  L 181.969927 28.925089  z \" style=\"fill:#fefebb;stroke:#444443;stroke-linejoin:miter;stroke-width:0.5;\" />\n   </g>\n   <g id=\"patch_20\">\n    <path clip-path=\"url(#pcc38503ed2)\" d=\"M 17.761571 28.925089  L 28.024593 28.925089  L 28.024593 28.925089  L 17.761571 28.925089  z \" style=\"fill:#d9e6f5;stroke:#444443;stroke-linejoin:miter;stroke-width:0.5;\" />\n   </g>\n   <g id=\"patch_21\">\n    <path clip-path=\"url(#pcc38503ed2)\" d=\"M 28.024593 28.925089  L 38.287616 28.925089  L 38.287616 28.925089  L 28.024593 28.925089  z \" style=\"fill:#d9e6f5;stroke:#444443;stroke-linejoin:miter;stroke-width:0.5;\" />\n   </g>\n   <g id=\"patch_22\">\n    <path clip-path=\"url(#pcc38503ed2)\" d=\"M 38.287616 28.925089  L 48.550638 28.925089  L 48.550638 28.925089  L 38.287616 28.925089  z \" style=\"fill:#d9e6f5;stroke:#444443;stroke-linejoin:miter;stroke-width:0.5;\" />\n   </g>\n   <g id=\"patch_23\">\n    <path clip-path=\"url(#pcc38503ed2)\" d=\"M 48.550638 28.925089  L 58.81366 28.925089  L 58.81366 28.925089  L 48.550638 28.925089  z \" style=\"fill:#d9e6f5;stroke:#444443;stroke-linejoin:miter;stroke-width:0.5;\" />\n   </g>\n   <g id=\"patch_24\">\n    <path clip-path=\"url(#pcc38503ed2)\" d=\"M 58.81366 28.925089  L 69.076682 28.925089  L 69.076682 28.925089  L 58.81366 28.925089  z \" style=\"fill:#d9e6f5;stroke:#444443;stroke-linejoin:miter;stroke-width:0.5;\" />\n   </g>\n   <g id=\"patch_25\">\n    <path clip-path=\"url(#pcc38503ed2)\" d=\"M 69.076682 28.925089  L 79.339705 28.925089  L 79.339705 28.925089  L 69.076682 28.925089  z \" style=\"fill:#d9e6f5;stroke:#444443;stroke-linejoin:miter;stroke-width:0.5;\" />\n   </g>\n   <g id=\"patch_26\">\n    <path clip-path=\"url(#pcc38503ed2)\" d=\"M 79.339705 28.925089  L 89.602727 28.925089  L 89.602727 19.865089  L 79.339705 19.865089  z \" style=\"fill:#d9e6f5;stroke:#444443;stroke-linejoin:miter;stroke-width:0.5;\" />\n   </g>\n   <g id=\"patch_27\">\n    <path clip-path=\"url(#pcc38503ed2)\" d=\"M 89.602727 28.925089  L 99.865749 28.925089  L 99.865749 18.570804  L 89.602727 18.570804  z \" style=\"fill:#d9e6f5;stroke:#444443;stroke-linejoin:miter;stroke-width:0.5;\" />\n   </g>\n   <g id=\"patch_28\">\n    <path clip-path=\"url(#pcc38503ed2)\" d=\"M 99.865749 28.925089  L 110.128771 28.925089  L 110.128771 12.099375  L 99.865749 12.099375  z \" style=\"fill:#d9e6f5;stroke:#444443;stroke-linejoin:miter;stroke-width:0.5;\" />\n   </g>\n   <g id=\"patch_29\">\n    <path clip-path=\"url(#pcc38503ed2)\" d=\"M 110.128771 28.925089  L 120.391794 28.925089  L 120.391794 6.922232  L 110.128771 6.922232  z \" style=\"fill:#d9e6f5;stroke:#444443;stroke-linejoin:miter;stroke-width:0.5;\" />\n   </g>\n   <g id=\"patch_30\">\n    <path clip-path=\"url(#pcc38503ed2)\" d=\"M 120.391794 28.925089  L 130.654816 28.925089  L 130.654816 25.042232  L 120.391794 25.042232  z \" style=\"fill:#d9e6f5;stroke:#444443;stroke-linejoin:miter;stroke-width:0.5;\" />\n   </g>\n   <g id=\"patch_31\">\n    <path clip-path=\"url(#pcc38503ed2)\" d=\"M 130.654816 28.925089  L 140.917838 28.925089  L 140.917838 27.630804  L 130.654816 27.630804  z \" style=\"fill:#d9e6f5;stroke:#444443;stroke-linejoin:miter;stroke-width:0.5;\" />\n   </g>\n   <g id=\"patch_32\">\n    <path clip-path=\"url(#pcc38503ed2)\" d=\"M 140.917838 28.925089  L 151.18086 28.925089  L 151.18086 27.630804  L 140.917838 27.630804  z \" style=\"fill:#d9e6f5;stroke:#444443;stroke-linejoin:miter;stroke-width:0.5;\" />\n   </g>\n   <g id=\"patch_33\">\n    <path clip-path=\"url(#pcc38503ed2)\" d=\"M 151.18086 28.925089  L 161.443882 28.925089  L 161.443882 28.925089  L 151.18086 28.925089  z \" style=\"fill:#d9e6f5;stroke:#444443;stroke-linejoin:miter;stroke-width:0.5;\" />\n   </g>\n   <g id=\"patch_34\">\n    <path clip-path=\"url(#pcc38503ed2)\" d=\"M 161.443882 28.925089  L 171.706905 28.925089  L 171.706905 28.925089  L 161.443882 28.925089  z \" style=\"fill:#d9e6f5;stroke:#444443;stroke-linejoin:miter;stroke-width:0.5;\" />\n   </g>\n   <g id=\"patch_35\">\n    <path clip-path=\"url(#pcc38503ed2)\" d=\"M 171.706905 28.925089  L 181.969927 28.925089  L 181.969927 28.925089  L 171.706905 28.925089  z \" style=\"fill:#d9e6f5;stroke:#444443;stroke-linejoin:miter;stroke-width:0.5;\" />\n   </g>\n   <g id=\"patch_36\">\n    <path clip-path=\"url(#pcc38503ed2)\" d=\"M 181.969927 28.925089  L 192.232949 28.925089  L 192.232949 28.925089  L 181.969927 28.925089  z \" style=\"fill:#d9e6f5;stroke:#444443;stroke-linejoin:miter;stroke-width:0.5;\" />\n   </g>\n   <g id=\"patch_37\">\n    <path clip-path=\"url(#pcc38503ed2)\" d=\"M 17.761571 28.925089  L 28.024593 28.925089  L 28.024593 28.925089  L 17.761571 28.925089  z \" style=\"fill:#a1dab4;stroke:#444443;stroke-linejoin:miter;stroke-width:0.5;\" />\n   </g>\n   <g id=\"patch_38\">\n    <path clip-path=\"url(#pcc38503ed2)\" d=\"M 28.024593 28.925089  L 38.287616 28.925089  L 38.287616 28.925089  L 28.024593 28.925089  z \" style=\"fill:#a1dab4;stroke:#444443;stroke-linejoin:miter;stroke-width:0.5;\" />\n   </g>\n   <g id=\"patch_39\">\n    <path clip-path=\"url(#pcc38503ed2)\" d=\"M 38.287616 28.925089  L 48.550638 28.925089  L 48.550638 28.925089  L 38.287616 28.925089  z \" style=\"fill:#a1dab4;stroke:#444443;stroke-linejoin:miter;stroke-width:0.5;\" />\n   </g>\n   <g id=\"patch_40\">\n    <path clip-path=\"url(#pcc38503ed2)\" d=\"M 48.550638 28.925089  L 58.81366 28.925089  L 58.81366 28.925089  L 48.550638 28.925089  z \" style=\"fill:#a1dab4;stroke:#444443;stroke-linejoin:miter;stroke-width:0.5;\" />\n   </g>\n   <g id=\"patch_41\">\n    <path clip-path=\"url(#pcc38503ed2)\" d=\"M 58.81366 28.925089  L 69.076682 28.925089  L 69.076682 28.925089  L 58.81366 28.925089  z \" style=\"fill:#a1dab4;stroke:#444443;stroke-linejoin:miter;stroke-width:0.5;\" />\n   </g>\n   <g id=\"patch_42\">\n    <path clip-path=\"url(#pcc38503ed2)\" d=\"M 69.076682 28.925089  L 79.339705 28.925089  L 79.339705 28.925089  L 69.076682 28.925089  z \" style=\"fill:#a1dab4;stroke:#444443;stroke-linejoin:miter;stroke-width:0.5;\" />\n   </g>\n   <g id=\"patch_43\">\n    <path clip-path=\"url(#pcc38503ed2)\" d=\"M 79.339705 19.865089  L 89.602727 19.865089  L 89.602727 19.865089  L 79.339705 19.865089  z \" style=\"fill:#a1dab4;stroke:#444443;stroke-linejoin:miter;stroke-width:0.5;\" />\n   </g>\n   <g id=\"patch_44\">\n    <path clip-path=\"url(#pcc38503ed2)\" d=\"M 89.602727 18.570804  L 99.865749 18.570804  L 99.865749 18.570804  L 89.602727 18.570804  z \" style=\"fill:#a1dab4;stroke:#444443;stroke-linejoin:miter;stroke-width:0.5;\" />\n   </g>\n   <g id=\"patch_45\">\n    <path clip-path=\"url(#pcc38503ed2)\" d=\"M 99.865749 12.099375  L 110.128771 12.099375  L 110.128771 12.099375  L 99.865749 12.099375  z \" style=\"fill:#a1dab4;stroke:#444443;stroke-linejoin:miter;stroke-width:0.5;\" />\n   </g>\n   <g id=\"patch_46\">\n    <path clip-path=\"url(#pcc38503ed2)\" d=\"M 110.128771 6.922232  L 120.391794 6.922232  L 120.391794 3.039375  L 110.128771 3.039375  z \" style=\"fill:#a1dab4;stroke:#444443;stroke-linejoin:miter;stroke-width:0.5;\" />\n   </g>\n   <g id=\"patch_47\">\n    <path clip-path=\"url(#pcc38503ed2)\" d=\"M 120.391794 25.042232  L 130.654816 25.042232  L 130.654816 23.747946  L 120.391794 23.747946  z \" style=\"fill:#a1dab4;stroke:#444443;stroke-linejoin:miter;stroke-width:0.5;\" />\n   </g>\n   <g id=\"patch_48\">\n    <path clip-path=\"url(#pcc38503ed2)\" d=\"M 130.654816 27.630804  L 140.917838 27.630804  L 140.917838 26.336518  L 130.654816 26.336518  z \" style=\"fill:#a1dab4;stroke:#444443;stroke-linejoin:miter;stroke-width:0.5;\" />\n   </g>\n   <g id=\"patch_49\">\n    <path clip-path=\"url(#pcc38503ed2)\" d=\"M 140.917838 27.630804  L 151.18086 27.630804  L 151.18086 6.922232  L 140.917838 6.922232  z \" style=\"fill:#a1dab4;stroke:#444443;stroke-linejoin:miter;stroke-width:0.5;\" />\n   </g>\n   <g id=\"patch_50\">\n    <path clip-path=\"url(#pcc38503ed2)\" d=\"M 151.18086 28.925089  L 161.443882 28.925089  L 161.443882 21.159375  L 151.18086 21.159375  z \" style=\"fill:#a1dab4;stroke:#444443;stroke-linejoin:miter;stroke-width:0.5;\" />\n   </g>\n   <g id=\"patch_51\">\n    <path clip-path=\"url(#pcc38503ed2)\" d=\"M 161.443882 28.925089  L 171.706905 28.925089  L 171.706905 17.276518  L 161.443882 17.276518  z \" style=\"fill:#a1dab4;stroke:#444443;stroke-linejoin:miter;stroke-width:0.5;\" />\n   </g>\n   <g id=\"patch_52\">\n    <path clip-path=\"url(#pcc38503ed2)\" d=\"M 171.706905 28.925089  L 181.969927 28.925089  L 181.969927 18.570804  L 171.706905 18.570804  z \" style=\"fill:#a1dab4;stroke:#444443;stroke-linejoin:miter;stroke-width:0.5;\" />\n   </g>\n   <g id=\"patch_53\">\n    <path clip-path=\"url(#pcc38503ed2)\" d=\"M 181.969927 28.925089  L 192.232949 28.925089  L 192.232949 21.159375  L 181.969927 21.159375  z \" style=\"fill:#a1dab4;stroke:#444443;stroke-linejoin:miter;stroke-width:0.5;\" />\n   </g>\n   <g id=\"patch_54\">\n    <path d=\"M 137.710644 29.740489  L 134.396124 37.079089  L 141.025164 37.079089  z \" style=\"fill:#444443;\" />\n   </g>\n   <g id=\"matplotlib.axis_1\">\n    <g id=\"xtick_1\">\n     <g id=\"line2d_1\">\n      <defs>\n       <path d=\"M 0 0  L 0 3.5  \" id=\"m5400b77142\" style=\"stroke:#000000;stroke-width:0.3;\" />\n      </defs>\n      <g>\n       <use style=\"stroke:#000000;stroke-width:0.3;\" x=\"17.761571\" y=\"28.925089\" xlink:href=\"#m5400b77142\" />\n      </g>\n     </g>\n     <g id=\"text_1\">\n      \n      <defs>\n       <path d=\"M 31.78125 66.40625  Q 24.171875 66.40625 20.328125 58.90625  Q 16.5 51.421875 16.5 36.375  Q 16.5 21.390625 20.328125 13.890625  Q 24.171875 6.390625 31.78125 6.390625  Q 39.453125 6.390625 43.28125 13.890625  Q 47.125 21.390625 47.125 36.375  Q 47.125 51.421875 43.28125 58.90625  Q 39.453125 66.40625 31.78125 66.40625  z M 31.78125 74.21875  Q 44.046875 74.21875 50.515625 64.515625  Q 56.984375 54.828125 56.984375 36.375  Q 56.984375 17.96875 50.515625 8.265625  Q 44.046875 -1.421875 31.78125 -1.421875  Q 19.53125 -1.421875 13.0625 8.265625  Q 6.59375 17.96875 6.59375 36.375  Q 6.59375 54.828125 13.0625 64.515625  Q 19.53125 74.21875 31.78125 74.21875  z \" id=\"DejaVuSans-48\" />\n       <path d=\"M 10.6875 12.40625  L 21 12.40625  L 21 0  L 10.6875 0  z \" id=\"DejaVuSans-46\" />\n       <path d=\"M 12.40625 8.296875  L 28.515625 8.296875  L 28.515625 63.921875  L 10.984375 60.40625  L 10.984375 69.390625  L 28.421875 72.90625  L 38.28125 72.90625  L 38.28125 8.296875  L 54.390625 8.296875  L 54.390625 0  L 12.40625 0  z \" id=\"DejaVuSans-49\" />\n      </defs>\n      <g style=\"fill:#444443;\" transform=\"translate(11.400321 42.003839)scale(0.08 -0.08)\">\n       <use xlink:href=\"#DejaVuSans-48\" />\n       <use x=\"63.623047\" xlink:href=\"#DejaVuSans-46\" />\n       <use x=\"95.410156\" xlink:href=\"#DejaVuSans-49\" />\n      </g>\n     </g>\n    </g>\n    <g id=\"xtick_2\">\n     <g id=\"line2d_2\">\n      <g>\n       <use style=\"stroke:#000000;stroke-width:0.3;\" x=\"192.232949\" y=\"28.925089\" xlink:href=\"#m5400b77142\" />\n      </g>\n     </g>\n     <g id=\"text_2\">\n      \n      <defs>\n       <path d=\"M 19.1875 8.296875  L 53.609375 8.296875  L 53.609375 0  L 7.328125 0  L 7.328125 8.296875  Q 12.9375 14.109375 22.625 23.890625  Q 32.328125 33.6875 34.8125 36.53125  Q 39.546875 41.84375 41.421875 45.53125  Q 43.3125 49.21875 43.3125 52.78125  Q 43.3125 58.59375 39.234375 62.25  Q 35.15625 65.921875 28.609375 65.921875  Q 23.96875 65.921875 18.8125 64.3125  Q 13.671875 62.703125 7.8125 59.421875  L 7.8125 69.390625  Q 13.765625 71.78125 18.9375 73  Q 24.125 74.21875 28.421875 74.21875  Q 39.75 74.21875 46.484375 68.546875  Q 53.21875 62.890625 53.21875 53.421875  Q 53.21875 48.921875 51.53125 44.890625  Q 49.859375 40.875 45.40625 35.40625  Q 44.1875 33.984375 37.640625 27.21875  Q 31.109375 20.453125 19.1875 8.296875  z \" id=\"DejaVuSans-50\" />\n       <path d=\"M 10.796875 72.90625  L 49.515625 72.90625  L 49.515625 64.59375  L 19.828125 64.59375  L 19.828125 46.734375  Q 21.96875 47.46875 24.109375 47.828125  Q 26.265625 48.1875 28.421875 48.1875  Q 40.625 48.1875 47.75 41.5  Q 54.890625 34.8125 54.890625 23.390625  Q 54.890625 11.625 47.5625 5.09375  Q 40.234375 -1.421875 26.90625 -1.421875  Q 22.3125 -1.421875 17.546875 -0.640625  Q 12.796875 0.140625 7.71875 1.703125  L 7.71875 11.625  Q 12.109375 9.234375 16.796875 8.0625  Q 21.484375 6.890625 26.703125 6.890625  Q 35.15625 6.890625 40.078125 11.328125  Q 45.015625 15.765625 45.015625 23.390625  Q 45.015625 31 40.078125 35.4375  Q 35.15625 39.890625 26.703125 39.890625  Q 22.75 39.890625 18.8125 39.015625  Q 14.890625 38.140625 10.796875 36.28125  z \" id=\"DejaVuSans-53\" />\n      </defs>\n      <g style=\"fill:#444443;\" transform=\"translate(185.871699 42.003839)scale(0.08 -0.08)\">\n       <use xlink:href=\"#DejaVuSans-50\" />\n       <use x=\"63.623047\" xlink:href=\"#DejaVuSans-46\" />\n       <use x=\"95.410156\" xlink:href=\"#DejaVuSans-53\" />\n      </g>\n     </g>\n    </g>\n    <g id=\"text_3\">\n     \n     <defs>\n      <path d=\"M 18.109375 8.203125  L 18.109375 -20.796875  L 9.078125 -20.796875  L 9.078125 54.6875  L 18.109375 54.6875  L 18.109375 46.390625  Q 20.953125 51.265625 25.265625 53.625  Q 29.59375 56 35.59375 56  Q 45.5625 56 51.78125 48.09375  Q 58.015625 40.1875 58.015625 27.296875  Q 58.015625 14.40625 51.78125 6.484375  Q 45.5625 -1.421875 35.59375 -1.421875  Q 29.59375 -1.421875 25.265625 0.953125  Q 20.953125 3.328125 18.109375 8.203125  z M 48.6875 27.296875  Q 48.6875 37.203125 44.609375 42.84375  Q 40.53125 48.484375 33.40625 48.484375  Q 26.265625 48.484375 22.1875 42.84375  Q 18.109375 37.203125 18.109375 27.296875  Q 18.109375 17.390625 22.1875 11.75  Q 26.265625 6.109375 33.40625 6.109375  Q 40.53125 6.109375 44.609375 11.75  Q 48.6875 17.390625 48.6875 27.296875  z \" id=\"DejaVuSans-112\" />\n      <path d=\"M 56.203125 29.59375  L 56.203125 25.203125  L 14.890625 25.203125  Q 15.484375 15.921875 20.484375 11.0625  Q 25.484375 6.203125 34.421875 6.203125  Q 39.59375 6.203125 44.453125 7.46875  Q 49.3125 8.734375 54.109375 11.28125  L 54.109375 2.78125  Q 49.265625 0.734375 44.1875 -0.34375  Q 39.109375 -1.421875 33.890625 -1.421875  Q 20.796875 -1.421875 13.15625 6.1875  Q 5.515625 13.8125 5.515625 26.8125  Q 5.515625 40.234375 12.765625 48.109375  Q 20.015625 56 32.328125 56  Q 43.359375 56 49.78125 48.890625  Q 56.203125 41.796875 56.203125 29.59375  z M 47.21875 32.234375  Q 47.125 39.59375 43.09375 43.984375  Q 39.0625 48.390625 32.421875 48.390625  Q 24.90625 48.390625 20.390625 44.140625  Q 15.875 39.890625 15.1875 32.171875  z \" id=\"DejaVuSans-101\" />\n      <path d=\"M 18.3125 70.21875  L 18.3125 54.6875  L 36.8125 54.6875  L 36.8125 47.703125  L 18.3125 47.703125  L 18.3125 18.015625  Q 18.3125 11.328125 20.140625 9.421875  Q 21.96875 7.515625 27.59375 7.515625  L 36.8125 7.515625  L 36.8125 0  L 27.59375 0  Q 17.1875 0 13.234375 3.875  Q 9.28125 7.765625 9.28125 18.015625  L 9.28125 47.703125  L 2.6875 47.703125  L 2.6875 54.6875  L 9.28125 54.6875  L 9.28125 70.21875  z \" id=\"DejaVuSans-116\" />\n      <path d=\"M 34.28125 27.484375  Q 23.390625 27.484375 19.1875 25  Q 14.984375 22.515625 14.984375 16.5  Q 14.984375 11.71875 18.140625 8.90625  Q 21.296875 6.109375 26.703125 6.109375  Q 34.1875 6.109375 38.703125 11.40625  Q 43.21875 16.703125 43.21875 25.484375  L 43.21875 27.484375  z M 52.203125 31.203125  L 52.203125 0  L 43.21875 0  L 43.21875 8.296875  Q 40.140625 3.328125 35.546875 0.953125  Q 30.953125 -1.421875 24.3125 -1.421875  Q 15.921875 -1.421875 10.953125 3.296875  Q 6 8.015625 6 15.921875  Q 6 25.140625 12.171875 29.828125  Q 18.359375 34.515625 30.609375 34.515625  L 43.21875 34.515625  L 43.21875 35.40625  Q 43.21875 41.609375 39.140625 45  Q 35.0625 48.390625 27.6875 48.390625  Q 23 48.390625 18.546875 47.265625  Q 14.109375 46.140625 10.015625 43.890625  L 10.015625 52.203125  Q 14.9375 54.109375 19.578125 55.046875  Q 24.21875 56 28.609375 56  Q 40.484375 56 46.34375 49.84375  Q 52.203125 43.703125 52.203125 31.203125  z \" id=\"DejaVuSans-97\" />\n      <path d=\"M 9.421875 75.984375  L 18.40625 75.984375  L 18.40625 0  L 9.421875 0  z \" id=\"DejaVuSans-108\" />\n      <path id=\"DejaVuSans-32\" />\n      <path d=\"M 4.203125 54.6875  L 13.1875 54.6875  L 24.421875 12.015625  L 35.59375 54.6875  L 46.1875 54.6875  L 57.421875 12.015625  L 68.609375 54.6875  L 77.59375 54.6875  L 63.28125 0  L 52.6875 0  L 40.921875 44.828125  L 29.109375 0  L 18.5 0  z \" id=\"DejaVuSans-119\" />\n      <path d=\"M 9.421875 54.6875  L 18.40625 54.6875  L 18.40625 0  L 9.421875 0  z M 9.421875 75.984375  L 18.40625 75.984375  L 18.40625 64.59375  L 9.421875 64.59375  z \" id=\"DejaVuSans-105\" />\n      <path d=\"M 45.40625 46.390625  L 45.40625 75.984375  L 54.390625 75.984375  L 54.390625 0  L 45.40625 0  L 45.40625 8.203125  Q 42.578125 3.328125 38.25 0.953125  Q 33.9375 -1.421875 27.875 -1.421875  Q 17.96875 -1.421875 11.734375 6.484375  Q 5.515625 14.40625 5.515625 27.296875  Q 5.515625 40.1875 11.734375 48.09375  Q 17.96875 56 27.875 56  Q 33.9375 56 38.25 53.625  Q 42.578125 51.265625 45.40625 46.390625  z M 14.796875 27.296875  Q 14.796875 17.390625 18.875 11.75  Q 22.953125 6.109375 30.078125 6.109375  Q 37.203125 6.109375 41.296875 11.75  Q 45.40625 17.390625 45.40625 27.296875  Q 45.40625 37.203125 41.296875 42.84375  Q 37.203125 48.484375 30.078125 48.484375  Q 22.953125 48.484375 18.875 42.84375  Q 14.796875 37.203125 14.796875 27.296875  z \" id=\"DejaVuSans-100\" />\n      <path d=\"M 54.890625 33.015625  L 54.890625 0  L 45.90625 0  L 45.90625 32.71875  Q 45.90625 40.484375 42.875 44.328125  Q 39.84375 48.1875 33.796875 48.1875  Q 26.515625 48.1875 22.3125 43.546875  Q 18.109375 38.921875 18.109375 30.90625  L 18.109375 0  L 9.078125 0  L 9.078125 75.984375  L 18.109375 75.984375  L 18.109375 46.1875  Q 21.34375 51.125 25.703125 53.5625  Q 30.078125 56 35.796875 56  Q 45.21875 56 50.046875 50.171875  Q 54.890625 44.34375 54.890625 33.015625  z \" id=\"DejaVuSans-104\" />\n      <path d=\"M 31 75.875  Q 24.46875 64.65625 21.28125 53.65625  Q 18.109375 42.671875 18.109375 31.390625  Q 18.109375 20.125 21.3125 9.0625  Q 24.515625 -2 31 -13.1875  L 23.1875 -13.1875  Q 15.875 -1.703125 12.234375 9.375  Q 8.59375 20.453125 8.59375 31.390625  Q 8.59375 42.28125 12.203125 53.3125  Q 15.828125 64.359375 23.1875 75.875  z \" id=\"DejaVuSans-40\" />\n      <path d=\"M 48.78125 52.59375  L 48.78125 44.1875  Q 44.96875 46.296875 41.140625 47.34375  Q 37.3125 48.390625 33.40625 48.390625  Q 24.65625 48.390625 19.8125 42.84375  Q 14.984375 37.3125 14.984375 27.296875  Q 14.984375 17.28125 19.8125 11.734375  Q 24.65625 6.203125 33.40625 6.203125  Q 37.3125 6.203125 41.140625 7.25  Q 44.96875 8.296875 48.78125 10.40625  L 48.78125 2.09375  Q 45.015625 0.34375 40.984375 -0.53125  Q 36.96875 -1.421875 32.421875 -1.421875  Q 20.0625 -1.421875 12.78125 6.34375  Q 5.515625 14.109375 5.515625 27.296875  Q 5.515625 40.671875 12.859375 48.328125  Q 20.21875 56 33.015625 56  Q 37.15625 56 41.109375 55.140625  Q 45.0625 54.296875 48.78125 52.59375  z \" id=\"DejaVuSans-99\" />\n      <path d=\"M 52 44.1875  Q 55.375 50.25 60.0625 53.125  Q 64.75 56 71.09375 56  Q 79.640625 56 84.28125 50.015625  Q 88.921875 44.046875 88.921875 33.015625  L 88.921875 0  L 79.890625 0  L 79.890625 32.71875  Q 79.890625 40.578125 77.09375 44.375  Q 74.3125 48.1875 68.609375 48.1875  Q 61.625 48.1875 57.5625 43.546875  Q 53.515625 38.921875 53.515625 30.90625  L 53.515625 0  L 44.484375 0  L 44.484375 32.71875  Q 44.484375 40.625 41.703125 44.40625  Q 38.921875 48.1875 33.109375 48.1875  Q 26.21875 48.1875 22.15625 43.53125  Q 18.109375 38.875 18.109375 30.90625  L 18.109375 0  L 9.078125 0  L 9.078125 54.6875  L 18.109375 54.6875  L 18.109375 46.1875  Q 21.1875 51.21875 25.484375 53.609375  Q 29.78125 56 35.6875 56  Q 41.65625 56 45.828125 52.96875  Q 50 49.953125 52 44.1875  z \" id=\"DejaVuSans-109\" />\n      <path d=\"M 8.015625 75.875  L 15.828125 75.875  Q 23.140625 64.359375 26.78125 53.3125  Q 30.421875 42.28125 30.421875 31.390625  Q 30.421875 20.453125 26.78125 9.375  Q 23.140625 -1.703125 15.828125 -13.1875  L 8.015625 -13.1875  Q 14.5 -2 17.703125 9.0625  Q 20.90625 20.125 20.90625 31.390625  Q 20.90625 42.671875 17.703125 53.65625  Q 14.5 64.65625 8.015625 75.875  z \" id=\"DejaVuSans-41\" />\n     </defs>\n     <g style=\"fill:#444443;\" transform=\"translate(59.876562 56.785714)scale(0.12 -0.12)\">\n      <use xlink:href=\"#DejaVuSans-112\" />\n      <use x=\"63.476562\" xlink:href=\"#DejaVuSans-101\" />\n      <use x=\"125\" xlink:href=\"#DejaVuSans-116\" />\n      <use x=\"164.208984\" xlink:href=\"#DejaVuSans-97\" />\n      <use x=\"225.488281\" xlink:href=\"#DejaVuSans-108\" />\n      <use x=\"253.271484\" xlink:href=\"#DejaVuSans-32\" />\n      <use x=\"285.058594\" xlink:href=\"#DejaVuSans-119\" />\n      <use x=\"366.845703\" xlink:href=\"#DejaVuSans-105\" />\n      <use x=\"394.628906\" xlink:href=\"#DejaVuSans-100\" />\n      <use x=\"458.105469\" xlink:href=\"#DejaVuSans-116\" />\n      <use x=\"497.314453\" xlink:href=\"#DejaVuSans-104\" />\n      <use x=\"560.693359\" xlink:href=\"#DejaVuSans-32\" />\n      <use x=\"592.480469\" xlink:href=\"#DejaVuSans-40\" />\n      <use x=\"631.494141\" xlink:href=\"#DejaVuSans-99\" />\n      <use x=\"686.474609\" xlink:href=\"#DejaVuSans-109\" />\n      <use x=\"783.886719\" xlink:href=\"#DejaVuSans-41\" />\n     </g>\n    </g>\n   </g>\n   <g id=\"matplotlib.axis_2\">\n    <g id=\"ytick_1\">\n     <g id=\"line2d_3\">\n      <defs>\n       <path d=\"M 0 0  L -3.5 0  \" id=\"ma2e4d31ce0\" style=\"stroke:#000000;stroke-width:0.3;\" />\n      </defs>\n      <g>\n       <use style=\"stroke:#000000;stroke-width:0.3;\" x=\"17.18\" y=\"28.925089\" xlink:href=\"#ma2e4d31ce0\" />\n      </g>\n     </g>\n     <g id=\"text_4\">\n      \n      <g style=\"fill:#444443;\" transform=\"translate(5.09 31.964464)scale(0.08 -0.08)\">\n       <use xlink:href=\"#DejaVuSans-48\" />\n      </g>\n     </g>\n    </g>\n    <g id=\"ytick_2\">\n     <g id=\"line2d_4\">\n      <g>\n       <use style=\"stroke:#000000;stroke-width:0.3;\" x=\"17.18\" y=\"3.039375\" xlink:href=\"#ma2e4d31ce0\" />\n      </g>\n     </g>\n     <g id=\"text_5\">\n      \n      <g style=\"fill:#444443;\" transform=\"translate(0 6.07875)scale(0.08 -0.08)\">\n       <use xlink:href=\"#DejaVuSans-50\" />\n       <use x=\"63.623047\" xlink:href=\"#DejaVuSans-48\" />\n      </g>\n     </g>\n    </g>\n   </g>\n   <g id=\"patch_55\">\n    <path d=\"M 17.18 28.925089  L 17.18 1.745089  \" style=\"fill:none;stroke:#000000;stroke-linecap:square;stroke-linejoin:miter;stroke-width:0.3;\" />\n   </g>\n   <g id=\"patch_56\">\n    <path d=\"M 17.18 28.925089  L 201.32 28.925089  \" style=\"fill:none;stroke:#000000;stroke-linecap:square;stroke-linejoin:miter;stroke-width:0.3;\" />\n   </g>\n   <g id=\"text_6\">\n    \n    <defs>\n     <path d=\"M 8.203125 72.90625  L 55.078125 72.90625  L 55.078125 68.703125  L 28.609375 0  L 18.3125 0  L 43.21875 64.59375  L 8.203125 64.59375  z \" id=\"DejaVuSans-55\" />\n    </defs>\n    <g style=\"fill:#444443;\" transform=\"translate(128.804394 45.233089)scale(0.08 -0.08)\">\n     <use xlink:href=\"#DejaVuSans-49\" />\n     <use x=\"63.623047\" xlink:href=\"#DejaVuSans-46\" />\n     <use x=\"95.410156\" xlink:href=\"#DejaVuSans-55\" />\n     <use x=\"159.033203\" xlink:href=\"#DejaVuSans-53\" />\n    </g>\n   </g>\n  </g>\n </g>\n <defs>\n  <clipPath id=\"pcc38503ed2\">\n   <rect height=\"27.18\" width=\"184.14\" x=\"17.18\" y=\"1.745089\" />\n  </clipPath>\n </defs>\n</svg></g>\n\n<g class=\"node\" id=\"node3\">\n<title>leaf3</title>\n<polygon fill=\"none\" points=\"424,-166.5 360,-166.5 360,-86.5 424,-86.5 424,-166.5\" stroke=\"#444443\" stroke-width=\"0\" />\n<svg height=\"72px\" preserveAspectRatio=\"xMinYMin meet\" version=\"1.1\" viewBox=\"0 0 74.501799 96.300975\" width=\"56px\" x=\"364\" y=\"-162.5\">\n <defs>\n  <style type=\"text/css\">\n*{stroke-linecap:butt;stroke-linejoin:round;}\n  </style>\n </defs>\n <g id=\"figure_1\">\n  <g id=\"patch_1\">\n   <path d=\"M 0 96.300975  L 74.501799 96.300975  L 74.501799 -0  L 0 -0  z \" style=\"fill:#ffffff;\" />\n  </g>\n  <g id=\"axes_1\">\n   <g id=\"patch_2\">\n    <path d=\"M 74.501799 37.394951  C 74.501799 37.394951 74.501799 37.394951 74.501799 37.394951  L 37.355799 37.394951  L 74.501799 37.394951  z \" style=\"fill:#fefebb;stroke:#444443;stroke-linejoin:miter;stroke-width:0.5;\" />\n   </g>\n   <g id=\"patch_3\">\n    <path d=\"M 74.501799 37.394951  C 74.501799 32.971134 73.711533 28.582682 72.168308 24.436767  C 70.625083 20.290852 68.353572 16.453759 65.461012 13.106634  C 62.568451 9.759509 59.101086 6.955865 55.222608 4.828059  C 51.34413 2.700253 47.116546 1.282304 42.739438 0.641152  C 38.36233 -0 33.905677 0.145896 29.579874 1.071951  C 25.25407 1.998007 21.128277 3.689417 17.397268 6.066332  C 13.666259 8.443247 10.389685 11.467665 7.72223 14.996806  C 5.054775 18.525947 3.039086 22.503388 1.770321 26.741358  C 0.501556 30.979328 0 35.41007 0.289331 39.824415  C 0.578663 44.23876 1.654255 48.566131 3.465332 52.602237  C 5.276408 56.638344 7.794013 60.318657 10.899293 63.469433  C 14.004573 66.620209 17.647881 69.191074 21.65722 71.06066  C 25.66656 72.930246 29.97783 74.068662 34.3875 74.422164  C 38.79717 74.775667 43.234738 74.338605 47.490713 73.131611  C 51.746687 71.924617 55.753023 69.966988 59.320586 67.351143  C 62.888149 64.735298 65.959902 61.503057 68.390829 57.807012  L 37.355799 37.394951  L 74.501799 37.394951  z \" style=\"fill:#d9e6f5;stroke:#444443;stroke-linejoin:miter;stroke-width:0.5;\" />\n   </g>\n   <g id=\"patch_4\">\n    <path d=\"M 68.390829 57.807012  C 70.37352 54.792476 71.906458 51.505082 72.941277 48.048545  C 73.976096 44.592009 74.501799 41.003068 74.501799 37.394953  L 37.355799 37.394951  L 68.390829 57.807012  z \" style=\"fill:#a1dab4;stroke:#444443;stroke-linejoin:miter;stroke-width:0.5;\" />\n   </g>\n   <g id=\"text_1\">\n    \n    <defs>\n     <path d=\"M 54.890625 33.015625  L 54.890625 0  L 45.90625 0  L 45.90625 32.71875  Q 45.90625 40.484375 42.875 44.328125  Q 39.84375 48.1875 33.796875 48.1875  Q 26.515625 48.1875 22.3125 43.546875  Q 18.109375 38.921875 18.109375 30.90625  L 18.109375 0  L 9.078125 0  L 9.078125 54.6875  L 18.109375 54.6875  L 18.109375 46.1875  Q 21.34375 51.125 25.703125 53.5625  Q 30.078125 56 35.796875 56  Q 45.21875 56 50.046875 50.171875  Q 54.890625 44.34375 54.890625 33.015625  z \" id=\"DejaVuSans-110\" />\n     <path d=\"M 10.59375 45.40625  L 73.1875 45.40625  L 73.1875 37.203125  L 10.59375 37.203125  z M 10.59375 25.484375  L 73.1875 25.484375  L 73.1875 17.1875  L 10.59375 17.1875  z \" id=\"DejaVuSans-61\" />\n     <path d=\"M 10.796875 72.90625  L 49.515625 72.90625  L 49.515625 64.59375  L 19.828125 64.59375  L 19.828125 46.734375  Q 21.96875 47.46875 24.109375 47.828125  Q 26.265625 48.1875 28.421875 48.1875  Q 40.625 48.1875 47.75 41.5  Q 54.890625 34.8125 54.890625 23.390625  Q 54.890625 11.625 47.5625 5.09375  Q 40.234375 -1.421875 26.90625 -1.421875  Q 22.3125 -1.421875 17.546875 -0.640625  Q 12.796875 0.140625 7.71875 1.703125  L 7.71875 11.625  Q 12.109375 9.234375 16.796875 8.0625  Q 21.484375 6.890625 26.703125 6.890625  Q 35.15625 6.890625 40.078125 11.328125  Q 45.015625 15.765625 45.015625 23.390625  Q 45.015625 31 40.078125 35.4375  Q 35.15625 39.890625 26.703125 39.890625  Q 22.75 39.890625 18.8125 39.015625  Q 14.890625 38.140625 10.796875 36.28125  z \" id=\"DejaVuSans-53\" />\n     <path d=\"M 37.796875 64.3125  L 12.890625 25.390625  L 37.796875 25.390625  z M 35.203125 72.90625  L 47.609375 72.90625  L 47.609375 25.390625  L 58.015625 25.390625  L 58.015625 17.1875  L 47.609375 17.1875  L 47.609375 0  L 37.796875 0  L 37.796875 17.1875  L 4.890625 17.1875  L 4.890625 26.703125  z \" id=\"DejaVuSans-52\" />\n    </defs>\n    <g style=\"fill:#444443;\" transform=\"translate(25.006815 84.351225)scale(0.09 -0.09)\">\n     <use xlink:href=\"#DejaVuSans-110\" />\n     <use x=\"63.378906\" xlink:href=\"#DejaVuSans-61\" />\n     <use x=\"147.167969\" xlink:href=\"#DejaVuSans-53\" />\n     <use x=\"210.791016\" xlink:href=\"#DejaVuSans-52\" />\n    </g>\n    \n    <defs>\n     <path d=\"M 2.984375 54.6875  L 12.5 54.6875  L 29.59375 8.796875  L 46.6875 54.6875  L 56.203125 54.6875  L 35.6875 0  L 23.484375 0  z \" id=\"DejaVuSans-118\" />\n     <path d=\"M 56.203125 29.59375  L 56.203125 25.203125  L 14.890625 25.203125  Q 15.484375 15.921875 20.484375 11.0625  Q 25.484375 6.203125 34.421875 6.203125  Q 39.59375 6.203125 44.453125 7.46875  Q 49.3125 8.734375 54.109375 11.28125  L 54.109375 2.78125  Q 49.265625 0.734375 44.1875 -0.34375  Q 39.109375 -1.421875 33.890625 -1.421875  Q 20.796875 -1.421875 13.15625 6.1875  Q 5.515625 13.8125 5.515625 26.8125  Q 5.515625 40.234375 12.765625 48.109375  Q 20.015625 56 32.328125 56  Q 43.359375 56 49.78125 48.890625  Q 56.203125 41.796875 56.203125 29.59375  z M 47.21875 32.234375  Q 47.125 39.59375 43.09375 43.984375  Q 39.0625 48.390625 32.421875 48.390625  Q 24.90625 48.390625 20.390625 44.140625  Q 15.875 39.890625 15.1875 32.171875  z \" id=\"DejaVuSans-101\" />\n     <path d=\"M 41.109375 46.296875  Q 39.59375 47.171875 37.8125 47.578125  Q 36.03125 48 33.890625 48  Q 26.265625 48 22.1875 43.046875  Q 18.109375 38.09375 18.109375 28.8125  L 18.109375 0  L 9.078125 0  L 9.078125 54.6875  L 18.109375 54.6875  L 18.109375 46.1875  Q 20.953125 51.171875 25.484375 53.578125  Q 30.03125 56 36.53125 56  Q 37.453125 56 38.578125 55.875  Q 39.703125 55.765625 41.0625 55.515625  z \" id=\"DejaVuSans-114\" />\n     <path d=\"M 44.28125 53.078125  L 44.28125 44.578125  Q 40.484375 46.53125 36.375 47.5  Q 32.28125 48.484375 27.875 48.484375  Q 21.1875 48.484375 17.84375 46.4375  Q 14.5 44.390625 14.5 40.28125  Q 14.5 37.15625 16.890625 35.375  Q 19.28125 33.59375 26.515625 31.984375  L 29.59375 31.296875  Q 39.15625 29.25 43.1875 25.515625  Q 47.21875 21.78125 47.21875 15.09375  Q 47.21875 7.46875 41.1875 3.015625  Q 35.15625 -1.421875 24.609375 -1.421875  Q 20.21875 -1.421875 15.453125 -0.5625  Q 10.6875 0.296875 5.421875 2  L 5.421875 11.28125  Q 10.40625 8.6875 15.234375 7.390625  Q 20.0625 6.109375 24.8125 6.109375  Q 31.15625 6.109375 34.5625 8.28125  Q 37.984375 10.453125 37.984375 14.40625  Q 37.984375 18.0625 35.515625 20.015625  Q 33.0625 21.96875 24.703125 23.78125  L 21.578125 24.515625  Q 13.234375 26.265625 9.515625 29.90625  Q 5.8125 33.546875 5.8125 39.890625  Q 5.8125 47.609375 11.28125 51.796875  Q 16.75 56 26.8125 56  Q 31.78125 56 36.171875 55.265625  Q 40.578125 54.546875 44.28125 53.078125  z \" id=\"DejaVuSans-115\" />\n     <path d=\"M 9.421875 54.6875  L 18.40625 54.6875  L 18.40625 0  L 9.421875 0  z M 9.421875 75.984375  L 18.40625 75.984375  L 18.40625 64.59375  L 9.421875 64.59375  z \" id=\"DejaVuSans-105\" />\n     <path d=\"M 48.78125 52.59375  L 48.78125 44.1875  Q 44.96875 46.296875 41.140625 47.34375  Q 37.3125 48.390625 33.40625 48.390625  Q 24.65625 48.390625 19.8125 42.84375  Q 14.984375 37.3125 14.984375 27.296875  Q 14.984375 17.28125 19.8125 11.734375  Q 24.65625 6.203125 33.40625 6.203125  Q 37.3125 6.203125 41.140625 7.25  Q 44.96875 8.296875 48.78125 10.40625  L 48.78125 2.09375  Q 45.015625 0.34375 40.984375 -0.53125  Q 36.96875 -1.421875 32.421875 -1.421875  Q 20.0625 -1.421875 12.78125 6.34375  Q 5.515625 14.109375 5.515625 27.296875  Q 5.515625 40.671875 12.859375 48.328125  Q 20.21875 56 33.015625 56  Q 37.15625 56 41.109375 55.140625  Q 45.0625 54.296875 48.78125 52.59375  z \" id=\"DejaVuSans-99\" />\n     <path d=\"M 30.609375 48.390625  Q 23.390625 48.390625 19.1875 42.75  Q 14.984375 37.109375 14.984375 27.296875  Q 14.984375 17.484375 19.15625 11.84375  Q 23.34375 6.203125 30.609375 6.203125  Q 37.796875 6.203125 41.984375 11.859375  Q 46.1875 17.53125 46.1875 27.296875  Q 46.1875 37.015625 41.984375 42.703125  Q 37.796875 48.390625 30.609375 48.390625  z M 30.609375 56  Q 42.328125 56 49.015625 48.375  Q 55.71875 40.765625 55.71875 27.296875  Q 55.71875 13.875 49.015625 6.21875  Q 42.328125 -1.421875 30.609375 -1.421875  Q 18.84375 -1.421875 12.171875 6.21875  Q 5.515625 13.875 5.515625 27.296875  Q 5.515625 40.765625 12.171875 48.375  Q 18.84375 56 30.609375 56  z \" id=\"DejaVuSans-111\" />\n     <path d=\"M 9.421875 75.984375  L 18.40625 75.984375  L 18.40625 0  L 9.421875 0  z \" id=\"DejaVuSans-108\" />\n    </defs>\n    <g style=\"fill:#444443;\" transform=\"translate(15.397908 94.429256)scale(0.09 -0.09)\">\n     <use xlink:href=\"#DejaVuSans-118\" />\n     <use x=\"59.179688\" xlink:href=\"#DejaVuSans-101\" />\n     <use x=\"120.703125\" xlink:href=\"#DejaVuSans-114\" />\n     <use x=\"161.816406\" xlink:href=\"#DejaVuSans-115\" />\n     <use x=\"213.916016\" xlink:href=\"#DejaVuSans-105\" />\n     <use x=\"241.699219\" xlink:href=\"#DejaVuSans-99\" />\n     <use x=\"296.679688\" xlink:href=\"#DejaVuSans-111\" />\n     <use x=\"357.861328\" xlink:href=\"#DejaVuSans-108\" />\n     <use x=\"385.644531\" xlink:href=\"#DejaVuSans-111\" />\n     <use x=\"446.826172\" xlink:href=\"#DejaVuSans-114\" />\n    </g>\n   </g>\n  </g>\n </g>\n</svg></g>\n\n<g class=\"edge\" id=\"edge1\">\n<title>node2-&gt;leaf3</title>\n<path d=\"M337.8769,-107.1252C344.1001,-109.3529 350.1932,-111.5341 355.9149,-113.5824\" fill=\"none\" stroke=\"#444443\" stroke-width=\".3\" />\n<polygon fill=\"#444443\" points=\"355.5758,-114.9479 359.8137,-114.978 356.5196,-112.3118 355.5758,-114.9479\" stroke=\"#444443\" stroke-width=\".3\" />\n</g>\n\n<g class=\"node\" id=\"node4\">\n<title>leaf4</title>\n<polygon fill=\"none\" points=\"420,-73 364,-73 364,0 420,0 420,-73\" stroke=\"#444443\" stroke-width=\"0\" />\n<svg height=\"65px\" preserveAspectRatio=\"xMinYMin meet\" version=\"1.1\" viewBox=\"0 0 64.835917 86.25651\" width=\"48px\" x=\"368\" y=\"-68.5\">\n <defs>\n  <style type=\"text/css\">\n*{stroke-linecap:butt;stroke-linejoin:round;}\n  </style>\n </defs>\n <g id=\"figure_1\">\n  <g id=\"patch_1\">\n   <path d=\"M 0 86.25651  L 64.835917 86.25651  L 64.835917 0  L 0 0  z \" style=\"fill:#ffffff;\" />\n  </g>\n  <g id=\"axes_1\">\n   <g id=\"patch_2\">\n    <path d=\"M 64.835917 32.569046  C 64.835917 32.569046 64.835917 32.569046 64.835917 32.569046  L 32.521917 32.569046  L 64.835917 32.569046  z \" style=\"fill:#fefebb;stroke:#444443;stroke-linejoin:miter;stroke-width:0.5;\" />\n   </g>\n   <g id=\"patch_3\">\n    <path d=\"M 64.835917 32.569046  C 64.835917 31.833341 64.810792 31.097851 64.760586 30.363861  C 64.710379 29.629871 64.635121 28.89781 64.534943 28.168957  L 32.521917 32.569046  L 64.835917 32.569046  z \" style=\"fill:#d9e6f5;stroke:#444443;stroke-linejoin:miter;stroke-width:0.5;\" />\n   </g>\n   <g id=\"patch_4\">\n    <path d=\"M 64.534943 28.168957  C 63.969767 24.056997 62.617598 20.092179 60.552525 16.491746  C 58.487453 12.891313 55.747896 9.722249 52.483962 7.158195  C 49.220027 4.594141 45.492439 2.682799 41.505441 1.528897  C 37.518444 0.374995 33.346211 0 29.217353 0.42446  C 25.088494 0.848919 21.079823 2.064936 17.410985 4.005882  C 13.742148 5.946828 10.481399 8.576593 7.807406 11.751085  C 5.133412 14.925576 3.09592 18.585736 1.806571 22.531014  C 0.517221 26.476292 0 30.633289 0.283248 34.774232  C 0.566497 38.915175 1.644945 42.963026 3.459501 46.695991  C 5.274057 50.428955 7.790963 53.777586 10.872311 56.558401  C 13.953659 59.339217 17.542123 61.500483 21.441081 62.923777  C 25.340039 64.347071 29.476954 65.005915 33.625154 64.864208  C 37.773353 64.722501 41.855663 63.78288 45.648403 62.096829  C 49.441142 60.410779 52.87375 58.009665 55.758145 55.025054  C 58.64254 52.040443 60.92506 48.527859 62.480639 44.679766  C 64.036219 40.831674 64.835917 36.719664 64.835917 32.569045  L 32.521917 32.569046  L 64.534943 28.168957  z \" style=\"fill:#a1dab4;stroke:#444443;stroke-linejoin:miter;stroke-width:0.5;\" />\n   </g>\n   <g id=\"text_1\">\n    \n    <defs>\n     <path d=\"M 54.890625 33.015625  L 54.890625 0  L 45.90625 0  L 45.90625 32.71875  Q 45.90625 40.484375 42.875 44.328125  Q 39.84375 48.1875 33.796875 48.1875  Q 26.515625 48.1875 22.3125 43.546875  Q 18.109375 38.921875 18.109375 30.90625  L 18.109375 0  L 9.078125 0  L 9.078125 54.6875  L 18.109375 54.6875  L 18.109375 46.1875  Q 21.34375 51.125 25.703125 53.5625  Q 30.078125 56 35.796875 56  Q 45.21875 56 50.046875 50.171875  Q 54.890625 44.34375 54.890625 33.015625  z \" id=\"DejaVuSans-110\" />\n     <path d=\"M 10.59375 45.40625  L 73.1875 45.40625  L 73.1875 37.203125  L 10.59375 37.203125  z M 10.59375 25.484375  L 73.1875 25.484375  L 73.1875 17.1875  L 10.59375 17.1875  z \" id=\"DejaVuSans-61\" />\n     <path d=\"M 37.796875 64.3125  L 12.890625 25.390625  L 37.796875 25.390625  z M 35.203125 72.90625  L 47.609375 72.90625  L 47.609375 25.390625  L 58.015625 25.390625  L 58.015625 17.1875  L 47.609375 17.1875  L 47.609375 0  L 37.796875 0  L 37.796875 17.1875  L 4.890625 17.1875  L 4.890625 26.703125  z \" id=\"DejaVuSans-52\" />\n     <path d=\"M 33.015625 40.375  Q 26.375 40.375 22.484375 35.828125  Q 18.609375 31.296875 18.609375 23.390625  Q 18.609375 15.53125 22.484375 10.953125  Q 26.375 6.390625 33.015625 6.390625  Q 39.65625 6.390625 43.53125 10.953125  Q 47.40625 15.53125 47.40625 23.390625  Q 47.40625 31.296875 43.53125 35.828125  Q 39.65625 40.375 33.015625 40.375  z M 52.59375 71.296875  L 52.59375 62.3125  Q 48.875 64.0625 45.09375 64.984375  Q 41.3125 65.921875 37.59375 65.921875  Q 27.828125 65.921875 22.671875 59.328125  Q 17.53125 52.734375 16.796875 39.40625  Q 19.671875 43.65625 24.015625 45.921875  Q 28.375 48.1875 33.59375 48.1875  Q 44.578125 48.1875 50.953125 41.515625  Q 57.328125 34.859375 57.328125 23.390625  Q 57.328125 12.15625 50.6875 5.359375  Q 44.046875 -1.421875 33.015625 -1.421875  Q 20.359375 -1.421875 13.671875 8.265625  Q 6.984375 17.96875 6.984375 36.375  Q 6.984375 53.65625 15.1875 63.9375  Q 23.390625 74.21875 37.203125 74.21875  Q 40.921875 74.21875 44.703125 73.484375  Q 48.484375 72.75 52.59375 71.296875  z \" id=\"DejaVuSans-54\" />\n    </defs>\n    <g style=\"fill:#444443;\" transform=\"translate(20.172933 74.30676)scale(0.09 -0.09)\">\n     <use xlink:href=\"#DejaVuSans-110\" />\n     <use x=\"63.378906\" xlink:href=\"#DejaVuSans-61\" />\n     <use x=\"147.167969\" xlink:href=\"#DejaVuSans-52\" />\n     <use x=\"210.791016\" xlink:href=\"#DejaVuSans-54\" />\n    </g>\n    \n    <defs>\n     <path d=\"M 2.984375 54.6875  L 12.5 54.6875  L 29.59375 8.796875  L 46.6875 54.6875  L 56.203125 54.6875  L 35.6875 0  L 23.484375 0  z \" id=\"DejaVuSans-118\" />\n     <path d=\"M 9.421875 54.6875  L 18.40625 54.6875  L 18.40625 0  L 9.421875 0  z M 9.421875 75.984375  L 18.40625 75.984375  L 18.40625 64.59375  L 9.421875 64.59375  z \" id=\"DejaVuSans-105\" />\n     <path d=\"M 41.109375 46.296875  Q 39.59375 47.171875 37.8125 47.578125  Q 36.03125 48 33.890625 48  Q 26.265625 48 22.1875 43.046875  Q 18.109375 38.09375 18.109375 28.8125  L 18.109375 0  L 9.078125 0  L 9.078125 54.6875  L 18.109375 54.6875  L 18.109375 46.1875  Q 20.953125 51.171875 25.484375 53.578125  Q 30.03125 56 36.53125 56  Q 37.453125 56 38.578125 55.875  Q 39.703125 55.765625 41.0625 55.515625  z \" id=\"DejaVuSans-114\" />\n     <path d=\"M 45.40625 27.984375  Q 45.40625 37.75 41.375 43.109375  Q 37.359375 48.484375 30.078125 48.484375  Q 22.859375 48.484375 18.828125 43.109375  Q 14.796875 37.75 14.796875 27.984375  Q 14.796875 18.265625 18.828125 12.890625  Q 22.859375 7.515625 30.078125 7.515625  Q 37.359375 7.515625 41.375 12.890625  Q 45.40625 18.265625 45.40625 27.984375  z M 54.390625 6.78125  Q 54.390625 -7.171875 48.1875 -13.984375  Q 42 -20.796875 29.203125 -20.796875  Q 24.46875 -20.796875 20.265625 -20.09375  Q 16.0625 -19.390625 12.109375 -17.921875  L 12.109375 -9.1875  Q 16.0625 -11.328125 19.921875 -12.34375  Q 23.78125 -13.375 27.78125 -13.375  Q 36.625 -13.375 41.015625 -8.765625  Q 45.40625 -4.15625 45.40625 5.171875  L 45.40625 9.625  Q 42.625 4.78125 38.28125 2.390625  Q 33.9375 0 27.875 0  Q 17.828125 0 11.671875 7.65625  Q 5.515625 15.328125 5.515625 27.984375  Q 5.515625 40.671875 11.671875 48.328125  Q 17.828125 56 27.875 56  Q 33.9375 56 38.28125 53.609375  Q 42.625 51.21875 45.40625 46.390625  L 45.40625 54.6875  L 54.390625 54.6875  z \" id=\"DejaVuSans-103\" />\n     <path d=\"M 48.78125 52.59375  L 48.78125 44.1875  Q 44.96875 46.296875 41.140625 47.34375  Q 37.3125 48.390625 33.40625 48.390625  Q 24.65625 48.390625 19.8125 42.84375  Q 14.984375 37.3125 14.984375 27.296875  Q 14.984375 17.28125 19.8125 11.734375  Q 24.65625 6.203125 33.40625 6.203125  Q 37.3125 6.203125 41.140625 7.25  Q 44.96875 8.296875 48.78125 10.40625  L 48.78125 2.09375  Q 45.015625 0.34375 40.984375 -0.53125  Q 36.96875 -1.421875 32.421875 -1.421875  Q 20.0625 -1.421875 12.78125 6.34375  Q 5.515625 14.109375 5.515625 27.296875  Q 5.515625 40.671875 12.859375 48.328125  Q 20.21875 56 33.015625 56  Q 37.15625 56 41.109375 55.140625  Q 45.0625 54.296875 48.78125 52.59375  z \" id=\"DejaVuSans-99\" />\n     <path d=\"M 34.28125 27.484375  Q 23.390625 27.484375 19.1875 25  Q 14.984375 22.515625 14.984375 16.5  Q 14.984375 11.71875 18.140625 8.90625  Q 21.296875 6.109375 26.703125 6.109375  Q 34.1875 6.109375 38.703125 11.40625  Q 43.21875 16.703125 43.21875 25.484375  L 43.21875 27.484375  z M 52.203125 31.203125  L 52.203125 0  L 43.21875 0  L 43.21875 8.296875  Q 40.140625 3.328125 35.546875 0.953125  Q 30.953125 -1.421875 24.3125 -1.421875  Q 15.921875 -1.421875 10.953125 3.296875  Q 6 8.015625 6 15.921875  Q 6 25.140625 12.171875 29.828125  Q 18.359375 34.515625 30.609375 34.515625  L 43.21875 34.515625  L 43.21875 35.40625  Q 43.21875 41.609375 39.140625 45  Q 35.0625 48.390625 27.6875 48.390625  Q 23 48.390625 18.546875 47.265625  Q 14.109375 46.140625 10.015625 43.890625  L 10.015625 52.203125  Q 14.9375 54.109375 19.578125 55.046875  Q 24.21875 56 28.609375 56  Q 40.484375 56 46.34375 49.84375  Q 52.203125 43.703125 52.203125 31.203125  z \" id=\"DejaVuSans-97\" />\n    </defs>\n    <g style=\"fill:#444443;\" transform=\"translate(13.396214 84.384791)scale(0.09 -0.09)\">\n     <use xlink:href=\"#DejaVuSans-118\" />\n     <use x=\"59.179688\" xlink:href=\"#DejaVuSans-105\" />\n     <use x=\"86.962891\" xlink:href=\"#DejaVuSans-114\" />\n     <use x=\"126.326172\" xlink:href=\"#DejaVuSans-103\" />\n     <use x=\"189.802734\" xlink:href=\"#DejaVuSans-105\" />\n     <use x=\"217.585938\" xlink:href=\"#DejaVuSans-110\" />\n     <use x=\"280.964844\" xlink:href=\"#DejaVuSans-105\" />\n     <use x=\"308.748047\" xlink:href=\"#DejaVuSans-99\" />\n     <use x=\"363.728516\" xlink:href=\"#DejaVuSans-97\" />\n    </g>\n   </g>\n  </g>\n </g>\n</svg></g>\n\n<g class=\"edge\" id=\"edge2\">\n<title>node2-&gt;leaf4</title>\n<path d=\"M341.2134,-53.89C347.7409,-51.6549 354.0743,-49.4862 359.9275,-47.482\" fill=\"none\" stroke=\"#444443\" stroke-width=\".3\" />\n<polygon fill=\"#444443\" points=\"360.5687,-48.7424 363.8994,-46.122 359.6616,-46.0933 360.5687,-48.7424\" stroke=\"#444443\" stroke-width=\".3\" />\n</g>\n\n<g class=\"node\" id=\"node2\">\n<title>node0</title>\n<svg height=\"86px\" preserveAspectRatio=\"xMinYMin meet\" version=\"1.1\" viewBox=\"0 0 201.32 114.935625\" width=\"151px\" x=\"4.5\" y=\"-162.5\">\n <defs>\n  <style type=\"text/css\">\n*{stroke-linecap:butt;stroke-linejoin:round;}\n  </style>\n </defs>\n <g id=\"figure_1\">\n  <g id=\"patch_1\">\n   <path d=\"M 0 114.935625  L 201.32 114.935625  L 201.32 0  L 0 0  z \" style=\"fill:#ffffff;\" />\n  </g>\n  <g id=\"axes_1\">\n   <g id=\"patch_2\">\n    <path d=\"M 17.18 84.579375  L 201.32 84.579375  L 201.32 3.039375  L 17.18 3.039375  z \" style=\"fill:#ffffff;\" />\n   </g>\n   <g id=\"patch_3\">\n    <path clip-path=\"url(#pedfc135ece)\" d=\"M 17.761571 84.579375  L 28.024593 84.579375  L 28.024593 3.039375  L 17.761571 3.039375  z \" style=\"fill:#fefebb;stroke:#444443;stroke-linejoin:miter;stroke-width:0.5;\" />\n   </g>\n   <g id=\"patch_4\">\n    <path clip-path=\"url(#pedfc135ece)\" d=\"M 28.024593 84.579375  L 38.287616 84.579375  L 38.287616 67.791728  L 28.024593 67.791728  z \" style=\"fill:#fefebb;stroke:#444443;stroke-linejoin:miter;stroke-width:0.5;\" />\n   </g>\n   <g id=\"patch_5\">\n    <path clip-path=\"url(#pedfc135ece)\" d=\"M 38.287616 84.579375  L 48.550638 84.579375  L 48.550638 65.393493  L 38.287616 65.393493  z \" style=\"fill:#fefebb;stroke:#444443;stroke-linejoin:miter;stroke-width:0.5;\" />\n   </g>\n   <g id=\"patch_6\">\n    <path clip-path=\"url(#pedfc135ece)\" d=\"M 48.550638 84.579375  L 58.81366 84.579375  L 58.81366 82.18114  L 48.550638 82.18114  z \" style=\"fill:#fefebb;stroke:#444443;stroke-linejoin:miter;stroke-width:0.5;\" />\n   </g>\n   <g id=\"patch_7\">\n    <path clip-path=\"url(#pedfc135ece)\" d=\"M 58.81366 84.579375  L 69.076682 84.579375  L 69.076682 84.579375  L 58.81366 84.579375  z \" style=\"fill:#fefebb;stroke:#444443;stroke-linejoin:miter;stroke-width:0.5;\" />\n   </g>\n   <g id=\"patch_8\">\n    <path clip-path=\"url(#pedfc135ece)\" d=\"M 69.076682 84.579375  L 79.339705 84.579375  L 79.339705 84.579375  L 69.076682 84.579375  z \" style=\"fill:#fefebb;stroke:#444443;stroke-linejoin:miter;stroke-width:0.5;\" />\n   </g>\n   <g id=\"patch_9\">\n    <path clip-path=\"url(#pedfc135ece)\" d=\"M 79.339705 84.579375  L 89.602727 84.579375  L 89.602727 84.579375  L 79.339705 84.579375  z \" style=\"fill:#fefebb;stroke:#444443;stroke-linejoin:miter;stroke-width:0.5;\" />\n   </g>\n   <g id=\"patch_10\">\n    <path clip-path=\"url(#pedfc135ece)\" d=\"M 89.602727 84.579375  L 99.865749 84.579375  L 99.865749 84.579375  L 89.602727 84.579375  z \" style=\"fill:#fefebb;stroke:#444443;stroke-linejoin:miter;stroke-width:0.5;\" />\n   </g>\n   <g id=\"patch_11\">\n    <path clip-path=\"url(#pedfc135ece)\" d=\"M 99.865749 84.579375  L 110.128771 84.579375  L 110.128771 84.579375  L 99.865749 84.579375  z \" style=\"fill:#fefebb;stroke:#444443;stroke-linejoin:miter;stroke-width:0.5;\" />\n   </g>\n   <g id=\"patch_12\">\n    <path clip-path=\"url(#pedfc135ece)\" d=\"M 110.128771 84.579375  L 120.391794 84.579375  L 120.391794 84.579375  L 110.128771 84.579375  z \" style=\"fill:#fefebb;stroke:#444443;stroke-linejoin:miter;stroke-width:0.5;\" />\n   </g>\n   <g id=\"patch_13\">\n    <path clip-path=\"url(#pedfc135ece)\" d=\"M 120.391794 84.579375  L 130.654816 84.579375  L 130.654816 84.579375  L 120.391794 84.579375  z \" style=\"fill:#fefebb;stroke:#444443;stroke-linejoin:miter;stroke-width:0.5;\" />\n   </g>\n   <g id=\"patch_14\">\n    <path clip-path=\"url(#pedfc135ece)\" d=\"M 130.654816 84.579375  L 140.917838 84.579375  L 140.917838 84.579375  L 130.654816 84.579375  z \" style=\"fill:#fefebb;stroke:#444443;stroke-linejoin:miter;stroke-width:0.5;\" />\n   </g>\n   <g id=\"patch_15\">\n    <path clip-path=\"url(#pedfc135ece)\" d=\"M 140.917838 84.579375  L 151.18086 84.579375  L 151.18086 84.579375  L 140.917838 84.579375  z \" style=\"fill:#fefebb;stroke:#444443;stroke-linejoin:miter;stroke-width:0.5;\" />\n   </g>\n   <g id=\"patch_16\">\n    <path clip-path=\"url(#pedfc135ece)\" d=\"M 151.18086 84.579375  L 161.443882 84.579375  L 161.443882 84.579375  L 151.18086 84.579375  z \" style=\"fill:#fefebb;stroke:#444443;stroke-linejoin:miter;stroke-width:0.5;\" />\n   </g>\n   <g id=\"patch_17\">\n    <path clip-path=\"url(#pedfc135ece)\" d=\"M 161.443882 84.579375  L 171.706905 84.579375  L 171.706905 84.579375  L 161.443882 84.579375  z \" style=\"fill:#fefebb;stroke:#444443;stroke-linejoin:miter;stroke-width:0.5;\" />\n   </g>\n   <g id=\"patch_18\">\n    <path clip-path=\"url(#pedfc135ece)\" d=\"M 171.706905 84.579375  L 181.969927 84.579375  L 181.969927 84.579375  L 171.706905 84.579375  z \" style=\"fill:#fefebb;stroke:#444443;stroke-linejoin:miter;stroke-width:0.5;\" />\n   </g>\n   <g id=\"patch_19\">\n    <path clip-path=\"url(#pedfc135ece)\" d=\"M 181.969927 84.579375  L 192.232949 84.579375  L 192.232949 84.579375  L 181.969927 84.579375  z \" style=\"fill:#fefebb;stroke:#444443;stroke-linejoin:miter;stroke-width:0.5;\" />\n   </g>\n   <g id=\"patch_20\">\n    <path clip-path=\"url(#pedfc135ece)\" d=\"M 17.761571 3.039375  L 28.024593 3.039375  L 28.024593 3.039375  L 17.761571 3.039375  z \" style=\"fill:#d9e6f5;stroke:#444443;stroke-linejoin:miter;stroke-width:0.5;\" />\n   </g>\n   <g id=\"patch_21\">\n    <path clip-path=\"url(#pedfc135ece)\" d=\"M 28.024593 67.791728  L 38.287616 67.791728  L 38.287616 67.791728  L 28.024593 67.791728  z \" style=\"fill:#d9e6f5;stroke:#444443;stroke-linejoin:miter;stroke-width:0.5;\" />\n   </g>\n   <g id=\"patch_22\">\n    <path clip-path=\"url(#pedfc135ece)\" d=\"M 38.287616 65.393493  L 48.550638 65.393493  L 48.550638 65.393493  L 38.287616 65.393493  z \" style=\"fill:#d9e6f5;stroke:#444443;stroke-linejoin:miter;stroke-width:0.5;\" />\n   </g>\n   <g id=\"patch_23\">\n    <path clip-path=\"url(#pedfc135ece)\" d=\"M 48.550638 82.18114  L 58.81366 82.18114  L 58.81366 82.18114  L 48.550638 82.18114  z \" style=\"fill:#d9e6f5;stroke:#444443;stroke-linejoin:miter;stroke-width:0.5;\" />\n   </g>\n   <g id=\"patch_24\">\n    <path clip-path=\"url(#pedfc135ece)\" d=\"M 58.81366 84.579375  L 69.076682 84.579375  L 69.076682 84.579375  L 58.81366 84.579375  z \" style=\"fill:#d9e6f5;stroke:#444443;stroke-linejoin:miter;stroke-width:0.5;\" />\n   </g>\n   <g id=\"patch_25\">\n    <path clip-path=\"url(#pedfc135ece)\" d=\"M 69.076682 84.579375  L 79.339705 84.579375  L 79.339705 84.579375  L 69.076682 84.579375  z \" style=\"fill:#d9e6f5;stroke:#444443;stroke-linejoin:miter;stroke-width:0.5;\" />\n   </g>\n   <g id=\"patch_26\">\n    <path clip-path=\"url(#pedfc135ece)\" d=\"M 79.339705 84.579375  L 89.602727 84.579375  L 89.602727 67.791728  L 79.339705 67.791728  z \" style=\"fill:#d9e6f5;stroke:#444443;stroke-linejoin:miter;stroke-width:0.5;\" />\n   </g>\n   <g id=\"patch_27\">\n    <path clip-path=\"url(#pedfc135ece)\" d=\"M 89.602727 84.579375  L 99.865749 84.579375  L 99.865749 65.393493  L 89.602727 65.393493  z \" style=\"fill:#d9e6f5;stroke:#444443;stroke-linejoin:miter;stroke-width:0.5;\" />\n   </g>\n   <g id=\"patch_28\">\n    <path clip-path=\"url(#pedfc135ece)\" d=\"M 99.865749 84.579375  L 110.128771 84.579375  L 110.128771 53.402316  L 99.865749 53.402316  z \" style=\"fill:#d9e6f5;stroke:#444443;stroke-linejoin:miter;stroke-width:0.5;\" />\n   </g>\n   <g id=\"patch_29\">\n    <path clip-path=\"url(#pedfc135ece)\" d=\"M 110.128771 84.579375  L 120.391794 84.579375  L 120.391794 43.809375  L 110.128771 43.809375  z \" style=\"fill:#d9e6f5;stroke:#444443;stroke-linejoin:miter;stroke-width:0.5;\" />\n   </g>\n   <g id=\"patch_30\">\n    <path clip-path=\"url(#pedfc135ece)\" d=\"M 120.391794 84.579375  L 130.654816 84.579375  L 130.654816 77.384669  L 120.391794 77.384669  z \" style=\"fill:#d9e6f5;stroke:#444443;stroke-linejoin:miter;stroke-width:0.5;\" />\n   </g>\n   <g id=\"patch_31\">\n    <path clip-path=\"url(#pedfc135ece)\" d=\"M 130.654816 84.579375  L 140.917838 84.579375  L 140.917838 82.18114  L 130.654816 82.18114  z \" style=\"fill:#d9e6f5;stroke:#444443;stroke-linejoin:miter;stroke-width:0.5;\" />\n   </g>\n   <g id=\"patch_32\">\n    <path clip-path=\"url(#pedfc135ece)\" d=\"M 140.917838 84.579375  L 151.18086 84.579375  L 151.18086 82.18114  L 140.917838 82.18114  z \" style=\"fill:#d9e6f5;stroke:#444443;stroke-linejoin:miter;stroke-width:0.5;\" />\n   </g>\n   <g id=\"patch_33\">\n    <path clip-path=\"url(#pedfc135ece)\" d=\"M 151.18086 84.579375  L 161.443882 84.579375  L 161.443882 84.579375  L 151.18086 84.579375  z \" style=\"fill:#d9e6f5;stroke:#444443;stroke-linejoin:miter;stroke-width:0.5;\" />\n   </g>\n   <g id=\"patch_34\">\n    <path clip-path=\"url(#pedfc135ece)\" d=\"M 161.443882 84.579375  L 171.706905 84.579375  L 171.706905 84.579375  L 161.443882 84.579375  z \" style=\"fill:#d9e6f5;stroke:#444443;stroke-linejoin:miter;stroke-width:0.5;\" />\n   </g>\n   <g id=\"patch_35\">\n    <path clip-path=\"url(#pedfc135ece)\" d=\"M 171.706905 84.579375  L 181.969927 84.579375  L 181.969927 84.579375  L 171.706905 84.579375  z \" style=\"fill:#d9e6f5;stroke:#444443;stroke-linejoin:miter;stroke-width:0.5;\" />\n   </g>\n   <g id=\"patch_36\">\n    <path clip-path=\"url(#pedfc135ece)\" d=\"M 181.969927 84.579375  L 192.232949 84.579375  L 192.232949 84.579375  L 181.969927 84.579375  z \" style=\"fill:#d9e6f5;stroke:#444443;stroke-linejoin:miter;stroke-width:0.5;\" />\n   </g>\n   <g id=\"patch_37\">\n    <path clip-path=\"url(#pedfc135ece)\" d=\"M 17.761571 3.039375  L 28.024593 3.039375  L 28.024593 3.039375  L 17.761571 3.039375  z \" style=\"fill:#a1dab4;stroke:#444443;stroke-linejoin:miter;stroke-width:0.5;\" />\n   </g>\n   <g id=\"patch_38\">\n    <path clip-path=\"url(#pedfc135ece)\" d=\"M 28.024593 67.791728  L 38.287616 67.791728  L 38.287616 67.791728  L 28.024593 67.791728  z \" style=\"fill:#a1dab4;stroke:#444443;stroke-linejoin:miter;stroke-width:0.5;\" />\n   </g>\n   <g id=\"patch_39\">\n    <path clip-path=\"url(#pedfc135ece)\" d=\"M 38.287616 65.393493  L 48.550638 65.393493  L 48.550638 65.393493  L 38.287616 65.393493  z \" style=\"fill:#a1dab4;stroke:#444443;stroke-linejoin:miter;stroke-width:0.5;\" />\n   </g>\n   <g id=\"patch_40\">\n    <path clip-path=\"url(#pedfc135ece)\" d=\"M 48.550638 82.18114  L 58.81366 82.18114  L 58.81366 82.18114  L 48.550638 82.18114  z \" style=\"fill:#a1dab4;stroke:#444443;stroke-linejoin:miter;stroke-width:0.5;\" />\n   </g>\n   <g id=\"patch_41\">\n    <path clip-path=\"url(#pedfc135ece)\" d=\"M 58.81366 84.579375  L 69.076682 84.579375  L 69.076682 84.579375  L 58.81366 84.579375  z \" style=\"fill:#a1dab4;stroke:#444443;stroke-linejoin:miter;stroke-width:0.5;\" />\n   </g>\n   <g id=\"patch_42\">\n    <path clip-path=\"url(#pedfc135ece)\" d=\"M 69.076682 84.579375  L 79.339705 84.579375  L 79.339705 84.579375  L 69.076682 84.579375  z \" style=\"fill:#a1dab4;stroke:#444443;stroke-linejoin:miter;stroke-width:0.5;\" />\n   </g>\n   <g id=\"patch_43\">\n    <path clip-path=\"url(#pedfc135ece)\" d=\"M 79.339705 67.791728  L 89.602727 67.791728  L 89.602727 67.791728  L 79.339705 67.791728  z \" style=\"fill:#a1dab4;stroke:#444443;stroke-linejoin:miter;stroke-width:0.5;\" />\n   </g>\n   <g id=\"patch_44\">\n    <path clip-path=\"url(#pedfc135ece)\" d=\"M 89.602727 65.393493  L 99.865749 65.393493  L 99.865749 65.393493  L 89.602727 65.393493  z \" style=\"fill:#a1dab4;stroke:#444443;stroke-linejoin:miter;stroke-width:0.5;\" />\n   </g>\n   <g id=\"patch_45\">\n    <path clip-path=\"url(#pedfc135ece)\" d=\"M 99.865749 53.402316  L 110.128771 53.402316  L 110.128771 53.402316  L 99.865749 53.402316  z \" style=\"fill:#a1dab4;stroke:#444443;stroke-linejoin:miter;stroke-width:0.5;\" />\n   </g>\n   <g id=\"patch_46\">\n    <path clip-path=\"url(#pedfc135ece)\" d=\"M 110.128771 43.809375  L 120.391794 43.809375  L 120.391794 36.614669  L 110.128771 36.614669  z \" style=\"fill:#a1dab4;stroke:#444443;stroke-linejoin:miter;stroke-width:0.5;\" />\n   </g>\n   <g id=\"patch_47\">\n    <path clip-path=\"url(#pedfc135ece)\" d=\"M 120.391794 77.384669  L 130.654816 77.384669  L 130.654816 74.986434  L 120.391794 74.986434  z \" style=\"fill:#a1dab4;stroke:#444443;stroke-linejoin:miter;stroke-width:0.5;\" />\n   </g>\n   <g id=\"patch_48\">\n    <path clip-path=\"url(#pedfc135ece)\" d=\"M 130.654816 82.18114  L 140.917838 82.18114  L 140.917838 79.782904  L 130.654816 79.782904  z \" style=\"fill:#a1dab4;stroke:#444443;stroke-linejoin:miter;stroke-width:0.5;\" />\n   </g>\n   <g id=\"patch_49\">\n    <path clip-path=\"url(#pedfc135ece)\" d=\"M 140.917838 82.18114  L 151.18086 82.18114  L 151.18086 43.809375  L 140.917838 43.809375  z \" style=\"fill:#a1dab4;stroke:#444443;stroke-linejoin:miter;stroke-width:0.5;\" />\n   </g>\n   <g id=\"patch_50\">\n    <path clip-path=\"url(#pedfc135ece)\" d=\"M 151.18086 84.579375  L 161.443882 84.579375  L 161.443882 70.189963  L 151.18086 70.189963  z \" style=\"fill:#a1dab4;stroke:#444443;stroke-linejoin:miter;stroke-width:0.5;\" />\n   </g>\n   <g id=\"patch_51\">\n    <path clip-path=\"url(#pedfc135ece)\" d=\"M 161.443882 84.579375  L 171.706905 84.579375  L 171.706905 62.995257  L 161.443882 62.995257  z \" style=\"fill:#a1dab4;stroke:#444443;stroke-linejoin:miter;stroke-width:0.5;\" />\n   </g>\n   <g id=\"patch_52\">\n    <path clip-path=\"url(#pedfc135ece)\" d=\"M 171.706905 84.579375  L 181.969927 84.579375  L 181.969927 65.393493  L 171.706905 65.393493  z \" style=\"fill:#a1dab4;stroke:#444443;stroke-linejoin:miter;stroke-width:0.5;\" />\n   </g>\n   <g id=\"patch_53\">\n    <path clip-path=\"url(#pedfc135ece)\" d=\"M 181.969927 84.579375  L 192.232949 84.579375  L 192.232949 70.189963  L 181.969927 70.189963  z \" style=\"fill:#a1dab4;stroke:#444443;stroke-linejoin:miter;stroke-width:0.5;\" />\n   </g>\n   <g id=\"patch_54\">\n    <path d=\"M 68.649057 85.394775  L 65.334537 92.733375  L 71.963577 92.733375  z \" style=\"fill:#444443;\" />\n   </g>\n   <g id=\"matplotlib.axis_1\">\n    <g id=\"xtick_1\">\n     <g id=\"line2d_1\">\n      <defs>\n       <path d=\"M 0 0  L 0 3.5  \" id=\"m77f07ad349\" style=\"stroke:#000000;stroke-width:0.3;\" />\n      </defs>\n      <g>\n       <use style=\"stroke:#000000;stroke-width:0.3;\" x=\"17.761571\" y=\"84.579375\" xlink:href=\"#m77f07ad349\" />\n      </g>\n     </g>\n     <g id=\"text_1\">\n      \n      <defs>\n       <path d=\"M 31.78125 66.40625  Q 24.171875 66.40625 20.328125 58.90625  Q 16.5 51.421875 16.5 36.375  Q 16.5 21.390625 20.328125 13.890625  Q 24.171875 6.390625 31.78125 6.390625  Q 39.453125 6.390625 43.28125 13.890625  Q 47.125 21.390625 47.125 36.375  Q 47.125 51.421875 43.28125 58.90625  Q 39.453125 66.40625 31.78125 66.40625  z M 31.78125 74.21875  Q 44.046875 74.21875 50.515625 64.515625  Q 56.984375 54.828125 56.984375 36.375  Q 56.984375 17.96875 50.515625 8.265625  Q 44.046875 -1.421875 31.78125 -1.421875  Q 19.53125 -1.421875 13.0625 8.265625  Q 6.59375 17.96875 6.59375 36.375  Q 6.59375 54.828125 13.0625 64.515625  Q 19.53125 74.21875 31.78125 74.21875  z \" id=\"DejaVuSans-48\" />\n       <path d=\"M 10.6875 12.40625  L 21 12.40625  L 21 0  L 10.6875 0  z \" id=\"DejaVuSans-46\" />\n       <path d=\"M 12.40625 8.296875  L 28.515625 8.296875  L 28.515625 63.921875  L 10.984375 60.40625  L 10.984375 69.390625  L 28.421875 72.90625  L 38.28125 72.90625  L 38.28125 8.296875  L 54.390625 8.296875  L 54.390625 0  L 12.40625 0  z \" id=\"DejaVuSans-49\" />\n      </defs>\n      <g style=\"fill:#444443;\" transform=\"translate(11.400321 97.658125)scale(0.08 -0.08)\">\n       <use xlink:href=\"#DejaVuSans-48\" />\n       <use x=\"63.623047\" xlink:href=\"#DejaVuSans-46\" />\n       <use x=\"95.410156\" xlink:href=\"#DejaVuSans-49\" />\n      </g>\n     </g>\n    </g>\n    <g id=\"xtick_2\">\n     <g id=\"line2d_2\">\n      <g>\n       <use style=\"stroke:#000000;stroke-width:0.3;\" x=\"192.232949\" y=\"84.579375\" xlink:href=\"#m77f07ad349\" />\n      </g>\n     </g>\n     <g id=\"text_2\">\n      \n      <defs>\n       <path d=\"M 19.1875 8.296875  L 53.609375 8.296875  L 53.609375 0  L 7.328125 0  L 7.328125 8.296875  Q 12.9375 14.109375 22.625 23.890625  Q 32.328125 33.6875 34.8125 36.53125  Q 39.546875 41.84375 41.421875 45.53125  Q 43.3125 49.21875 43.3125 52.78125  Q 43.3125 58.59375 39.234375 62.25  Q 35.15625 65.921875 28.609375 65.921875  Q 23.96875 65.921875 18.8125 64.3125  Q 13.671875 62.703125 7.8125 59.421875  L 7.8125 69.390625  Q 13.765625 71.78125 18.9375 73  Q 24.125 74.21875 28.421875 74.21875  Q 39.75 74.21875 46.484375 68.546875  Q 53.21875 62.890625 53.21875 53.421875  Q 53.21875 48.921875 51.53125 44.890625  Q 49.859375 40.875 45.40625 35.40625  Q 44.1875 33.984375 37.640625 27.21875  Q 31.109375 20.453125 19.1875 8.296875  z \" id=\"DejaVuSans-50\" />\n       <path d=\"M 10.796875 72.90625  L 49.515625 72.90625  L 49.515625 64.59375  L 19.828125 64.59375  L 19.828125 46.734375  Q 21.96875 47.46875 24.109375 47.828125  Q 26.265625 48.1875 28.421875 48.1875  Q 40.625 48.1875 47.75 41.5  Q 54.890625 34.8125 54.890625 23.390625  Q 54.890625 11.625 47.5625 5.09375  Q 40.234375 -1.421875 26.90625 -1.421875  Q 22.3125 -1.421875 17.546875 -0.640625  Q 12.796875 0.140625 7.71875 1.703125  L 7.71875 11.625  Q 12.109375 9.234375 16.796875 8.0625  Q 21.484375 6.890625 26.703125 6.890625  Q 35.15625 6.890625 40.078125 11.328125  Q 45.015625 15.765625 45.015625 23.390625  Q 45.015625 31 40.078125 35.4375  Q 35.15625 39.890625 26.703125 39.890625  Q 22.75 39.890625 18.8125 39.015625  Q 14.890625 38.140625 10.796875 36.28125  z \" id=\"DejaVuSans-53\" />\n      </defs>\n      <g style=\"fill:#444443;\" transform=\"translate(185.871699 97.658125)scale(0.08 -0.08)\">\n       <use xlink:href=\"#DejaVuSans-50\" />\n       <use x=\"63.623047\" xlink:href=\"#DejaVuSans-46\" />\n       <use x=\"95.410156\" xlink:href=\"#DejaVuSans-53\" />\n      </g>\n     </g>\n    </g>\n    <g id=\"text_3\">\n     \n     <defs>\n      <path d=\"M 18.109375 8.203125  L 18.109375 -20.796875  L 9.078125 -20.796875  L 9.078125 54.6875  L 18.109375 54.6875  L 18.109375 46.390625  Q 20.953125 51.265625 25.265625 53.625  Q 29.59375 56 35.59375 56  Q 45.5625 56 51.78125 48.09375  Q 58.015625 40.1875 58.015625 27.296875  Q 58.015625 14.40625 51.78125 6.484375  Q 45.5625 -1.421875 35.59375 -1.421875  Q 29.59375 -1.421875 25.265625 0.953125  Q 20.953125 3.328125 18.109375 8.203125  z M 48.6875 27.296875  Q 48.6875 37.203125 44.609375 42.84375  Q 40.53125 48.484375 33.40625 48.484375  Q 26.265625 48.484375 22.1875 42.84375  Q 18.109375 37.203125 18.109375 27.296875  Q 18.109375 17.390625 22.1875 11.75  Q 26.265625 6.109375 33.40625 6.109375  Q 40.53125 6.109375 44.609375 11.75  Q 48.6875 17.390625 48.6875 27.296875  z \" id=\"DejaVuSans-112\" />\n      <path d=\"M 56.203125 29.59375  L 56.203125 25.203125  L 14.890625 25.203125  Q 15.484375 15.921875 20.484375 11.0625  Q 25.484375 6.203125 34.421875 6.203125  Q 39.59375 6.203125 44.453125 7.46875  Q 49.3125 8.734375 54.109375 11.28125  L 54.109375 2.78125  Q 49.265625 0.734375 44.1875 -0.34375  Q 39.109375 -1.421875 33.890625 -1.421875  Q 20.796875 -1.421875 13.15625 6.1875  Q 5.515625 13.8125 5.515625 26.8125  Q 5.515625 40.234375 12.765625 48.109375  Q 20.015625 56 32.328125 56  Q 43.359375 56 49.78125 48.890625  Q 56.203125 41.796875 56.203125 29.59375  z M 47.21875 32.234375  Q 47.125 39.59375 43.09375 43.984375  Q 39.0625 48.390625 32.421875 48.390625  Q 24.90625 48.390625 20.390625 44.140625  Q 15.875 39.890625 15.1875 32.171875  z \" id=\"DejaVuSans-101\" />\n      <path d=\"M 18.3125 70.21875  L 18.3125 54.6875  L 36.8125 54.6875  L 36.8125 47.703125  L 18.3125 47.703125  L 18.3125 18.015625  Q 18.3125 11.328125 20.140625 9.421875  Q 21.96875 7.515625 27.59375 7.515625  L 36.8125 7.515625  L 36.8125 0  L 27.59375 0  Q 17.1875 0 13.234375 3.875  Q 9.28125 7.765625 9.28125 18.015625  L 9.28125 47.703125  L 2.6875 47.703125  L 2.6875 54.6875  L 9.28125 54.6875  L 9.28125 70.21875  z \" id=\"DejaVuSans-116\" />\n      <path d=\"M 34.28125 27.484375  Q 23.390625 27.484375 19.1875 25  Q 14.984375 22.515625 14.984375 16.5  Q 14.984375 11.71875 18.140625 8.90625  Q 21.296875 6.109375 26.703125 6.109375  Q 34.1875 6.109375 38.703125 11.40625  Q 43.21875 16.703125 43.21875 25.484375  L 43.21875 27.484375  z M 52.203125 31.203125  L 52.203125 0  L 43.21875 0  L 43.21875 8.296875  Q 40.140625 3.328125 35.546875 0.953125  Q 30.953125 -1.421875 24.3125 -1.421875  Q 15.921875 -1.421875 10.953125 3.296875  Q 6 8.015625 6 15.921875  Q 6 25.140625 12.171875 29.828125  Q 18.359375 34.515625 30.609375 34.515625  L 43.21875 34.515625  L 43.21875 35.40625  Q 43.21875 41.609375 39.140625 45  Q 35.0625 48.390625 27.6875 48.390625  Q 23 48.390625 18.546875 47.265625  Q 14.109375 46.140625 10.015625 43.890625  L 10.015625 52.203125  Q 14.9375 54.109375 19.578125 55.046875  Q 24.21875 56 28.609375 56  Q 40.484375 56 46.34375 49.84375  Q 52.203125 43.703125 52.203125 31.203125  z \" id=\"DejaVuSans-97\" />\n      <path d=\"M 9.421875 75.984375  L 18.40625 75.984375  L 18.40625 0  L 9.421875 0  z \" id=\"DejaVuSans-108\" />\n      <path id=\"DejaVuSans-32\" />\n      <path d=\"M 4.203125 54.6875  L 13.1875 54.6875  L 24.421875 12.015625  L 35.59375 54.6875  L 46.1875 54.6875  L 57.421875 12.015625  L 68.609375 54.6875  L 77.59375 54.6875  L 63.28125 0  L 52.6875 0  L 40.921875 44.828125  L 29.109375 0  L 18.5 0  z \" id=\"DejaVuSans-119\" />\n      <path d=\"M 9.421875 54.6875  L 18.40625 54.6875  L 18.40625 0  L 9.421875 0  z M 9.421875 75.984375  L 18.40625 75.984375  L 18.40625 64.59375  L 9.421875 64.59375  z \" id=\"DejaVuSans-105\" />\n      <path d=\"M 45.40625 46.390625  L 45.40625 75.984375  L 54.390625 75.984375  L 54.390625 0  L 45.40625 0  L 45.40625 8.203125  Q 42.578125 3.328125 38.25 0.953125  Q 33.9375 -1.421875 27.875 -1.421875  Q 17.96875 -1.421875 11.734375 6.484375  Q 5.515625 14.40625 5.515625 27.296875  Q 5.515625 40.1875 11.734375 48.09375  Q 17.96875 56 27.875 56  Q 33.9375 56 38.25 53.625  Q 42.578125 51.265625 45.40625 46.390625  z M 14.796875 27.296875  Q 14.796875 17.390625 18.875 11.75  Q 22.953125 6.109375 30.078125 6.109375  Q 37.203125 6.109375 41.296875 11.75  Q 45.40625 17.390625 45.40625 27.296875  Q 45.40625 37.203125 41.296875 42.84375  Q 37.203125 48.484375 30.078125 48.484375  Q 22.953125 48.484375 18.875 42.84375  Q 14.796875 37.203125 14.796875 27.296875  z \" id=\"DejaVuSans-100\" />\n      <path d=\"M 54.890625 33.015625  L 54.890625 0  L 45.90625 0  L 45.90625 32.71875  Q 45.90625 40.484375 42.875 44.328125  Q 39.84375 48.1875 33.796875 48.1875  Q 26.515625 48.1875 22.3125 43.546875  Q 18.109375 38.921875 18.109375 30.90625  L 18.109375 0  L 9.078125 0  L 9.078125 75.984375  L 18.109375 75.984375  L 18.109375 46.1875  Q 21.34375 51.125 25.703125 53.5625  Q 30.078125 56 35.796875 56  Q 45.21875 56 50.046875 50.171875  Q 54.890625 44.34375 54.890625 33.015625  z \" id=\"DejaVuSans-104\" />\n      <path d=\"M 31 75.875  Q 24.46875 64.65625 21.28125 53.65625  Q 18.109375 42.671875 18.109375 31.390625  Q 18.109375 20.125 21.3125 9.0625  Q 24.515625 -2 31 -13.1875  L 23.1875 -13.1875  Q 15.875 -1.703125 12.234375 9.375  Q 8.59375 20.453125 8.59375 31.390625  Q 8.59375 42.28125 12.203125 53.3125  Q 15.828125 64.359375 23.1875 75.875  z \" id=\"DejaVuSans-40\" />\n      <path d=\"M 48.78125 52.59375  L 48.78125 44.1875  Q 44.96875 46.296875 41.140625 47.34375  Q 37.3125 48.390625 33.40625 48.390625  Q 24.65625 48.390625 19.8125 42.84375  Q 14.984375 37.3125 14.984375 27.296875  Q 14.984375 17.28125 19.8125 11.734375  Q 24.65625 6.203125 33.40625 6.203125  Q 37.3125 6.203125 41.140625 7.25  Q 44.96875 8.296875 48.78125 10.40625  L 48.78125 2.09375  Q 45.015625 0.34375 40.984375 -0.53125  Q 36.96875 -1.421875 32.421875 -1.421875  Q 20.0625 -1.421875 12.78125 6.34375  Q 5.515625 14.109375 5.515625 27.296875  Q 5.515625 40.671875 12.859375 48.328125  Q 20.21875 56 33.015625 56  Q 37.15625 56 41.109375 55.140625  Q 45.0625 54.296875 48.78125 52.59375  z \" id=\"DejaVuSans-99\" />\n      <path d=\"M 52 44.1875  Q 55.375 50.25 60.0625 53.125  Q 64.75 56 71.09375 56  Q 79.640625 56 84.28125 50.015625  Q 88.921875 44.046875 88.921875 33.015625  L 88.921875 0  L 79.890625 0  L 79.890625 32.71875  Q 79.890625 40.578125 77.09375 44.375  Q 74.3125 48.1875 68.609375 48.1875  Q 61.625 48.1875 57.5625 43.546875  Q 53.515625 38.921875 53.515625 30.90625  L 53.515625 0  L 44.484375 0  L 44.484375 32.71875  Q 44.484375 40.625 41.703125 44.40625  Q 38.921875 48.1875 33.109375 48.1875  Q 26.21875 48.1875 22.15625 43.53125  Q 18.109375 38.875 18.109375 30.90625  L 18.109375 0  L 9.078125 0  L 9.078125 54.6875  L 18.109375 54.6875  L 18.109375 46.1875  Q 21.1875 51.21875 25.484375 53.609375  Q 29.78125 56 35.6875 56  Q 41.65625 56 45.828125 52.96875  Q 50 49.953125 52 44.1875  z \" id=\"DejaVuSans-109\" />\n      <path d=\"M 8.015625 75.875  L 15.828125 75.875  Q 23.140625 64.359375 26.78125 53.3125  Q 30.421875 42.28125 30.421875 31.390625  Q 30.421875 20.453125 26.78125 9.375  Q 23.140625 -1.703125 15.828125 -13.1875  L 8.015625 -13.1875  Q 14.5 -2 17.703125 9.0625  Q 20.90625 20.125 20.90625 31.390625  Q 20.90625 42.671875 17.703125 53.65625  Q 14.5 64.65625 8.015625 75.875  z \" id=\"DejaVuSans-41\" />\n     </defs>\n     <g style=\"fill:#444443;\" transform=\"translate(59.876562 112.44)scale(0.12 -0.12)\">\n      <use xlink:href=\"#DejaVuSans-112\" />\n      <use x=\"63.476562\" xlink:href=\"#DejaVuSans-101\" />\n      <use x=\"125\" xlink:href=\"#DejaVuSans-116\" />\n      <use x=\"164.208984\" xlink:href=\"#DejaVuSans-97\" />\n      <use x=\"225.488281\" xlink:href=\"#DejaVuSans-108\" />\n      <use x=\"253.271484\" xlink:href=\"#DejaVuSans-32\" />\n      <use x=\"285.058594\" xlink:href=\"#DejaVuSans-119\" />\n      <use x=\"366.845703\" xlink:href=\"#DejaVuSans-105\" />\n      <use x=\"394.628906\" xlink:href=\"#DejaVuSans-100\" />\n      <use x=\"458.105469\" xlink:href=\"#DejaVuSans-116\" />\n      <use x=\"497.314453\" xlink:href=\"#DejaVuSans-104\" />\n      <use x=\"560.693359\" xlink:href=\"#DejaVuSans-32\" />\n      <use x=\"592.480469\" xlink:href=\"#DejaVuSans-40\" />\n      <use x=\"631.494141\" xlink:href=\"#DejaVuSans-99\" />\n      <use x=\"686.474609\" xlink:href=\"#DejaVuSans-109\" />\n      <use x=\"783.886719\" xlink:href=\"#DejaVuSans-41\" />\n     </g>\n    </g>\n   </g>\n   <g id=\"matplotlib.axis_2\">\n    <g id=\"ytick_1\">\n     <g id=\"line2d_3\">\n      <defs>\n       <path d=\"M 0 0  L -3.5 0  \" id=\"mb50f5acc29\" style=\"stroke:#000000;stroke-width:0.3;\" />\n      </defs>\n      <g>\n       <use style=\"stroke:#000000;stroke-width:0.3;\" x=\"17.18\" y=\"84.579375\" xlink:href=\"#mb50f5acc29\" />\n      </g>\n     </g>\n     <g id=\"text_4\">\n      \n      <g style=\"fill:#444443;\" transform=\"translate(5.09 87.61875)scale(0.08 -0.08)\">\n       <use xlink:href=\"#DejaVuSans-48\" />\n      </g>\n     </g>\n    </g>\n    <g id=\"ytick_2\">\n     <g id=\"line2d_4\">\n      <g>\n       <use style=\"stroke:#000000;stroke-width:0.3;\" x=\"17.18\" y=\"3.039375\" xlink:href=\"#mb50f5acc29\" />\n      </g>\n     </g>\n     <g id=\"text_5\">\n      \n      <defs>\n       <path d=\"M 40.578125 39.3125  Q 47.65625 37.796875 51.625 33  Q 55.609375 28.21875 55.609375 21.1875  Q 55.609375 10.40625 48.1875 4.484375  Q 40.765625 -1.421875 27.09375 -1.421875  Q 22.515625 -1.421875 17.65625 -0.515625  Q 12.796875 0.390625 7.625 2.203125  L 7.625 11.71875  Q 11.71875 9.328125 16.59375 8.109375  Q 21.484375 6.890625 26.8125 6.890625  Q 36.078125 6.890625 40.9375 10.546875  Q 45.796875 14.203125 45.796875 21.1875  Q 45.796875 27.640625 41.28125 31.265625  Q 36.765625 34.90625 28.71875 34.90625  L 20.21875 34.90625  L 20.21875 43.015625  L 29.109375 43.015625  Q 36.375 43.015625 40.234375 45.921875  Q 44.09375 48.828125 44.09375 54.296875  Q 44.09375 59.90625 40.109375 62.90625  Q 36.140625 65.921875 28.71875 65.921875  Q 24.65625 65.921875 20.015625 65.03125  Q 15.375 64.15625 9.8125 62.3125  L 9.8125 71.09375  Q 15.4375 72.65625 20.34375 73.4375  Q 25.25 74.21875 29.59375 74.21875  Q 40.828125 74.21875 47.359375 69.109375  Q 53.90625 64.015625 53.90625 55.328125  Q 53.90625 49.265625 50.4375 45.09375  Q 46.96875 40.921875 40.578125 39.3125  z \" id=\"DejaVuSans-51\" />\n       <path d=\"M 37.796875 64.3125  L 12.890625 25.390625  L 37.796875 25.390625  z M 35.203125 72.90625  L 47.609375 72.90625  L 47.609375 25.390625  L 58.015625 25.390625  L 58.015625 17.1875  L 47.609375 17.1875  L 47.609375 0  L 37.796875 0  L 37.796875 17.1875  L 4.890625 17.1875  L 4.890625 26.703125  z \" id=\"DejaVuSans-52\" />\n      </defs>\n      <g style=\"fill:#444443;\" transform=\"translate(0 6.07875)scale(0.08 -0.08)\">\n       <use xlink:href=\"#DejaVuSans-51\" />\n       <use x=\"63.623047\" xlink:href=\"#DejaVuSans-52\" />\n      </g>\n     </g>\n    </g>\n   </g>\n   <g id=\"patch_55\">\n    <path d=\"M 17.18 84.579375  L 17.18 3.039375  \" style=\"fill:none;stroke:#000000;stroke-linecap:square;stroke-linejoin:miter;stroke-width:0.3;\" />\n   </g>\n   <g id=\"patch_56\">\n    <path d=\"M 17.18 84.579375  L 201.32 84.579375  \" style=\"fill:none;stroke:#000000;stroke-linecap:square;stroke-linejoin:miter;stroke-width:0.3;\" />\n   </g>\n   <g id=\"text_6\">\n    \n    <defs>\n     <path d=\"M 31.78125 34.625  Q 24.75 34.625 20.71875 30.859375  Q 16.703125 27.09375 16.703125 20.515625  Q 16.703125 13.921875 20.71875 10.15625  Q 24.75 6.390625 31.78125 6.390625  Q 38.8125 6.390625 42.859375 10.171875  Q 46.921875 13.96875 46.921875 20.515625  Q 46.921875 27.09375 42.890625 30.859375  Q 38.875 34.625 31.78125 34.625  z M 21.921875 38.8125  Q 15.578125 40.375 12.03125 44.71875  Q 8.5 49.078125 8.5 55.328125  Q 8.5 64.0625 14.71875 69.140625  Q 20.953125 74.21875 31.78125 74.21875  Q 42.671875 74.21875 48.875 69.140625  Q 55.078125 64.0625 55.078125 55.328125  Q 55.078125 49.078125 51.53125 44.71875  Q 48 40.375 41.703125 38.8125  Q 48.828125 37.15625 52.796875 32.3125  Q 56.78125 27.484375 56.78125 20.515625  Q 56.78125 9.90625 50.3125 4.234375  Q 43.84375 -1.421875 31.78125 -1.421875  Q 19.734375 -1.421875 13.25 4.234375  Q 6.78125 9.90625 6.78125 20.515625  Q 6.78125 27.484375 10.78125 32.3125  Q 14.796875 37.15625 21.921875 38.8125  z M 18.3125 54.390625  Q 18.3125 48.734375 21.84375 45.5625  Q 25.390625 42.390625 31.78125 42.390625  Q 38.140625 42.390625 41.71875 45.5625  Q 45.3125 48.734375 45.3125 54.390625  Q 45.3125 60.0625 41.71875 63.234375  Q 38.140625 66.40625 31.78125 66.40625  Q 25.390625 66.40625 21.84375 63.234375  Q 18.3125 60.0625 18.3125 54.390625  z \" id=\"DejaVuSans-56\" />\n    </defs>\n    <g style=\"fill:#444443;\" transform=\"translate(59.742807 100.887375)scale(0.08 -0.08)\">\n     <use xlink:href=\"#DejaVuSans-48\" />\n     <use x=\"63.623047\" xlink:href=\"#DejaVuSans-46\" />\n     <use x=\"95.410156\" xlink:href=\"#DejaVuSans-56\" />\n     <use x=\"159.033203\" xlink:href=\"#DejaVuSans-48\" />\n    </g>\n   </g>\n  </g>\n </g>\n <defs>\n  <clipPath id=\"pedfc135ece\">\n   <rect height=\"81.54\" width=\"184.14\" x=\"17.18\" y=\"3.039375\" />\n  </clipPath>\n </defs>\n</svg></g>\n\n<g class=\"edge\" id=\"edge5\">\n<title>node0-&gt;node2</title>\n<path d=\"M159.1349,-102.6209C165.8912,-101.1888 172.7381,-99.7376 179.5263,-98.2988\" fill=\"none\" stroke=\"#444443\" stroke-width=\".3\" />\n<polygon fill=\"#444443\" points=\"180.1212,-99.6039 183.7439,-97.4048 179.5405,-96.8647 180.1212,-99.6039\" stroke=\"#444443\" stroke-width=\".3\" />\n<text fill=\"#000000\" font-family=\"Times,serif\" font-size=\"14.00\" text-anchor=\"start\" x=\"167\" y=\"-104.3\">&gt;</text>\n</g>\n\n<g class=\"node\" id=\"node5\">\n<title>leaf1</title>\n<polygon fill=\"none\" points=\"293.5,-198 233.5,-198 233.5,-121 293.5,-121 293.5,-198\" stroke=\"#444443\" stroke-width=\"0\" />\n<svg height=\"69px\" preserveAspectRatio=\"xMinYMin meet\" version=\"1.1\" viewBox=\"0 0 69.46 91.026744\" width=\"52px\" x=\"237.5\" y=\"-193.5\">\n <defs>\n  <style type=\"text/css\">\n*{stroke-linecap:butt;stroke-linejoin:round;}\n  </style>\n </defs>\n <g id=\"figure_1\">\n  <g id=\"patch_1\">\n   <path d=\"M -0 91.026744  L 69.46 91.026744  L 69.46 0  L -0 0  z \" style=\"fill:#ffffff;\" />\n  </g>\n  <g id=\"axes_1\">\n   <g id=\"patch_2\">\n    <path d=\"M 69.46 34.73  C 69.46 30.169298 68.561641 25.652943 66.816336 21.439404  C 65.071031 17.225865 62.512722 13.397085 59.287819 10.172181  C 56.062915 6.947278 52.234135 4.388969 48.020596 2.643664  C 43.807057 0.898359 39.290702 -0 34.73 -0  C 30.169298 -0 25.652943 0.898359 21.439404 2.643664  C 17.225865 4.388969 13.397085 6.947278 10.172181 10.172181  C 6.947278 13.397085 4.388969 17.225865 2.643664 21.439404  C 0.898359 25.652943 0 30.169298 0 34.73  C 0 39.290702 0.898359 43.807057 2.643664 48.020596  C 4.388969 52.234135 6.947278 56.062915 10.172181 59.287819  C 13.397085 62.512722 17.225865 65.071031 21.439404 66.816336  C 25.652943 68.561641 30.169298 69.46 34.73 69.46  C 39.290702 69.46 43.807057 68.561641 48.020596 66.816336  C 52.234135 65.071031 56.062915 62.512722 59.287819 59.287819  C 62.512722 56.062915 65.071031 52.234135 66.816336 48.020596  C 68.561641 43.807057 69.46 39.290702 69.46 34.73  M 34.73 34.73  M 69.46 34.73  z \" style=\"fill:#fefebb;stroke:#444443;stroke-linejoin:miter;stroke-width:0.5;\" />\n   </g>\n   <g id=\"text_1\">\n    \n    <defs>\n     <path d=\"M 54.890625 33.015625  L 54.890625 0  L 45.90625 0  L 45.90625 32.71875  Q 45.90625 40.484375 42.875 44.328125  Q 39.84375 48.1875 33.796875 48.1875  Q 26.515625 48.1875 22.3125 43.546875  Q 18.109375 38.921875 18.109375 30.90625  L 18.109375 0  L 9.078125 0  L 9.078125 54.6875  L 18.109375 54.6875  L 18.109375 46.1875  Q 21.34375 51.125 25.703125 53.5625  Q 30.078125 56 35.796875 56  Q 45.21875 56 50.046875 50.171875  Q 54.890625 44.34375 54.890625 33.015625  z \" id=\"DejaVuSans-110\" />\n     <path d=\"M 10.59375 45.40625  L 73.1875 45.40625  L 73.1875 37.203125  L 10.59375 37.203125  z M 10.59375 25.484375  L 73.1875 25.484375  L 73.1875 17.1875  L 10.59375 17.1875  z \" id=\"DejaVuSans-61\" />\n     <path d=\"M 10.796875 72.90625  L 49.515625 72.90625  L 49.515625 64.59375  L 19.828125 64.59375  L 19.828125 46.734375  Q 21.96875 47.46875 24.109375 47.828125  Q 26.265625 48.1875 28.421875 48.1875  Q 40.625 48.1875 47.75 41.5  Q 54.890625 34.8125 54.890625 23.390625  Q 54.890625 11.625 47.5625 5.09375  Q 40.234375 -1.421875 26.90625 -1.421875  Q 22.3125 -1.421875 17.546875 -0.640625  Q 12.796875 0.140625 7.71875 1.703125  L 7.71875 11.625  Q 12.109375 9.234375 16.796875 8.0625  Q 21.484375 6.890625 26.703125 6.890625  Q 35.15625 6.890625 40.078125 11.328125  Q 45.015625 15.765625 45.015625 23.390625  Q 45.015625 31 40.078125 35.4375  Q 35.15625 39.890625 26.703125 39.890625  Q 22.75 39.890625 18.8125 39.015625  Q 14.890625 38.140625 10.796875 36.28125  z \" id=\"DejaVuSans-53\" />\n     <path d=\"M 31.78125 66.40625  Q 24.171875 66.40625 20.328125 58.90625  Q 16.5 51.421875 16.5 36.375  Q 16.5 21.390625 20.328125 13.890625  Q 24.171875 6.390625 31.78125 6.390625  Q 39.453125 6.390625 43.28125 13.890625  Q 47.125 21.390625 47.125 36.375  Q 47.125 51.421875 43.28125 58.90625  Q 39.453125 66.40625 31.78125 66.40625  z M 31.78125 74.21875  Q 44.046875 74.21875 50.515625 64.515625  Q 56.984375 54.828125 56.984375 36.375  Q 56.984375 17.96875 50.515625 8.265625  Q 44.046875 -1.421875 31.78125 -1.421875  Q 19.53125 -1.421875 13.0625 8.265625  Q 6.59375 17.96875 6.59375 36.375  Q 6.59375 54.828125 13.0625 64.515625  Q 19.53125 74.21875 31.78125 74.21875  z \" id=\"DejaVuSans-48\" />\n    </defs>\n    <g style=\"fill:#444443;\" transform=\"translate(22.381016 79.076994)scale(0.09 -0.09)\">\n     <use xlink:href=\"#DejaVuSans-110\" />\n     <use x=\"63.378906\" xlink:href=\"#DejaVuSans-61\" />\n     <use x=\"147.167969\" xlink:href=\"#DejaVuSans-53\" />\n     <use x=\"210.791016\" xlink:href=\"#DejaVuSans-48\" />\n    </g>\n    \n    <defs>\n     <path d=\"M 44.28125 53.078125  L 44.28125 44.578125  Q 40.484375 46.53125 36.375 47.5  Q 32.28125 48.484375 27.875 48.484375  Q 21.1875 48.484375 17.84375 46.4375  Q 14.5 44.390625 14.5 40.28125  Q 14.5 37.15625 16.890625 35.375  Q 19.28125 33.59375 26.515625 31.984375  L 29.59375 31.296875  Q 39.15625 29.25 43.1875 25.515625  Q 47.21875 21.78125 47.21875 15.09375  Q 47.21875 7.46875 41.1875 3.015625  Q 35.15625 -1.421875 24.609375 -1.421875  Q 20.21875 -1.421875 15.453125 -0.5625  Q 10.6875 0.296875 5.421875 2  L 5.421875 11.28125  Q 10.40625 8.6875 15.234375 7.390625  Q 20.0625 6.109375 24.8125 6.109375  Q 31.15625 6.109375 34.5625 8.28125  Q 37.984375 10.453125 37.984375 14.40625  Q 37.984375 18.0625 35.515625 20.015625  Q 33.0625 21.96875 24.703125 23.78125  L 21.578125 24.515625  Q 13.234375 26.265625 9.515625 29.90625  Q 5.8125 33.546875 5.8125 39.890625  Q 5.8125 47.609375 11.28125 51.796875  Q 16.75 56 26.8125 56  Q 31.78125 56 36.171875 55.265625  Q 40.578125 54.546875 44.28125 53.078125  z \" id=\"DejaVuSans-115\" />\n     <path d=\"M 56.203125 29.59375  L 56.203125 25.203125  L 14.890625 25.203125  Q 15.484375 15.921875 20.484375 11.0625  Q 25.484375 6.203125 34.421875 6.203125  Q 39.59375 6.203125 44.453125 7.46875  Q 49.3125 8.734375 54.109375 11.28125  L 54.109375 2.78125  Q 49.265625 0.734375 44.1875 -0.34375  Q 39.109375 -1.421875 33.890625 -1.421875  Q 20.796875 -1.421875 13.15625 6.1875  Q 5.515625 13.8125 5.515625 26.8125  Q 5.515625 40.234375 12.765625 48.109375  Q 20.015625 56 32.328125 56  Q 43.359375 56 49.78125 48.890625  Q 56.203125 41.796875 56.203125 29.59375  z M 47.21875 32.234375  Q 47.125 39.59375 43.09375 43.984375  Q 39.0625 48.390625 32.421875 48.390625  Q 24.90625 48.390625 20.390625 44.140625  Q 15.875 39.890625 15.1875 32.171875  z \" id=\"DejaVuSans-101\" />\n     <path d=\"M 18.3125 70.21875  L 18.3125 54.6875  L 36.8125 54.6875  L 36.8125 47.703125  L 18.3125 47.703125  L 18.3125 18.015625  Q 18.3125 11.328125 20.140625 9.421875  Q 21.96875 7.515625 27.59375 7.515625  L 36.8125 7.515625  L 36.8125 0  L 27.59375 0  Q 17.1875 0 13.234375 3.875  Q 9.28125 7.765625 9.28125 18.015625  L 9.28125 47.703125  L 2.6875 47.703125  L 2.6875 54.6875  L 9.28125 54.6875  L 9.28125 70.21875  z \" id=\"DejaVuSans-116\" />\n     <path d=\"M 30.609375 48.390625  Q 23.390625 48.390625 19.1875 42.75  Q 14.984375 37.109375 14.984375 27.296875  Q 14.984375 17.484375 19.15625 11.84375  Q 23.34375 6.203125 30.609375 6.203125  Q 37.796875 6.203125 41.984375 11.859375  Q 46.1875 17.53125 46.1875 27.296875  Q 46.1875 37.015625 41.984375 42.703125  Q 37.796875 48.390625 30.609375 48.390625  z M 30.609375 56  Q 42.328125 56 49.015625 48.375  Q 55.71875 40.765625 55.71875 27.296875  Q 55.71875 13.875 49.015625 6.21875  Q 42.328125 -1.421875 30.609375 -1.421875  Q 18.84375 -1.421875 12.171875 6.21875  Q 5.515625 13.875 5.515625 27.296875  Q 5.515625 40.765625 12.171875 48.375  Q 18.84375 56 30.609375 56  z \" id=\"DejaVuSans-111\" />\n     <path d=\"M 34.28125 27.484375  Q 23.390625 27.484375 19.1875 25  Q 14.984375 22.515625 14.984375 16.5  Q 14.984375 11.71875 18.140625 8.90625  Q 21.296875 6.109375 26.703125 6.109375  Q 34.1875 6.109375 38.703125 11.40625  Q 43.21875 16.703125 43.21875 25.484375  L 43.21875 27.484375  z M 52.203125 31.203125  L 52.203125 0  L 43.21875 0  L 43.21875 8.296875  Q 40.140625 3.328125 35.546875 0.953125  Q 30.953125 -1.421875 24.3125 -1.421875  Q 15.921875 -1.421875 10.953125 3.296875  Q 6 8.015625 6 15.921875  Q 6 25.140625 12.171875 29.828125  Q 18.359375 34.515625 30.609375 34.515625  L 43.21875 34.515625  L 43.21875 35.40625  Q 43.21875 41.609375 39.140625 45  Q 35.0625 48.390625 27.6875 48.390625  Q 23 48.390625 18.546875 47.265625  Q 14.109375 46.140625 10.015625 43.890625  L 10.015625 52.203125  Q 14.9375 54.109375 19.578125 55.046875  Q 24.21875 56 28.609375 56  Q 40.484375 56 46.34375 49.84375  Q 52.203125 43.703125 52.203125 31.203125  z \" id=\"DejaVuSans-97\" />\n    </defs>\n    <g style=\"fill:#444443;\" transform=\"translate(19.997422 89.155025)scale(0.09 -0.09)\">\n     <use xlink:href=\"#DejaVuSans-115\" />\n     <use x=\"52.099609\" xlink:href=\"#DejaVuSans-101\" />\n     <use x=\"113.623047\" xlink:href=\"#DejaVuSans-116\" />\n     <use x=\"152.832031\" xlink:href=\"#DejaVuSans-111\" />\n     <use x=\"214.013672\" xlink:href=\"#DejaVuSans-115\" />\n     <use x=\"266.113281\" xlink:href=\"#DejaVuSans-97\" />\n    </g>\n   </g>\n  </g>\n </g>\n</svg></g>\n\n<g class=\"edge\" id=\"edge4\">\n<title>node0-&gt;leaf1</title>\n<path d=\"M159.1349,-136.8119C183.5149,-142.1119 209.0747,-147.6684 228.7976,-151.956\" fill=\"none\" stroke=\"#444443\" stroke-width=\".3\" />\n<polygon fill=\"#444443\" points=\"228.9632,-153.4246 233.1693,-152.9064 229.558,-150.6885 228.9632,-153.4246\" stroke=\"#444443\" stroke-width=\".3\" />\n<text fill=\"#000000\" font-family=\"Times,serif\" font-size=\"14.00\" text-anchor=\"start\" x=\"167.5\" y=\"-143.3\">&#8804;</text>\n</g>\n\n\n\n<g class=\"node\" id=\"node6\">\n<title>legend</title>\n<polygon fill=\"none\" points=\"114.5,-229.5 44.5,-229.5 44.5,-173.5 114.5,-173.5 114.5,-229.5\" stroke=\"#000000\" stroke-width=\"0\" />\n<svg height=\"52px\" preserveAspectRatio=\"xMinYMin meet\" version=\"1.1\" viewBox=\"0 0 88.295312 69.7125\" width=\"66px\" x=\"46.5\" y=\"-227.5\">\n <defs>\n  <style type=\"text/css\">\n*{stroke-linecap:butt;stroke-linejoin:round;}\n  </style>\n </defs>\n <g id=\"figure_1\">\n  <g id=\"patch_1\">\n   <path d=\"M 0 69.7125  L 88.295312 69.7125  L 88.295312 0  L 0 0  z \" style=\"fill:#ffffff;\" />\n  </g>\n  <g id=\"axes_1\">\n   <g id=\"legend_1\">\n    <g id=\"patch_2\">\n     <path d=\"M 2 69.7125  L 86.295312 69.7125  Q 88.295312 69.7125 88.295312 67.7125  L 88.295312 2  Q 88.295312 -0 86.295312 -0  L 2 -0  Q -0 -0 -0 2  L -0 67.7125  Q -0 69.7125 2 69.7125  z \" style=\"fill:#ffffff;opacity:0.8;stroke:#444443;stroke-linejoin:miter;stroke-width:0.5;\" />\n    </g>\n    <g id=\"text_1\">\n     \n     <defs>\n      <path d=\"M 51.125 52.984375  L 51.125 39.703125  Q 45.515625 42.046875 40.28125 43.21875  Q 35.0625 44.390625 30.421875 44.390625  Q 25.4375 44.390625 23.015625 43.140625  Q 20.609375 41.890625 20.609375 39.3125  Q 20.609375 37.203125 22.4375 36.078125  Q 24.265625 34.96875 29 34.421875  L 32.078125 33.984375  Q 45.515625 32.28125 50.140625 28.375  Q 54.78125 24.46875 54.78125 16.109375  Q 54.78125 7.375 48.328125 2.96875  Q 41.890625 -1.421875 29.109375 -1.421875  Q 23.6875 -1.421875 17.890625 -0.5625  Q 12.109375 0.296875 6 2  L 6 15.28125  Q 11.234375 12.75 16.71875 11.46875  Q 22.21875 10.203125 27.875 10.203125  Q 33.015625 10.203125 35.59375 11.609375  Q 38.1875 13.03125 38.1875 15.828125  Q 38.1875 18.171875 36.40625 19.3125  Q 34.625 20.453125 29.296875 21.09375  L 26.21875 21.484375  Q 14.546875 22.953125 9.859375 26.90625  Q 5.171875 30.859375 5.171875 38.921875  Q 5.171875 47.609375 11.125 51.796875  Q 17.09375 56 29.390625 56  Q 34.234375 56 39.546875 55.265625  Q 44.875 54.546875 51.125 52.984375  z \" id=\"DejaVuSans-Bold-115\" />\n      <path d=\"M 25.875 7.90625  L 25.875 -20.796875  L 8.40625 -20.796875  L 8.40625 54.6875  L 25.875 54.6875  L 25.875 46.6875  Q 29.5 51.46875 33.890625 53.734375  Q 38.28125 56 44 56  Q 54.109375 56 60.59375 47.96875  Q 67.09375 39.9375 67.09375 27.296875  Q 67.09375 14.65625 60.59375 6.609375  Q 54.109375 -1.421875 44 -1.421875  Q 38.28125 -1.421875 33.890625 0.84375  Q 29.5 3.125 25.875 7.90625  z M 37.5 43.3125  Q 31.890625 43.3125 28.875 39.1875  Q 25.875 35.0625 25.875 27.296875  Q 25.875 19.53125 28.875 15.40625  Q 31.890625 11.28125 37.5 11.28125  Q 43.109375 11.28125 46.0625 15.375  Q 49.03125 19.484375 49.03125 27.296875  Q 49.03125 35.109375 46.0625 39.203125  Q 43.109375 43.3125 37.5 43.3125  z \" id=\"DejaVuSans-Bold-112\" />\n      <path d=\"M 62.984375 27.484375  L 62.984375 22.515625  L 22.125 22.515625  Q 22.75 16.359375 26.5625 13.28125  Q 30.375 10.203125 37.203125 10.203125  Q 42.71875 10.203125 48.5 11.84375  Q 54.296875 13.484375 60.40625 16.796875  L 60.40625 3.328125  Q 54.203125 0.984375 48 -0.21875  Q 41.796875 -1.421875 35.59375 -1.421875  Q 20.75 -1.421875 12.515625 6.125  Q 4.296875 13.671875 4.296875 27.296875  Q 4.296875 40.671875 12.375 48.328125  Q 20.453125 56 34.625 56  Q 47.515625 56 55.25 48.234375  Q 62.984375 40.484375 62.984375 27.484375  z M 45.015625 33.296875  Q 45.015625 38.28125 42.109375 41.328125  Q 39.203125 44.390625 34.515625 44.390625  Q 29.4375 44.390625 26.265625 41.53125  Q 23.09375 38.671875 22.3125 33.296875  z \" id=\"DejaVuSans-Bold-101\" />\n      <path d=\"M 52.59375 52.984375  L 52.59375 38.71875  Q 49.03125 41.15625 45.4375 42.328125  Q 41.84375 43.5 37.984375 43.5  Q 30.671875 43.5 26.59375 39.234375  Q 22.515625 34.96875 22.515625 27.296875  Q 22.515625 19.625 26.59375 15.34375  Q 30.671875 11.078125 37.984375 11.078125  Q 42.09375 11.078125 45.78125 12.296875  Q 49.46875 13.53125 52.59375 15.921875  L 52.59375 1.609375  Q 48.484375 0.09375 44.265625 -0.65625  Q 40.046875 -1.421875 35.796875 -1.421875  Q 21 -1.421875 12.640625 6.171875  Q 4.296875 13.765625 4.296875 27.296875  Q 4.296875 40.828125 12.640625 48.40625  Q 21 56 35.796875 56  Q 40.09375 56 44.265625 55.25  Q 48.4375 54.5 52.59375 52.984375  z \" id=\"DejaVuSans-Bold-99\" />\n      <path d=\"M 8.40625 54.6875  L 25.875 54.6875  L 25.875 0  L 8.40625 0  z M 8.40625 75.984375  L 25.875 75.984375  L 25.875 61.71875  L 8.40625 61.71875  z \" id=\"DejaVuSans-Bold-105\" />\n     </defs>\n     <g style=\"fill:#444443;\" transform=\"translate(23.15625 15.598437)scale(0.1 -0.1)\">\n      <use xlink:href=\"#DejaVuSans-Bold-115\" />\n      <use x=\"59.521484\" xlink:href=\"#DejaVuSans-Bold-112\" />\n      <use x=\"131.103516\" xlink:href=\"#DejaVuSans-Bold-101\" />\n      <use x=\"198.925781\" xlink:href=\"#DejaVuSans-Bold-99\" />\n      <use x=\"258.203125\" xlink:href=\"#DejaVuSans-Bold-105\" />\n      <use x=\"292.480469\" xlink:href=\"#DejaVuSans-Bold-101\" />\n      <use x=\"360.302734\" xlink:href=\"#DejaVuSans-Bold-115\" />\n     </g>\n    </g>\n    <g id=\"patch_3\">\n     <path d=\"M 8 30.276562  L 28 30.276562  L 28 23.276562  L 8 23.276562  z \" style=\"fill:#fefebb;stroke:#444443;stroke-linejoin:miter;stroke-width:0.4;\" />\n    </g>\n    <g id=\"text_2\">\n     \n     <defs>\n      <path d=\"M 44.28125 53.078125  L 44.28125 44.578125  Q 40.484375 46.53125 36.375 47.5  Q 32.28125 48.484375 27.875 48.484375  Q 21.1875 48.484375 17.84375 46.4375  Q 14.5 44.390625 14.5 40.28125  Q 14.5 37.15625 16.890625 35.375  Q 19.28125 33.59375 26.515625 31.984375  L 29.59375 31.296875  Q 39.15625 29.25 43.1875 25.515625  Q 47.21875 21.78125 47.21875 15.09375  Q 47.21875 7.46875 41.1875 3.015625  Q 35.15625 -1.421875 24.609375 -1.421875  Q 20.21875 -1.421875 15.453125 -0.5625  Q 10.6875 0.296875 5.421875 2  L 5.421875 11.28125  Q 10.40625 8.6875 15.234375 7.390625  Q 20.0625 6.109375 24.8125 6.109375  Q 31.15625 6.109375 34.5625 8.28125  Q 37.984375 10.453125 37.984375 14.40625  Q 37.984375 18.0625 35.515625 20.015625  Q 33.0625 21.96875 24.703125 23.78125  L 21.578125 24.515625  Q 13.234375 26.265625 9.515625 29.90625  Q 5.8125 33.546875 5.8125 39.890625  Q 5.8125 47.609375 11.28125 51.796875  Q 16.75 56 26.8125 56  Q 31.78125 56 36.171875 55.265625  Q 40.578125 54.546875 44.28125 53.078125  z \" id=\"DejaVuSans-115\" />\n      <path d=\"M 56.203125 29.59375  L 56.203125 25.203125  L 14.890625 25.203125  Q 15.484375 15.921875 20.484375 11.0625  Q 25.484375 6.203125 34.421875 6.203125  Q 39.59375 6.203125 44.453125 7.46875  Q 49.3125 8.734375 54.109375 11.28125  L 54.109375 2.78125  Q 49.265625 0.734375 44.1875 -0.34375  Q 39.109375 -1.421875 33.890625 -1.421875  Q 20.796875 -1.421875 13.15625 6.1875  Q 5.515625 13.8125 5.515625 26.8125  Q 5.515625 40.234375 12.765625 48.109375  Q 20.015625 56 32.328125 56  Q 43.359375 56 49.78125 48.890625  Q 56.203125 41.796875 56.203125 29.59375  z M 47.21875 32.234375  Q 47.125 39.59375 43.09375 43.984375  Q 39.0625 48.390625 32.421875 48.390625  Q 24.90625 48.390625 20.390625 44.140625  Q 15.875 39.890625 15.1875 32.171875  z \" id=\"DejaVuSans-101\" />\n      <path d=\"M 18.3125 70.21875  L 18.3125 54.6875  L 36.8125 54.6875  L 36.8125 47.703125  L 18.3125 47.703125  L 18.3125 18.015625  Q 18.3125 11.328125 20.140625 9.421875  Q 21.96875 7.515625 27.59375 7.515625  L 36.8125 7.515625  L 36.8125 0  L 27.59375 0  Q 17.1875 0 13.234375 3.875  Q 9.28125 7.765625 9.28125 18.015625  L 9.28125 47.703125  L 2.6875 47.703125  L 2.6875 54.6875  L 9.28125 54.6875  L 9.28125 70.21875  z \" id=\"DejaVuSans-116\" />\n      <path d=\"M 30.609375 48.390625  Q 23.390625 48.390625 19.1875 42.75  Q 14.984375 37.109375 14.984375 27.296875  Q 14.984375 17.484375 19.15625 11.84375  Q 23.34375 6.203125 30.609375 6.203125  Q 37.796875 6.203125 41.984375 11.859375  Q 46.1875 17.53125 46.1875 27.296875  Q 46.1875 37.015625 41.984375 42.703125  Q 37.796875 48.390625 30.609375 48.390625  z M 30.609375 56  Q 42.328125 56 49.015625 48.375  Q 55.71875 40.765625 55.71875 27.296875  Q 55.71875 13.875 49.015625 6.21875  Q 42.328125 -1.421875 30.609375 -1.421875  Q 18.84375 -1.421875 12.171875 6.21875  Q 5.515625 13.875 5.515625 27.296875  Q 5.515625 40.765625 12.171875 48.375  Q 18.84375 56 30.609375 56  z \" id=\"DejaVuSans-111\" />\n      <path d=\"M 34.28125 27.484375  Q 23.390625 27.484375 19.1875 25  Q 14.984375 22.515625 14.984375 16.5  Q 14.984375 11.71875 18.140625 8.90625  Q 21.296875 6.109375 26.703125 6.109375  Q 34.1875 6.109375 38.703125 11.40625  Q 43.21875 16.703125 43.21875 25.484375  L 43.21875 27.484375  z M 52.203125 31.203125  L 52.203125 0  L 43.21875 0  L 43.21875 8.296875  Q 40.140625 3.328125 35.546875 0.953125  Q 30.953125 -1.421875 24.3125 -1.421875  Q 15.921875 -1.421875 10.953125 3.296875  Q 6 8.015625 6 15.921875  Q 6 25.140625 12.171875 29.828125  Q 18.359375 34.515625 30.609375 34.515625  L 43.21875 34.515625  L 43.21875 35.40625  Q 43.21875 41.609375 39.140625 45  Q 35.0625 48.390625 27.6875 48.390625  Q 23 48.390625 18.546875 47.265625  Q 14.109375 46.140625 10.015625 43.890625  L 10.015625 52.203125  Q 14.9375 54.109375 19.578125 55.046875  Q 24.21875 56 28.609375 56  Q 40.484375 56 46.34375 49.84375  Q 52.203125 43.703125 52.203125 31.203125  z \" id=\"DejaVuSans-97\" />\n     </defs>\n     <g style=\"fill:#444443;\" transform=\"translate(31.5 30.276562)scale(0.1 -0.1)\">\n      <use xlink:href=\"#DejaVuSans-115\" />\n      <use x=\"52.099609\" xlink:href=\"#DejaVuSans-101\" />\n      <use x=\"113.623047\" xlink:href=\"#DejaVuSans-116\" />\n      <use x=\"152.832031\" xlink:href=\"#DejaVuSans-111\" />\n      <use x=\"214.013672\" xlink:href=\"#DejaVuSans-115\" />\n      <use x=\"266.113281\" xlink:href=\"#DejaVuSans-97\" />\n     </g>\n    </g>\n    <g id=\"patch_4\">\n     <path d=\"M 8 44.954687  L 28 44.954687  L 28 37.954687  L 8 37.954687  z \" style=\"fill:#d9e6f5;stroke:#444443;stroke-linejoin:miter;stroke-width:0.4;\" />\n    </g>\n    <g id=\"text_3\">\n     \n     <defs>\n      <path d=\"M 2.984375 54.6875  L 12.5 54.6875  L 29.59375 8.796875  L 46.6875 54.6875  L 56.203125 54.6875  L 35.6875 0  L 23.484375 0  z \" id=\"DejaVuSans-118\" />\n      <path d=\"M 41.109375 46.296875  Q 39.59375 47.171875 37.8125 47.578125  Q 36.03125 48 33.890625 48  Q 26.265625 48 22.1875 43.046875  Q 18.109375 38.09375 18.109375 28.8125  L 18.109375 0  L 9.078125 0  L 9.078125 54.6875  L 18.109375 54.6875  L 18.109375 46.1875  Q 20.953125 51.171875 25.484375 53.578125  Q 30.03125 56 36.53125 56  Q 37.453125 56 38.578125 55.875  Q 39.703125 55.765625 41.0625 55.515625  z \" id=\"DejaVuSans-114\" />\n      <path d=\"M 9.421875 54.6875  L 18.40625 54.6875  L 18.40625 0  L 9.421875 0  z M 9.421875 75.984375  L 18.40625 75.984375  L 18.40625 64.59375  L 9.421875 64.59375  z \" id=\"DejaVuSans-105\" />\n      <path d=\"M 48.78125 52.59375  L 48.78125 44.1875  Q 44.96875 46.296875 41.140625 47.34375  Q 37.3125 48.390625 33.40625 48.390625  Q 24.65625 48.390625 19.8125 42.84375  Q 14.984375 37.3125 14.984375 27.296875  Q 14.984375 17.28125 19.8125 11.734375  Q 24.65625 6.203125 33.40625 6.203125  Q 37.3125 6.203125 41.140625 7.25  Q 44.96875 8.296875 48.78125 10.40625  L 48.78125 2.09375  Q 45.015625 0.34375 40.984375 -0.53125  Q 36.96875 -1.421875 32.421875 -1.421875  Q 20.0625 -1.421875 12.78125 6.34375  Q 5.515625 14.109375 5.515625 27.296875  Q 5.515625 40.671875 12.859375 48.328125  Q 20.21875 56 33.015625 56  Q 37.15625 56 41.109375 55.140625  Q 45.0625 54.296875 48.78125 52.59375  z \" id=\"DejaVuSans-99\" />\n      <path d=\"M 9.421875 75.984375  L 18.40625 75.984375  L 18.40625 0  L 9.421875 0  z \" id=\"DejaVuSans-108\" />\n     </defs>\n     <g style=\"fill:#444443;\" transform=\"translate(31.5 44.954687)scale(0.1 -0.1)\">\n      <use xlink:href=\"#DejaVuSans-118\" />\n      <use x=\"59.179688\" xlink:href=\"#DejaVuSans-101\" />\n      <use x=\"120.703125\" xlink:href=\"#DejaVuSans-114\" />\n      <use x=\"161.816406\" xlink:href=\"#DejaVuSans-115\" />\n      <use x=\"213.916016\" xlink:href=\"#DejaVuSans-105\" />\n      <use x=\"241.699219\" xlink:href=\"#DejaVuSans-99\" />\n      <use x=\"296.679688\" xlink:href=\"#DejaVuSans-111\" />\n      <use x=\"357.861328\" xlink:href=\"#DejaVuSans-108\" />\n      <use x=\"385.644531\" xlink:href=\"#DejaVuSans-111\" />\n      <use x=\"446.826172\" xlink:href=\"#DejaVuSans-114\" />\n     </g>\n    </g>\n    <g id=\"patch_5\">\n     <path d=\"M 8 59.632812  L 28 59.632812  L 28 52.632812  L 8 52.632812  z \" style=\"fill:#a1dab4;stroke:#444443;stroke-linejoin:miter;stroke-width:0.4;\" />\n    </g>\n    <g id=\"text_4\">\n     \n     <defs>\n      <path d=\"M 45.40625 27.984375  Q 45.40625 37.75 41.375 43.109375  Q 37.359375 48.484375 30.078125 48.484375  Q 22.859375 48.484375 18.828125 43.109375  Q 14.796875 37.75 14.796875 27.984375  Q 14.796875 18.265625 18.828125 12.890625  Q 22.859375 7.515625 30.078125 7.515625  Q 37.359375 7.515625 41.375 12.890625  Q 45.40625 18.265625 45.40625 27.984375  z M 54.390625 6.78125  Q 54.390625 -7.171875 48.1875 -13.984375  Q 42 -20.796875 29.203125 -20.796875  Q 24.46875 -20.796875 20.265625 -20.09375  Q 16.0625 -19.390625 12.109375 -17.921875  L 12.109375 -9.1875  Q 16.0625 -11.328125 19.921875 -12.34375  Q 23.78125 -13.375 27.78125 -13.375  Q 36.625 -13.375 41.015625 -8.765625  Q 45.40625 -4.15625 45.40625 5.171875  L 45.40625 9.625  Q 42.625 4.78125 38.28125 2.390625  Q 33.9375 0 27.875 0  Q 17.828125 0 11.671875 7.65625  Q 5.515625 15.328125 5.515625 27.984375  Q 5.515625 40.671875 11.671875 48.328125  Q 17.828125 56 27.875 56  Q 33.9375 56 38.28125 53.609375  Q 42.625 51.21875 45.40625 46.390625  L 45.40625 54.6875  L 54.390625 54.6875  z \" id=\"DejaVuSans-103\" />\n      <path d=\"M 54.890625 33.015625  L 54.890625 0  L 45.90625 0  L 45.90625 32.71875  Q 45.90625 40.484375 42.875 44.328125  Q 39.84375 48.1875 33.796875 48.1875  Q 26.515625 48.1875 22.3125 43.546875  Q 18.109375 38.921875 18.109375 30.90625  L 18.109375 0  L 9.078125 0  L 9.078125 54.6875  L 18.109375 54.6875  L 18.109375 46.1875  Q 21.34375 51.125 25.703125 53.5625  Q 30.078125 56 35.796875 56  Q 45.21875 56 50.046875 50.171875  Q 54.890625 44.34375 54.890625 33.015625  z \" id=\"DejaVuSans-110\" />\n     </defs>\n     <g style=\"fill:#444443;\" transform=\"translate(31.5 59.632812)scale(0.1 -0.1)\">\n      <use xlink:href=\"#DejaVuSans-118\" />\n      <use x=\"59.179688\" xlink:href=\"#DejaVuSans-105\" />\n      <use x=\"86.962891\" xlink:href=\"#DejaVuSans-114\" />\n      <use x=\"126.326172\" xlink:href=\"#DejaVuSans-103\" />\n      <use x=\"189.802734\" xlink:href=\"#DejaVuSans-105\" />\n      <use x=\"217.585938\" xlink:href=\"#DejaVuSans-110\" />\n      <use x=\"280.964844\" xlink:href=\"#DejaVuSans-105\" />\n      <use x=\"308.748047\" xlink:href=\"#DejaVuSans-99\" />\n      <use x=\"363.728516\" xlink:href=\"#DejaVuSans-97\" />\n     </g>\n    </g>\n   </g>\n  </g>\n </g>\n</svg></g>\n</g>\n</svg>"
          },
          "metadata": {},
          "execution_count": 139
        }
      ]
    }
  ]
}